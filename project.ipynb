{
 "cells": [
  {
   "cell_type": "code",
   "execution_count": 7,
   "metadata": {},
   "outputs": [],
   "source": [
    "from matplotlib import pyplot as plt\n",
    "from matplotlib import colors as colors\n",
    "import numpy as np\n",
    "\n",
    "import sys \n",
    "sys.path.append('../')\n",
    "import Utils.utils as util\n",
    "from importlib import reload\n",
    "reload(util)\n",
    "\n",
    "from sklearn.linear_model import Lasso\n",
    "from sklearn.multiclass import OneVsRestClassifier"
   ]
  },
  {
   "cell_type": "code",
   "execution_count": 8,
   "metadata": {},
   "outputs": [],
   "source": [
    "\"\"\"\n",
    "def convert_patch_into_vector(patch):\n",
    "    h = patch.shape[0]\n",
    "    #Convert one patch into a column vector for training\n",
    "    patch = patch.flatten()\n",
    "    train_y = patch[(h*(h//2)+(h//2))*3:(h*(h//2)+(h//2))*3+3]\n",
    "    train_x = np.delete(patch, range((h*(h//2)+(h//2))*3, (h*(h//2)+(h//2))*3+3))\n",
    "    return np.array((train_x, train_y))\n",
    "\"\"\"\n",
    "    \n",
    "def convert_patch_into_vector(patch):\n",
    "    #Convert one patch into a column vector for training\n",
    "    patch = patch.flatten()\n",
    "\n",
    "    return np.array(patch)\n",
    "\n",
    "def convert_vector_into_patch(vector, h):\n",
    "    #Convert a one column vector into a patch of size h\n",
    "    return vector.reshape((h,h,7))\n",
    "    \n",
    "def convert_patches_into_training_set(patches):\n",
    "    #Convert a set of patches into a set of vectors\n",
    "    return np.array(list(map(convert_patch_into_vector, patches))).T\n",
    "\n",
    "def inpaint_image(noisy_image, dictionary, coord_noisy_pix, h):\n",
    "    \n",
    "    for y, x in coord_noisy_pix:\n",
    "        print(\"Correction de x : \", x, \" et y : \", y)\n",
    "        label = util.get_patch(x, y, h, noisy_image)\n",
    "        label = list(convert_patch_into_vector(label))\n",
    "\n",
    "        print(\"--- lasso regression ---\")\n",
    "        model = Lasso(alpha=0.1, fit_intercept=True)\n",
    "        model.fit(dictionary, label)\n",
    "        \n",
    "        coef = model.coef_\n",
    "        \n",
    "        print(\"coef shape : \", coef.shape)\n",
    "        print(\"dictionary shape : \", dictionary.shape) \n",
    "        \n",
    "        toto = sum(coef).T * dictionary\n",
    "\n",
    "        newPixel = get_centered_pixel(model.predict(toto), h)\n",
    "\n",
    "        print(\"nouveau pixel : \", newPixel)\n",
    "\n",
    "        noisy_image[x][y] = newPixel\n",
    "        util.display_im(noisy_image)\n",
    "\n",
    "def get_centered_pixel(patch, h):\n",
    "    #Convert one patch into a column vector for training\n",
    "    \n",
    "    return patch[(len(patch)//2):(len(patch)//2)+3]\n",
    "    \n"
   ]
  },
  {
   "cell_type": "code",
   "execution_count": null,
   "metadata": {},
   "outputs": [
    {
     "name": "stdout",
     "output_type": "stream",
     "text": [
      "taille de l'image :  (256, 256, 3)\n"
     ]
    }
   ],
   "source": [
    "img_matrice = util.read_im(\"Data/imgdataset/space.jpg\")\n",
    "\n",
    "#Taille des patchs\n",
    "h=3\n",
    "\n",
    "print(\"taille de l'image : \", img_matrice.shape)\n",
    "\n",
    "#noisy_image = delete_rect(img_matrice, 400, 400, 500, 100)\n",
    "#display_im(noisy_image)\n",
    "\n",
    "#display_im(img_matrice)\n",
    "\n",
    "#util.display_im(util.get_patch(50, 50, 4, img_matrice))\n",
    "\n",
    "height = img_matrice.shape[0]\n",
    "width = img_matrice.shape[1]\n",
    "\n",
    "noisy_image, noise_pixels = util.noise(img_matrice, 0.0005, width, height, h)\n",
    "\n",
    "patches = util.get_patches(noisy_image, h, height, width)\n",
    "\n",
    "noisy_patches = patches[0]\n",
    "clear_patches = patches[1]\n",
    "\n",
    "util.display_im(noisy_image)\n",
    "#print(\"New patch : \", convert_patch_into_vector(clear_patches[5]))\n",
    "\n",
    "nbnoisy = np.shape(noisy_patches)[0]\n",
    "nbclear = np.shape(clear_patches)[0]\n",
    "\n",
    "print(\"nbnoisy:\", nbnoisy, \",   nbclear:\", nbclear)\n"
   ]
  },
  {
   "cell_type": "code",
   "execution_count": null,
   "metadata": {},
   "outputs": [],
   "source": [
    "training = convert_patches_into_training_set(clear_patches)\n",
    "training.shape\n",
    "\n",
    "#a, b = zip(*training)\n",
    "#a = np.array(a)\n"
   ]
  },
  {
   "cell_type": "code",
   "execution_count": null,
   "metadata": {},
   "outputs": [],
   "source": [
    "len(noise_pixels)\n",
    "print(noise_pixels)"
   ]
  },
  {
   "cell_type": "code",
   "execution_count": null,
   "metadata": {},
   "outputs": [],
   "source": [
    "inpaint_image(noisy_image, training, noise_pixels, h)"
   ]
  },
  {
   "cell_type": "code",
   "execution_count": null,
   "metadata": {},
   "outputs": [],
   "source": []
  }
 ],
 "metadata": {
  "kernelspec": {
   "display_name": "Python 3",
   "language": "python",
   "name": "python3"
  },
  "language_info": {
   "codemirror_mode": {
    "name": "ipython",
    "version": 3
   },
   "file_extension": ".py",
   "mimetype": "text/x-python",
   "name": "python",
   "nbconvert_exporter": "python",
   "pygments_lexer": "ipython3",
   "version": "3.5.2"
  }
 },
 "nbformat": 4,
 "nbformat_minor": 2
}
