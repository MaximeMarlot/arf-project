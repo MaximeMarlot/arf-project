{
 "cells": [
  {
   "cell_type": "code",
<<<<<<< Updated upstream
   "execution_count": 127,
=======
   "execution_count": 182,
>>>>>>> Stashed changes
   "metadata": {},
   "outputs": [
    {
     "data": {
      "application/javascript": [
       "IPython.OutputArea.prototype._should_scroll = function(lines) {\n",
       "    return false;\n",
       "}"
      ],
      "text/plain": [
       "<IPython.core.display.Javascript object>"
      ]
     },
     "metadata": {},
     "output_type": "display_data"
    }
   ],
   "source": [
    "%%javascript\n",
    "IPython.OutputArea.prototype._should_scroll = function(lines) {\n",
    "    return false;\n",
    "}"
   ]
  },
  {
   "cell_type": "code",
<<<<<<< Updated upstream
   "execution_count": 128,
=======
   "execution_count": 183,
>>>>>>> Stashed changes
   "metadata": {},
   "outputs": [],
   "source": [
    "from matplotlib import pyplot as plt\n",
    "from matplotlib import colors as colors\n",
    "import numpy as np\n",
    "\n",
    "import sys \n",
    "#sys.path.append('../')\n",
    "\n",
    "from importlib import reload\n",
    "import Utils.utils as util\n",
    "reload(util)\n",
    "\n",
    "\n",
    "from sklearn.linear_model import Lasso\n",
    "from sklearn.multiclass import OneVsRestClassifier\n",
    "from sklearn.preprocessing import normalize\n",
    "\n",
    "np.set_printoptions(threshold=np.inf) #print full arrays\n",
    "from sklearn import linear_model\n"
   ]
  },
  {
   "cell_type": "code",
<<<<<<< Updated upstream
   "execution_count": 129,
=======
   "execution_count": 184,
>>>>>>> Stashed changes
   "metadata": {},
   "outputs": [],
   "source": [
    "def split_patch(patch):\n",
    "    h = patch.shape[0]\n",
    "    #Convert one patch into a column vector for training\n",
    "    patch = patch.flatten()\n",
    "    pixel_central = patch[(h*(h//2)+(h//2))*3:(h*(h//2)+(h//2))*3+3]\n",
    "    patch_sans_central = np.delete(patch, range((h*(h//2)+(h//2))*3, (h*(h//2)+(h//2))*3+3))\n",
    "    return np.array((patch_sans_central, pixel_central))\n",
    "    \n",
    "def convert_patch_into_vector(patch):\n",
    "    #Convert one patch into a column vector for training\n",
    "    #patch = patch.flatten()\n",
    "    h = patch.shape[0]\n",
    "    patch = np.reshape(patch, h*h*3)\n",
    "    return np.array(patch)\n",
    "\n",
    "def convert_vector_into_patch(vector, h):\n",
    "    #Convert a one column vector into a patch of size h\n",
    "    return vector.reshape((h,h,7))\n",
    "    \n",
    "def convert_patches_into_training_set(patches):\n",
    "    #Convert a set of patches into a set of vectors\n",
    "    return np.array(list(map(convert_patch_into_vector, patches))).T\n",
    "\n",
    "def find_index_noisy_lines(label):\n",
    "    \"\"\"\n",
    "    indexes = []\n",
    "    for index, value in enumerate(label):\n",
    "        if(value == -1):\n",
    "            indexes.append(index)\n",
    "    \"\"\"\n",
    "    label = np.array(label)\n",
    "    indexes = np.where(label < 0)\n",
    "    return indexes\n",
    "\n",
    "def delete_all_indexes_from(dictionary, label):\n",
    "    indexes = find_index_noisy_lines(label)\n",
    "    dictionary = np.delete(dictionary, indexes , 0)\n",
    "    label = np.delete(label, indexes , 0)\n",
    "    \n",
    "    return (dictionary, label)    \n",
    "\n",
    "#test the alpha on a lot of cleared patches and returns an average value\n",
    "def estimate_alpha(noisy_image, dictionary_full, h):\n",
    "    lassocv = linear_model.LassoCV()\n",
    "    listalpha = []\n",
    "    width = noisy_image.shape[1]\n",
    "    height = noisy_image.shape[0]\n",
    "    #params\n",
    "    pas = h+10\n",
    "    start = h//2\n",
    "    endx = height-h//2\n",
    "    endy = width-h//2\n",
    "    #end params\n",
    "    i=0\n",
    "    total = int( (endx-pas)/pas * (endy-pas)/pas )\n",
    "    for x in range(start,endx,pas):\n",
    "        for y in range(start,endy,pas):\n",
    "            label = util.get_patch(x, y, h, noisy_image)\n",
    "            label = list(convert_patch_into_vector(label))\n",
    "            dictionary, label = delete_all_indexes_from(dictionary_full,label)\n",
    "            lassocv.fit(dictionary_full, label)\n",
    "            alpha_ = lassocv.alpha_\n",
    "            listalpha.append(alpha_)\n",
    "            i+=1\n",
    "            if(i%10==0): print(i, \"/\", total)\n",
    "    return np.mean(np.array(listalpha))\n",
    "    \n",
    "def removearray(L,arr):\n",
    "    ind = 0\n",
    "    size = len(L)\n",
    "    while ind != size and not np.array_equal(L[ind],arr):\n",
    "        ind += 1\n",
    "    if ind != size:\n",
    "        L.pop(ind)\n",
    "    else:\n",
    "        #raise ValueError('array not found in list.') #todo, why am I getting this one in optimized mode\n",
    "        print('ERROR:  removearray(L,arr): array not found in list.')\n",
    "\n",
    "def inpaint_image(noisy_image, dictionary, coord_noisy_pix, h, clear_image):\n",
    "    noisy_image_orig = np.array(noisy_image)\n",
    "    dictionary_full = np.array(dictionary)\n",
    "    \n",
    "    #todo question: vérifier qu'il faut bien faire le lassocv pour trouver le alpha sur le clear?\n",
<<<<<<< Updated upstream
    "    lassocv = linear_model.LassoCV(max_iter=1000)  #1000 by default, 100 works OK\n",
=======
    "    lassocv = linear_model.LassoCV(max_iter=1000)  #1000 by default, 100 works OK most of the time\n",
>>>>>>> Stashed changes
    "    \"\"\"\n",
    "    y, x = coord_noisy_pix[0]\n",
    "    label = util.get_patch(x, y, h, noisy_image)\n",
    "    #label = util.get_patch(x, y, h, clear_image)\n",
    "    label = list(convert_patch_into_vector(label))\n",
    "    lassocv.fit(dictionary_full, label)\n",
    "    alpha_ = lassocv.alpha_\n",
    "    \"\"\"\n",
    "    #alpha_ = estimate_alpha(noisy_image, dictionary_full, h)\n",
    "    #autre idée: en prendre 10 aléatoirement\n",
    "    alpha_ = 92 #calculé pour 12.jpg\n",
    "    \n",
    "    #alpha_ = 0.01\n",
    "    \n",
    "    print(\"alpha = \", alpha_)\n",
    "    \n",
    "    #reshape coord_noisy_pix if it was flattened (important for some cases)\n",
    "    shapenoise = coord_noisy_pix.shape\n",
    "    if(len(shapenoise) == 1):\n",
    "        coord_noisy_pix = coord_noisy_pix.reshape(int(shapenoise[0]/2), 2)\n",
    "       \n",
    "    i = 0\n",
    "    nbiter  = int(len(coord_noisy_pix))\n",
    "    while i < nbiter: # DONT USE FOR FOR THIS BECAUSE WE WILL MODIFY THE LIST\n",
    "        y, x  = coord_noisy_pix[i] \n",
    "        \n",
    "        if(i%10==0): print( i, \" / \",  nbiter)\n",
    "        \n",
    "        #print(\"Correction de : (\", x, \", \", y,\")\")\n",
    "        patch = util.get_patch(x, y, h, noisy_image)\n",
    "        labelfull = list(convert_patch_into_vector(patch))\n",
    "        \n",
    "        #print(\"labelfull : \", labelfull)\n",
    "        \n",
    "        dictionary = np.array(dictionary_full)\n",
    "        dictionary, label = delete_all_indexes_from(dictionary,labelfull)\n",
    "\n",
    "        #print(\"--- lasso regression ---\")\n",
    "        \n",
    "        #recalcule du alpha à chaque patch\n",
    "        if(i%1==0) :\n",
    "            lassocv.fit(dictionary, label)\n",
    "            alpha_ = lassocv.alpha_\n",
    "            print(\"alpha = \", alpha_)\n",
    "    \n",
    "        #fin recalcule du alpha\n",
    "        \n",
    "        model = Lasso(fit_intercept=True,alpha=alpha_,positive=True)\n",
    "        \n",
    "        model.fit(dictionary, label)\n",
    "        \n",
    "        #################################################\n",
    "        #version somme cumulée\n",
    "        res = model.predict(dictionary_full)\n",
    "        \n",
    "        #version argmax\n",
    "        #print(\"argmax = \",np.argmax(model.coef_),\" / \", model.coef_.shape)\n",
    "        #res = dictionary_full.T[np.argmax(model.coef_)]\n",
    "        #################################################\n",
    "        \n",
    "        #################################################\n",
    "        #coef = model.coef_.reshape((1,-1)) #poids\n",
    "        #print(\"nb patch not at zero: \", np.count_nonzero(model.sparse_coef_.toarray()), \" / \", coef.shape[1])\n",
    "       \n",
    "        # corrige juste le pixel central\n",
    "        #\"\"\"\n",
<<<<<<< Updated upstream
    "        # and use x, y  = coord_noisy_pix[i]  at the beginning of the while\n",
=======
    "        # and use y, x = coord_noisy_pix[i]  at the beginning of the while\n",
>>>>>>> Stashed changes
    "        newPixel = util.get_centered_pixel(res, h)\n",
    "        print(\"new pixel (lasso): \", newPixel)\n",
    "        noisy_image[x][y] = newPixel\n",
    "        i=i+1\n",
    "        #\"\"\"\n",
    "        \n",
    "        \"\"\"\n",
    "        # corrige tous les pixels noirs dans le patch\n",
    "        # and use x, y  = coord_noisy_pix[0] at the beginning of the while\n",
    "        \n",
    "        labelfull = np.array(labelfull)\n",
    "        list_indexes_noise = np.where(labelfull < 0)[0]     \n",
    "        #print(list_indexes_noise)   \n",
    "        indexeach3 = list(range(0,len(list_indexes_noise),3))\n",
    "        listindexes2 = list_indexes_noise[indexeach3] #on prend que 1 sur 3 car 3 valeurs par pixel\n",
    "        xpatch = x-h//2\n",
    "        ypatch = y-h//2\n",
    "        for val in listindexes2:\n",
    "            val = (val/3)\n",
    "            xlocal = int((val)//h)\n",
    "            ylocal = int(val-(xlocal)*h)\n",
    "            #print(\"xlocal = \",xlocal,\" ylocal=\",ylocal)\n",
    "            xglobal = xpatch + xlocal\n",
    "            yglobal = ypatch + ylocal\n",
    "            #print(\"xglobal=\",xglobal,\" yglobal=\",yglobal)\n",
    "            patch = res.reshape(h,h,3)\n",
    "            newpixel = patch[xlocal, ylocal]\n",
    "            noisy_image[xglobal][yglobal] = newpixel\n",
    "            #supprimer de la liste pour pas le refaire\n",
    "            coord_noisy_pix = list( coord_noisy_pix)\n",
    "            currentpixel = [xglobal, yglobal] #ok vérifié\n",
    "            #print(\"remove : \", currentpixel)\n",
    "            \n",
    "            removearray(coord_noisy_pix, np.array(currentpixel))\n",
    "            coord_noisy_pix = list( coord_noisy_pix)\n",
    "            #print(\"left to correct : \",len(coord_noisy_pix))\n",
    "            i = i + 1\n",
    "            if(i%10==0): print( i, \" / \",  nbiter)\n",
    "            \n",
    "        util.display_im(noisy_image)\n",
    "       #\"\"\"    \n",
    "        #################################################\n",
    "        \n",
    "        #Test  -> reconstruire de nouveaux patch à partir des pixels corrigés ?\n",
    "        #_,clear_patches = util.get_patches(noisy_image, h, width, height)\n",
    "        #dictionary_full = convert_patches_into_training_set(clear_patches)\n",
    "        #print(\"shape : \", dictionary_full.shape)\n",
    "\n",
    "    util.display_im(noisy_image_orig)\n",
    "    util.display_im(noisy_image)"
   ]
  },
  {
   "cell_type": "code",
<<<<<<< Updated upstream
   "execution_count": 130,
=======
   "execution_count": 185,
>>>>>>> Stashed changes
   "metadata": {},
   "outputs": [
    {
     "name": "stdout",
     "output_type": "stream",
     "text": [
      "taille de l'image :  (100, 100, 3)\n",
<<<<<<< Updated upstream
      "nb pixels à corriger:  (82, 2)\n",
      "100  ,  100\n",
      "nbclear: 394\n"
=======
      "nb pixels à corriger:  199\n",
      "nbclear pacthes: 394\n"
>>>>>>> Stashed changes
     ]
    },
    {
     "data": {
<<<<<<< Updated upstream
      "image/png": "iVBORw0KGgoAAAANSUhEUgAAAd0AAAHdCAYAAABYPaNuAAAABHNCSVQICAgIfAhkiAAAAAlwSFlz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\nQmCC\n",
      "text/plain": [
       "<matplotlib.figure.Figure at 0x7f32f3001fd0>"
=======
      "image/png": "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\n",
      "text/plain": [
       "<matplotlib.figure.Figure at 0x7f3279012710>"
>>>>>>> Stashed changes
      ]
     },
     "metadata": {},
     "output_type": "display_data"
    }
   ],
   "source": [
    "%matplotlib inline\n",
    "img_matrice = util.read_im(\"Data/imgdataset/lennasmall.jpg\")\n",
    "\n",
    "print(\"taille de l'image : \", img_matrice.shape)\n",
    "\n",
    "#util.display_im(img_matrice)\n",
    "\n",
    "#Taille des patchs\n",
    "h=5 #nombre impair !!\n",
    "\n",
    "width = img_matrice.shape[1]\n",
    "height = img_matrice.shape[0]\n",
<<<<<<< Updated upstream
    "noisy_image, deletepixels = util.noise(img_matrice, 0.01, width, height, h);\n",
=======
    "noisy_image, deletepixels = util.noise2(img_matrice, 0.02, width, height, h);\n",
>>>>>>> Stashed changes
    "\n",
    "#noisy_image, deletepixels = util.delete_rect(img_matrice, 10, 10, 10, 10) #66, 55, 75, 15\n",
    "\n",
    "#10small 65, 50, 80, 15\n",
    "#12.jpg 85, 75, 30, 6\n",
    "\n",
    "print(\"nb pixels à corriger: \", np.array(deletepixels).shape)\n",
    "\n",
    "width = img_matrice.shape[1]\n",
    "height = img_matrice.shape[0]\n",
    "\n",
    "print(width,\" , \", height)\n",
    "\n",
    "util.display_im(noisy_image)\n",
    "\n",
    "_,clear_patches = util.get_patches(noisy_image, h, width, height)\n",
    "\n",
    "nbclear = np.shape(clear_patches)[0]\n",
    "print(\"nbclear:\", nbclear)"
   ]
  },
  {
   "cell_type": "code",
<<<<<<< Updated upstream
   "execution_count": 131,
=======
   "execution_count": 186,
>>>>>>> Stashed changes
   "metadata": {},
   "outputs": [
    {
     "name": "stdout",
     "output_type": "stream",
     "text": [
      "(75, 394)\n"
     ]
    }
   ],
   "source": [
    "training = convert_patches_into_training_set(clear_patches)\n",
    "print(training.shape)"
   ]
  },
  {
   "cell_type": "code",
<<<<<<< Updated upstream
   "execution_count": 132,
=======
   "execution_count": 187,
>>>>>>> Stashed changes
   "metadata": {},
   "outputs": [
    {
     "name": "stdout",
     "output_type": "stream",
     "text": [
      "(9, 2)\n",
      "(3, 3, 2)\n",
      "center= ['5' 'a']\n",
      "(3, 1)\n"
     ]
    },
    {
     "data": {
      "text/plain": [
       "array([[0, 2, 6]])"
      ]
     },
<<<<<<< Updated upstream
     "execution_count": 132,
=======
     "execution_count": 187,
>>>>>>> Stashed changes
     "metadata": {},
     "output_type": "execute_result"
    }
   ],
   "source": [
    "a = np.array([[1, 'a'], [2, 'a'], [3, 'a'], [4, 'a'], [5, 'a'], [6, 'a'], [7, 'a'], [8, 'a'], [9, 'a']])\n",
    "print(a.shape)    \n",
    "a = a.reshape(3,3,2)\n",
    "print(a.shape)\n",
    "print(\"center=\",util.get_centered_pixel(a, 3))\n",
    "\n",
    "#coefsize = (1, 2510)   dicofullsize = (27, 2510)  ressize= (27, 2510)\n",
    "coef = np.array([0,1,2])\n",
    "coef = coef.reshape(-1,1)\n",
    "print(coef.shape)\n",
    "dico = [1,2,3]\n",
    "coef.T*dico\n",
    "\n",
    "\n",
    "\n",
    "spyral_transformation(a)"
   ]
  },
  {
   "cell_type": "markdown",
   "metadata": {},
   "source": [
    "1  2  3  4\n",
    "5  6  7  8\n",
    "9 10 11 12"
   ]
  },
  {
   "cell_type": "code",
<<<<<<< Updated upstream
   "execution_count": 134,
   "metadata": {},
=======
   "execution_count": 188,
   "metadata": {
    "scrolled": true
   },
>>>>>>> Stashed changes
   "outputs": [
    {
     "name": "stdout",
     "output_type": "stream",
     "text": [
<<<<<<< Updated upstream
      "alpha =  92\n",
      "0  /  82\n"
=======
      "> 2\n",
      "spyral_transformation(a): tab is not of 3 dimensions, doing nothing\n",
      "alpha =  0.01\n",
      "0  /  199\n"
>>>>>>> Stashed changes
     ]
    },
    {
     "name": "stderr",
     "output_type": "stream",
     "text": [
<<<<<<< Updated upstream
      "/users/Etu7/3262287/.local/lib/python3.4/site-packages/sklearn/linear_model/coordinate_descent.py:491: ConvergenceWarning: Objective did not converge. You might want to increase the number of iterations. Fitting data with very small alpha may cause precision problems.\n",
=======
      "/usr/lib/python3/dist-packages/sklearn/linear_model/coordinate_descent.py:466: ConvergenceWarning: Objective did not converge. You might want to increase the number of iterations\n",
>>>>>>> Stashed changes
      "  ConvergenceWarning)\n"
     ]
    },
    {
     "name": "stdout",
     "output_type": "stream",
     "text": [
<<<<<<< Updated upstream
      "alpha =  16.0364260275\n",
      "new pixel (lasso):  [ 234.99908839  142.3885189   113.73706253]\n"
=======
      "alpha =  15.1362270643\n",
      "correcting pixel ( 95 ,  79 )\n",
      "alpha =  25.5440056711\n",
      "correcting pixel ( 32 ,  14 )\n",
      "alpha =  51.9932533819\n",
      "correcting pixel ( 99 ,  36 )\n",
      "alpha =  10.4222776185\n",
      "correcting pixel ( 99 ,  76 )\n",
      "alpha =  22.8245731182\n",
      "correcting pixel ( 90 ,  35 )\n",
      "correcting pixel ( 92 ,  37 )\n",
      "alpha =  14.8684205144\n",
      "correcting pixel ( 95 ,  25 )\n",
      "alpha =  64.9822184679\n",
      "correcting pixel ( 62 ,  13 )\n",
      "correcting pixel ( 63 ,  15 )\n"
>>>>>>> Stashed changes
     ]
    },
    {
     "name": "stderr",
     "output_type": "stream",
     "text": [
<<<<<<< Updated upstream
      "/users/Etu7/3262287/.local/lib/python3.4/site-packages/sklearn/linear_model/coordinate_descent.py:491: ConvergenceWarning: Objective did not converge. You might want to increase the number of iterations. Fitting data with very small alpha may cause precision problems.\n",
=======
      "/usr/lib/python3/dist-packages/sklearn/linear_model/coordinate_descent.py:466: ConvergenceWarning: Objective did not converge. You might want to increase the number of iterations\n",
>>>>>>> Stashed changes
      "  ConvergenceWarning)\n"
     ]
    },
    {
     "name": "stdout",
     "output_type": "stream",
     "text": [
<<<<<<< Updated upstream
      "alpha =  9.22836072509\n",
      "new pixel (lasso):  [ 122.17236757   35.90054473   68.00814104]\n",
      "alpha =  21.5672932237\n",
      "new pixel (lasso):  [ 196.85665099   87.89515081   96.74865824]\n"
=======
      "alpha =  3.6466712963\n",
      "correcting pixel ( 91 ,  12 )\n"
>>>>>>> Stashed changes
     ]
    },
    {
     "name": "stderr",
     "output_type": "stream",
     "text": [
<<<<<<< Updated upstream
      "/users/Etu7/3262287/.local/lib/python3.4/site-packages/sklearn/linear_model/coordinate_descent.py:491: ConvergenceWarning: Objective did not converge. You might want to increase the number of iterations. Fitting data with very small alpha may cause precision problems.\n",
=======
      "/usr/lib/python3/dist-packages/sklearn/linear_model/coordinate_descent.py:466: ConvergenceWarning: Objective did not converge. You might want to increase the number of iterations\n",
>>>>>>> Stashed changes
      "  ConvergenceWarning)\n"
     ]
    },
    {
     "name": "stdout",
     "output_type": "stream",
     "text": [
<<<<<<< Updated upstream
      "alpha =  11.5784519948\n",
      "new pixel (lasso):  [ 202.23014507   86.9123545    88.74265038]\n",
      "alpha =  25.0097295907\n",
      "new pixel (lasso):  [ 227.2256788   115.67462992  102.76570197]\n",
      "alpha =  55.0603675318\n",
      "new pixel (lasso):  [ 103.49735367   22.22079781   62.82945796]\n",
      "alpha =  11.941589428\n",
      "new pixel (lasso):  [ 215.30028379  145.73156311  142.68133407]\n",
      "alpha =  29.1753941407\n",
      "new pixel (lasso):  [ 180.65928567   73.9943102    85.23755678]\n",
      "alpha =  175.551529737\n",
      "new pixel (lasso):  [ 136.51890598   64.16958437   78.12108819]\n"
=======
      "alpha =  82.6109087856\n",
      "correcting pixel ( 7 ,  33 )\n",
      "alpha =  53.9476228783\n",
      "correcting pixel ( 44 ,  55 )\n",
      "10  /  199\n"
>>>>>>> Stashed changes
     ]
    },
    {
     "name": "stderr",
     "output_type": "stream",
     "text": [
<<<<<<< Updated upstream
      "/users/Etu7/3262287/.local/lib/python3.4/site-packages/sklearn/linear_model/coordinate_descent.py:491: ConvergenceWarning: Objective did not converge. You might want to increase the number of iterations. Fitting data with very small alpha may cause precision problems.\n",
=======
      "/usr/lib/python3/dist-packages/sklearn/linear_model/coordinate_descent.py:466: ConvergenceWarning: Objective did not converge. You might want to increase the number of iterations\n",
>>>>>>> Stashed changes
      "  ConvergenceWarning)\n"
     ]
    },
    {
     "name": "stdout",
     "output_type": "stream",
     "text": [
<<<<<<< Updated upstream
      "alpha =  2.72154342306\n",
      "new pixel (lasso):  [ 129.81528385   48.73961123   79.77413574]\n",
      "10  /  82\n",
      "alpha =  46.9710856856\n",
      "new pixel (lasso):  [ 214.07916525  138.62937032  132.87438905]\n"
=======
      "alpha =  1.9402646643\n",
      "correcting pixel ( 47 ,  40 )\n",
      "correcting pixel ( 47 ,  42 )\n",
      "alpha =  40.2877861652\n",
      "correcting pixel ( 10 ,  75 )\n",
      "correcting pixel ( 11 ,  77 )\n",
      "correcting pixel ( 13 ,  77 )\n"
>>>>>>> Stashed changes
     ]
    },
    {
     "name": "stderr",
     "output_type": "stream",
     "text": [
<<<<<<< Updated upstream
      "/users/Etu7/3262287/.local/lib/python3.4/site-packages/sklearn/linear_model/coordinate_descent.py:491: ConvergenceWarning: Objective did not converge. You might want to increase the number of iterations. Fitting data with very small alpha may cause precision problems.\n",
=======
      "/usr/lib/python3/dist-packages/sklearn/linear_model/coordinate_descent.py:466: ConvergenceWarning: Objective did not converge. You might want to increase the number of iterations\n",
>>>>>>> Stashed changes
      "  ConvergenceWarning)\n"
     ]
    },
    {
     "name": "stdout",
     "output_type": "stream",
     "text": [
<<<<<<< Updated upstream
      "alpha =  3.21264915693\n",
      "new pixel (lasso):  [ 190.67865241   80.82488453   92.47334924]\n",
      "alpha =  132.18700385\n",
      "new pixel (lasso):  [ 166.60156343   61.98150982   73.17248089]\n",
      "alpha =  24.2728053143\n",
      "new pixel (lasso):  [ 196.00557695  114.01196141  116.52594002]\n"
=======
      "alpha =  1.76371568231\n",
      "correcting pixel ( 91 ,  32 )\n",
      "alpha =  26.4149571725\n",
      "correcting pixel ( 52 ,  51 )\n",
      "alpha =  94.9105474747\n",
      "correcting pixel ( 29 ,  43 )\n",
      "correcting pixel ( 29 ,  45 )\n",
      "alpha =  20.1990714452\n",
      "correcting pixel ( 70 ,  0 )\n"
>>>>>>> Stashed changes
     ]
    },
    {
     "name": "stderr",
     "output_type": "stream",
     "text": [
<<<<<<< Updated upstream
      "/users/Etu7/3262287/.local/lib/python3.4/site-packages/sklearn/linear_model/coordinate_descent.py:491: ConvergenceWarning: Objective did not converge. You might want to increase the number of iterations. Fitting data with very small alpha may cause precision problems.\n",
=======
      "/usr/lib/python3/dist-packages/sklearn/linear_model/coordinate_descent.py:466: ConvergenceWarning: Objective did not converge. You might want to increase the number of iterations\n",
>>>>>>> Stashed changes
      "  ConvergenceWarning)\n"
     ]
    },
    {
     "name": "stdout",
     "output_type": "stream",
     "text": [
<<<<<<< Updated upstream
      "alpha =  2.14124213333\n",
      "new pixel (lasso):  [ 178.79364907   96.54605548  123.2342884 ]\n"
=======
      "alpha =  20.6121759259\n",
      "correcting pixel ( 36 ,  92 )\n"
>>>>>>> Stashed changes
     ]
    },
    {
     "name": "stderr",
     "output_type": "stream",
     "text": [
<<<<<<< Updated upstream
      "/users/Etu7/3262287/.local/lib/python3.4/site-packages/sklearn/linear_model/coordinate_descent.py:491: ConvergenceWarning: Objective did not converge. You might want to increase the number of iterations. Fitting data with very small alpha may cause precision problems.\n",
=======
      "/usr/lib/python3/dist-packages/sklearn/linear_model/coordinate_descent.py:466: ConvergenceWarning: Objective did not converge. You might want to increase the number of iterations\n",
>>>>>>> Stashed changes
      "  ConvergenceWarning)\n"
     ]
    },
    {
     "name": "stdout",
     "output_type": "stream",
     "text": [
<<<<<<< Updated upstream
      "alpha =  41.9918621553\n",
      "new pixel (lasso):  [ 224.4592884   191.84498141  182.98443784]\n"
=======
      "alpha =  10.0516465333\n",
      "correcting pixel ( 19 ,  73 )\n"
>>>>>>> Stashed changes
     ]
    },
    {
     "name": "stderr",
     "output_type": "stream",
     "text": [
<<<<<<< Updated upstream
      "/users/Etu7/3262287/.local/lib/python3.4/site-packages/sklearn/linear_model/coordinate_descent.py:491: ConvergenceWarning: Objective did not converge. You might want to increase the number of iterations. Fitting data with very small alpha may cause precision problems.\n",
      "  ConvergenceWarning)\n",
      "/users/Etu7/3262287/.local/lib/python3.4/site-packages/sklearn/linear_model/coordinate_descent.py:491: ConvergenceWarning: Objective did not converge. You might want to increase the number of iterations. Fitting data with very small alpha may cause precision problems.\n",
=======
      "/usr/lib/python3/dist-packages/sklearn/linear_model/coordinate_descent.py:466: ConvergenceWarning: Objective did not converge. You might want to increase the number of iterations\n",
>>>>>>> Stashed changes
      "  ConvergenceWarning)\n"
     ]
    },
    {
     "name": "stdout",
     "output_type": "stream",
     "text": [
<<<<<<< Updated upstream
      "alpha =  1.96584895833\n",
      "new pixel (lasso):  [ 140.17748418   58.5162275   108.34962401]\n"
=======
      "alpha =  9.30753562272\n",
      "correcting pixel ( 18 ,  27 )\n",
      "correcting pixel ( 19 ,  29 )\n",
      "alpha =  5.84529193909\n",
      "correcting pixel ( 51 ,  35 )\n",
      "correcting pixel ( 52 ,  36 )\n",
      "20  /  199\n",
      "alpha =  40.7627857161\n",
      "correcting pixel ( 11 ,  91 )\n"
>>>>>>> Stashed changes
     ]
    },
    {
     "name": "stderr",
     "output_type": "stream",
     "text": [
<<<<<<< Updated upstream
      "/users/Etu7/3262287/.local/lib/python3.4/site-packages/sklearn/linear_model/coordinate_descent.py:491: ConvergenceWarning: Objective did not converge. You might want to increase the number of iterations. Fitting data with very small alpha may cause precision problems.\n",
=======
      "/usr/lib/python3/dist-packages/sklearn/linear_model/coordinate_descent.py:466: ConvergenceWarning: Objective did not converge. You might want to increase the number of iterations\n",
>>>>>>> Stashed changes
      "  ConvergenceWarning)\n"
     ]
    },
    {
     "name": "stdout",
     "output_type": "stream",
     "text": [
<<<<<<< Updated upstream
      "alpha =  3.34954826667\n",
      "new pixel (lasso):  [ 218.59948741   89.98319155   97.66807827]\n"
=======
      "alpha =  5.07654180985\n",
      "correcting pixel ( 10 ,  28 )\n"
>>>>>>> Stashed changes
     ]
    },
    {
     "name": "stderr",
     "output_type": "stream",
     "text": [
<<<<<<< Updated upstream
      "/users/Etu7/3262287/.local/lib/python3.4/site-packages/sklearn/linear_model/coordinate_descent.py:491: ConvergenceWarning: Objective did not converge. You might want to increase the number of iterations. Fitting data with very small alpha may cause precision problems.\n",
=======
      "/usr/lib/python3/dist-packages/sklearn/linear_model/coordinate_descent.py:466: ConvergenceWarning: Objective did not converge. You might want to increase the number of iterations\n",
>>>>>>> Stashed changes
      "  ConvergenceWarning)\n"
     ]
    },
    {
     "name": "stdout",
     "output_type": "stream",
     "text": [
<<<<<<< Updated upstream
      "alpha =  2.27017328114\n",
      "new pixel (lasso):  [ 179.55209831  102.54928585  103.05997408]\n",
      "alpha =  22.5202796464\n",
      "new pixel (lasso):  [ 227.09899528  129.59286331  134.19280592]\n",
      "20  /  82\n",
      "alpha =  39.3854035239\n",
      "new pixel (lasso):  [ 220.23049929  123.71004256  102.90797397]\n",
      "alpha =  16.7118100436\n",
      "new pixel (lasso):  [ 208.33124345  120.23661733  119.24288048]\n",
      "alpha =  57.2080061842\n",
      "new pixel (lasso):  [ 184.90241116   71.63494791   79.54673348]\n",
      "alpha =  29.462446815\n",
      "new pixel (lasso):  [ 210.4737862    95.31726316   87.63729835]\n",
      "alpha =  50.1910565593\n",
      "new pixel (lasso):  [ 101.58940153   30.50052505   63.50225737]\n"
=======
      "alpha =  437.221574449\n",
      "correcting pixel ( 33 ,  51 )\n",
      "alpha =  71.7590071704\n",
      "correcting pixel ( 78 ,  56 )\n",
      "alpha =  123.020634704\n",
      "correcting pixel ( 65 ,  99 )\n",
      "alpha =  42.5801288162\n",
      "correcting pixel ( 46 ,  33 )\n",
      "alpha =  170.183135034\n",
      "correcting pixel ( 66 ,  62 )\n",
      "correcting pixel ( 64 ,  63 )\n"
>>>>>>> Stashed changes
     ]
    },
    {
     "name": "stderr",
     "output_type": "stream",
     "text": [
<<<<<<< Updated upstream
      "/users/Etu7/3262287/.local/lib/python3.4/site-packages/sklearn/linear_model/coordinate_descent.py:491: ConvergenceWarning: Objective did not converge. You might want to increase the number of iterations. Fitting data with very small alpha may cause precision problems.\n",
=======
      "/usr/lib/python3/dist-packages/sklearn/linear_model/coordinate_descent.py:466: ConvergenceWarning: Objective did not converge. You might want to increase the number of iterations\n",
>>>>>>> Stashed changes
      "  ConvergenceWarning)\n"
     ]
    },
    {
     "name": "stdout",
     "output_type": "stream",
     "text": [
<<<<<<< Updated upstream
      "alpha =  4.44392053787\n",
      "new pixel (lasso):  [ 108.15710397   29.19888931   64.0154157 ]\n",
      "alpha =  50.5056517387\n",
      "new pixel (lasso):  [ 164.48491632   79.51192429   89.35322521]\n"
=======
      "alpha =  15.8515341388\n",
      "correcting pixel ( 46 ,  3 )\n",
      "correcting pixel ( 48 ,  4 )\n",
      "alpha =  63.8779426382\n",
      "correcting pixel ( 30 ,  68 )\n"
>>>>>>> Stashed changes
     ]
    },
    {
     "name": "stderr",
     "output_type": "stream",
     "text": [
<<<<<<< Updated upstream
      "/users/Etu7/3262287/.local/lib/python3.4/site-packages/sklearn/linear_model/coordinate_descent.py:491: ConvergenceWarning: Objective did not converge. You might want to increase the number of iterations. Fitting data with very small alpha may cause precision problems.\n",
=======
      "/usr/lib/python3/dist-packages/sklearn/linear_model/coordinate_descent.py:466: ConvergenceWarning: Objective did not converge. You might want to increase the number of iterations\n",
>>>>>>> Stashed changes
      "  ConvergenceWarning)\n"
     ]
    },
    {
     "name": "stdout",
     "output_type": "stream",
     "text": [
<<<<<<< Updated upstream
      "alpha =  4.5981080201\n",
      "new pixel (lasso):  [ 202.64297518   87.16097077   99.89320798]\n"
=======
      "alpha =  3.428250547\n",
      "correcting pixel ( 74 ,  88 )\n",
      "correcting pixel ( 74 ,  89 )\n",
      "30  /  199\n",
      "alpha =  462.62294406\n",
      "correcting pixel ( 54 ,  7 )\n"
>>>>>>> Stashed changes
     ]
    },
    {
     "name": "stderr",
     "output_type": "stream",
     "text": [
<<<<<<< Updated upstream
      "/users/Etu7/3262287/.local/lib/python3.4/site-packages/sklearn/linear_model/coordinate_descent.py:491: ConvergenceWarning: Objective did not converge. You might want to increase the number of iterations. Fitting data with very small alpha may cause precision problems.\n",
=======
      "/usr/lib/python3/dist-packages/sklearn/linear_model/coordinate_descent.py:466: ConvergenceWarning: Objective did not converge. You might want to increase the number of iterations\n",
>>>>>>> Stashed changes
      "  ConvergenceWarning)\n"
     ]
    },
    {
     "name": "stdout",
     "output_type": "stream",
     "text": [
<<<<<<< Updated upstream
      "alpha =  14.4904794893\n",
      "new pixel (lasso):  [ 126.15183476   58.63197369  107.17564488]\n"
=======
      "alpha =  13.8422995066\n",
      "correcting pixel ( 17 ,  28 )\n"
>>>>>>> Stashed changes
     ]
    },
    {
     "name": "stderr",
     "output_type": "stream",
     "text": [
<<<<<<< Updated upstream
      "/users/Etu7/3262287/.local/lib/python3.4/site-packages/sklearn/linear_model/coordinate_descent.py:491: ConvergenceWarning: Objective did not converge. You might want to increase the number of iterations. Fitting data with very small alpha may cause precision problems.\n",
=======
      "/usr/lib/python3/dist-packages/sklearn/linear_model/coordinate_descent.py:466: ConvergenceWarning: Objective did not converge. You might want to increase the number of iterations\n",
>>>>>>> Stashed changes
      "  ConvergenceWarning)\n"
     ]
    },
    {
     "name": "stdout",
     "output_type": "stream",
     "text": [
<<<<<<< Updated upstream
      "alpha =  3.78051780249\n",
      "new pixel (lasso):  [ 225.95188133  118.69537134  104.67482085]\n",
      "30  /  82\n",
      "alpha =  31.2367989292\n",
      "new pixel (lasso):  [ 200.71679387  132.07017229  124.39634536]\n"
=======
      "alpha =  3.73354819658\n",
      "correcting pixel ( 38 ,  15 )\n"
>>>>>>> Stashed changes
     ]
    },
    {
     "name": "stderr",
     "output_type": "stream",
     "text": [
<<<<<<< Updated upstream
      "/users/Etu7/3262287/.local/lib/python3.4/site-packages/sklearn/linear_model/coordinate_descent.py:491: ConvergenceWarning: Objective did not converge. You might want to increase the number of iterations. Fitting data with very small alpha may cause precision problems.\n",
=======
      "/usr/lib/python3/dist-packages/sklearn/linear_model/coordinate_descent.py:466: ConvergenceWarning: Objective did not converge. You might want to increase the number of iterations\n",
>>>>>>> Stashed changes
      "  ConvergenceWarning)\n"
     ]
    },
    {
     "name": "stdout",
     "output_type": "stream",
     "text": [
<<<<<<< Updated upstream
      "alpha =  2.75570488889\n",
      "new pixel (lasso):  [ 222.71192544  129.33029528  116.74198554]\n"
=======
      "alpha =  4.36126348018\n",
      "correcting pixel ( 66 ,  15 )\n"
>>>>>>> Stashed changes
     ]
    },
    {
     "name": "stderr",
     "output_type": "stream",
     "text": [
<<<<<<< Updated upstream
      "/users/Etu7/3262287/.local/lib/python3.4/site-packages/sklearn/linear_model/coordinate_descent.py:491: ConvergenceWarning: Objective did not converge. You might want to increase the number of iterations. Fitting data with very small alpha may cause precision problems.\n",
=======
      "/usr/lib/python3/dist-packages/sklearn/linear_model/coordinate_descent.py:466: ConvergenceWarning: Objective did not converge. You might want to increase the number of iterations\n",
>>>>>>> Stashed changes
      "  ConvergenceWarning)\n"
     ]
    },
    {
     "name": "stdout",
     "output_type": "stream",
     "text": [
<<<<<<< Updated upstream
      "alpha =  13.3434275098\n",
      "new pixel (lasso):  [ 216.31315288  110.3316409   113.99836373]\n",
      "alpha =  28.3261450416\n",
      "new pixel (lasso):  [ 183.38681176   73.31473694   77.19379118]\n"
=======
      "alpha =  3.90258389189\n",
      "correcting pixel ( 84 ,  80 )\n",
      "alpha =  49.9375255658\n",
      "correcting pixel ( 67 ,  88 )\n",
      "correcting pixel ( 65 ,  89 )\n",
      "alpha =  69.419822613\n",
      "correcting pixel ( 24 ,  4 )\n",
      "correcting pixel ( 26 ,  5 )\n",
      "alpha =  25.2736711872\n",
      "correcting pixel ( 36 ,  20 )\n"
     ]
    },
    {
     "name": "stderr",
     "output_type": "stream",
     "text": [
      "/usr/lib/python3/dist-packages/sklearn/linear_model/coordinate_descent.py:466: ConvergenceWarning: Objective did not converge. You might want to increase the number of iterations\n",
      "  ConvergenceWarning)\n"
     ]
    },
    {
     "name": "stdout",
     "output_type": "stream",
     "text": [
      "alpha =  2.74895809141\n",
      "correcting pixel ( 30 ,  98 )\n",
      "alpha =  158.502568688\n",
      "correcting pixel ( 94 ,  92 )\n",
      "40  /  199\n",
      "alpha =  92.1115574654\n",
      "correcting pixel ( 51 ,  81 )\n",
      "alpha =  65.6450597986\n",
      "correcting pixel ( 11 ,  79 )\n"
>>>>>>> Stashed changes
     ]
    },
    {
     "name": "stderr",
     "output_type": "stream",
     "text": [
      "/users/Etu7/3262287/.local/lib/python3.4/site-packages/sklearn/linear_model/coordinate_descent.py:491: ConvergenceWarning: Objective did not converge. You might want to increase the number of iterations. Fitting data with very small alpha may cause precision problems.\n",
      "  ConvergenceWarning)\n"
     ]
    },
    {
     "name": "stdout",
     "output_type": "stream",
     "text": [
<<<<<<< Updated upstream
      "alpha =  4.13170716921\n",
      "new pixel (lasso):  [ 208.15480505   95.91729451   94.12864092]\n",
      "alpha =  30.5285934686\n",
      "new pixel (lasso):  [ 238.66042594  151.96298776  126.57051909]\n"
=======
      "alpha =  1.49790930632\n",
      "correcting pixel ( 36 ,  63 )\n",
      "correcting pixel ( 37 ,  63 )\n"
>>>>>>> Stashed changes
     ]
    },
    {
     "name": "stderr",
     "output_type": "stream",
     "text": [
      "/users/Etu7/3262287/.local/lib/python3.4/site-packages/sklearn/linear_model/coordinate_descent.py:491: ConvergenceWarning: Objective did not converge. You might want to increase the number of iterations. Fitting data with very small alpha may cause precision problems.\n",
      "  ConvergenceWarning)\n"
     ]
    },
    {
     "name": "stdout",
     "output_type": "stream",
     "text": [
<<<<<<< Updated upstream
      "alpha =  7.22247682009\n",
      "new pixel (lasso):  [ 218.71775422  152.79843871  147.62129606]\n",
      "alpha =  53.5891541924\n",
      "new pixel (lasso):  [ 124.7997785    46.96657675   71.82851834]\n",
      "alpha =  32.0674656356\n",
      "new pixel (lasso):  [ 225.69142854  157.30101612  133.54118307]\n",
      "alpha =  16.8464504081\n",
      "new pixel (lasso):  [ 132.69196813   54.28957416   85.05507053]\n",
      "40  /  82\n",
      "alpha =  44.7934978242\n",
      "new pixel (lasso):  [ 96.50711288  22.33684913  65.41363341]\n"
=======
      "alpha =  15.9590202112\n",
      "correcting pixel ( 9 ,  76 )\n",
      "alpha =  144.393784878\n",
      "correcting pixel ( 65 ,  44 )\n"
>>>>>>> Stashed changes
     ]
    },
    {
     "name": "stderr",
     "output_type": "stream",
     "text": [
      "/users/Etu7/3262287/.local/lib/python3.4/site-packages/sklearn/linear_model/coordinate_descent.py:491: ConvergenceWarning: Objective did not converge. You might want to increase the number of iterations. Fitting data with very small alpha may cause precision problems.\n",
      "  ConvergenceWarning)\n"
     ]
    },
    {
     "name": "stdout",
     "output_type": "stream",
     "text": [
<<<<<<< Updated upstream
      "alpha =  22.1416541495\n",
      "new pixel (lasso):  [ 221.24057357  110.85235434  102.93112744]\n"
=======
      "alpha =  2.34375881554\n",
      "correcting pixel ( 85 ,  64 )\n"
>>>>>>> Stashed changes
     ]
    },
    {
     "name": "stderr",
     "output_type": "stream",
     "text": [
      "/users/Etu7/3262287/.local/lib/python3.4/site-packages/sklearn/linear_model/coordinate_descent.py:491: ConvergenceWarning: Objective did not converge. You might want to increase the number of iterations. Fitting data with very small alpha may cause precision problems.\n",
      "  ConvergenceWarning)\n"
     ]
    },
    {
     "name": "stdout",
     "output_type": "stream",
     "text": [
<<<<<<< Updated upstream
      "alpha =  12.3071087115\n",
      "new pixel (lasso):  [ 206.3612964    93.68293508   93.4511274 ]\n"
     ]
    },
    {
     "name": "stderr",
     "output_type": "stream",
     "text": [
      "/users/Etu7/3262287/.local/lib/python3.4/site-packages/sklearn/linear_model/coordinate_descent.py:491: ConvergenceWarning: Objective did not converge. You might want to increase the number of iterations. Fitting data with very small alpha may cause precision problems.\n",
      "  ConvergenceWarning)\n"
     ]
    },
    {
     "name": "stdout",
     "output_type": "stream",
     "text": [
      "alpha =  3.48411234922\n",
      "new pixel (lasso):  [ 223.68630957   98.91794949  107.21882094]\n"
=======
      "alpha =  4.69730122645\n",
      "correcting pixel ( 13 ,  96 )\n",
      "correcting pixel ( 14 ,  96 )\n"
     ]
    },
    {
     "name": "stderr",
     "output_type": "stream",
     "text": [
      "/usr/lib/python3/dist-packages/sklearn/linear_model/coordinate_descent.py:466: ConvergenceWarning: Objective did not converge. You might want to increase the number of iterations\n",
      "  ConvergenceWarning)\n"
     ]
    },
    {
     "name": "stdout",
     "output_type": "stream",
     "text": [
      "alpha =  9.88841914865\n",
      "correcting pixel ( 81 ,  96 )\n",
      "correcting pixel ( 81 ,  97 )\n",
      "correcting pixel ( 82 ,  97 )\n"
     ]
    },
    {
     "name": "stderr",
     "output_type": "stream",
     "text": [
      "/usr/lib/python3/dist-packages/sklearn/linear_model/coordinate_descent.py:466: ConvergenceWarning: Objective did not converge. You might want to increase the number of iterations\n",
      "  ConvergenceWarning)\n"
     ]
    },
    {
     "name": "stdout",
     "output_type": "stream",
     "text": [
      "alpha =  3.12132355074\n",
      "correcting pixel ( 1 ,  74 )\n",
      "alpha =  65.9332935788\n",
      "correcting pixel ( 47 ,  71 )\n",
      "50  /  199\n"
     ]
    },
    {
     "name": "stderr",
     "output_type": "stream",
     "text": [
      "/usr/lib/python3/dist-packages/sklearn/linear_model/coordinate_descent.py:466: ConvergenceWarning: Objective did not converge. You might want to increase the number of iterations\n",
      "  ConvergenceWarning)\n"
     ]
    },
    {
     "name": "stdout",
     "output_type": "stream",
     "text": [
      "alpha =  2.71987114198\n",
      "correcting pixel ( 22 ,  34 )\n"
     ]
    },
    {
     "name": "stderr",
     "output_type": "stream",
     "text": [
      "/usr/lib/python3/dist-packages/sklearn/linear_model/coordinate_descent.py:466: ConvergenceWarning: Objective did not converge. You might want to increase the number of iterations\n",
      "  ConvergenceWarning)\n"
     ]
    },
    {
     "name": "stdout",
     "output_type": "stream",
     "text": [
      "alpha =  2.87034876543\n",
      "correcting pixel ( 32 ,  3 )\n"
     ]
    },
    {
     "name": "stderr",
     "output_type": "stream",
     "text": [
      "/usr/lib/python3/dist-packages/sklearn/linear_model/coordinate_descent.py:466: ConvergenceWarning: Objective did not converge. You might want to increase the number of iterations\n",
      "  ConvergenceWarning)\n"
     ]
    },
    {
     "name": "stdout",
     "output_type": "stream",
     "text": [
      "alpha =  3.14634143519\n",
      "correcting pixel ( 52 ,  10 )\n"
     ]
    },
    {
     "name": "stderr",
     "output_type": "stream",
     "text": [
      "/usr/lib/python3/dist-packages/sklearn/linear_model/coordinate_descent.py:466: ConvergenceWarning: Objective did not converge. You might want to increase the number of iterations\n",
      "  ConvergenceWarning)\n"
     ]
    },
    {
     "name": "stdout",
     "output_type": "stream",
     "text": [
      "alpha =  27.572122914\n",
      "correcting pixel ( 6 ,  50 )\n"
     ]
    },
    {
     "name": "stderr",
     "output_type": "stream",
     "text": [
      "/usr/lib/python3/dist-packages/sklearn/linear_model/coordinate_descent.py:466: ConvergenceWarning: Objective did not converge. You might want to increase the number of iterations\n",
      "  ConvergenceWarning)\n"
     ]
    },
    {
     "name": "stdout",
     "output_type": "stream",
     "text": [
      "alpha =  3.70103843708\n",
      "correcting pixel ( 15 ,  14 )\n",
      "correcting pixel ( 16 ,  16 )\n"
     ]
    },
    {
     "name": "stderr",
     "output_type": "stream",
     "text": [
      "/usr/lib/python3/dist-packages/sklearn/linear_model/coordinate_descent.py:466: ConvergenceWarning: Objective did not converge. You might want to increase the number of iterations\n",
      "  ConvergenceWarning)\n",
      "/usr/lib/python3/dist-packages/sklearn/linear_model/coordinate_descent.py:466: ConvergenceWarning: Objective did not converge. You might want to increase the number of iterations\n",
      "  ConvergenceWarning)\n"
     ]
    },
    {
     "name": "stdout",
     "output_type": "stream",
     "text": [
      "alpha =  5.53480471466\n",
      "correcting pixel ( 62 ,  59 )\n"
     ]
    },
    {
     "name": "stderr",
     "output_type": "stream",
     "text": [
      "/usr/lib/python3/dist-packages/sklearn/linear_model/coordinate_descent.py:466: ConvergenceWarning: Objective did not converge. You might want to increase the number of iterations\n",
      "  ConvergenceWarning)\n"
     ]
    },
    {
     "name": "stdout",
     "output_type": "stream",
     "text": [
      "alpha =  2.80367748959\n",
      "correcting pixel ( 46 ,  88 )\n"
     ]
    },
    {
     "name": "stderr",
     "output_type": "stream",
     "text": [
      "/usr/lib/python3/dist-packages/sklearn/linear_model/coordinate_descent.py:466: ConvergenceWarning: Objective did not converge. You might want to increase the number of iterations\n",
      "  ConvergenceWarning)\n"
     ]
    },
    {
     "name": "stdout",
     "output_type": "stream",
     "text": [
      "alpha =  1.13017418981\n",
      "correcting pixel ( 87 ,  23 )\n",
      "alpha =  383.363684232\n",
      "correcting pixel ( 61 ,  12 )\n",
      "correcting pixel ( 63 ,  12 )\n",
      "alpha =  8.84484408314\n",
      "correcting pixel ( 36 ,  64 )\n",
      "60  /  199\n"
     ]
    },
    {
     "name": "stderr",
     "output_type": "stream",
     "text": [
      "/usr/lib/python3/dist-packages/sklearn/linear_model/coordinate_descent.py:466: ConvergenceWarning: Objective did not converge. You might want to increase the number of iterations\n",
      "  ConvergenceWarning)\n"
     ]
    },
    {
     "name": "stdout",
     "output_type": "stream",
     "text": [
      "alpha =  2.30986554784\n",
      "correcting pixel ( 64 ,  91 )\n",
      "alpha =  83.7506396728\n",
      "correcting pixel ( 69 ,  46 )\n",
      "alpha =  258.114590223\n",
      "correcting pixel ( 85 ,  61 )\n"
     ]
    },
    {
     "name": "stderr",
     "output_type": "stream",
     "text": [
      "/usr/lib/python3/dist-packages/sklearn/linear_model/coordinate_descent.py:466: ConvergenceWarning: Objective did not converge. You might want to increase the number of iterations\n",
      "  ConvergenceWarning)\n"
     ]
    },
    {
     "name": "stdout",
     "output_type": "stream",
     "text": [
      "alpha =  3.56229419985\n",
      "correcting pixel ( 95 ,  59 )\n",
      "correcting pixel ( 97 ,  59 )\n"
     ]
    },
    {
     "name": "stderr",
     "output_type": "stream",
     "text": [
      "/usr/lib/python3/dist-packages/sklearn/linear_model/coordinate_descent.py:466: ConvergenceWarning: Objective did not converge. You might want to increase the number of iterations\n",
      "  ConvergenceWarning)\n"
     ]
    },
    {
     "name": "stdout",
     "output_type": "stream",
     "text": [
      "alpha =  7.52147733019\n",
      "correcting pixel ( 80 ,  1 )\n",
      "correcting pixel ( 79 ,  2 )\n"
     ]
    },
    {
     "name": "stderr",
     "output_type": "stream",
     "text": [
      "/usr/lib/python3/dist-packages/sklearn/linear_model/coordinate_descent.py:466: ConvergenceWarning: Objective did not converge. You might want to increase the number of iterations\n",
      "  ConvergenceWarning)\n"
     ]
    },
    {
     "name": "stdout",
     "output_type": "stream",
     "text": [
      "alpha =  15.4170828487\n",
      "correcting pixel ( 2 ,  90 )\n",
      "alpha =  110.926684814\n",
      "correcting pixel ( 47 ,  99 )\n"
     ]
    },
    {
     "name": "stderr",
     "output_type": "stream",
     "text": [
      "/usr/lib/python3/dist-packages/sklearn/linear_model/coordinate_descent.py:466: ConvergenceWarning: Objective did not converge. You might want to increase the number of iterations\n",
      "  ConvergenceWarning)\n"
     ]
    },
    {
     "name": "stdout",
     "output_type": "stream",
     "text": [
      "alpha =  5.68944477942\n",
      "correcting pixel ( 24 ,  18 )\n",
      "correcting pixel ( 23 ,  19 )\n"
     ]
    },
    {
     "name": "stderr",
     "output_type": "stream",
     "text": [
      "/usr/lib/python3/dist-packages/sklearn/linear_model/coordinate_descent.py:466: ConvergenceWarning: Objective did not converge. You might want to increase the number of iterations\n",
      "  ConvergenceWarning)\n"
     ]
    },
    {
     "name": "stdout",
     "output_type": "stream",
     "text": [
      "alpha =  2.08103626543\n",
      "correcting pixel ( 36 ,  97 )\n",
      "alpha =  66.6811635377\n",
      "correcting pixel ( 55 ,  44 )\n",
      "correcting pixel ( 57 ,  46 )\n",
      "70  /  199\n"
     ]
    },
    {
     "name": "stderr",
     "output_type": "stream",
     "text": [
      "/usr/lib/python3/dist-packages/sklearn/linear_model/coordinate_descent.py:466: ConvergenceWarning: Objective did not converge. You might want to increase the number of iterations\n",
      "  ConvergenceWarning)\n"
     ]
    },
    {
     "name": "stdout",
     "output_type": "stream",
     "text": [
      "alpha =  2.8129212963\n",
      "correcting pixel ( 11 ,  13 )\n",
      "alpha =  12.2068399891\n",
      "correcting pixel ( 34 ,  10 )\n",
      "correcting pixel ( 33 ,  12 )\n",
      "alpha =  49.676477329\n",
      "correcting pixel ( 74 ,  40 )\n",
      "alpha =  157.262629032\n",
      "correcting pixel ( 4 ,  67 )\n"
     ]
    },
    {
     "name": "stderr",
     "output_type": "stream",
     "text": [
      "/usr/lib/python3/dist-packages/sklearn/linear_model/coordinate_descent.py:466: ConvergenceWarning: Objective did not converge. You might want to increase the number of iterations\n",
      "  ConvergenceWarning)\n"
     ]
    },
    {
     "name": "stdout",
     "output_type": "stream",
     "text": [
      "alpha =  2.85270216049\n",
      "correcting pixel ( 22 ,  20 )\n",
      "alpha =  34.5215950613\n",
      "correcting pixel ( 41 ,  27 )\n",
      "correcting pixel ( 42 ,  27 )\n",
      "alpha =  84.8577418082\n",
      "correcting pixel ( 74 ,  11 )\n"
     ]
    },
    {
     "name": "stderr",
     "output_type": "stream",
     "text": [
      "/usr/lib/python3/dist-packages/sklearn/linear_model/coordinate_descent.py:466: ConvergenceWarning: Objective did not converge. You might want to increase the number of iterations\n",
      "  ConvergenceWarning)\n",
      "/usr/lib/python3/dist-packages/sklearn/linear_model/coordinate_descent.py:466: ConvergenceWarning: Objective did not converge. You might want to increase the number of iterations\n",
      "  ConvergenceWarning)\n"
     ]
    },
    {
     "name": "stdout",
     "output_type": "stream",
     "text": [
      "alpha =  2.34194765349\n",
      "correcting pixel ( 80 ,  61 )\n"
     ]
    },
    {
     "name": "stderr",
     "output_type": "stream",
     "text": [
      "/usr/lib/python3/dist-packages/sklearn/linear_model/coordinate_descent.py:466: ConvergenceWarning: Objective did not converge. You might want to increase the number of iterations\n",
      "  ConvergenceWarning)\n"
     ]
    },
    {
     "name": "stdout",
     "output_type": "stream",
     "text": [
      "alpha =  6.3293513353\n",
      "correcting pixel ( 20 ,  81 )\n",
      "80  /  199\n",
      "alpha =  549.24518987\n",
      "correcting pixel ( 39 ,  71 )\n"
     ]
    },
    {
     "name": "stderr",
     "output_type": "stream",
     "text": [
      "/usr/lib/python3/dist-packages/sklearn/linear_model/coordinate_descent.py:466: ConvergenceWarning: Objective did not converge. You might want to increase the number of iterations\n",
      "  ConvergenceWarning)\n"
     ]
    },
    {
     "name": "stdout",
     "output_type": "stream",
     "text": [
      "alpha =  5.71920949918\n",
      "correcting pixel ( 59 ,  93 )\n",
      "alpha =  141.801465807\n",
      "correcting pixel ( 79 ,  37 )\n"
     ]
    },
    {
     "name": "stderr",
     "output_type": "stream",
     "text": [
      "/usr/lib/python3/dist-packages/sklearn/linear_model/coordinate_descent.py:466: ConvergenceWarning: Objective did not converge. You might want to increase the number of iterations\n",
      "  ConvergenceWarning)\n"
     ]
    },
    {
     "name": "stdout",
     "output_type": "stream",
     "text": [
      "alpha =  22.7202973938\n",
      "correcting pixel ( 36 ,  9 )\n",
      "correcting pixel ( 38 ,  11 )\n"
     ]
    },
    {
     "name": "stderr",
     "output_type": "stream",
     "text": [
      "/usr/lib/python3/dist-packages/sklearn/linear_model/coordinate_descent.py:466: ConvergenceWarning: Objective did not converge. You might want to increase the number of iterations\n",
      "  ConvergenceWarning)\n"
     ]
    },
    {
     "name": "stdout",
     "output_type": "stream",
     "text": [
      "alpha =  56.8558278437\n",
      "correcting pixel ( 14 ,  90 )\n",
      "alpha =  21.7614658476\n",
      "correcting pixel ( 58 ,  77 )\n"
     ]
    },
    {
     "name": "stderr",
     "output_type": "stream",
     "text": [
      "/usr/lib/python3/dist-packages/sklearn/linear_model/coordinate_descent.py:466: ConvergenceWarning: Objective did not converge. You might want to increase the number of iterations\n",
      "  ConvergenceWarning)\n"
     ]
    },
    {
     "name": "stdout",
     "output_type": "stream",
     "text": [
      "alpha =  6.305391693\n",
      "correcting pixel ( 68 ,  87 )\n",
      "correcting pixel ( 69 ,  89 )\n"
     ]
    },
    {
     "name": "stderr",
     "output_type": "stream",
     "text": [
      "/usr/lib/python3/dist-packages/sklearn/linear_model/coordinate_descent.py:466: ConvergenceWarning: Objective did not converge. You might want to increase the number of iterations\n",
      "  ConvergenceWarning)\n"
     ]
    },
    {
     "name": "stdout",
     "output_type": "stream",
     "text": [
      "alpha =  2.68852720017\n",
      "correcting pixel ( 36 ,  0 )\n"
     ]
    },
    {
     "name": "stderr",
     "output_type": "stream",
     "text": [
      "/usr/lib/python3/dist-packages/sklearn/linear_model/coordinate_descent.py:466: ConvergenceWarning: Objective did not converge. You might want to increase the number of iterations\n",
      "  ConvergenceWarning)\n"
     ]
    },
    {
     "name": "stdout",
     "output_type": "stream",
     "text": [
      "alpha =  6.1271070127\n",
      "correcting pixel ( 81 ,  0 )\n",
      "alpha =  120.426714537\n",
      "correcting pixel ( 62 ,  97 )\n",
      "90  /  199\n"
     ]
    },
    {
     "name": "stderr",
     "output_type": "stream",
     "text": [
      "/usr/lib/python3/dist-packages/sklearn/linear_model/coordinate_descent.py:466: ConvergenceWarning: Objective did not converge. You might want to increase the number of iterations\n",
      "  ConvergenceWarning)\n"
     ]
    },
    {
     "name": "stdout",
     "output_type": "stream",
     "text": [
      "alpha =  306.344220785\n",
      "correcting pixel ( 32 ,  56 )\n",
      "alpha =  6.51492119356\n",
      "correcting pixel ( 98 ,  14 )\n",
      "alpha =  26.2105604349\n",
      "correcting pixel ( 54 ,  71 )\n"
     ]
    },
    {
     "name": "stderr",
     "output_type": "stream",
     "text": [
      "/usr/lib/python3/dist-packages/sklearn/linear_model/coordinate_descent.py:466: ConvergenceWarning: Objective did not converge. You might want to increase the number of iterations\n",
      "  ConvergenceWarning)\n"
     ]
    },
    {
     "name": "stdout",
     "output_type": "stream",
     "text": [
      "alpha =  29.3740866443\n",
      "correcting pixel ( 5 ,  82 )\n"
     ]
    },
    {
     "name": "stderr",
     "output_type": "stream",
     "text": [
      "/usr/lib/python3/dist-packages/sklearn/linear_model/coordinate_descent.py:466: ConvergenceWarning: Objective did not converge. You might want to increase the number of iterations\n",
      "  ConvergenceWarning)\n"
     ]
    },
    {
     "name": "stdout",
     "output_type": "stream",
     "text": [
      "alpha =  2.58523490289\n",
      "correcting pixel ( 54 ,  86 )\n"
     ]
    },
    {
     "name": "stderr",
     "output_type": "stream",
     "text": [
      "/usr/lib/python3/dist-packages/sklearn/linear_model/coordinate_descent.py:466: ConvergenceWarning: Objective did not converge. You might want to increase the number of iterations\n",
      "  ConvergenceWarning)\n"
     ]
    },
    {
     "name": "stdout",
     "output_type": "stream",
     "text": [
      "alpha =  4.42376261754\n",
      "correcting pixel ( 0 ,  87 )\n"
     ]
    },
    {
     "name": "stderr",
     "output_type": "stream",
     "text": [
      "/usr/lib/python3/dist-packages/sklearn/linear_model/coordinate_descent.py:466: ConvergenceWarning: Objective did not converge. You might want to increase the number of iterations\n",
      "  ConvergenceWarning)\n"
     ]
    },
    {
     "name": "stdout",
     "output_type": "stream",
     "text": [
      "alpha =  13.2641571815\n",
      "correcting pixel ( 39 ,  91 )\n"
     ]
    },
    {
     "name": "stderr",
     "output_type": "stream",
     "text": [
      "/usr/lib/python3/dist-packages/sklearn/linear_model/coordinate_descent.py:466: ConvergenceWarning: Objective did not converge. You might want to increase the number of iterations\n",
      "  ConvergenceWarning)\n"
     ]
    },
    {
     "name": "stdout",
     "output_type": "stream",
     "text": [
      "alpha =  191.4984756\n",
      "correcting pixel ( 13 ,  51 )\n",
      "alpha =  129.371513522\n",
      "correcting pixel ( 96 ,  53 )\n",
      "alpha =  12.9999693979\n",
      "correcting pixel ( 70 ,  20 )\n",
      "100  /  199\n"
     ]
    },
    {
     "name": "stderr",
     "output_type": "stream",
     "text": [
      "/usr/lib/python3/dist-packages/sklearn/linear_model/coordinate_descent.py:466: ConvergenceWarning: Objective did not converge. You might want to increase the number of iterations\n",
      "  ConvergenceWarning)\n"
     ]
    },
    {
     "name": "stdout",
     "output_type": "stream",
     "text": [
      "alpha =  14.4372387044\n",
      "correcting pixel ( 48 ,  0 )\n",
      "alpha =  32.3678703704\n",
      "correcting pixel ( 41 ,  28 )\n"
     ]
    },
    {
     "name": "stderr",
     "output_type": "stream",
     "text": [
      "/usr/lib/python3/dist-packages/sklearn/linear_model/coordinate_descent.py:466: ConvergenceWarning: Objective did not converge. You might want to increase the number of iterations\n",
      "  ConvergenceWarning)\n"
     ]
    },
    {
     "name": "stdout",
     "output_type": "stream",
     "text": [
      "alpha =  2.25265451389\n",
      "correcting pixel ( 48 ,  82 )\n"
     ]
    },
    {
     "name": "stderr",
     "output_type": "stream",
     "text": [
      "/usr/lib/python3/dist-packages/sklearn/linear_model/coordinate_descent.py:466: ConvergenceWarning: Objective did not converge. You might want to increase the number of iterations\n",
      "  ConvergenceWarning)\n"
     ]
    },
    {
     "name": "stdout",
     "output_type": "stream",
     "text": [
      "alpha =  3.14045309583\n",
      "correcting pixel ( 95 ,  61 )\n",
      "alpha =  18.6919664084\n",
      "correcting pixel ( 31 ,  43 )\n"
     ]
    },
    {
     "name": "stderr",
     "output_type": "stream",
     "text": [
      "/usr/lib/python3/dist-packages/sklearn/linear_model/coordinate_descent.py:466: ConvergenceWarning: Objective did not converge. You might want to increase the number of iterations\n",
      "  ConvergenceWarning)\n"
     ]
    },
    {
     "name": "stdout",
     "output_type": "stream",
     "text": [
      "alpha =  36.346905935\n",
      "correcting pixel ( 16 ,  81 )\n",
      "alpha =  15.040029605\n",
      "correcting pixel ( 76 ,  96 )\n"
     ]
    },
    {
     "name": "stderr",
     "output_type": "stream",
     "text": [
      "/usr/lib/python3/dist-packages/sklearn/linear_model/coordinate_descent.py:466: ConvergenceWarning: Objective did not converge. You might want to increase the number of iterations\n",
      "  ConvergenceWarning)\n",
      "/usr/lib/python3/dist-packages/sklearn/linear_model/coordinate_descent.py:466: ConvergenceWarning: Objective did not converge. You might want to increase the number of iterations\n",
      "  ConvergenceWarning)\n"
     ]
    },
    {
     "name": "stdout",
     "output_type": "stream",
     "text": [
      "alpha =  3.5996287107\n",
      "correcting pixel ( 43 ,  50 )\n"
     ]
    },
    {
     "name": "stderr",
     "output_type": "stream",
     "text": [
      "/usr/lib/python3/dist-packages/sklearn/linear_model/coordinate_descent.py:466: ConvergenceWarning: Objective did not converge. You might want to increase the number of iterations\n",
      "  ConvergenceWarning)\n"
     ]
    },
    {
     "name": "stdout",
     "output_type": "stream",
     "text": [
      "alpha =  26.3591099201\n",
      "correcting pixel ( 84 ,  87 )\n",
      "alpha =  46.9668907839\n",
      "correcting pixel ( 87 ,  90 )\n",
      "110  /  199\n",
      "alpha =  8.26840965171\n",
      "correcting pixel ( 14 ,  95 )\n"
     ]
    },
    {
     "name": "stderr",
     "output_type": "stream",
     "text": [
      "/usr/lib/python3/dist-packages/sklearn/linear_model/coordinate_descent.py:466: ConvergenceWarning: Objective did not converge. You might want to increase the number of iterations\n",
      "  ConvergenceWarning)\n"
     ]
    },
    {
     "name": "stdout",
     "output_type": "stream",
     "text": [
      "alpha =  5.10123643331\n",
      "correcting pixel ( 2 ,  10 )\n"
     ]
    },
    {
     "name": "stderr",
     "output_type": "stream",
     "text": [
      "/usr/lib/python3/dist-packages/sklearn/linear_model/coordinate_descent.py:466: ConvergenceWarning: Objective did not converge. You might want to increase the number of iterations\n",
      "  ConvergenceWarning)\n"
     ]
    },
    {
     "name": "stdout",
     "output_type": "stream",
     "text": [
      "alpha =  2.63280632716\n",
      "correcting pixel ( 16 ,  34 )\n",
      "alpha =  124.877291654\n",
      "correcting pixel ( 11 ,  34 )\n",
      "alpha =  584.734659213\n",
      "correcting pixel ( 68 ,  90 )\n",
      "correcting pixel ( 66 ,  92 )\n",
      "alpha =  42.0088203834\n",
      "correcting pixel ( 71 ,  32 )\n",
      "alpha =  122.861889428\n",
      "correcting pixel ( 6 ,  88 )\n",
      "alpha =  341.60441808\n",
      "correcting pixel ( 68 ,  56 )\n",
      "alpha =  119.636970094\n",
      "correcting pixel ( 26 ,  89 )\n",
      "alpha =  38.7597876813\n",
      "correcting pixel ( 35 ,  23 )\n",
      "120  /  199\n"
     ]
    },
    {
     "name": "stderr",
     "output_type": "stream",
     "text": [
      "/usr/lib/python3/dist-packages/sklearn/linear_model/coordinate_descent.py:466: ConvergenceWarning: Objective did not converge. You might want to increase the number of iterations\n",
      "  ConvergenceWarning)\n"
     ]
    },
    {
     "name": "stdout",
     "output_type": "stream",
     "text": [
      "alpha =  4.19504840106\n",
      "correcting pixel ( 45 ,  92 )\n"
     ]
    },
    {
     "name": "stderr",
     "output_type": "stream",
     "text": [
      "/usr/lib/python3/dist-packages/sklearn/linear_model/coordinate_descent.py:466: ConvergenceWarning: Objective did not converge. You might want to increase the number of iterations\n",
      "  ConvergenceWarning)\n"
     ]
    },
    {
     "name": "stdout",
     "output_type": "stream",
     "text": [
      "alpha =  931.748281609\n",
      "correcting pixel ( 46 ,  27 )\n"
     ]
    },
    {
     "name": "stderr",
     "output_type": "stream",
     "text": [
      "/usr/lib/python3/dist-packages/sklearn/linear_model/coordinate_descent.py:466: ConvergenceWarning: Objective did not converge. You might want to increase the number of iterations\n",
      "  ConvergenceWarning)\n"
     ]
    },
    {
     "name": "stdout",
     "output_type": "stream",
     "text": [
      "alpha =  10.4809365305\n",
      "correcting pixel ( 85 ,  99 )\n",
      "alpha =  28.460712511\n",
      "correcting pixel ( 27 ,  75 )\n",
      "alpha =  65.68694739\n",
      "correcting pixel ( 44 ,  14 )\n"
     ]
    },
    {
     "name": "stderr",
     "output_type": "stream",
     "text": [
      "/usr/lib/python3/dist-packages/sklearn/linear_model/coordinate_descent.py:466: ConvergenceWarning: Objective did not converge. You might want to increase the number of iterations\n",
      "  ConvergenceWarning)\n"
     ]
    },
    {
     "name": "stdout",
     "output_type": "stream",
     "text": [
      "alpha =  89.055569161\n",
      "correcting pixel ( 99 ,  57 )\n"
     ]
    },
    {
     "name": "stderr",
     "output_type": "stream",
     "text": [
      "/usr/lib/python3/dist-packages/sklearn/linear_model/coordinate_descent.py:466: ConvergenceWarning: Objective did not converge. You might want to increase the number of iterations\n",
      "  ConvergenceWarning)\n"
     ]
    },
    {
     "name": "stdout",
     "output_type": "stream",
     "text": [
      "alpha =  3.68639405508\n",
      "correcting pixel ( 1 ,  58 )\n"
     ]
    },
    {
     "name": "stderr",
     "output_type": "stream",
     "text": [
      "/usr/lib/python3/dist-packages/sklearn/linear_model/coordinate_descent.py:466: ConvergenceWarning: Objective did not converge. You might want to increase the number of iterations\n",
      "  ConvergenceWarning)\n"
     ]
    },
    {
     "name": "stdout",
     "output_type": "stream",
     "text": [
      "alpha =  25.1488491065\n",
      "correcting pixel ( 78 ,  18 )\n",
      "correcting pixel ( 80 ,  20 )\n"
     ]
    },
    {
     "name": "stderr",
     "output_type": "stream",
     "text": [
      "/usr/lib/python3/dist-packages/sklearn/linear_model/coordinate_descent.py:466: ConvergenceWarning: Objective did not converge. You might want to increase the number of iterations\n",
      "  ConvergenceWarning)\n"
     ]
    },
    {
     "name": "stdout",
     "output_type": "stream",
     "text": [
      "alpha =  27.6451834455\n",
      "correcting pixel ( 31 ,  24 )\n"
     ]
    },
    {
     "name": "stderr",
     "output_type": "stream",
     "text": [
      "/usr/lib/python3/dist-packages/sklearn/linear_model/coordinate_descent.py:466: ConvergenceWarning: Objective did not converge. You might want to increase the number of iterations\n",
      "  ConvergenceWarning)\n"
     ]
    },
    {
     "name": "stdout",
     "output_type": "stream",
     "text": [
      "alpha =  2.97958179012\n",
      "correcting pixel ( 4 ,  47 )\n",
      "130  /  199\n",
      "alpha =  15.0732857134\n",
      "correcting pixel ( 24 ,  39 )\n"
     ]
    },
    {
     "name": "stderr",
     "output_type": "stream",
     "text": [
      "/usr/lib/python3/dist-packages/sklearn/linear_model/coordinate_descent.py:466: ConvergenceWarning: Objective did not converge. You might want to increase the number of iterations\n",
      "  ConvergenceWarning)\n",
      "/usr/lib/python3/dist-packages/sklearn/linear_model/coordinate_descent.py:466: ConvergenceWarning: Objective did not converge. You might want to increase the number of iterations\n",
      "  ConvergenceWarning)\n"
     ]
    },
    {
     "name": "stdout",
     "output_type": "stream",
     "text": [
      "alpha =  2.98839188625\n",
      "correcting pixel ( 46 ,  49 )\n"
     ]
    },
    {
     "name": "stderr",
     "output_type": "stream",
     "text": [
      "/usr/lib/python3/dist-packages/sklearn/linear_model/coordinate_descent.py:466: ConvergenceWarning: Objective did not converge. You might want to increase the number of iterations\n",
      "  ConvergenceWarning)\n"
     ]
    },
    {
     "name": "stdout",
     "output_type": "stream",
     "text": [
      "alpha =  3.6699231439\n",
      "correcting pixel ( 1 ,  37 )\n"
     ]
    },
    {
     "name": "stderr",
     "output_type": "stream",
     "text": [
      "/usr/lib/python3/dist-packages/sklearn/linear_model/coordinate_descent.py:466: ConvergenceWarning: Objective did not converge. You might want to increase the number of iterations\n",
      "  ConvergenceWarning)\n"
     ]
    },
    {
     "name": "stdout",
     "output_type": "stream",
     "text": [
      "alpha =  49.9335460841\n",
      "correcting pixel ( 62 ,  39 )\n",
      "alpha =  127.728907196\n",
      "correcting pixel ( 60 ,  26 )\n",
      "alpha =  44.1082611124\n",
      "correcting pixel ( 64 ,  2 )\n",
      "alpha =  86.839363718\n",
      "correcting pixel ( 87 ,  78 )\n"
     ]
    },
    {
     "name": "stderr",
     "output_type": "stream",
     "text": [
      "/usr/lib/python3/dist-packages/sklearn/linear_model/coordinate_descent.py:466: ConvergenceWarning: Objective did not converge. You might want to increase the number of iterations\n",
      "  ConvergenceWarning)\n"
     ]
    },
    {
     "name": "stdout",
     "output_type": "stream",
     "text": [
      "alpha =  302.554897988\n",
      "correcting pixel ( 84 ,  30 )\n",
      "correcting pixel ( 86 ,  31 )\n"
     ]
    },
    {
     "name": "stderr",
     "output_type": "stream",
     "text": [
      "/usr/lib/python3/dist-packages/sklearn/linear_model/coordinate_descent.py:466: ConvergenceWarning: Objective did not converge. You might want to increase the number of iterations\n",
      "  ConvergenceWarning)\n"
     ]
    },
    {
     "name": "stdout",
     "output_type": "stream",
     "text": [
      "alpha =  2.89780907372\n",
      "correcting pixel ( 2 ,  18 )\n",
      "correcting pixel ( 4 ,  20 )\n"
     ]
    },
    {
     "name": "stderr",
     "output_type": "stream",
     "text": [
      "/usr/lib/python3/dist-packages/sklearn/linear_model/coordinate_descent.py:466: ConvergenceWarning: Objective did not converge. You might want to increase the number of iterations\n",
      "  ConvergenceWarning)\n"
     ]
    },
    {
     "name": "stdout",
     "output_type": "stream",
     "text": [
      "alpha =  6.7829097602\n",
      "correcting pixel ( 52 ,  17 )\n",
      "140  /  199\n"
     ]
    },
    {
     "name": "stderr",
     "output_type": "stream",
     "text": [
      "/usr/lib/python3/dist-packages/sklearn/linear_model/coordinate_descent.py:466: ConvergenceWarning: Objective did not converge. You might want to increase the number of iterations\n",
      "  ConvergenceWarning)\n"
     ]
    },
    {
     "name": "stdout",
     "output_type": "stream",
     "text": [
      "alpha =  4.01553811019\n",
      "correcting pixel ( 54 ,  80 )\n"
     ]
    },
    {
     "name": "stderr",
     "output_type": "stream",
     "text": [
      "/usr/lib/python3/dist-packages/sklearn/linear_model/coordinate_descent.py:466: ConvergenceWarning: Objective did not converge. You might want to increase the number of iterations\n",
      "  ConvergenceWarning)\n"
     ]
    },
    {
     "name": "stdout",
     "output_type": "stream",
     "text": [
      "alpha =  3.47091741451\n",
      "correcting pixel ( 86 ,  53 )\n"
     ]
    },
    {
     "name": "stderr",
     "output_type": "stream",
     "text": [
      "/usr/lib/python3/dist-packages/sklearn/linear_model/coordinate_descent.py:466: ConvergenceWarning: Objective did not converge. You might want to increase the number of iterations\n",
      "  ConvergenceWarning)\n"
     ]
    },
    {
     "name": "stdout",
     "output_type": "stream",
     "text": [
      "alpha =  3.11044290123\n",
      "correcting pixel ( 5 ,  40 )\n",
      "alpha =  25.0802377346\n",
      "correcting pixel ( 75 ,  68 )\n"
     ]
    },
    {
     "name": "stderr",
     "output_type": "stream",
     "text": [
      "/usr/lib/python3/dist-packages/sklearn/linear_model/coordinate_descent.py:466: ConvergenceWarning: Objective did not converge. You might want to increase the number of iterations\n",
      "  ConvergenceWarning)\n"
     ]
    },
    {
     "name": "stdout",
     "output_type": "stream",
     "text": [
      "alpha =  18.2205364052\n",
      "correcting pixel ( 63 ,  76 )\n",
      "alpha =  72.2598789662\n",
      "correcting pixel ( 63 ,  65 )\n"
     ]
    },
    {
     "name": "stderr",
     "output_type": "stream",
     "text": [
      "/usr/lib/python3/dist-packages/sklearn/linear_model/coordinate_descent.py:466: ConvergenceWarning: Objective did not converge. You might want to increase the number of iterations\n",
      "  ConvergenceWarning)\n"
     ]
    },
    {
     "name": "stdout",
     "output_type": "stream",
     "text": [
      "alpha =  6.42804754764\n",
      "correcting pixel ( 61 ,  14 )\n"
     ]
    },
    {
     "name": "stderr",
     "output_type": "stream",
     "text": [
      "/usr/lib/python3/dist-packages/sklearn/linear_model/coordinate_descent.py:466: ConvergenceWarning: Objective did not converge. You might want to increase the number of iterations\n",
      "  ConvergenceWarning)\n"
     ]
    },
    {
     "name": "stdout",
     "output_type": "stream",
     "text": [
      "alpha =  21.9937512458\n",
      "correcting pixel ( 57 ,  18 )\n",
      "150  /  199\n"
>>>>>>> Stashed changes
     ]
    },
    {
     "name": "stderr",
     "output_type": "stream",
     "text": [
<<<<<<< Updated upstream
      "/users/Etu7/3262287/.local/lib/python3.4/site-packages/sklearn/linear_model/coordinate_descent.py:491: ConvergenceWarning: Objective did not converge. You might want to increase the number of iterations. Fitting data with very small alpha may cause precision problems.\n",
=======
      "/usr/lib/python3/dist-packages/sklearn/linear_model/coordinate_descent.py:466: ConvergenceWarning: Objective did not converge. You might want to increase the number of iterations\n",
>>>>>>> Stashed changes
      "  ConvergenceWarning)\n"
     ]
    },
    {
     "name": "stdout",
     "output_type": "stream",
     "text": [
<<<<<<< Updated upstream
      "alpha =  16.7939562769\n",
      "new pixel (lasso):  [ 225.11000729  114.11323148  100.35530562]\n"
=======
      "alpha =  4.62407217419\n",
      "correcting pixel ( 75 ,  88 )\n"
>>>>>>> Stashed changes
     ]
    },
    {
     "name": "stderr",
     "output_type": "stream",
     "text": [
<<<<<<< Updated upstream
      "/users/Etu7/3262287/.local/lib/python3.4/site-packages/sklearn/linear_model/coordinate_descent.py:491: ConvergenceWarning: Objective did not converge. You might want to increase the number of iterations. Fitting data with very small alpha may cause precision problems.\n",
=======
      "/usr/lib/python3/dist-packages/sklearn/linear_model/coordinate_descent.py:466: ConvergenceWarning: Objective did not converge. You might want to increase the number of iterations\n",
      "  ConvergenceWarning)\n",
      "/usr/lib/python3/dist-packages/sklearn/linear_model/coordinate_descent.py:466: ConvergenceWarning: Objective did not converge. You might want to increase the number of iterations\n",
>>>>>>> Stashed changes
      "  ConvergenceWarning)\n"
     ]
    },
    {
     "name": "stdout",
     "output_type": "stream",
     "text": [
<<<<<<< Updated upstream
      "alpha =  37.1772830581\n",
      "new pixel (lasso):  [ 117.94499665   39.50597442   89.06495965]\n",
      "alpha =  55.1574213136\n",
      "new pixel (lasso):  [ 216.28061804   92.16536528  101.53574344]\n"
=======
      "alpha =  8.72876733744\n",
      "correcting pixel ( 96 ,  40 )\n",
      "alpha =  61.2402428704\n",
      "correcting pixel ( 50 ,  86 )\n",
      "alpha =  49.456606764\n",
      "correcting pixel ( 85 ,  40 )\n",
      "alpha =  71.7785104933\n",
      "correcting pixel ( 60 ,  56 )\n",
      "alpha =  54.1184518613\n",
      "correcting pixel ( 91 ,  62 )\n",
      "alpha =  19.6472262642\n",
      "correcting pixel ( 70 ,  88 )\n",
      "alpha =  51.1413512061\n",
      "correcting pixel ( 27 ,  27 )\n"
>>>>>>> Stashed changes
     ]
    },
    {
     "name": "stderr",
     "output_type": "stream",
     "text": [
<<<<<<< Updated upstream
      "/users/Etu7/3262287/.local/lib/python3.4/site-packages/sklearn/linear_model/coordinate_descent.py:491: ConvergenceWarning: Objective did not converge. You might want to increase the number of iterations. Fitting data with very small alpha may cause precision problems.\n",
=======
      "/usr/lib/python3/dist-packages/sklearn/linear_model/coordinate_descent.py:466: ConvergenceWarning: Objective did not converge. You might want to increase the number of iterations\n",
>>>>>>> Stashed changes
      "  ConvergenceWarning)\n"
     ]
    },
    {
     "name": "stdout",
     "output_type": "stream",
     "text": [
<<<<<<< Updated upstream
      "alpha =  4.04527314815\n",
      "new pixel (lasso):  [ 255.55879646  186.25613152  164.37519025]\n",
      "alpha =  17.5783685949\n",
      "new pixel (lasso):  [ 183.873896     73.53203351   84.72556906]\n"
=======
      "alpha =  12.7959851883\n",
      "correcting pixel ( 14 ,  15 )\n",
      "160  /  199\n",
      "alpha =  18.2931015962\n",
      "correcting pixel ( 50 ,  71 )\n"
>>>>>>> Stashed changes
     ]
    },
    {
     "name": "stderr",
     "output_type": "stream",
     "text": [
<<<<<<< Updated upstream
      "/users/Etu7/3262287/.local/lib/python3.4/site-packages/sklearn/linear_model/coordinate_descent.py:491: ConvergenceWarning: Objective did not converge. You might want to increase the number of iterations. Fitting data with very small alpha may cause precision problems.\n",
=======
      "/usr/lib/python3/dist-packages/sklearn/linear_model/coordinate_descent.py:466: ConvergenceWarning: Objective did not converge. You might want to increase the number of iterations\n",
>>>>>>> Stashed changes
      "  ConvergenceWarning)\n"
     ]
    },
    {
     "name": "stdout",
     "output_type": "stream",
     "text": [
<<<<<<< Updated upstream
      "alpha =  4.39990179259\n",
      "new pixel (lasso):  [ 205.4588431    92.3751828    90.50125678]\n",
      "50  /  82\n",
      "alpha =  25.3084343032\n",
      "new pixel (lasso):  [ 244.22603699  139.06944877  133.42002682]\n"
=======
      "alpha =  2.97921219136\n",
      "correcting pixel ( 1 ,  24 )\n"
>>>>>>> Stashed changes
     ]
    },
    {
     "name": "stderr",
     "output_type": "stream",
     "text": [
<<<<<<< Updated upstream
      "/users/Etu7/3262287/.local/lib/python3.4/site-packages/sklearn/linear_model/coordinate_descent.py:491: ConvergenceWarning: Objective did not converge. You might want to increase the number of iterations. Fitting data with very small alpha may cause precision problems.\n",
=======
      "/usr/lib/python3/dist-packages/sklearn/linear_model/coordinate_descent.py:466: ConvergenceWarning: Objective did not converge. You might want to increase the number of iterations\n",
>>>>>>> Stashed changes
      "  ConvergenceWarning)\n"
     ]
    },
    {
     "name": "stdout",
     "output_type": "stream",
     "text": [
<<<<<<< Updated upstream
      "alpha =  7.36535336909\n",
      "new pixel (lasso):  [ 219.90733291  113.57132783  107.16353346]\n",
      "alpha =  38.6148196449\n",
      "new pixel (lasso):  [ 220.80012457  174.8894378   166.93360078]\n",
      "alpha =  30.1072771633\n",
      "new pixel (lasso):  [ 223.89988436  125.92496855  131.37046275]\n",
      "alpha =  42.3721446727\n",
      "new pixel (lasso):  [ 91.46520359  29.83002056  71.03254784]\n",
      "alpha =  6.16496224314\n",
      "new pixel (lasso):  [ 109.92890293   30.13145005   67.03825602]\n",
      "alpha =  142.862092775\n",
      "new pixel (lasso):  [ 225.80142192  197.03267769  188.77675428]\n"
=======
      "alpha =  4.64767582014\n",
      "correcting pixel ( 45 ,  22 )\n",
      "alpha =  43.8001207977\n",
      "correcting pixel ( 82 ,  96 )\n"
>>>>>>> Stashed changes
     ]
    },
    {
     "name": "stderr",
     "output_type": "stream",
     "text": [
<<<<<<< Updated upstream
      "/users/Etu7/3262287/.local/lib/python3.4/site-packages/sklearn/linear_model/coordinate_descent.py:491: ConvergenceWarning: Objective did not converge. You might want to increase the number of iterations. Fitting data with very small alpha may cause precision problems.\n",
=======
      "/usr/lib/python3/dist-packages/sklearn/linear_model/coordinate_descent.py:466: ConvergenceWarning: Objective did not converge. You might want to increase the number of iterations\n",
>>>>>>> Stashed changes
      "  ConvergenceWarning)\n"
     ]
    },
    {
     "name": "stdout",
     "output_type": "stream",
     "text": [
<<<<<<< Updated upstream
      "alpha =  19.1713297536\n",
      "new pixel (lasso):  [ 209.77584532   96.48547187   94.1881254 ]\n"
=======
      "alpha =  7.82107568456\n",
      "correcting pixel ( 19 ,  19 )\n"
>>>>>>> Stashed changes
     ]
    },
    {
     "name": "stderr",
     "output_type": "stream",
     "text": [
<<<<<<< Updated upstream
      "/users/Etu7/3262287/.local/lib/python3.4/site-packages/sklearn/linear_model/coordinate_descent.py:491: ConvergenceWarning: Objective did not converge. You might want to increase the number of iterations. Fitting data with very small alpha may cause precision problems.\n",
=======
      "/usr/lib/python3/dist-packages/sklearn/linear_model/coordinate_descent.py:466: ConvergenceWarning: Objective did not converge. You might want to increase the number of iterations\n",
>>>>>>> Stashed changes
      "  ConvergenceWarning)\n"
     ]
    },
    {
     "name": "stdout",
     "output_type": "stream",
     "text": [
<<<<<<< Updated upstream
      "alpha =  23.1016578496\n",
      "new pixel (lasso):  [ 238.56734019  158.34319367  123.45892011]\n"
=======
      "alpha =  365.603528319\n",
      "correcting pixel ( 65 ,  60 )\n",
      "alpha =  303.545940227\n",
      "correcting pixel ( 51 ,  67 )\n"
>>>>>>> Stashed changes
     ]
    },
    {
     "name": "stderr",
     "output_type": "stream",
     "text": [
<<<<<<< Updated upstream
      "/users/Etu7/3262287/.local/lib/python3.4/site-packages/sklearn/linear_model/coordinate_descent.py:491: ConvergenceWarning: Objective did not converge. You might want to increase the number of iterations. Fitting data with very small alpha may cause precision problems.\n",
=======
      "/usr/lib/python3/dist-packages/sklearn/linear_model/coordinate_descent.py:466: ConvergenceWarning: Objective did not converge. You might want to increase the number of iterations\n",
>>>>>>> Stashed changes
      "  ConvergenceWarning)\n"
     ]
    },
    {
     "name": "stdout",
     "output_type": "stream",
     "text": [
<<<<<<< Updated upstream
      "alpha =  4.44239124954\n",
      "new pixel (lasso):  [ 103.6615661    18.16716784   64.11382551]\n",
      "60  /  82\n",
      "alpha =  8.11415335944\n",
      "new pixel (lasso):  [ 198.62573792  136.37013281  126.82674439]\n",
      "alpha =  11.83635805\n",
      "new pixel (lasso):  [ 188.35590892   72.62629836   81.17209878]\n",
      "alpha =  29.8359058976\n",
      "new pixel (lasso):  [ 207.86403375  139.51761656  129.32426643]\n",
      "alpha =  4.02106564446\n",
      "new pixel (lasso):  [ 182.0261      111.08207024  107.15387137]\n"
=======
      "alpha =  8.85099460527\n",
      "correcting pixel ( 11 ,  84 )\n",
      "170  /  199\n",
      "alpha =  94.0068994174\n",
      "correcting pixel ( 41 ,  3 )\n"
>>>>>>> Stashed changes
     ]
    },
    {
     "name": "stderr",
     "output_type": "stream",
     "text": [
<<<<<<< Updated upstream
      "/users/Etu7/3262287/.local/lib/python3.4/site-packages/sklearn/linear_model/coordinate_descent.py:491: ConvergenceWarning: Objective did not converge. You might want to increase the number of iterations. Fitting data with very small alpha may cause precision problems.\n",
=======
      "/usr/lib/python3/dist-packages/sklearn/linear_model/coordinate_descent.py:466: ConvergenceWarning: Objective did not converge. You might want to increase the number of iterations\n",
>>>>>>> Stashed changes
      "  ConvergenceWarning)\n"
     ]
    },
    {
     "name": "stdout",
     "output_type": "stream",
     "text": [
<<<<<<< Updated upstream
      "alpha =  2.54336408889\n",
      "new pixel (lasso):  [ 213.84877419  131.74143911  141.34464264]\n",
      "alpha =  6.53100687803\n",
      "new pixel (lasso):  [ 224.78341928  191.06810585  180.35355309]\n"
=======
      "alpha =  5.22079039298\n",
      "correcting pixel ( 53 ,  98 )\n",
      "correcting pixel ( 54 ,  98 )\n",
      "alpha =  16.5705843698\n",
      "correcting pixel ( 26 ,  79 )\n"
>>>>>>> Stashed changes
     ]
    },
    {
     "name": "stderr",
     "output_type": "stream",
     "text": [
<<<<<<< Updated upstream
      "/users/Etu7/3262287/.local/lib/python3.4/site-packages/sklearn/linear_model/coordinate_descent.py:491: ConvergenceWarning: Objective did not converge. You might want to increase the number of iterations. Fitting data with very small alpha may cause precision problems.\n",
=======
      "/usr/lib/python3/dist-packages/sklearn/linear_model/coordinate_descent.py:466: ConvergenceWarning: Objective did not converge. You might want to increase the number of iterations\n",
>>>>>>> Stashed changes
      "  ConvergenceWarning)\n"
     ]
    },
    {
     "name": "stdout",
     "output_type": "stream",
     "text": [
<<<<<<< Updated upstream
      "alpha =  3.79888871559\n",
      "new pixel (lasso):  [ 188.10467672   83.37983628   91.65221893]\n"
=======
      "alpha =  14.9857982982\n",
      "correcting pixel ( 56 ,  53 )\n",
      "alpha =  47.2751319307\n",
      "correcting pixel ( 73 ,  92 )\n"
>>>>>>> Stashed changes
     ]
    },
    {
     "name": "stderr",
     "output_type": "stream",
     "text": [
<<<<<<< Updated upstream
      "/users/Etu7/3262287/.local/lib/python3.4/site-packages/sklearn/linear_model/coordinate_descent.py:491: ConvergenceWarning: Objective did not converge. You might want to increase the number of iterations. Fitting data with very small alpha may cause precision problems.\n",
=======
      "/usr/lib/python3/dist-packages/sklearn/linear_model/coordinate_descent.py:466: ConvergenceWarning: Objective did not converge. You might want to increase the number of iterations\n",
>>>>>>> Stashed changes
      "  ConvergenceWarning)\n"
     ]
    },
    {
     "name": "stdout",
     "output_type": "stream",
     "text": [
<<<<<<< Updated upstream
      "alpha =  125.27489829\n",
      "new pixel (lasso):  [ 232.47518427  145.15973263  135.94784141]\n"
=======
      "alpha =  23.9142562662\n",
      "correcting pixel ( 31 ,  93 )\n"
>>>>>>> Stashed changes
     ]
    },
    {
     "name": "stderr",
     "output_type": "stream",
     "text": [
<<<<<<< Updated upstream
      "/users/Etu7/3262287/.local/lib/python3.4/site-packages/sklearn/linear_model/coordinate_descent.py:491: ConvergenceWarning: Objective did not converge. You might want to increase the number of iterations. Fitting data with very small alpha may cause precision problems.\n",
=======
      "/usr/lib/python3/dist-packages/sklearn/linear_model/coordinate_descent.py:466: ConvergenceWarning: Objective did not converge. You might want to increase the number of iterations\n",
>>>>>>> Stashed changes
      "  ConvergenceWarning)\n"
     ]
    },
    {
     "name": "stdout",
     "output_type": "stream",
     "text": [
<<<<<<< Updated upstream
      "alpha =  2.79211419753\n",
      "new pixel (lasso):  [ 218.76872467  111.61523821  112.07205632]\n"
=======
      "alpha =  3.73931342974\n",
      "correcting pixel ( 83 ,  17 )\n"
>>>>>>> Stashed changes
     ]
    },
    {
     "name": "stderr",
     "output_type": "stream",
     "text": [
<<<<<<< Updated upstream
      "/users/Etu7/3262287/.local/lib/python3.4/site-packages/sklearn/linear_model/coordinate_descent.py:491: ConvergenceWarning: Objective did not converge. You might want to increase the number of iterations. Fitting data with very small alpha may cause precision problems.\n",
=======
      "/usr/lib/python3/dist-packages/sklearn/linear_model/coordinate_descent.py:466: ConvergenceWarning: Objective did not converge. You might want to increase the number of iterations\n",
>>>>>>> Stashed changes
      "  ConvergenceWarning)\n"
     ]
    },
    {
     "name": "stdout",
     "output_type": "stream",
     "text": [
<<<<<<< Updated upstream
      "alpha =  271.847667455\n",
      "new pixel (lasso):  [ 227.7582436   172.21390433  164.83288688]\n",
      "70  /  82\n"
=======
      "alpha =  3.4634212963\n",
      "correcting pixel ( 84 ,  91 )\n"
>>>>>>> Stashed changes
     ]
    },
    {
     "name": "stderr",
     "output_type": "stream",
     "text": [
<<<<<<< Updated upstream
      "/users/Etu7/3262287/.local/lib/python3.4/site-packages/sklearn/linear_model/coordinate_descent.py:491: ConvergenceWarning: Objective did not converge. You might want to increase the number of iterations. Fitting data with very small alpha may cause precision problems.\n",
=======
      "/usr/lib/python3/dist-packages/sklearn/linear_model/coordinate_descent.py:466: ConvergenceWarning: Objective did not converge. You might want to increase the number of iterations\n",
>>>>>>> Stashed changes
      "  ConvergenceWarning)\n"
     ]
    },
    {
     "name": "stdout",
     "output_type": "stream",
     "text": [
<<<<<<< Updated upstream
      "alpha =  1.67340509259\n",
      "new pixel (lasso):  [ 180.14644173  119.81284234  120.67860262]\n"
=======
      "alpha =  3.28701736111\n",
      "correcting pixel ( 19 ,  66 )\n",
      "alpha =  49.9265348497\n",
      "correcting pixel ( 26 ,  84 )\n",
      "180  /  199\n"
>>>>>>> Stashed changes
     ]
    },
    {
     "name": "stderr",
     "output_type": "stream",
     "text": [
<<<<<<< Updated upstream
      "/users/Etu7/3262287/.local/lib/python3.4/site-packages/sklearn/linear_model/coordinate_descent.py:491: ConvergenceWarning: Objective did not converge. You might want to increase the number of iterations. Fitting data with very small alpha may cause precision problems.\n",
      "  ConvergenceWarning)\n",
      "/users/Etu7/3262287/.local/lib/python3.4/site-packages/sklearn/linear_model/coordinate_descent.py:491: ConvergenceWarning: Objective did not converge. You might want to increase the number of iterations. Fitting data with very small alpha may cause precision problems.\n",
=======
      "/usr/lib/python3/dist-packages/sklearn/linear_model/coordinate_descent.py:466: ConvergenceWarning: Objective did not converge. You might want to increase the number of iterations\n",
      "  ConvergenceWarning)\n",
      "/usr/lib/python3/dist-packages/sklearn/linear_model/coordinate_descent.py:466: ConvergenceWarning: Objective did not converge. You might want to increase the number of iterations\n",
      "  ConvergenceWarning)\n"
     ]
    },
    {
     "name": "stdout",
     "output_type": "stream",
     "text": [
      "alpha =  4.74388552946\n",
      "correcting pixel ( 87 ,  27 )\n",
      "correcting pixel ( 85 ,  29 )\n",
      "alpha =  13.0253028165\n",
      "correcting pixel ( 23 ,  9 )\n"
     ]
    },
    {
     "name": "stderr",
     "output_type": "stream",
     "text": [
      "/usr/lib/python3/dist-packages/sklearn/linear_model/coordinate_descent.py:466: ConvergenceWarning: Objective did not converge. You might want to increase the number of iterations\n",
      "  ConvergenceWarning)\n"
     ]
    },
    {
     "name": "stdout",
     "output_type": "stream",
     "text": [
      "alpha =  17.6255513548\n",
      "correcting pixel ( 92 ,  99 )\n",
      "alpha =  55.2712955349\n",
      "correcting pixel ( 60 ,  0 )\n",
      "alpha =  10.7631656836\n",
      "correcting pixel ( 12 ,  47 )\n"
     ]
    },
    {
     "name": "stderr",
     "output_type": "stream",
     "text": [
      "/usr/lib/python3/dist-packages/sklearn/linear_model/coordinate_descent.py:466: ConvergenceWarning: Objective did not converge. You might want to increase the number of iterations\n",
      "  ConvergenceWarning)\n"
     ]
    },
    {
     "name": "stdout",
     "output_type": "stream",
     "text": [
      "alpha =  3.75087637504\n",
      "correcting pixel ( 20 ,  11 )\n"
     ]
    },
    {
     "name": "stderr",
     "output_type": "stream",
     "text": [
      "/usr/lib/python3/dist-packages/sklearn/linear_model/coordinate_descent.py:466: ConvergenceWarning: Objective did not converge. You might want to increase the number of iterations\n",
>>>>>>> Stashed changes
      "  ConvergenceWarning)\n"
     ]
    },
    {
     "name": "stdout",
     "output_type": "stream",
     "text": [
<<<<<<< Updated upstream
      "alpha =  2.886032\n",
      "new pixel (lasso):  [ 223.48495614  132.11275347  138.65142746]\n",
      "alpha =  26.0883377122\n",
      "new pixel (lasso):  [ 193.82596633  122.12979994  120.68215685]\n"
=======
      "alpha =  1.38212865793\n",
      "correcting pixel ( 99 ,  18 )\n"
>>>>>>> Stashed changes
     ]
    },
    {
     "name": "stderr",
     "output_type": "stream",
     "text": [
<<<<<<< Updated upstream
      "/users/Etu7/3262287/.local/lib/python3.4/site-packages/sklearn/linear_model/coordinate_descent.py:491: ConvergenceWarning: Objective did not converge. You might want to increase the number of iterations. Fitting data with very small alpha may cause precision problems.\n",
=======
      "/usr/lib/python3/dist-packages/sklearn/linear_model/coordinate_descent.py:466: ConvergenceWarning: Objective did not converge. You might want to increase the number of iterations\n",
      "  ConvergenceWarning)\n",
      "/usr/lib/python3/dist-packages/sklearn/linear_model/coordinate_descent.py:466: ConvergenceWarning: Objective did not converge. You might want to increase the number of iterations\n",
>>>>>>> Stashed changes
      "  ConvergenceWarning)\n"
     ]
    },
    {
     "name": "stdout",
     "output_type": "stream",
     "text": [
<<<<<<< Updated upstream
      "alpha =  2.89081493333\n",
      "new pixel (lasso):  [ 223.98071987  117.23538606  111.4667938 ]\n",
      "alpha =  52.7849851639\n",
      "new pixel (lasso):  [ 104.27102559   29.31317813   67.84067645]\n",
      "alpha =  201.437820283\n",
      "new pixel (lasso):  [ 86.31571953  27.09946141  53.00235063]\n"
=======
      "alpha =  3.37253168025\n",
      "correcting pixel ( 54 ,  97 )\n"
>>>>>>> Stashed changes
     ]
    },
    {
     "name": "stderr",
     "output_type": "stream",
     "text": [
<<<<<<< Updated upstream
      "/users/Etu7/3262287/.local/lib/python3.4/site-packages/sklearn/linear_model/coordinate_descent.py:491: ConvergenceWarning: Objective did not converge. You might want to increase the number of iterations. Fitting data with very small alpha may cause precision problems.\n",
=======
      "/usr/lib/python3/dist-packages/sklearn/linear_model/coordinate_descent.py:466: ConvergenceWarning: Objective did not converge. You might want to increase the number of iterations\n",
>>>>>>> Stashed changes
      "  ConvergenceWarning)\n"
     ]
    },
    {
     "name": "stdout",
     "output_type": "stream",
     "text": [
<<<<<<< Updated upstream
      "alpha =  4.4566016505\n",
      "new pixel (lasso):  [ 101.15539795   18.27111183   60.40538074]\n"
=======
      "alpha =  5.37478147602\n",
      "correcting pixel ( 47 ,  5 )\n",
      "190  /  199\n",
      "alpha =  11.2054399063\n",
      "correcting pixel ( 41 ,  77 )\n",
      "alpha =  11.2776706622\n",
      "correcting pixel ( 75 ,  56 )\n",
      "alpha =  31.957143646\n",
      "correcting pixel ( 81 ,  90 )\n"
>>>>>>> Stashed changes
     ]
    },
    {
     "name": "stderr",
     "output_type": "stream",
     "text": [
<<<<<<< Updated upstream
      "/users/Etu7/3262287/.local/lib/python3.4/site-packages/sklearn/linear_model/coordinate_descent.py:491: ConvergenceWarning: Objective did not converge. You might want to increase the number of iterations. Fitting data with very small alpha may cause precision problems.\n",
=======
      "/usr/lib/python3/dist-packages/sklearn/linear_model/coordinate_descent.py:466: ConvergenceWarning: Objective did not converge. You might want to increase the number of iterations\n",
      "  ConvergenceWarning)\n",
      "/usr/lib/python3/dist-packages/sklearn/linear_model/coordinate_descent.py:466: ConvergenceWarning: Objective did not converge. You might want to increase the number of iterations\n",
>>>>>>> Stashed changes
      "  ConvergenceWarning)\n"
     ]
    },
    {
     "name": "stdout",
     "output_type": "stream",
     "text": [
<<<<<<< Updated upstream
      "alpha =  4.29009588882\n",
      "new pixel (lasso):  [ 222.45471623  126.34607063  112.23308415]\n",
      "alpha =  54.7342090341\n",
      "new pixel (lasso):  [ 239.6845218   175.76046718  160.29660616]\n"
=======
      "alpha =  7.63627953119\n",
      "correcting pixel ( 27 ,  24 )\n"
>>>>>>> Stashed changes
     ]
    },
    {
     "name": "stderr",
     "output_type": "stream",
     "text": [
<<<<<<< Updated upstream
      "/users/Etu7/3262287/.local/lib/python3.4/site-packages/sklearn/linear_model/coordinate_descent.py:491: ConvergenceWarning: Objective did not converge. You might want to increase the number of iterations. Fitting data with very small alpha may cause precision problems.\n",
=======
      "/usr/lib/python3/dist-packages/sklearn/linear_model/coordinate_descent.py:466: ConvergenceWarning: Objective did not converge. You might want to increase the number of iterations\n",
>>>>>>> Stashed changes
      "  ConvergenceWarning)\n"
     ]
    },
    {
     "name": "stdout",
     "output_type": "stream",
     "text": [
<<<<<<< Updated upstream
      "alpha =  61.6741707408\n",
      "new pixel (lasso):  [ 204.63387513  125.54503305  118.35705052]\n",
      "80  /  82\n",
      "alpha =  84.2124517352\n",
      "new pixel (lasso):  [ 216.14496083  124.96716945  113.7721914 ]\n"
=======
      "alpha =  2.98420138889\n",
      "correcting pixel ( 13 ,  66 )\n",
      "alpha =  98.7884089582\n",
      "correcting pixel ( 25 ,  3 )\n"
>>>>>>> Stashed changes
     ]
    },
    {
     "name": "stderr",
     "output_type": "stream",
     "text": [
<<<<<<< Updated upstream
      "/users/Etu7/3262287/.local/lib/python3.4/site-packages/sklearn/linear_model/coordinate_descent.py:491: ConvergenceWarning: Objective did not converge. You might want to increase the number of iterations. Fitting data with very small alpha may cause precision problems.\n",
=======
      "/usr/lib/python3/dist-packages/sklearn/linear_model/coordinate_descent.py:466: ConvergenceWarning: Objective did not converge. You might want to increase the number of iterations\n",
>>>>>>> Stashed changes
      "  ConvergenceWarning)\n"
     ]
    },
    {
     "name": "stdout",
     "output_type": "stream",
     "text": [
<<<<<<< Updated upstream
      "alpha =  676.709515587\n",
      "new pixel (lasso):  [ 126.30944961   66.7572052    76.29675377]\n"
=======
      "alpha =  7.58957447\n",
      "correcting pixel ( 83 ,  31 )\n",
      "alpha =  212.174277529\n",
      "correcting pixel ( 95 ,  32 )\n",
      "alpha =  11.2235425139\n",
      "correcting pixel ( 49 ,  40 )\n"
>>>>>>> Stashed changes
     ]
    },
    {
     "data": {
<<<<<<< Updated upstream
      "image/png": "iVBORw0KGgoAAAANSUhEUgAAAd0AAAHdCAYAAABYPaNuAAAABHNCSVQICAgIfAhkiAAAAAlwSFlz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\nQmCC\n",
      "text/plain": [
       "<matplotlib.figure.Figure at 0x7f333952ad68>"
=======
      "image/png": "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\n",
      "text/plain": [
       "<matplotlib.figure.Figure at 0x7f3278cf85c0>"
>>>>>>> Stashed changes
      ]
     },
     "metadata": {},
     "output_type": "display_data"
    },
    {
     "data": {
<<<<<<< Updated upstream
      "image/png": "iVBORw0KGgoAAAANSUhEUgAAAd0AAAHdCAYAAABYPaNuAAAABHNCSVQICAgIfAhkiAAAAAlwSFlz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\nAABJRU5ErkJggg==\n",
      "text/plain": [
       "<matplotlib.figure.Figure at 0x7f32f302e898>"
=======
      "image/png": "iVBORw0KGgoAAAANSUhEUgAAAd0AAAHdCAYAAABYPaNuAAAABHNCSVQICAgIfAhkiAAAAAlwSFlzAAALEgAACxIB0t1+/AAAIABJREFUeJzsvXe0ZulV3rnfk754c6yqW7GrOuekVmgJIawlBJYAGxsGGGAGLy8WWCzD8sCwPINnhmUW9sJYazwePItgjEwSMkkC5VagW92tzrmqqyvHm8MXT3rnj2qpa+9nS/cqcJCl/fun+z21T3rPe857z7ef82znvSfDMAzDMP72Cf6uD8AwDMMwvlWwSdcwDMMwKsImXcMwDMOoCJt0DcMwDKMibNI1DMMwjIqwSdcwDMMwKuJrmnSdc+9wzr3knDvmnPv5r9dBGYZhGMY3I+6r/U7XORcQ0TEiehsRXSCizxPRD3jvX/r6HZ5hGIZhfPMQfQ3r3ktEL3vvTxMROef+kIjeTURs0nXOmfuGYRiG8S2F995py7+WSXcPEZ29qn2OrkzEwOlf/d/o1z/2afrnf+8t5Msc/j0Q07IWQwVfVigxLuLnGEV4esFYwto1pVvcoGTtcye3IOb4sTXW7vZwO41mzNphMMTjIX7yzoV8nR38zRIFV07i9156ln7k+luIiCip8cxBLYlhvUAkF+IQ9xWG/HgCuRIRFeIcyrKEGIlTtiO3rRwOIH+pkceioZ0DOT4QtF+AyuBKX/ynzz9G//Seu9XzdL4Qm8UBFohF+q9NfNsBafcvPw95Xtp285wfX6nEBMH2j4WikOcZQozcclYWSgxfL8+u/Pd3nn6cfvy2u4iIqLPF7z+nbGdiosXao7vGIabd5veAC/gzJE0HsI7s4zDA+0j2syflPH3G962MC/m8SnPcTlirs/YwwBjHQ+j6O26AmP5MSb/8Hz5E//Knv4uIiIIigZgn/uwYa59/8Bxrt+q476zNtxO5BsTUM/4cTAMcO03x3KE0hZhanfdXrtz7ac77vdFoYcyQxwQJXpultWXWXti/G2L27Jl47f9/7lfg37+4/S/5L4ZhGIZhfF35Wt50zxPRvqvaC68uA37twx+jh0+epbJI6fUHF+i+Q3vZv5fiDxT5tnAlRr7Z4l81V9LMr6G90URiZ4Hyl77PxF/xhfLXpHjzdhhCYc73H0X4ZiR/gHDir+RCdg4ROc+3U7z6hu99SUV55a82X/C/yEvt1wO5XfnXJRGV4jy93/7vNKe9Jco/HpXz8nBN+Ura24F8AdTejuWbiOw/7XC0t8QvLPJlSb4oyCtvurK/tGMuZRcqfSGHbqlsRx6jfPNW39YhBkKoKPGtYrt9y3vvykK+r3qIMT1xr9HV4+uLHc7Xy8VbIxHRQLytNIYYU4g3oyjm21XHl/oLg4gQP9Vpa4Se31ul8rYeFuLZVCj3fs77VOlSygd8DPYX1yAmmmpT4D1Frx5HXuC9f+imfax9/KFnWHssxre9QlzPIMZfD2LR7/V6E2L6W5us3VB+qSvEWC6VXxiSiJ9X1u9ATCOpsbbf7EPMvon9rH3iOD+v55cv0Edf/Aisp/G1TLqfJ6LDzrn9RHSRiH6AiH5QC/yZt72BXnfiLN13aC/8nGp8/bhlaubv+hC+Jbhr966/60P4puf2Oevjv23ecs/hv+tD+Kbhpund1J18bSL+3NrJLxn7VU+63vvCOffTRPRRuvIz9W9571/8UvHy7db4+nPrtE26VXD3bvwL3/j6codNun/rvOXeI3/Xh/Atydfypkve+w8T0XVfp2MxDMMwjG9qTEhlGIZhGBXxNb3p7ngn/rXfuncihvGkfHIiRBmB/O6CiEJxNqEi/Q7Fpn2OopEiEwKeAmOcFNEo8n6f8+2EcudEVIjzkCKkskRBSCBEK075HEzmzgOlT0P4TEb5BEbEqFITeU2VayzPy2lbkiK3Hezbi/7TPoGB41NkBVJQJ0UaRERRxMUchSa20j5HkvsC4ZTSX+IgQ2W7UovjUQ0G64RyX9pl2IHYSl4bUsSPJD53SzMcyw5UZYj8bK1Q1un2+T1a7+O+Gk3+LU2c8O3EMRfUEGmCMeVayftRiQlF92ifT0lLg0i5OD4T40K5ftmQ98Xq+WWImdjFj7k5u4Ab2sMFWYfu4j/5X3oSRVJ1IUoKQ/yWMvX8s6JsYxViGjW+HU0I2hvy/ddqKLaqCaVZP8PPNmMhsGvNjUHMYy/xHO2jr+AxX9jY2TusvekahmEYRkXYpGsYhmEYFWGTrmEYhmFURCU53fCqvIj2la7MgXgtlyHzJPgtN5hhaLmVQuZIlZxuKT5Ad2o+FBJqEOMhz4UxMj8rDSJCxXRA5pk0i0CZH1JjxMUItJyuWE9adhLhtVFzWmB9qPWXtNPbQe6zlMenmVpsn5cDIwnl+ELIs2rbUQamjHHbm1g4+fewYkoi07xozahchx1YRaLph2LeATld1ZVk2+OBP/uV84xjkUtXzGqGGc/v9bfwvs6awuilwS0Kw0h77sgl2j0i9CaKQ4vsU3ieacuUhK18NgWKhWIgjC621tAQIj4/wtpJXcmrTvDp4bZvu5O1zzz/AKwzFnKbxWEXr1WjxfsnUR4q0jazq1zz1hg/B8zoEuUivz02hvagocj7fuRZzIE//vxF1t7K0DazPnLVtleUg3kVe9M1DMMwjIqwSdcwDMMwKsImXcMwDMOoCJt0DcMwDKMiKhFSXa1J0bQUUjuhVWNFAwb8e0HW9PRQ2oYoFwIZrTanNOIolUR/KcQSUhxDhFUvNOMEELIIgwOtZqs0ugg0VRmYbChVhkSflkp/6ZVXRAyUStp+HU14I9fymmoLNrO9IcROkPsGoRARFcPtq+/IYrlqlSFx/dS6vGI9ReMDgkO9Li992Rht33KZU6ogSW2VWmUIagtjSCQeQbJviIhiYY6RKdWwfCqMOPp4X6epqM4lqvgUCT4OE3kPK10B95Y2duQ6ikjKiWWaoFReLtUkSEiKihwNIRaPc7FQYwzPfaTNzTDaC/Osfetb0QH4mQ/xSkSzo+hTnvsNvt0Ea+4ORbWuQLkB5DgdZnhxxlsTfEGEcqunnn+BtR86joYePh5l7XqsjJUcDVk07E3XMAzDMCrCJl3DMAzDqAibdA3DMAyjIirJ6V49t6uG8IH8iF7L1woThAhjpDG6RlGIfJVSLGD7rSBaTlfm95RdKdvZPqYUfyuVinkB2Eq4HeR9d9Dvei59ewMNZPv8cSkLICj5K4kvtt/5jrajpTFF/j9TilyAQUuo/V0rcomKEYfMC6pnFfD8lFpEQlDI/Ky2a/hbXCnmAR2kGRzwtnbrS5MU6TmjHaMs1EGEOfg4wNydNFLx4mZLlNy1l9dPNV+R41bTd2x/H8GWlXEq875a/jgK+GPdZ0p+e5XnH/sX0BxjIuE53d4s1zTc8CbM6Z58lhcG6C5iUYRYHHOm6E3CmnheKWOn2+2y9uzILMQUrsnaDz/xEsQ8dfQ8a7sQDTQicQ+UWRdi6o2dTaf2pmsYhmEYFWGTrmEYhmFUhE26hmEYhlERNukahmEYRkVUIqRy0WtJcVXPI0QF2nf2sgKIKpoSQhetGonUOCSKbCoU5XecIp4opYhGEWHIKj6yTUTkoZqMrLSDBGJDWsUSMArRNDZSSKWcp2YSsR2FLvthhDsSUm1fjUeinafsd7Wyjux3JSZLt//4Xe7fK+NCar00IZwUe+XatRFj2Tl+OweqAEqso1wHKXhSDT7kjaRUB5KmEVJkRqSIohQRktSZBUp/xaLajrYvKXjKUn58mugtlPeRNrZl92juPoU8Pgzx8LzCfcHx7EC0qN3Do3GdtRdfQiFVto+LoDYzLqSqN3lFISKiN7/7ftb+y//4QYiZjOdYO3V4XwVDIa6K8RymxrnxRRygycbnnz7O2p998iTEuHF+PElfEaclQrRYb0KMV1WAiL3pGoZhGEZF2KRrGIZhGBVhk65hGIZhVEQ1Od2r0hBK6gdzIlrxADBgUHI/wmA9LzBXEJb8d/9YOR4n87ya4bsw2fCFUphAmjsUuLOhzAOU2+cWZSGAUClUIHNuSnobcnXaOShlCJQYcczqdsQaSk4+AtMIeShKH3u+HS3/CHk4LbculkkTFSI9T4j7kttV9ACyqIVyQDIvrvjjUynGDuoclMIAciAofRq6HZiviHtNO0Anbna9eIY0rFCKPwithpajjGSxACU3nGX8eTAcintEyekm4hGpDQHQbihJ3dDL5xdemyznOVOnFTMQx1jkyrNS9GGgGMbkaZ+1GzQBMcee5kYSh/7+baw9jHD6GN07zdo33HYQYl55fIu1JzE9SkXEj7nZrkNMIMbOY59/AmIef+ESaycjWIBhK+LnPjW+BDE9UTSiqxRXSKIElmnYm65hGIZhVIRNuoZhGIZRETbpGoZhGEZF2KRrGIZhGBVRjZDqKuGDK2rw76WoKJGFPYiJB5us3Swxad3p8w+qw0msFkF9LqbwhAn6LN9g7Zryp0mZ82MehphYbyR8X0GO4olAfvQNojLFFEGIMkJFrCOrYsSKK4nUvijaDgqEaKsosCKIFAs1EuzTNOUikWaC42A45GIFKRiT5g9ERIkUmygVVXwmKtkow76UCj/FByOJuAgvVQQzQ9GHPsZOlbq3XDHdKIa8v7wwJiAiGhkVlXWkuE8Re4TiI/++JhIUIpZSXBcionbI+7CviBYjIbTR5HWB6PfQ43a8vDYx3vvdPu+fRojHXPN8vboXYzDVBIl835FSSUaa+eQFXisvjUIgAg1tnHKvOSFq0yp6pak0lcGYgHhf+OEmxCRL/Fyz42f4OtccgnUGo/yZe/3bFiDm3NMfY+18sAdi4hY33ugWaN7xwjl+P/7Ncbw2eX2StZ1yY0+F3ASkp4jTpJlPlOM1JqXqmIa96RqGYRhGRdikaxiGYRgVYZOuYRiGYVREJTndq6lF+Lt3KvIdsrgBEVHOf3anfm8AMS7if0PkWR9iIpEXdEpSRC7TPurXP/TnSIP1UnHjh+/fxXadlnOTaWD1WIQxgeZpIVbT8kOQc9NcGnZAEvFcojQqUNdJhUGEYlhRiHPPFCOHssb37WtojF7EIv+oVN1Ya/BctavHEFMb41/6NybHICZp8v0HSrazyEQ+T8kXnT1+lC+4tM733cU+bopUZ9LA3PpAmM2PjExCTNbjuotQMaTvdLt8Xwk+blJRdKCpGMkPuzx/NuzjvT8qrmmeoy5EGsaAOQysQVTmwlCjj3nWOBHPC8X4Re5LK6Kyg9oFoKkoFMOdUowdaSx0ZV98b1mGOfCoy5+f557l1+/A3H5YJ2twPUxr980Qc+S71lj72IdOQEzY4tf86Is4dh595hhrBw28H6nk47vdRD1A4Hh/5SVqUnJx/5Va3lcxC9GwN13DMAzDqAibdA3DMAyjImzSNQzDMIyKsEnXMAzDMCqiEiFVfpWAoV1TPiCWKqkUE9mdFb5e2lPMAubarO0I9wWVOxT1UCg/QN/BnyZKURPKRXWPQhNPaF+uX4VT/i4KhCoqVGJ2JvSS1Xe2P1FZgUbbjtM6Q1au0WJgZ0LkE+NwHQiBQ9+j0CWIucimbKCQKhemEVEdx+BYfUQcjyKMq/NjDhwKN/JcmhdoVaygxBKE3PiG+/gqA37ug8toKHDqkWdZe7SD90gr4Me8tdqFmLzOr8WEMi4SYaCRhNgX0gCln6KgJxD3bE0xHNnY4sfYwstH0p7DkzSswD6Wl8EVyn0lxEwhoaCnlAIozSpECEqVoUyBOPVcESQW0gwmwPumCIWZiNJhUoyWXebnvnn0PKwzfQ83zPAhGhRNvukIa8+dWIOYJ546zdpPP499GkazrF24FYhpj/D7MVfGV1ny+Sf3SrUgUbkpVkSUsXIPaNibrmEYhmFUhE26hmEYhlERNukahmEYRkVUktP1V5lWuABzsbEwOV9fw2TGykWeXxhVqhCMhnxZrOR+xHfQ0otCXaiZRoif+KmmxGTC2CKTTvdEYNAPuVjF1cLJ3IFSqADQ8rVi2x7yiJgDLxWThqLgy0LFHKAsRQGGGuZN5HbKKW4sESgfn2ebW3wbSj4mEoYLQYj5q0Aa25doGtHd6vB1FLMHKmSRCyVHKfKhUQ23I8duFGEOqb/Bzz2eEP11eBesc+NBbkB/9sEnIebCUZ5Pm4gxB14T4ylVzGqikp9Xb70DMQ1hbC8LYxARbfZ4vjaK8PpF0fYmLp6kwQG/VpqpRSDuNS3vKytYQPEMInJemloohig5j3HyIUOkVCVRdAWwTNGSiH7OHI53cuK+Ec/OWh+NTOgiN2jJpvFaTe6dYe3Okb0Q89h/Ps7aXaXAwNgMP+YiRxOXVBSvCZTngywgU29inw7F+Nb0OWplCQV70zUMwzCMirBJ1zAMwzAqwiZdwzAMw6gIm3QNwzAMoyIqEVLFVxkGeEJhiTQLuHwRqwNdWuQijMbeCYiR362HkSLoEWIdp3yk7uVH9EqCXJo7bClVJ1o5P6DCacIIvkwm9b2m9Ar4OjmIK4iiQhp84L6dEHN4RegVCUGKFES9upA1wwTFCmnKr2mz3YKYwZALW2SVmkgRUg1S0RfKdShJiDAGGJML0VtcUwR/E1y4ESp3TxgL4U2iiGoSUXEmUoQuYtshlKMiKkXFlLTH75EkUow5Wvwcpr7jDohp3XSAtU//9YMQM3qJX0+nVAabENe4XWtDTKcjqgElOJbDmJ/HUDGEcEK8lOeKkErcx9JoInA4tr0YF7JyGBFW+tHEVpEYB6EitirE/acJGyWayBPUoQ77tC4MMzrKPVFr8mdsRsus/fKTn4d15vtcFLX77Vhliza44OlTnzkDIZs9fg5xHa9Nr8+FhK0mCqmCgosA+z08T1klqr++CTGJeKYpfiM0HOLcpmFvuoZhGIZRETbpGoZhGEZF2KRrGIZhGBVRSU43uerD/nKA+Y7OGv+9/vIFzOmub/EcWx7ib/OZMDAnj3nDQMurCmTuZyc5XWnsQERUCtcKr+TlnMy3iHyMzC8TERUir1QoxQNyYfag+asHslCBYtgNhQmUvggDaUyg5JhFQYGsQAMUaXbvRK7MxfgBfyzyZ6GSbIlE8s4r+Ud5VkGM55ktc2P2oKEYcaTcMCDMlGMuuWFA1EQDATB3UMZtX+TkRxO+r0TJ5XXE/efauN36zChr3/V974SY8489x9rnnjsOMefOn2Pta3ftgRjhDUN5hscThHzsxAH2e3eT5/9jRecQBnw79Rpva3m6wZA/d5TbnLy41xT/GDDTSRR9QiKeaYp/BmSLC8X4QuaUy1KpnCDyxyOtUQgZiPMQw4vqNVEAhIjSVWECcuwCxHz4s9yQ5a/+/BWISdrCiCbH42u3+X2T5ljwIKR5vp0Qi3fI56dWpKRR5/ltqVEhIhoOcJmGvekahmEYRkXYpGsYhmEYFWGTrmEYhmFUhE26hmEYhlERlQipKH0tuZ51MKl/+Sz/yHl9VREGeS56KAg/kI/El+JBjqcXiFIZUgShoQmpnPxonhQhlRCyOEWcg+Iq2UZBiBRXlYoASn7DX2oVMERMFGIlm0yoORS/ETDwGAyw4kxrhBsjLK1tQEwqqr5Qys9Lq3AUCOMEaUJARFQK0ZasnEREFIoKVb7ED91dnZ98GeO+MqGYyRURSyHOA3sdTUk0o5dRIcaR+3Y13LITYo8xPw4xuRgYWzW810a//V7WnhhB0eLG559i7RcuX4SYhQm+f00UKA006jEKzxp1sUxRPEnBXyzdTUJcpyYEgLlyPw66fKx0tnD8B0IkNTqG/VUX1aZcsL0iq6aY50hfEPmsIiLqi2pYow3FxGXI+72RcJFg4XFsC90Z/fHvPgUxH/zki6wd+BmICYVwMEgU4WyX91epKOG6fS6uGp9SBGPiVp9o4fjqiapMg+EWxNxx+5Ev/v8HHnwc/v0L2JuuYRiGYVSETbqGYRiGURE26RqGYRhGRVSS0827r+WRii00kl9b5L+PD/sNiImFuTsp5uSxyMsFHnNaPuD71/zC5YfsWk5XW4ZBwohAutgTkReGHrLmgGZoLvO16jmIXE+gGXOIjccx9lc64Hkd1Xhf9MVA5IKIiCZnp1l769x5iAmEQb+riTyrkr8KRK7TqUlnPlYCxSsglJ2qOBNkkcj1KCYb0ng/VDQDoePjIA6w30PifeGVv4/7Q34i7QbPufkUR0ZN5EOXVtcgJh7hJvXNSTSSr7V4jn739x2EmG9/9/ew9vt+8V9BzOIKz+03YjQmkONS0wwEOT/XVhOfIbJWRyYKJ8g8urbvSLkOnQ1uuLCxvo77FpqPJMZnQSPmeV6nvRPJh5NSDyV00vRGMfcRecuekqNsCw1DlPHx5WrcwIKIaHGTL3vgk5cgJiv4eGo0cU6oETdSKWkVYgLHzTnyAeZixyf5+FrbvAwxUcSNL8JRNLQphAZlYhqv37ve9YYv/v+/fPAP4d+/gL3pGoZhGEZF2KRrGIZhGBVhk65hGIZhVIRNuoZhGIZREZUIqRrD15L/TxxFU4SLmzxxHdZRDOMcF+f4chpihjlfrxWioCEr5bZR9CO1CeUA/zZJhDFCPMCujEkk9nM0XIjEB/tQ6UepLiM1XE4rISQUWV4qtIgoFNvJPIoppOBDq44yHPLzarfGIObUSS6cCgMUKwRCqBQJUVQUosgmEx/+p328niQEdqFiahGKEiqqOC2VRiHKtUk3WbseYiWWJOPinNDjuJACsb5ivtIS2+52+HZSRWXTGuNmFNN75iHGBcJ8RTH4CAf8PLcUgUp3zxxr3/+eH4OY3//pX2btQ5O7ICaO+LXpD7GaSy3m/bWqCOH2iD5MhQGKK9GwQlYKKxxeq5YQKq338fiOnuX7vl9535mQ5h3jKLDrClEg9fHaRAkXkfXljU5EI5kQINYwppDPGSFCDT2O7T/4s0dZ+wQW9aF948LQRnk21Ru8D7sdvDZD8TwNW3jv94Tmrl6bg5h6g/dzmSpjZ5qbarzjrbdBTC3DKkca9qZrGIZhGBVhk65hGIZhVIRNuoZhGIZREZXkdM9dfO3D5o0tzHeUnucXAs0RQmTZdMMKkcfM8W+KQOQkVY8L9+UNK4gUgwrlmKWXQxDg8XiZd/Pyw3bt7yKe19mRUccOiAPMmXqRQ+oPMadVF2bzaYofu2fCmcAp+Vn5DX8hDA9KUooHiMRTqOSc5bIwwj6NREyp5MnbwpBeM8fIhblDx2NfxBnfzkiu5BI3uXGDkj6my7TM2vO7F1h7dgJNLYYi11lohQFksYwdFCFoKwYa3QvceGP3gQWIeffP/RPW/utf+y2ImRzw3GFtHHOJ/U2ePAwd9nsgjCUSMQZD5V7Lxblr91ooCoXU62jMcWbtLGs/fxE1De0J3j/TLeXxLPLr7XYTQjY2uDaj2cLxNcj5duoedTR10YdZyc/zLx55BdbpOX48Y8EmxIRe3o/Yp8MBvzb9FPOl41Pc1GIwQC1JOuBmHePTOJabTW70MtbEZ9yb3vA61g4TNGhZ3liCZRr2pmsYhmEYFWGTrmEYhmFUhE26hmEYhlERNukahmEYRkVUIqQ6de41QcVGDwUOZciT72qhGL+9kKoURgmlooAqafvKNRCj/G0iNy2FVUREJCryeK1oCAintA1thyLQ2oEgS1YeygcoIGi0uQgjCPHibA24OK4/wGvsQyFgU8Q5tRoXavSFyCeQX+sTVjiShhpERFEilinjS3ahUkyJ6g2+4soGmq+4GhfINMZQ3JFlouJMiNVRLi/xbU/MzEDM4cO8sk9XiNy6XawCUxOimkJWrSGiVVF5SKu+MzfHj6enmDTUCt6pi2sohjnwpltZe+GhmyDm1CPPs/ZYT6keJgwNxmvKeJeVt4SIUVbnISIqxI2u3Z9BIIRBStWoNdE9L62jwGh6nV+vRq0NMbNCRJaXeK81hVAw6qJpRDnCx8FAVFwiIkqEacvqgJ/Xf3vwZVinNTLL2gemUMS1NRTixxCFZ5tbXBhXb6PwrD/gMc6jmK/V5GYwRYFuHWNjXLR127VooDE9zY9x0Md7a3RqCpZp2JuuYRiGYVSETbqGYRiGURE26RqGYRhGRVSS0127Kn2RezRFgJybYkzgRD7PK0m3UuSQSvzunwqZelJynaXI9WjmGKUw65Af0RMR5V6YbCgGBy78yi+BU4zsvxpkfkozloBiBooJwtYazz8GyjnVxbJMMxzZJr+tmYvIPF0iDSyIKBIFDgqtQIRAy91JI3uZyyMiCgayWADmfmb37mHtY8cwN3bkdfewdt7A+6af8WtTb3JtxDDDPOvKCs+rhjGew/g4z4MpqU5aXeXXPMpxO829PO9bdLAvsj7PsX33v/gnEHP0U0+y9ofe+3sQ0xZ5QecwcS/HVxzwGM0EJBD5WeeUfLLn+dBhjg+ehYTn+xqKkcLSJW5qsRXjNW8Ll5R+E6/xgLhxw3R7FGJCYbLRVPZFxNf73T/6FGvX21icIij4vrtdNJFoTfDx39nC/ipDXkCj3sTnzuoyvx/bbcxLOzHFjdRxO4ev4bqLhV0Ys7LEC7ZMzKIpSWMM89ca9qZrGIZhGBVhk65hGIZhVMS2k65zbsE590nn3PPOuWedc+95dfmEc+6jzrmjzrmPOOfw2wjDMAzDML7ITt50cyL6We/9TUT0eiL6Kefc9UT0C0T0ce/9dUT0SSL6X//2DtMwDMMw/vtnWxWP9/4SEV169f87zrkXiWiBiN5NRG95Nex3iehTdGUiBoqrxVORom4SAhmvfPAtq+8EuhuFaGpiCvmxO/7dIZcFsSKeUIQa2+1LmncQEYVSECbPSztNcXxOUbqAEEhx5oC+qCt9Ifp0ZVUxhBAxUYSijKEwuqgn+LH7cMiFES7hphGyEhARUShEUnGM1wUEYh7HoCbSkuR93s/aOVDIt73Zw4/x/SbvwxvvREMIN877cKDcE50OF464rqjgpZxTq8EFIKEytlPFJEVSr/HtNBsoLLkgTTYyPId6zoVBl4bYXwtvu5u137KCMR95739h7bHmPMSkwpSkN+Qin1oDTRqc2150V8hbTVFe9sWiywWOnYsvnmLt2TqT/TzkAAAgAElEQVRem9kZLkJqRCikCoX7y3AD+z2Xfiwj2F+fe+Qkax9d4vfR5Cg+d2oR7694BA0jNoSZznCgVPQa5cYg/T5Wp2sJo5csw5hYVJK6+YYbIebwfi4YG3a2IKbV5mNjfEwRlHZxPY2vKKfrnDtARLcT0cNENOe9v0z0xYl59kuvaRiGYRjGjidd51ybiP6EiH7Ge98hWeAW24ZhGIZhXMWOPhJ1zkV0ZcL9Pe/9n7+6+LJzbs57f9k5N09Ei19q/T8989IX///I2ARdPzb9NRyyYRiGYXzj8PCxV+izL7ywo9idOjP8NhG94L1/71XL/oKIfoyIfpWIfpSI/lxZj4iIvnf/a7+jl0r+sRQmEj7HPEUEFQa2P3QtTedkXlWJgfye8g6P5glKPlTsyykb2raQg5IfUtLQiMjhagUiioLnUpbWMV/7trf+Pdb++Mc+hfsq+b5qEebGSpG7KwPMM0WyQARJMwPNbJ4vk9sgwrR4pOXxRX67KDDv2yh4ju3CBTQ4iCZ5nmnvrddDzPyRfay92sdcUCmKA0QJ5vcykUyME56/CpTiD15ccx9o+W2+nl6Egy9b7uLYGW3yvOVAKZbhRQ5+XCkW0HF8rNz0fd8GMcceeIi11y5egphByvOEIwFPbGp5/UwWhFAKRMju0QxacuLPtFDRPRQBH+8PvHgUYvp1noc+ct1uiNm7dy9rnz11DmJmprkByrmTFyDmTx/khSYaYwd42+P4r4tz7yjPxcLz61lrKGNQGHOUxRrEuIibrQx6OE7vfD2//w5do+gwxHwT1HCcjo3xsVOUXE9xz+F9dMP8a3ne3/jIZ3A/r7LtzOWceyMR/RARPeuce5KuTEG/SFcm2z92zv1PRHSaiP7RdtsyDMMwjG9ldqJefpD0YmhERN/x9T0cwzAMw/jmxRypDMMwDKMibNI1DMMwjIqopMpQeVW5HxcoYiJR8QLETkSEfx8o1YGEWKh0KMgKnDRKUARGcICasYTYt/INPWxajRHHLDakiVhkZR1fKP0lTlOroOKFSUTRwuHQ3s0rxWieJGUqqntkKIyIxDHnKQqpGi0ubCnEOlGoiKRETKlUeJFXzyuOI3nGz6HX60FML+X9PLoPP02fu3Y/a4/sRnOAi+tcJDU6hg6qy5d4lZXxEawUI01IYlHJKVCES7I6VqD0hTSHSaE0F9Eg5QYa0nSDiKizyQVizZlxiFnvcKOLhiKkynM+VspZ7Pc3/dN/wNp/+r//R4gpxEiQ46tQngVSMKaNf11oxpnL+LZXu1gRZ83xZa8EOAa/7+1vYe07v/1uiLnU2WTta979doiZWeEipH//z34FYopRURmp5OYTufIMHorrF5R4nnHBl4WKtint8zGX1LCCT7e/ytoH9i9AzF13XcPaUbgCMeWQPzNGdo3g8RT8WvTX8fkVhzh2NexN1zAMwzAqwiZdwzAMw6gIm3QNwzAMoyIqyemynO326Q/S/haQ2Skt/QJ5S8UEQeYx6wl+pN7t8A/Q1XyoyB3qMaIdbW/csK1ZBhHVhemBVwo7SLTjo5Kfw/W3oRn4uQtnWDtTcjTjbZ5vVEtRyCISEeY/pElKHPNrE4Z4PXNxPMrhUeD5vkrlCNOU73tjAw0rdr/hNtaenMQcpYv5LdXd6kBMIAwqLp+9CDFTUzyXTkqBDZnidjJHn+HYycU1LwfYYaUwiQgVY45GXeTYBgOIicZ4nrfTwUIFYwk3UskVA5nRXOgBllchpnHvQdYOa9LRn6gUHVZI3wvlXpOPEKeYrxSe92GaYl+crfN86NZQKeoywXOJ//r//ncQ0hrl+7q4ugkxCwd4Xywqmg+/wMfu/u94F8S8/NvvZ+0xIUqJRudgna44r6i7ATE1cR8PsE4B+YBrBnyO91qrxu+R173hOoip1/jxFAOc8iYm+LIyVrRAYrVImaPiHU6n9qZrGIZhGBVhk65hGIZhVIRNuoZhGIZRETbpGoZhGEZFVCKkSq7ai1fEMPIwlCIdRCUXJwQZijLCgH9l7T0KQFzCBSmDcggxoah84pRKLLmXyxQhVcwFDLkS4+p8/yN9/kG698p5RnzfaYp9GoV83/UIYzb6XOiy+zY0YFh9iJs0RKlSBUYIb8ZrWjUlfv0Kj1/Ej4b83MuEn2dHMayQZhgTY5MQkw64mCIjFEos9rgg5dBNKMoYn+RCl7LE7WSb/DxrCVZckpdivIH9ngrzkLiF/SWHYDoQ4hNF0SaKPamViGoJ31eoVQYbcvWLIguicMAPUPFAgMo6qTRaIaJMmg5kOJbrK/zE7v/1n4SYCz//71n75plrWXttBq9n2OfXc6zEa3VWdHSAjxQ6s8rH7u133wAx/8svvYe1zy2/DDHNWV4WtdFqQ8zmgI/lvIPCrmVhpPKGm/G++XSf93uW8BNLUqwyVBPVgfrKPeJLvi+PvhdEuRAgFngO995xE2sf2Yd90R8us3ZTKStbhuJG6ivHDLcATlJDqZz9EtibrmEYhmFUhE26hmEYhlERNukahmEYRkVUk9O9yjBAmowTERQUiALM63jld3aJNAfQPnaXy3Sv8u2LDsi8XKiY8cfCtCJRtlOK8gqhMNAICHOoWcHzaVGElxH2pPx5JXObcayZzQvj8Qgzc6lIiQz6mOFrNUXevoW5ziLjOaPBFt9Os4mm+rVRboIwHGo5er7vxUtoRnHXm17P2mWCuc5M5EyzDMekLEIQ1LBPZa41VK6fSLnBvomIQs+PsTfkeS8X4EVvj3GTgXoDr4MscJAXeD8GYttJgmYUueifwRBdEDJpEqEUaai3eJ8WSgGGYZdrH+Zn5iFm4Sf+MWsvPfEoa49uKuYrNT7eV5QcZVcYjpzYwFznj/+z72ftd/3D74aY46dfYu3DNxyGmCznfdjdwD514r4OFPOcSNzHTsm4N+o8R9qo8eswzNZhHe/5OA1DxaBF6HGCTMmP9nmfTs9h4veW23iBg76i+YhrfHzXErx+qdAIeK0yzQ7Q5hsNe9M1DMMwjIqwSdcwDMMwKsImXcMwDMOoiEpyutFVJuGhkl+QP4UHXjHwFzmksRHMRcnca6B8Xyg3reZ0RYySroVlsbKhGGJwO0NxQM7xXEYkk3tE1BNF4psN7C/neF4iU9IUXtR6aI3gd26ry/w7tyzD3GKtzb9fjXKM6WzxAgI1Jd/YjHlesBXxa5wp33AOZf6xxG+qnRgHd997D8QEwsh+eW0NYmSetz2KxecTkSMtCI8nEvnPbh+LIsi878gIFtbeXOFm8nWR846UHH3a4fvKFLf5uvj2M1au1VBcC83sfXOdFybIcsynTc/xgvRxgrnFQY/nqocpbqch+j06i/lGuu961uw7fo1HT1yAVSJREGK9i2M7nuB58u//N78AMV3xDedi5zTEzB/i35Bu9rHohk/5jdxMMNfZ6fFrOlnD65em/J5YXsLxLu+lNOfrRHV8XsiCI07xZXDh9oVpZnZNsPbr7r0GYkZG+LUY9nAMNoSmIi+wAEPo+HkUxfZVedTiGDur5mNvuoZhGIZRFTbpGoZhGEZF2KRrGIZhGBVhk65hGIZhVEQlQiq6StSjJZs9SUMIJSEthC495UPolih4oOg/yMdioSK2CoRKShpWEBGF8pi176KFEEGKm67EcHGO/DA7U4wAZA6/LFCsU4r+ShUz7uY0F+eEr+B2HhLH02qg0CXLuDgnz7Hjk1h8jK8Iz/p9fk3HmqKARYmdPMxFYYA2Ht/YBBdlFMrH7xtCOFV4FG21mnw7ThFTxMLcYa2HBSu8OM92GwUptYTfmhdPn4GYiQleIIJyfsylcp6BEOYVytjpbHARkmbwkSRchbe8tIgxdX4t6nXFQEOYY5QZHo80N6kp4pxhl49BrQjIpig6sH/vIda+/OxJWIfG+TEffPPrISQLuIjrzACvebMtjHLaKIDqp6L4iVMqASR8zPV7WAhA9nvawn5PRB+eP3UOYiIheMpEtYwwx3s4lYYxBd4j7YZ83uM0NCKEcddfuwdiNjfPsvbE2G6IkaZFgwHeE/U6P2af78zkQmLmGIZhGIbxDYZNuoZhGIZRETbpGoZhGEZFVJLTvTrfWZDyu7dY5KFAPBr4+wDzCTJNqBXxlkbtak5XxGj5RyeSuF4xQZA5v9IrObaS519K4jmaXHG1CEV+NM+xwEApjPf7Su7uwN4Z1l5tLkPM2YYoZI2eJLTS4+fZTHBYxcLU32tFJIT5RFlKgw/MsyYi7zu/B3M/smjDyuoqxPSHPN83t4D5obro994A+31thW87aWORhtYYL/S9tHgJYnzOr9f8JBYZL4XRjCxUkA4wjx/UeJ9GdcyB+4BfK8jTEdHmgI/TRgPPs5D5PCUnH4hxUGj72uRF2UOlKEKrxfc/VMaKu8hzrf06P8/xe++Adcb38Hvkch/NRLzIfU6OTEBMPRLFKZRrIyUfWYD3fiTyqoliNhQI3Uq/wGOeDLmhx/PPPA8xtUSMlVwWBkDkNY8CJS8tVpwew5i3vpUXqO928J5t1LkmxUWYSy/F8zUO0dCm9NyExDm8JySqOYZePQewN13DMAzDqAibdA3DMAyjImzSNQzDMIyKsEnXMAzDMCqiEiHV1Ulnr6Tfpb7CK1UndpKiLneQyJYJcG0VKcDSBFml+HvFO6V6kty4sjP5YXjpuDgnJxRcRMIExCkGGrLYTlqgKGNiNxd8hA4/tB9rceXUsIExI0LMEaZ4ngMhvNH6qymq9kjjBu3b8/k986zd76KYIhRGAFmKAqiZmTnWHg6xmkxvi59D0kJV2cQ471NN0LNy8TI/vjiBmLExvqxQKvRkwsBDVhXyikhwsMX7J1D6oj3KBSp1xWUmF9V3fIjH1xIGB0GIJhub61wkJcVzREShFDYqgqyVixf5ghRjGjV+3/Qb/N7rK8Yqsr/qbaz2FAth3NbqJsSUHX4OqWLwIcWhZYnXpi7um4sX0NRiYh8Xf9XGFFOSTd7Pp188BTEjXojjhMBI0WZSFPHzqsejENPv8fF/7T03Qsz4OL823a5istHmz4vMoxA0FAJO57Av5LNop4KorxZ70zUMwzCMirBJ1zAMwzAqwiZdwzAMw6iISnK6xVVJ0VLJzso8jmZ8AXnVHcSUmjmGTAxqiUK5olf+NpH7V46HlA/XJc7Jggc8NwZmHkQk015JpOTchMnAUMmVRW2eY+t31iFmfILnZHIlt5Ku89zTxuYWxJAXed8QcyvdLs+jZgFvHzp8GNbZ7HCj+yTBvOHKEs/1yJwlEVGzyfNXyxtrEBOIv1G1IhfrSys8RikWMCIMPcIYY7IBP3en5GejgOd9U2HwUShmLJHIJZZ9zNFvDXm+NqlhrnNc9FemFbDY4OMgcPi4CcW4jJXx3t3keVVpTHNlPd5u7J+BmPpAJCHFfd4eFQUkiMinfJ2NEM+ze5bnVa+t477TJj/3wRALtoy0eOGL8QjvkWMPP8baeR+3E4hcf31uHGKeOM6P2fdRV5A0xbNJFNTwynXIPH8W1An3PT3DdQ9HrkczkY54hoxPYkxeymcl9lcpHUccajWo5OYcPlBiJMq8sdMyCfamaxiGYRgVYZOuYRiGYVSETbqGYRiGURE26RqGYRhGRVRujqFV2pHfWBeKG0UglynmCo7CbWNAFLWDahFqlaEdfFAtzTG0yjrOy8odvDdCxVBgKCrQyKoiRES5MBDINb2YqGIy7fFD9vVMiKscmiBMTXNhUn8dxR1bm1yc0Gi2ISZOuBBiag8XtnT6XDRFhCK8pctYjWR2mgtbWmNYaeTy5UV+LEp1IFFMBsw7iIi8GN/1Bp5n2uH90xjBKivSAGKYo7gjFMYbUSTGijK2B6JKThDhPVJvclGNy/A8N4RgrDGBghka8rFSKpW4pAlJFCliKyHgaSmmJLEQow02UMxX7p5mbSdMSdI1HLehMNlI0OuEpqd5RaqNdWXfwjCm2cZzGGZ8/xcvX4QYJ2Ka+Dil9bO8atXh2XmI+cDvv5+14xLHYFNU/doacEFb1FREnqm4zxv4/Lr/zbezdntMMaLZ5Pef1xyKhGDMEwr+QjHmnHIBBx1+LaIYTUmgqpDqqrQzKZW96RqGYRhGRdikaxiGYRgVYZOuYRiGYVREJTldKq4yx1A+8vfCRMIpRg6xyPUEigF8KPJpiqc45AFKjzkH+XG0izAX5QqePygzzBXUxYfZQYgfoNc8z9GsZbwvajW8RFHC8wkr/fMQMxnsY+30Avbp1Dw/5u4yGoZ3J/l6/QxzgMUq7592Dc0nwibv0yJAU4bJ/TzXurnFzzMJcd+DLs/zTo/hR/SNBr9W3R4a0g9FrlP71H10nBdFuLSyBDHTMzx/7DMcp81YnOeS3DdRr+D7b4woxg2JMBNZ2mDtBNPSNDvDc3dZF69DvyfyrA3c0EjKx0Uvw7yc2xDFFRzmMWsiV5cGmLcf38XzxZsZ5l6bM3zMJS0lD73K8/bNZJK1yz6u02zznHyg5KV7spjHGJ5nFgjDkXQaYsYiPi4fO/YZiNnX5secbqKGIUv5gy8awWfIS5/n+eK5WbzG612e2wzqoqBGDfOarWCBtSdb+Hw9speP7Q7WKKGaTFaHOE5lnrXM8D4qSBa4wUkhCmXRDTyeneAsp2sYhmEY31jYpGsYhmEYFWGTrmEYhmFUhE26hmEYhlERlQipwqsUTVrlH1l4qCwxIR0EOzGs4G2viLZ2tJ1AJt9xO2HMs//eo8CiWwjxhGLWMRCmB4FQfwVKX8hDrsVKdY2MqwGg2gYRJXUuqgnHcTisLZ1g7UnNyEFUj1kd4jFL0dGBA9fhvha5iKY1yQUp58+jYGx+Xnz4n+A5rAszis0tVG6MTnCBSqOJwpLFxVOsPTW1G2LSIb84L7+EBgcDYbgwNYciqVAIUNaXLkHMmRd4pZh73nEja/sQP/I/dpmLTeoFjp2xNhf85T3cztFlbgBx0M1CTEcIjAYFCs9m93BBUS3Cfo9HuGnLZIzmJrkwbQlWIISyHr82eZsL7Hwbx87FDj/P2XE0AWmJB1gxxP4KAr6vWvsYxKwf5/f+gfgAxDzxwMdY+/I6vjf9wE/+OGt//COPQUwpqgGVJY4D8CkJ+ILQozC0KPg1v/OuuyFGGgLFMT4Xg3D75zT4VUhzJA1F6yQFWV55Vu4EbWrTsDddwzAMw6gIm3QNwzAMoyJs0jUMwzCMiqgkp3u194WSHoXf7wPlb4Ek4itGisl/AD/p42/zUKggwAOqOWFS79BMoch5vtF7jPFi/9Kc/8q2eTMRpv9OMQFxBV8pruEH6Hkh8koOc85lztfLlFzG5DTPma6/fAa30+XHODU3AzEX13kedWkVTeF3zfMP60+cP8raCwt7YZ3BUJiepzguOh2eN2+1MCco6zisXMT8464F3hebXczdnTrHDRimpw9CTL7K++KZ57BPl7u80MT/8OM/BDHT7T2s/ZmH+b6jAPPvjYCP08kJPIcXnuHnPhhgn54c8uP742cfgpif+QV+zBMT+LjpBbwvpmb3Q0xQ5/djVyl8EdX4fZ3GWLxjbJbvv5fy/HZNSQmOi8IEnS7e50nE87VJiOc5J4wkVi/ic+fY53gfHv/kSxATNvjx3Pu9mDMd28XH6fv+v7+EmFGhzSgKPJ6y4PdNPeLPpuEWrnPNQa6NOHAAC350NrihR30a88lBIArBKM9p7/kFU5+vch1FVATFDLTE7w7AJ6yOvekahmEYRkXYpGsYhmEYFWGTrmEYhmFUhE26hmEYhlERlQiprv6w2SliHScqjUTKnwIir06h8iWyNLHQTC12Qkpc5KN8l00o0sLz8uIjcO8xJor5JXDiA/SIsHqRFD3I/RAROeLKoEQxjSjPckFKdxb7a0xUFqFMq97C+6uTozhnM+XLFnYvQMzzzz3L2rv2ceOEUqnY06hxM4XFZXRFGBnhFWgCRTTSFwKZhTk0ezh9igtvCmUQTs3sYu1LiqmFKOJDU7MoEMvW+Lk/9OBpiElzLkI6f/wyay/nqAyaE2Yiw8dfhpjT555n7aKhVI3yXDDzPe98M8T4kI8VF6Pgb/deLjTrZ3iPbHR59aRGAwVimagw0yMcK0nJjycR4qY4UO7hnC/bNYrVgdIuv6CXTpyDmI9/4uOs3bmIfeG63EhldAzP8/a33s/ah+7FsfMb/+H/Ye2GR8ORpjBfGfbwOSMNKUJRoSftYeWfO269nbUHgwsQEwT8eEJFFCvRCvjAIsV8SK6nGSaVpTTi2MnxKKZF2651BXvTNQzDMIyKsEnXMAzDMCrCJl3DMAzDqIiKzDFem9udZuAvf51Xfr//atKz2u/uMq0aaLlYZRkcz1f15wr+6l+IffmU56JirS9ErsWVaDweihXbdYx57OhZ1r7vhmtxO17kMR3mokqRoxmbnIeYQcCLDrxy4ijE7N/H86HTU3w7q6v8o3oiovUhN4SYGEVTBCeKUfT7fYiZmuCGGUuLmIstHDejyJVk/9YWv35rXcyBLy7y/PHZC8chxgvj/5saWBShqPOY+d089zrmeJ8TES1v8NxwplzPeIz3+9om5n3f82NvYu2khfuamOWmEXELiwX0Rf8Uyn0lZA+UDrFgRSKMG5p+CDFOvGNIPcVKFw1bpkZ4bn/xLJqmPPj+D7L2xgnMv7uEn/tIgIUwFvbyghUH7jsAMfO38Gvzf/3i70DMK89zs5V60oAYn/Png+Yr0RYGGlJTsXser+fCbn4f9fo4dvbOcT1HL0KzE5F+J688O724nl6ZOCCnq7xnSuONQMkNS+sLTUdTaolnBXvTNQzDMIyKsEnXMAzDMCrCJl3DMAzDqAibdA3DMAyjIqoxx7iq/I9qaiGS5s7jh+2+KL5sm4ioEMsCTUglku0lYdJcVjmSwiUNNcbLZdrfOKISkRA4BKh/Ii+OuVvih+0joqNjxZTk1NOnWPve7zoEMVGTiymypAYxZZ2fVxBj1ZBssMbaczNoMtBq8/U2NrhgpttFAVSrydcJpAKDiNY3uLnC/kPXQMzGJhcCnVtSRDWHeF88/eyLEHPpMj/mRhsrLm3xw6EBegzQ7fceZu1aDc/9ow/wqjTX3nQrawc9NCnprnOzgnAWBVoXTnAR2S/97E9CzMBzgczN96AIL834iQ2UClCU80eQD5SqWlLrleN9nWV8vBc1HO8NzzdUrPI+na9jX3zofR9h7ToeHs22uXhoamEOYuZFhayDu7HSVdHiG3f70dTi//zXXDh16WUUwk0EB1g7rK9DzFAINp3HqcARv9fzggsA77zzJljHez7+m200VnE18ZxWVKney+e9IsB14pjheauJYrXKcyJCe5RLoyNF2btTsa+96RqGYRhGRdikaxiGYRgVYZOuYRiGYVRE5QUPAmWXXiR1NQMN+Uu8zN8SEfkd5VC/8r8zfKIlVrfflzyeINJyDmIrouCBd5ivzUXyoAgwr0PE83k15bRXl3nOLc4xhzTs8lzn9GEsVFC6Zdb2XTzmtM9zpBMzaKDhS37uS2s8D9xuYj45ECn54RBNEUbGeK7upeNoTBC1uIF/NHYYYj722cdYOyXs9zTkOeYTx9D4oimKNNTqeE8MRH+9+BKaDNx6+Ga+3ekJ1n7lRTQd2NzihgYHD01CzL/6pR9k7XCAhhA3X/9G1k5DNKzY7PL9xyHm0+KIX9N0oOR0xT1RU8YBiVywJ7xnk5Kv96m/fpC1H/0UL7hBRHT3vd/G2itraOB/5M4DrD1/M47tuuOJ/PU+3pCHbuPFH9773j+BmGOP8HExluA9WwRSz6GY5wizh1gpRtEf8Os1OsJNNhYOoHYjL3iefHwMNQ29UhSUifH4pJHJTooJKCld0PBohkmBqKajSIrwQa3kbwszxzAMwzCMbyxs0jUMwzCMirBJ1zAMwzAqwiZdwzAMw6iISoRUXykoiCKlXAT+vSANKmSCXF9P2w5X57gUTQbkvrQEvSQf4nkFkfgIXGToc8XsYSgXKUKEIORipkYNRQ+tjAslHvrk4xDzxne8lbXPnn8SYnYf4dWBPv6HH4aY/fPXsXY6wL64uMSrCDWmhIGAx77oCLFOvY7nWYjr2c/QEOXpx47xXYX4Ub+vc9ODXm8DYlY2uajs5rvQNOLxz32Ote+94y6IOfbiS6zdbLYhpp/yCkvpOX7NR/eh2cOJLX6eP3HPfRBDW1zAtnDHbggZGVth7dNraHbSHOPCpeFgGWK6fS7AigI0jXBeinyU+zri6pfxAY6DD/z+B1j7lRd5NZ65vWj2sJrycTq1+wDGrPHz6isGMrdM8HOYvxarYb3nn/8ua194BoVw86NczOQaimjRcTFh6VsQk+e8v6IaTgXDjC+bn+fjyTs0kAkC3u9hhEKvsiaep8rzXhpWBAHG5AV/fsnntoZTHSxEpTfV6Eg0dyia0rA3XcMwDMOoCJt0DcMwDKMidjzpOucC59wTzrm/eLV9wDn3sHPumHPuDxwYYRqGYRiGcTVfyUT5M0T0AhF9IRnxq0T0a9779zvn/l8i+p+J6D+pa171e3yS4wfyufjBPEvwQ+3VPs8DjGUYE6R8mVNOLwj57/6KjzYYV4c7yBVoZh25cM7OI4xpRTxHU4ocblZgfigJ+AGGBfapJ55bGdbQVX9SbPrsBy9BzMrtPL83vWs/7qt3lLXnp7FwwuY6zz1FNTSxcJM8b9ls8RzS+jo3XCcicjHPvXZLzG8P1/l1uKgUM2g3eU5SGjIQEV3u835eWbwMMXPzPH+2tYxGHHPCGGR9U9EMiDx9fQTHgeyOep2Piz0H0Xj/R7/nH7D2ytpZiLnvO29h7YIwb7g+4P0Tl2iOUXb4ei7FPo1EvjaM8L6OIr6eG+JNG6W8vzZHsU9/8M7rWfu3j/GCFbOTmDc/dZHfE2MLOP67Qz4u7pzAghoXVs+x9m/86n+BmJVlfg5xrQExoUjP9odrEJMkPF/cT7G/4oifayFr/yoAACAASURBVKRVogm4ZuHGG3hBjc1NzDk3d4tx2kSniYHQVIRq8QC+TKnXAoUSVE8LOXbwEUxemDGFgfY8FRoerUhDqRykwo7edJ1zC0T0TiL6zasWfzsRfUGZ8LtE9L072qNhGIZhfIuy05+Xf52I/gW9quFyzk0R0Zr3/gtT+zkiQomjYRiGYRhfZNufl51z30VEl733Tznnvu3qf9rpTv7rsee++P+3jU/TrZOzX8kxGoZhGMY3LI+dOEmPvXJiR7E7yem+kYje5Zx7JxE1iGiEiN5LRGPOueDVt90FIjr/pTbwQ9e+ZsweKDldwzAMw/jvlbsPHaQ7D7yW7//NT376S8ZuO+l673+RiH6RiMg59xYi+jnv/Q875/6IiL6fiP6IiH6UiP78y2xD/f8vIKszeEIRROH5ZF0qSeudxMiPo9UPoQWaV4c0x5BtDS1GCrB2tl2/bYwUn0Sxth3eP/EICmZOP/sKa9/2tlsgJls+wNpBhhVxekIfU3aVakBtboyweJobREzN7oF1+qlQRsQ4pBeXudjkwgqKT1Li4o7Rcay+Q46LheIQRVvZkC+bWdgFMRtbvE9PnT0KMe0WF8OsLqERRz7kxzN3BxdodZ57Htd58xF+fKKyDRFRusj7J2rieV4echVXWKIAKnZSDKNVeOHjMlLKt8RC/ZIoY7kR8+s3VG7aaDevwnT/Tbex9h8//AisM76fV3JafBHfZq67mQvWLpzB94/3/yU3jLl0cR1imiN7WbtWU6opeX7fjDZwfPVSLpocDlBEGSRcpOUzvB8X9vFfJCOhJy2Vcjyjo3zcBsoPovK+KQpFSAhzAiKNhEgRNwWyWlGoiLakSMprQiqBMpahFN6X4Gv5TvcXiOhnnXPHiGiSiH7ra9iWYRiGYXzT8xV9W+u9/zQRffrV/z9JRK/72zgowzAMw/hmxBypDMMwDKMiKnGRKq/6RVz1kha/3xcO80MF8ZyDzN9eiRHbUfIJO5Fcy3TQV5uv3Ul+Fo29+d9BWg68LGTuWjsiaQauXGqxXhJh7sdv8gMsR3Fn3RX+kbxbx4/m8wbP9Uw00dg+3eA5yoMLPKeUKVdvc8Dz0H/z4EMQ0yn4eFrvYS5KFpEo65hPc3mPtacmMe/bS/n1S3M03t+z/wBrL6+jyUYp8lydjT7EXHct78OZPi8YMf2O22Gdw3u4CchsA/u0M887o7+OxhcjmzymaKGRAxVCI5Bj7i6s8fxeq47jtCZyyqFS+CIQOpCWQ6P9YA+/XrN1fszjyivIqdPHWfuGqRmI6R/mbT+C57B0md/HzSaOnSiSuUUcp6nQMNRaOL68GDuR8vgqxfuWV6wlDh7iX4EGEX8GN5QiCdJZaDhEnYg0ngm156t8BivXRnpqaJvJ5XkpD8tSzCWB8qyU9kjqIWsOHgr2pmsYhmEYFWGTrmEYhmFUhE26hmEYhlERNukahmEYRkVUXo5PTTWLD+S1D6HJ878PpBCAiKgUCijN1AI2+1UaX+wkRoqiZJuIyIuKFqGogqR9gO5F9SKtSofcjlZEpBBXoxngdnqLXFwVTaJgZulpLjY5mWE1oMk6r2riuyjaajS4YObSEt/O0iau41pc2HJ+DSsIzezhVV966xcgphSjbnV1GWL2z/KqR2sd5aN+x/vn6CsnIeaOu3i1m717sXLNy88+ydq33XAjxLzj7Tex9siEEL7EeLf1Iy4GOx9jBa3dKReRbW2icUJ3yM99PFaqRnkposHxVROOC40aGnFECV9WlijOISE4bNVQYLRU8vFTH+fX6uAMN88gInriuVOsvaxUsdrfEyYgu1oQ44lXw3IBCuPSggsQaxGK+WoxP6+yxBt7KK5NqDzlpRB1cgyFZ7OzXPzoAn4/Ts2Owzrrm9xYJUnwOoRCFRUkOE4D8TyNlee9E884TSUblXy9QnmewrDU5g0hktJCQkXcq2FvuoZhGIZRETbpGoZhGEZF2KRrGIZhGBVRSU6XGTwoZg/SAELL6cqcm2xfWSZzw8rfFEF1+dq6yDloMXKRTNFIM24izNfGMW43qXFDiCjQzlN8sB+MQMzKIjfa92toTJBu8RzbxBhuZ7Al8kGjbYhJRnmO7ZUz/JjPrqDpxvOPPMoXxJhPo5DnlZpNZd/CRL+7hYb058/y/goamHPbf90+1q6tYo7ZEb82x17AAhEH9/Jc9dvfjoUmwpjnZ2f38n6/fAnPwdX49fOKHqAYCD1AgTH1lOfGilU0+GgKU4tmG69NJMapdvOnmSgKkuBjq5HwnGQZYK66JvLtyfW8gMbok1ybQERUF7qHc5uoV7hlkednNw9rOUreF871ICapiTwmpo+pJhZuruE9UZa8v5otNBta3eL7v+bQAYiJY35fxzX+nGkoxhydAe8L5RQoTXnOuSzx+RWJ516mJFHls9PJigyEz9NQMV5yQsuSa5oBcUmdYrIRaEUQFOxN1zAMwzAqwiZdwzAMw6gIm3QNwzAMoyJs0jUMwzCMiqhGSFW8JroIvDLPiwS0ZlgBYqudCLK0DYERB8bIFPnOPnlGUnE8+Pk5Hg+IuLRKSVJAoJW8KKXwDAVQTpxZpnxFPybME57+4wchpnkjF6Q0HjsHMe0De8XxoVjh/AqvZvPcWd7uoTcGtab4dpdX1yBGah4GfaVqTp1X7Bkomoj6CI9ZXEPx0EyX7z/P8aBjUflkQjEmeNfffzPfdw0FMzfceStrd9a5iKU4hJWcFl86w9qvH7sOYjZDfny9DvbXmDACqIWK2EqM01gRbckKOF4Zy4VYJs1hiIhKEdOXFY6IaLTN+7k3z4VnYyMospkXgr8zA9z3hZPcbOXA2w9DTFts26VKFSthElEUeM+WpRCwlWjQkogKWVqfJjV+LQ4dXMDjKbgIcGyEC9Ey5R5ujXNDjVB5eDphUJEpJYQKUUmtyHFfUjhbUwRjwyHfTqRUEAqkAFcRnUrfIKfNY8ozVsPedA3DMAyjImzSNQzDMIyKsEnXMAzDMCqienOMHXxAHCsfHhfiN3T9N3URo+U6v07spJjCTtjuGLV8sjzzQslfpSlfM1GM7eXH5YViEj8ccoOF8jge0ZlJPox2N6cgxgfcGGG9hznKvzl6ibVXhzzntm/3PKzz4tFTrF2rYa5seZHnXg8fxpzbiZeP8e3UsS+EvwFNz8xBzCvHz7L27vlpiPn0J/6MtX/sh78TYppNXkBg965JiDnzCt/X+D6eW98foknJapPn5VYd5qEaz4jtpmjOn0/yfm438Tw98XFZKCYbLuP5Pe2BFAttRK6M97InlsU4DvIez3/GIzzHWx9FK4ddEzwv/sppNLVYXuJ5/HaiWEJ43od5iufghHFDGGKO0jthXBJjjzmhzegqxUX2HuJjt63kQ0PxHG42+D3RyfFZEDd4nxZD7K96Qxj3KO9+ecHPoRxioYJS5H23ulh0Qz4tM4/jPZTmHDE+kyPh2iLbRERuh5OCvekahmEYRkXYpGsYhmEYFWGTrmEYhmFUhE26hmEYhlERlQiprk4va8KhECpKKOIAJ4QHESbEI/GRtVbVBysa7awyxLbb2ZFZh1LRpZDlK6QYDPe9E4GY3FcY4jpSdNRVjDgO3n4Naz/7mWMQMz3OhRpL7X0QM9Xh59XZwn2d63KRSHuci69WOiiUaDT5OfQ6WNVnzwI30Lh06RLE9ISwxccoLGmL8TQ6iYKxOOIxl87hvt5y/52s3e9fgJi7b7uJtQOnSOrEMSdNLpw661FAszDLxWhP/+FfQcwRIcha2KUI48R9k4eaeEjefyiG8WL8+yEec1nw7YSoCaQk4QvzsoFB0uBAmHWMTqKZSHeNVx5qOqyUtLbFRYFrZ5cgZnKKX5tcudcK4mM5UKrmDId8fMuKPURESV2M3QBFZdcc5PdorojlWkJcBc8dh8c3SPk9WmR4fM0Gf77nUqFIRJGoLFV6ZarKRcUspVpRJioulbnynBYxBR4yFSTnDaSvVLbSsDddwzAMw6gIm3QNwzAMoyJs0jUMwzCMiqgmpxu8tptejr97NwOex6l7/HB8QxypNLImIkqIbyfP0eCgLnKbeYT5Dl/yvM2wQMP3MOY//Gv5BCr4dsoYkwXSKL7IeX4jifEcgoL34WB4EWLGJ3jurpfhORQil3LDETQ4+OiTp1n7fS9sQMy3Zdws/cf/x2sg5iO/9T7Wfq6/B2L2Hr6XtR95+DOs/c7v+HZY57HLf8PaQyWHdGF5kS9QkoKhcN6X44SIqAh4jivv4+2zlPEx2E7QHOD6fTzvdeTOGyEmdfw88tHdEBNsceOSzXE+VtzxU7DO1keeZO2bGxMQc/IEzzE/8LGHIGbvXp4nP3Q3Fk44MjvO2v026jDS3iZr1xLMxWYil1h20VilMc6vzYhiVNA5t8zax5/kJiBPPn4S1hkQP75wiLoCP8XHf2+Az69pkRc/fWERYmoN8QwJcOx0+vyaRzHmocOQj4MkXIeYg3P82dQfYqGQvXP8GVIIs4yih8+UpjDHyJXnYneL5/aDJuowCpHH14pcOJFTTmLcVyRywXmE92xZiIIHfa24gtCkZDiWswzX07A3XcMwDMOoCJt0DcMwDKMibNI1DMMwjIqwSdcwDMMwKqISIVV5lagh1L5sFx+KS78IIqKy3P7DY/nxtmaOUbrtzTDketp25LIo0BL97su2iYh8ygUN4ShPxq90VmGdVsTFHXPNAxCTrvAP9Gt1NDiYXeBCl41VFEntvobH/MMt7ItTEReXPPrhFyDmmXKWtYsOCtj6m1wQdsst3CDikccehXV2zXLxV56PQ8zp01wMduutt0PMMSFK2tpCcUdLmE/0azgm+6e4QOY9P/V6iBmbFwKjFvbp9N5bWfvME4/gdm7mlWI2PsNFZeVT52GdvdP8Ojy1eApirr3zFtauJThuNy7x/nr8Y5+EmOLwAdbefetBiIlrXABVtNEco0i4MGi0MQoxK0t87D766Q9DTHd5hbXzNd7vs9NcHEZENCj5I3JtiPfIMOfGEt0+CqAaDRzvEvlMydRKRNs/4wZi/7v2oEBSCgdbEQo2S+FZ4YRBizQ1IiJ4eO/EyKdU9EdOmPtoW5FVrDTHCkfyOa1th9/HQVOpcieMOHJF7FvkWpUjxN50DcMwDKMibNI1DMMwjIqwSdcwDMMwKqKSnO7V5vtagYFc5AGyXPvwWBisKx8nl2Lbas5hBwUOMA+Bv/HLnIP3eDwklykxI8QN8TuX+SXZPd6GdTa3eH72nL8MMQcOc7OCyf1Kv4tcbLuG+dAjA37uwW0zEHP2g0+x9m92NiHmyBw3gFh4w824naMvsnY8xfN9q2vc3ICIaFYURQiVPyPlR+tnz56FmGuPXM/aLz3/DMQMenz/py+dg5jvfgs/z7SOuZ/6NO/TeowFIraEycf8jfsh5ukP8GM89zcPs/bqEvbXBZHUCkfnIObPH/hL1p7yOP7feP1h1r7/xushpikKlxSX0dTCjfLEYTbRhJjmyCRr50tYOOG5p/i1OHUCjRuOPXOUtRvE85ghYQ48EAU1ikLRbojCBHkXDVpkYY5IMWmQ+dk0xfN0Iv/olGszGPL779CBG3A7jj+LWm3sd1kQgkreDpR8bZHxYy4Uk5lAPIPLTCtwI6tT4HmWJd+XVlDGQfEcPJ5SPJeHGfZ7KXevFDeoNbAYhoa96RqGYRhGRdikaxiGYRgVYZOuYRiGYVREJTnd/KqqwOo3uDn/DX2Y42/q/aETMYpxtdh2qORi4Vd/7dtZ8Ru/zN8SEZWeH6MrlPyLqIYcKB+krTZ5frYZ8Dxrd1HJg7X4Mj+Gudh7vueNrP3MI2haPy7M+V9ePAMxwy3+TeRffeI4xFxe5f1z+3e8AWJWFvk3kp/97Gcg5p4b7mHteJpvt97Ebx1XVvn3yM0Gfm84Oc5N/VeXsch4XXxze+DQIYg5/zI/93aI4+vQjdyA/sD1mOvshvzb65HxSYgZr/Gx88k/+BjEnPwEv16XLvJ14nn+vS0R0cYKvw6TSm7q5//tL7P2+//kv0HMQ0+cYu2pKfxGMRnfxdpuE//Gl7nOpIUFD0Yn+fX76J/8FcT83u9/iG93HAtEvPt7f4S1n3qQf/u8qHyD68XtF8SKX0DAnxedLSwIPzPJx0WzieO08Lx/8hzHVyjyvoXyTBGfPtPu3Ti+yPGcdxzg87QoZCF5vi8th5oLPU5NFAkhwsIJisUBOf/l9/3qAfJ1RAGXKwvFd+BeOU/Rz97jd+DDAX9WpqlS6X6H2JuuYRiGYVSETbqGYRiGURE26RqGYRhGRdikaxiGYRgVUYmQiqMUIRDLCsW/opBmFOX2Rtrq3oUQoQxwZ806F3NsKEUSQmnEofz5koiP5usxmmN0Sy4kmZjgZhhbAQqp1h0Xajz8/FGImXniWda+4ci1EOM6F1j71ItoavHcSS682ehMQMze+7jRxanHnoaY+iEhJCnR2D4VwrfOJj8ezTw9z7nAoruOAocg2L7whNzOs8/hOdRavFjAO+/fAzGzk1wY111Hg4r4CO+v9Rns95UPccOR2ZNoon8x4gUYRse5mGn/ERQl3bdwDWs/2VmBmJFbuYjsh/b9I4h5/Fd+nbVzxXRmc8CPua4YQowI8VDQwGO+tMz78PwJNDe59RpeHOOyUiClNcbH7rW3cJHb6Q9/AtYpSy54ykIcX1MTXHjTXUdR2a5Zfp7NETS92Vjn94T2jAtjURRhiMczN8/Ps9lUCrYIs4mkqQme+PGUpXwGwyrkvTxm3LcXIlRNSFUKsVVRauZD4hp7FFoW4vqlivFSmvJlmykK6pyYJ+IEx3K9sbPp1N50DcMwDKMibNI1DMMwjIqwSdcwDMMwKqKSnG4SvZYvyEpll+KDZacZYAujau+2/3tBK/DsRPJVixkWPCcTKgnbOOTHmMTKb/xiWT3BvNeY5wUPoojnpj5//ASs03U8Z3PXfXdCzLVHuDHCxEH84Ps/v4/nfR9/DHOL3SHPidz1XW+FmBNP8u0M65ivmt3k+Zbpm45ATFTnuZ6D1/PiAUef4XlOIqJhj+e3a8q4iGN+DhPj+BF9RxRpqCn5mZl9vN+PTGKfzu3iedbB/C6IiVrcGP3MX30KYiZe5EUsGjNo9vB91/L9P/75F1h7ss1z0ERE5R6eu/vhe+6BmHyDF1JIT2IhgNsP83zoZoZjZ9DhOcGGkgSUqbrGJBZgOH2eFzNohJivfd1dfDz5cdzO4b28P5793F+z9tw0v3ZERBubfKxsFaixSESedYjeGNRoCxMQJSeYidyi4j1BoSh4kBPmjw/sF6YkHvUTSYOfl9cKChSyqAv/d+cwD+xIrqNpb3h/ySIOV9aT+WMlN0x8/1muPMuHXKsxKLAvChKmMg3s09FR/kybHUdzk9aUFTwwDMMwjG8obNI1DMMwjIqwSdcwDMMwKsImXcMwDMOoiEqEVJoZwdXIqhOZ4o6R5nyZrIBBhMn3rnJ6iTBg8MqxyUWysgcRfiwtzTKIiKKA70sz0CgiLobZSLgKIxvDCiFv/867WDtxmNR/6sHPsvan/81liLmwxtt7990KMTfvP8jaS2so7FrcOsnaB+fugBgvRDRnz1yEmHvv5yKylRV+gPN7FmCdtbOnWDtWxk6RcYFWZ9iFGFnBaKuDwqAfuWuetcfnxyAmG+XjMhzF63fsE7wiztyzaFDRjMQH+7unIKYQ4/u6e29g7XxzC9bZXOYVjtJnUVT20sPcbOWaa/dBTO8AP6/yOdzXaIuLT+oR3gD9LS5MGhR4P84t8DEY3YHVk1bXeR92zrwEMQ88zM0vwu4ia082UQjT2RDPi0KpdiOeBaM1rDg2PsHHivb8kpVrZNU0InyWJglev30LXEhVKOKvkfo0a2eK+YTUQHnxjqaZd4AwVXn0F3CPYlAhhFNFqVQ0EssGA+z3gTC9qbXwPCcmuCBrdjfe1y3Hx7sPcDtBEw1sNOxN1zAMwzAqwiZdwzAMw6gIm3QNwzAMoyIqyenm+Wu5iixXfr/P+O/jMrdxZRlvZykeusyT1Ev8St17zIF8VYiES+kxnyCPp8zwvMKMf5AfhDw39RM/jPmrY+f5dj/w0ccgptbkZgGLPcwbBk2e6zl6DvO1+67l25luY/74XIt/3H558RzETMzxfOgtt98LMSdP8GMcn+djJVRMEQbCHCOIFON2kYcbHUVTi+VVnvO+//43Qsz0kBuZNO9Gg48y5vmg/vOPQkzjFX7McYLJu3T2AGvPBzhuk4TnkEpheNAa5Xk7IqKZmRnW3sIupcN7ee68HWMRAp/zfdWTVYwJuMnAcEvJ+7b5tVjbwLxYNMnzabv2oOkHRXwszyup11nH+2O9w/t9I23COotL3Pw+8vie0kv5eZ5cwZi3jfD7PMvwAPOcP0Ok6b9GEuMFHB/nfTpIUZ9QJqLwi3I8JRhdCFMLxbxDvsfJYgJE+FzUCtzk0phD2ZOMyUs8hyjmMVPzmLffe1DkcJ1SXIG4DqRQ9pUreXoNe9M1DMMwjIqwSdcwDMMwKsImXcMwDMOoCJt0DcMwDKMiqhFSZa8JYnoDFBMFwvii9CgOyITIQEtZByEX0ZRahYuAxxSECfGw5B/1e8XVIhNmD2GE4pzSc4GFlmePalyY5FtcxPLoSUU0Ms5FSUfehJVsjj3zNGvnAxSoXHfoOtae3HMAYs6ff5m1a6ijosVLXCAzNVqDmD2z46y9vrkGMckYX29hFz+viye4aQMR0R6xr7VMMceocSFOd7ABMe1RLnR522E0tSgO8v4KGjiW8zU+vv7i330QYt51HTebaLZR3JGlXJjUbaNALGtz4c9IgwueyklFJSXMFdqKWCff4uO2TJSP/vtcnFOMYb/XBnz/SYznmYpKRGOKEU2/wW+cXhPv6zDiwq68hQYojT6vPFTU+XnmDVwny/jYHg+xEhH1uTCuX+DYbrT4jbO5hTH1mJ9XPsDz7G7xY7zznkMQs9XlosCZ8XGIkSYf2ttXKaq/ySpDpVYGyfHtSjEWEZEXgsgyxTHohZgpLzCm2+dHnSvVlO64Zw9r19oorq03+bYHPbyv5VTiAqUSnlJ1ScPedA3DMAyjImzSNQzDMIyKsEnXMAzDMCqikpxuJ30tHzvMcZeByI8qP/HTUJjWD1PNjILnD2oO/6aQH5xHNTyesi/yvCXuq1HjucRuDz/8DxKeCNgjDCKIiOJJkbNtTbDm8uJZWOehB7jhQhxjLmFtneeMJmdnIMaP8dx1HmL+Zf/+vaz9mQc+CjGjwih+0Mfc2NPPcAOPa667FmLKnOcJf/t3/pK1f+lH3wXrfPwzPEdz/vxJiAk2hMlGA00Q7n0dz3st99Hs4d6b7mTtqNGGmJ/60f+Dtd+6G/s9aPBcYneA49Rn3MhhXKsZInQO8j6KQhwXLuHjXRoyENH/396bB3mWXfWd577tt+eelVWZWfvai5ZuCVqtBRkhgywMCLOMsR0s44mwJwggwDNhgyPGJghHmIghZCKMwyMMGhkYJKFGIQESAqEFdau71Zt6X2vfMiv3zN/6tjt/VNFV53yP1GXTekKt84lQqO+vztvuu+/d/P3O934PxSJP7kYYQ8JIPmpgHj8XhSVKj/qJWsDvRdrF/HEj4sUeeoo4olXnY7AXYN4+EkYSrZLnWZeUAhE+5P1VBPiMjHW4nqO3MYKYwZDve2YW86ynVrn5SkMZp70+H5cz06glEa8marQVjYx4p3lF/4Ip269fuIaISAxB1dTCi0+1ejje87GbjjAXG4vCEnsXUYeR1Pix6nUUpUhjo1L5KurEOAiVZysMb246tW+6hmEYhlERNukahmEYRkXYpGsYhmEYFWGTrmEYhmFUROVCqmGOSf1YzP0jxUQiE9ltLfEv0WIKsZ9sgAuqa54n25NAERkU0hwDhSTNSS6KWumikKSecfHQpjDUONvFzth7hIubhkPlGsa4UcKwj/tZOnOZtWfeuRdivvKlL7H2aBPFJrWI39N6XRHVED/HM889CjGTooLR7jo3PFg/fQm2efPbuXji+d9H4VkQ88Xug+4qxJyYOczac2/YDzGyQNXvfeAzEDNb42YFnToKQPKQV8RJEhSAyEInYb8LMWXI+8vVuLjDFYo5RsnHspPKFyJyJT+4y3HcBiPep2mqVHgRZWhKRahXCkHPYB1NI8aTI6y9qVTECYb8uZGCMSKi0OWizWMGAzy/gRBe5iEeeywQokpFkNXvc1HZwiKa3jz1GBcB7pqehBhp+DOhCEFrdf6Oi5t4j7O+vFZN8iTfubLqEG4hvVa0Oknyvew9mlEUQnDbVwwrFg5wodm+Ayg8o5Bv55QpT4oJXYwVvZwQTgWRFmNCKsMwDMP4O4VNuoZhGIZRETbpGoZhGEZFVJLTTW+Y27V8rVycnCom7F4YocviBleDeK6gzHE/oVjgXWa48D8QJhu+wJhRynN1oxz/fgnr3DxhexMX7HfGx1l799Q8a18+xxfMExH1RP94xRyju8FzxXGsFGTo8zzYUDEB2SOKDjQGmKMMRV7wys4axAyFcfwdJ9Co/crpF/ixQ24mEkxhrrjoXWDtu153GGL+/OEnWPu7b8McamfE71/n+AE8vyXep5/4o89DzBuneP4xV4xChkN+v9pzaLIh06h1r4zBjD9M5YDnrzJtkb/XSoVwQvHcuEzZRprTDDDn5oSJRaqYYyRi7Lgu6hOcfI7rON7FI0tOcVzIcj525WPd7WOH7Yhnop7gGJT3IUgx2ZmN+LXPzOAYLMVF5Mr7a2E33256Dp9raQiRl9jvzin5/v9BdEMNfs7KqxxywZ5wbGcpP78wxqlqbg/P4SYN1D34Ede2DDQ9gOiKuIWFOUrx/VS2r52l8hli33QNwzAMoyJs0jUMwzCMiripSdc5N+6c+yPn3LPOuaedc3c55yadc3/hnHveOfcZ59z4K+/JMAzDML59udlvur9JRJ/yHgYidAAAIABJREFU3t9CRG8goueI6N8Q0We998eJ6HNE9MvfmFM0DMMwjNcGryikcs6NEdE7vPc/TUTkvc+JaMs590NE9M5rYR8ioi/Q1YkYCG8wT3CK4KgshGGFIiAYpUIkogigIGnv8ViF2C5KFFFGKgQqihqg2RQLsZUF3pFYQH30+C0Qc2nAz2f5PDeAWFtFccD+/VwstLaGwqVUmGHM3YrGF+kEF5bUW8ricmEMkjVRVBP2uDKiu4OCscmZDmtPjaN4KGvz4x/Zx0VJb33PUdjmd37tWdYeTaAxQSoMWd7yhtshZmovF6S0Wg2I+bf/1/tZe7KBlWJmp/lYaSnmBT7nPwoNFHFaq8GNLwY7mxATClGPFyKRcqBZE/DPgkD5u1saHCjikzwVZhTK81gMZDUlrCDUJH6dtQFW6Olv8/HkmihmolgYOaB+jYYFP76L+LEvruP5lcJAI2ng+0J2oXMopPIZf47g/UFEYczHXHcHL+KuN+/j51fi2ElibqqR5vhMyHejZnQBVYWEcEoTq0mBlnOKKFYcrFSMObKS34v5RfwhdXKG34vcb0NMkYiKRiX2e9zk/e5jfPYD0RfKFAVivq/FzXzTPUhEq865DzrnHnXOfcA51ySiOe/9MhGR936JiNBixTAMwzCMl7mZJUMREd1JRD/rvX/YOfd+uvqN9mZ8xIiI6M8vXF8KsljfRQfbM18r1DAMwzC+pbj3kefo3keeu6nYm5l0LxDRee/931Qhv4euTrrLzrk57/2yc243EV35Wjt4z+L1guW9YSVLgw3DMAyjEt7+phN0950nXm7/37/zia8Z+4oz4LVJ9bxz7pj3/gUi+h4ievra/36aiH6diH6KiL7mUdwNP3ZHSvGAUJpaKEYAgxFfNN8foeG0zL1q+aq6MLP2wSvnYocyt0FEvYjnJLP8MsSEOd/3+tJFiAmac3wbkUPqK24iK12ex1nvoaFAfYznKHs9zP3Iq0oc5qsyYXDQXcdjbfV4LmVmEhf+58JMZGUVc5R3vuXtrD3Iufn9H37g07DNyfNnWfvMKTQL+P533sH328fxRft5zvmPf/tDELJ9mV97q4a5n6jGc/D9PuZDG7sPsnaZYi5xp+T76UzgdY1yUZhAGFZouTJ5112IC/qLUpgrjPAZGYoCA/EWXmenw00GmpqfjdRY9HGc1oShR6OJz/5al+ctG5ozSMyvfWPI3xdnVlA/EST8HteUHGUgiqgMUnxGutv8syjG82u0eI55uI3jYmGB5zZdgTnwRBTC6HvcjyzYomUaNWOLV0Lms12AY1BOAelIMZUIeD5738E9EOJifl25V8aymFuihpKvrfFxmkLfEHmRq/YO+yu4SV3yzX7t/Hki+gPnXExEp4joZ+iq/cZHnXP/KxGdJaIfv8l9GYZhGMa3JTc16XrvHyei71D+6d2v7ukYhmEYxmsXc6QyDMMwjIqwSdcwDMMwKqISKXFM14UQJaEwSBarCJVF14moMpEkKKYIFVGIRIpC8lCpfBLyxHqtgVUnahkX+ezZv4DnI/+kGaHoYTbg6pJnzp1k7dYYF1oREcXjXFSztnQeYloJF1OkPVw43hYCgtWLKxAjS3AkYyhEaE1xUVlDEZ69+AKX07dum4WYj3/2XtZ+09t5JaIHv6Cc3xQX4tx2+A0Q8uM/8kbW3tpAEVcWcIHKyS9uQMxkjfdFnKC4qdXhNz3qolHIzsYqa8/vx/GVC1HbzhDFXy7in8XCZEbRI1IkBSABikZKIaTSzGEK+czKUi1ElEqTCKU6UL/gz3VzA8dpPJIVjVCoFIuKWZTisbx42z1zgVeo2kpx3DaEuUns8RnORQUheRwioitLy6y97xi+Lzpj/JmthyhCGp8Q40t7nwrzCVmh7WqMuKdKxaBX3K+i08MYxShEfJYr/d6Z4J+NTeJgllXRPKHxRRCLz8R7kYgoE8+a1x4cYeLilMpIpIirNOybrmEYhmFUhE26hmEYhlERNukahmEYRkVUlNO9/vt8WmIOggr++3gtxvxQu83zhmNjmE+Ted6iwGPJfYc1NE/PRjznkGaY0+o5vl1vFXOA/Q1evGDfgcMQs9bj+b2mMHMvMryGTs7zHX0lF/vuH/kB1r7vsUchZiPji8sPT3Qg5sCBA6w9Po65soe++HnW3j+FNtyzUzyH++Ajj0PM3d/9Xax95hQ3HEnGcFws97gB/PvuwlxL3OJ9OL0Xiy386r/4r6y9tYrja2aMj4tVxShkbIznocMB5ijHWvxv3XSwDjHSNMWHqGFAP3phBKDk6QKZr1VybtLIXtNKxHU+ToeEBgyXRc50M8T+2iWMEfz2JMSUZ7hmYX1lCWJmRU65p+TAr4hE9JMnX2TtoIZ51lhceyPEV2Y346Ya7THM0a+t8Wf0SLIPYuptfo/HFRMQGvDzaU3j+yHNhUmKZuhBot8VHQZ6q/AYyAsT5v81oyOIKfEdPDktcqghmqaEwrAiz1Fv0mjxoiRo80KUi+IPtUgpqCFy54VixOFvIi9OZN90DcMwDKMybNI1DMMwjIqwSdcwDMMwKsImXcMwDMOoiEqEVKMbxVMlmlGUIU+sxykmqXc3eJJ6YhZFP1mdi186ijhglIvjK6UGxxIekymVMjpikXwQYYq+DIQoaoRGCQ2h6Tm7ycUm7TEuBCAi+vLjX2TtW++4BWK+8AUubkrmUKCyL+LipjTBKitbjosT6vvRrKMpunRXBxegH3gr78MP3IN9sb7KxRLlzhprv/WdvDoPEdGJN72Ztc8++UWI2TrJzTA+8nunIObCBh87B06MQ0x+gV9DPK5UqJIGGiFWXHKBqHSlVN/JhOgnypQqUalY+C8FMxH+TV0IYUuUKCYSQkileNXQ2Bh//rYj7K/FOt/w9QmaF5zP+Tnufe87IabX4M9EeBkFPFtNPk6z7WWIuXiJP7NXci74y2K8UBeL/opxbNdqXGTTzlA8dHGdj4tMMcqZq/M+3T2H1VLDRNzTcB5iMuLX7ksUBZaOn3OuCepEOaBSCIUKRUgFg6XE92sp3sENUgR2u/iLsZfh+TU8F6z5FgqgvKw85zVTJS4CLGNtP8HXbV9FeZAV7JuuYRiGYVSETbqGYRiGURE26RqGYRhGRVSS0y1uyAWUSn7IZfw0SiXv6xKeE3FQTYCgwoCWc4hjnnvyCeYWC8ePnyvm6c7x/NRW7xzELCzuZ+0BpuVo77FF1g6efpafi2LwccvxE/zYmz2I6e/wz4oW5jKExz91hph/XNvked7pW6chZt/irawdYtqLNs7ynNv+9g7EjK5wg5F//E+/l5/vHjQXWX/k46wdb2He8Eyb52jOPPoExNw+x40RVjfR1KIjDSH62O/e8/sVhjjgU7GGvx5gTCGKBYTKeJdSgyLlecKiUJ4jmXdSjGgiUYTDo0sCZcKAYUbJDa/s4v1Ve/PtEDMT8vs1GmIes1aI/fQVs4cNnl9Pa6hheOr5+1g7Fmb4TtGAyBRqovTXSBYUUO7nyhI3x4ii10FMq8Gf0T27ZyAmTmReFd8PTp6PrE5BRFDDosR7XEIyX8Qo20gDDUd4r2TBg6SBfRpk/J47pTBNKsYcXDcR5piVmMDx+adQJiknv586POdSMczQsG+6hmEYhlERNukahmEYRkXYpGsYhmEYFWGTrmEYhmFURCVCquFIqSx0IyKrnxa4uDyR4g5NfBLw/eROEQekfCF2o62IpIQAJYyVRc+i2ki7jWYd212+6HrvHhRGnL94UeyX/x00uwuFS6cvPMfavW00aei0+OLyQa5UXVnmVXxqtAkxG0u8D+ffvAdiJg9y5dTeGBVjf/pZfp2NW1Bt9fY9/DM/y9tjoegrInrmCS70Wvj+YxDzX/79H/HzbaOobHmZVz2abR+HmGSMj7n1Tez3bMivvXD4d60b8HEa1jFGVnAJlbEcC5FWIUUsSkUcKY4Z9rA6kIv5dlGE+5FimDRDUVl7jN8/KVAkIirFrYh3Y/WdbI2Lqza7eM5TETdKOHkZx/LZZS7eq09xJaFTKuK0E3HtijgzEOKcUvkus73Nz7mmVI1qCE+GyQl8RnLP31++UASS4r4HHs8n97JiEL5PQUAH22hCKv+KMWUpDEeaOL7icT5WXKSIrSL+Xh5m+G5qxLyCl9cEY6J7SmValEIqFyjnc5NfYe2brmEYhmFUhE26hmEYhlERNukahmEYRkVUktPtDq/nvsJQWYwv8l6ZktOVv8Rri8JLmT9QChWENZ6HG2WYE4kCvmg+rCkGGqLgwfIK5jFff+dtrJ3naAjhYm5GPhzxXMZohPmr4YB/Vo/bEBNHwlBgAk0jJgq+3fktvIb2IjcZeOjTfwkxf/87/wFrf/T+j0DMbfv4sf7J+94LMd0F3hdTs3wcPPYfPgzbtN7Bc4Cf/OMnIWa+za9h9+4GxDzpuTFHM8N8bRDz7bwS093h9yYBFwKifs7H5bhXckg53w7GNhGVxJ+BwUCY6KdKrlhoBnLl/JKEPxNhgv1VpMKMoo3jy9f4sS6dQ+OLRsL3U7uIueFwnRe+qG2jQX7e4GPn3sdfgphkjOsjcqFzqAX43mmIvsiG+DzKHgxj5bXa59dZjJQiKk2eMw1CPJ9UvPdcgO9BaervFYMdyFFCBFJqBQ5eaRtlfEnDH5fjnCAfiSBWChWIcdmub0BMJi5de47kR2GgTYuivxStxs12j33TNQzDMIyKsEnXMAzDMCrCJl3DMAzDqAibdA3DMAyjIioRUvVvEA3EMSayGzFP45fKQu0wuolUvzAQ0Bb1u4iLEwJF2FWIhPgoRUGDNCI4eOgoxKQZP58gw/3M751j7f6QVys6ffYMbNPocAHBUKm6MhCmBwdOoOlAM+OLy4spPL/l81z8dejYGyHm+WceY+3DnTmIededvIKRFL4QEe09yMVWX/jPH2Lt6Ahuk/b5342nzmJ1oEMpF6edrKOgbS7gIptuE40cJkLe77HyN2uvx8VoSYQCkB2h7pgtcAyGYhF/pohhhj1uDJLUuZlCpyPKSBFRt8u3uXjmLMT0d3jMZBv7vVPn96p2CI0Jlr/wPGu3EzR7GJvby9oPXD4JMTTO+3lm7yEIWb3CTRBOXlyDmLk9vJLU5joX3ky0FBOcnIvTtIpLZcnvTaPZgphshT+P25s4BmdneJ+GIQo4k5ALJL0sg0REo6EQ4ckXGqHZhPLKBSBGM4gQ78Vc2W9DCBKDDj5rUY0/N/0e3vN2U1TV8or5ipS5KYYxoegLTewr0Uw2NOGuhn3TNQzDMIyKsEnXMAzDMCrCJl3DMAzDqIhKcrrpDcmAoMQf+Utp1O4wpiYWRwdKbkXmEyKtKELB80phEw0OcmFQEYaYG4vEwnWZjyQi+sojj7L233vL90DMxTWeiwrEgu9mG/d75tILrL1r8gDEtCd4Hi5W9rO9zE3hXR1zWkcO8RxScfk5iInSCdaePHYEYg62+DnvPPMViDm5j2/X7PJ7Nf3WRdjmP72f72ehhuNiXZgVLCqGKGcznmPb08L+kgvrGw3M3Y1Snt/rKemhzREfO/0hPob1Jt+PzzGnm9T58XNhqNEfotlJLIp37F1cgJhywJ+JsFByVeJYU+UshIx/P79fwe5JiJmq88/SB9Bko90QJhsO79/vf46btiR1NPQYDbipRiiMJhLFgCHLeN6w3sb9+lyY1SjPUSn0Jv0+3pvFKX4/netCjA/5M5ErX5sK8Vqv1TCnm8qPlP1I0wi5iVbvIHBiwDvsi+0Bf9amlBx4PePjIprFAhaZ5++4vERNiixGESpVCUJROKQsMTcsCzd4ZR7TC0Ag9k3XMAzDMCrCJl3DMAzDqAibdA3DMAyjImzSNQzDMIyKqERIVdxQfmGIuW6SeqdQqUwhFyw7ZcE3VH0p8W+KpMWFCMMcq5okQsiVNHBRvzTw+PL9D0LMoWPHWXtlHatgXF7li/in57ixRE1ZqJ2d553YUgRjoRAnjM+i0GUgqrUMVnDBPuVcXFLMocnGjFgkf/fCAYg5e5kv9D/y9jdDzDOf/O+s/e5/9IOs/a/fj9WLou55fn5Tb4CYcJWLv3p+CmI6UYe1R0oFoYG4F01FACIFKt0cxRVrOd/3xjY+FJM5F5LkdTwfX3IxTphw0UqYK9W6hJAqbNQgRlIM8NhOCBmzS+chppHxPt2+uAQxF0MunJIVaIiI+qJi1osvXsaYS1z80pxGQVaecsFTI+bvB1+ggCas81dkqQg4I7GfUKkOFAuzh0IRp8VifCmFiCgTAh5p0kNERKJKThxjn2ZCCKdcFlTNkYXdvFJpR55PplxnJt7dicN7FcyIiksRCtjKnI9lFyomG9JUyStmSF7cL+XZvymRlAmpDMMwDOPvFjbpGoZhGEZF2KRrGIZhGBVRSU63DK7nMwqx2JyIKBLJglj+xk7oJV0qed9CGNsXQyXn0OAxtSaaucvEXH+AudhRxhdr93r4e/7CwjHWvnjmKYhZvsL3M3P8MGs//ujDsM3YODejyJVrWFq+wtp3L+6FmBef4ob0b3zjmyDmmUeeYO1kEY1CnOM5t8devA9ipuMZ1p6roSH9e97Gj/9bv30Pa5dbaChQa3BDjXCAhvnpBM9n5znmdSaGPLc/GkMjh2HK89L1uAMxecHz5EWG4zTIeMxWiHm5ZsD3PQwwz9RwPM/lxNOsPSMyUeeVY2cRH8slekZQLAwqzuWoBwh6vPhE6HFH49PCQGMM83vPLF1k7fu++iweKxE58KwPMU1RcCEUObjRALdp7eJjZzBEwwpZWEUWQCBCAwaNXOTgwzrm2wOR3y6DVy7GMszxuXER74ugUMweZDpU9Feh6BW8GF+For0ZicIvZQ37K5AGKHJwKzGlktMNQn6OeYbnPBrxOSlWzDGkYZNm4BQo2hoN+6ZrGIZhGBVhk65hGIZhVIRNuoZhGIZRETbpGoZhGEZFVCKkirPri5iHDs0oesST+nMTeFpT4zymrVSvSFMuSiriOYipFVx0NBpdgpikv4e1WyEKLDoikd4KUDCwtnGBtfspCm+2E57Ej9a4aCQdcTEKEVG7yUVJ2xlW4IiFKGR7A2OOTfPrLBIUZSzewo91/rFViBk7wq9ro4eiGt/i+z6y8FaI+Z0P8qpMD53ifTNWQwFUkHKRSKyIT/xAiCdivJ+rwuCjOcBxGodcuDEslSowXS546rRxXHSFUO9SiSYbvdVl1j4yj+Ym/YgLUMaFKYLLUdjhhLjKRdincczPJ+ygAKoUopGZCbyGdpuLora3cAx6sR9Fy0SPffUc36ZQzBRKIdAM8Xxqbd4/2Ra/V8M+CnoccVFNu4F9sbXBhXFtRZs5Ie7N9qYiKL2Vn/PWBpryREKolxDupwy40DIN8IRCISZM0yHESG2VNKjQDGTCQDwj0lGDiIZCmTeo4TvOx/ycQ6cYFInnL4y0+ydMXPp4nS0hiBwq1YpqNTEn5UolIkUkrGHfdA3DMAyjImzSNQzDMIyKsEnXMAzDMCqikpzuTnH9t/9CWSSeiDxAqOTuKOaflZqBhlgUHhPmX7wTOZFgD8TUx3iuYOMi5gkLJxacR/j3y7owc9ga4G/+mVhILxfa12K8BlfyPMX2upKvnT/A2ucVQ/rLz/JCAPvrr4eYsQmeWxnfi+czFH167Bju57H7H2DtL3zqyxDzlS9yI5AoEIUJHOZR4viV+6srCjs0Ey2PyTUC3S7mmSaawlBAOrYQkRP3b6CYY6RD/lm8hbmxrlign/l1iDk0yXNRDRJmGS18vKM67x9XU/K1wuQ/6GAONRT97hI8lvQhGOug4cjOJs+d5yn26cVLK6w9jDG/Pazza68rBgcj8fw1G/y6ggLzhq0W32+W4r3qdLhhTK4UUam1+TskIzw/6SMRhPjeCWP+WaEYcWSZ+EzJ25fEryNsoEZGbiVNLTIlh1kQP3agVFJIxBwwPjEDMbLwRVjH/soHwqymnIYYefQaXiYlCRcSxB6LKwx2+PugyDA3nNTMHMMwDMMw/k5hk65hGIZhVIRNuoZhGIZRETbpGoZhGEZFVFNlqHZ9bveyegQRpRnPbvcHKJIajHgifbKOp55EQvCRKn9TNPh2aY6CGVlWxU0q2XchPMjDNoQMHE/Qn76MlXW2Rap/cZYLuxoJiimcKP/RrmPi//Spl1j7773n7RDzUsrNKC6/dAZi/GFeBWbu0AGI6a1xkVbUQsHMrt0HWfsvP4vVkyjmgpS6EMKVSuWYVAhbpiaVyixCtCJFU1dj+HaOUFSTinsVFShiiUQlm0KWaiEi1+BjZRjh+QzFM7B6CcdOIMSF3To/9niIApqW+KyW4bHFbilWKtBIAVtRV/qrz4WEtQCf/Tzl93RnB8U5W0J4FrRxvIfjXFTWKZTKOp6btvTF+UWKMC4r+H1IR0pVn4K/Z8IQ+zSp8051EQrs8pLH9BSnkLoX770Y33FSUOqUCj2jgou9IqVCTiqufSTewVqlnUKYr3hSqsEJkVu9hwKoaMCva7tYhpipKT4O1tfQuKcZ8n23FfOcjU1uSJQEWxATez63rF9EIdVzj52DzzTsm65hGIZhVIRNuoZhGIZRETbpGoZhGEZFVJLT9eX1vFvgMM9UiDROd0vJ62xzw4qZDhYPiBKeSymUXFRdGGf3cjSNmOy8mbW3Lz0IMWcvbrD23IFFiJlY2MXaO+k4xGycPs2Ptc1zzIMe5nWmp4Ux+qZiGJ7zfKNXjMdP3HqctVefwZxEuIcvXH/u2cchZnaaG6wHLTRYb+6eZ+233XECYj70xx9m7Xyd5+BqDsfF0cVDrO1zzH2WIs9UFJi7Gw55jiYvcDF+zfG/UUvlT9Yw4R96h0GxGKfkMO/VaPIckg8wl3hxk+ewUpGT3BlhXnNyxPPJ7QyNL1opf0YixdAmEOMrjnF89UTOtF9ggYhNYTLw0hrm7qjD+2sU4DjIC/4qG6V4PuRFvrHk15VEmJemhD9rYwnmk3c2Ra5TKX4SiHvcqGvvQX7/1lfQ9MYRz8XW2zi+InEvwgD7ImyKHLOSnw1L3qeRGMtOJv+JqCvy0GDUcfWEWLOZKA/SOB8XgWJK0t3i/dWI8N4EJe+vzRV8V7qM3/fTT+H74TOf4uY+Dz94GmJ8hloWDfumaxiGYRgVYZOuYRiGYVSETbqGYRiGURGV5HSbN6wB03KLQ7EezBWYv+r2ea5gdRP/XtgvcqZjyjrF4YD/ph/UJiCmO1xi7azEdXe33P4m1s4n8Pf83/3oX7P2rj27IKY/EGsZ6zzHNjuL5u7rosBBq4G5jNLz/tncwFzn/O451u6duQAxDz1wP2vf8tY7ISYWa5ZfOIO54XFRBPrP/+qLEPMv/vd/ydqf+G/3sPby+edhmytXrrD29BSOi0aD5+WiCPNX3vFx2RnHvHR3h49BJdUJOdwyx7Gc5jw/lWVokL97nq8vXFjcDzHHZ/jYrTV4bsoruWIn8meBUqigDEXh71hZaymKXDR3MIaEqb62vvbY63lxjIPvxJjj7+JrzO+77wmIufc+vu67X6B+oi2KDvR6/NlrKWuNZRdu9/FeeVEaIIkwJxiL9dpa0Y3hDu/TkaLnKMWa4HyovMJDfo5lgWtTY2HOX2tibj9K+GdlwI9dOHyXF6JgRaEUPNi9sJu1x46iPqc/5EUunKIFyvt83Xdcw2e/u8U1O40Sn+tH7+Pv+/kGvsuffoyfz9wY7mfX1PV+/siT8M8vY990DcMwDKMibNI1DMMwjIqwSdcwDMMwKsImXcMwDMOoiEqEVMdvv26EsL5yCf59RRjZK37h1B9wRcPyKgoatne4MGJuGg0O5AJvtQBDyvczMbYAMd0eFzN95MN/BTGve9OtrH3fvU9BjNSV9YVgbGsHDQWkI/3i/n0QsnGW9/MD994LMT/ytu/hu92DorK7bj/G2nsOohjsC5/lC8dnxqYgJh3j/TxewwIRvXNcyHX32+9m7T/52IuwTavD95MrBSxyYYbhR8qCfWHGv7axASH1BhfneEKR1FAs4o8VtVXkhFApQ/P0QIitpjsoMMpLbhLhUv6M5B7PLxGGB4lD8VAoxEMBKf0l6OU78FnZ5n0aTqJYZ3O0ztq1JopYbnk9f/5uu+0gxPwvP/zdrH3Px78MMZ///GdYux7y8b7ZRzORpMkLkHR38DrHRAGLQW8JYlzJ71+rge8dWVBgfLwFMYG4X6liAjIcccP+YoQv1P42vw5PimlEzAVYpSiK4GKcPsKEx/QHuN/ZCd5fpVKcYihMNpIYxVZjTS5mypQCEbWC99fjD7wAMZ/+I656Wl9CI47xJr/W6Wl8HhvjKPbSsG+6hmEYhlERNukahmEYRkXYpGsYhmEYFVFJTnf/7Ude/u+JDcwv1NvcuH2wjfm0wTbPexUbmAcb9XkOK5CVFIioLHk+wTnMmUaOGxPkJR7r7LmTrP26294CMV3Hczsj3A2lGc8frKzwRdin+6dwo22eTzj2utdByN69e1n7hbNPQ8zTjz3G2rvfcCvErInCDltraHxxaA/PKWdK4faoyT87fuI2iMn6PP/zqb+8j7W/773/ALb59Mf+lLUP78O8tDRpqDUxH1P0+flFilFCXBd6gAyvMxvxYzVqmMdst/jxexmO01QUFOinmJ9tiPMpQxFTKIYVwmxeahyIiEgcO9D2Iz5zc2hGUQhnifEO5vELUYTdl6jVGA15rrMWYZ9KGcFP/iyOlR/7qe9i7V/6l7/GzwVvA62L3GeaodnD0iY3aJkYwz7t9/i4aHbwGnp9fqyJGexTF/D357CvPGsjUeBjhPtpjPirf0fJZw8HvENGGb8PgVL4fmKcj+3upYsQk47za88zNABKQp6vbdaxvwbbvDhGtoP9fuE5fl0f/d0vQEyd+Lic34fX1azx62pEmG8PM8vpGoZhGMbfKWzSNQzDMIyKsEnXMAzDMCrCJl3DMAzDqIhKhFSDGxZMzx1Fo4mOGVQMAAAgAElEQVRawkUrG0tYFeP0k2dZO++joEFWBElCjMlE1YudPgpUpiZ4t2x0VyHmlqPvYO2nl7CKz31f4gYVZYmLt2NRCWl8nIse3nvnj8A2aS5MP5T8vRRkTbRxcfnuqRnWPvnUcxAz1+LmAJfPnoWYxiQXHszfjiKp+hzv03yIf+/d99BnWfuut3Bx2nMvYOmON7yBi8gunFbKe4RcKDEkxYwiEiIfHBZEJRcYRTF2fJFKZwnlEXNcDFMoFVRGheivAIVddWGkEtf5fZBmBkSKcCpSqrcIIVypVIrJhcFHm9DsQVwmpQM0HRD+C1QQxrgWvxmDAp+jRocLW3xtGWJqIe/TD/5/v8Xa//GXeZuI6NJlPt6navgc5UJclSsCuy1RoarZRiFOP+OiHx/hIMwK0T+KqCyJueinTPCco4Yw1aihwLXR5Mfv97jILVAqaM1PcgFUvoGixf3T/B2XJPgucJ7HpAMUvNZqXOj13CMo8vwv/+EvWfvArhMQMzXG36e5R+FgW1bwKtCUZJQqRkYK9k3XMAzDMCripiZd59wvOueecs494Zz7A+dc4pw74Jx7wDn3gnPuD51zlXxrNgzDMIxvVV5x0nXOzRPRzxHRnd7719PVn6R/goh+nYh+w3t/jIg2ieiffyNP1DAMwzC+1bnZb6chEbWccyURNYjoEhF9N12dfImIPkRE/56I/h9t40Hv+m/vo2XMfU6LPK+fxnzH1GW+yHp1B/MmrZLnJZYDzA9NtPhv8VMZmilsOZF/wboJ1HnbUdZ+6vfw9/xL29x4fK6mFFcQSa2wzm/JVx/gBhFERLtnuHnHrsVpiBl5fg3THv++uv+rD7H2O979fRDzpS9+kbX3C9MNIjTeXz2NhQlmWjzPG7cxlzh36A7WzlZ4Ll07dilM/R96HEJo1zjv92ap3Afi1+BDJQ8mcoKF24SYJvEc1lQDc2VzTZ6760oxAhGdW+P7GQtwfJUiX1yIdq2Jx44iMQ6UYguxTOHKbYgoEWb3YYzOEmGT58FKpXBCOuD3L/T4Sqol/LNUKeRAAX9Iywxz4E3x/EXRZdb+1f/0EyT5lV98P2svncFrmAp5XtU5NPmP67yQQxlcgZhGInLDJb4Hozo//kDRJ0jjkjjGcy6FEKRs4TORCb1JXYzluuIm0hpxg49dHXx5jr+J52tLj8/aNvFCGK06FlHpn+YxT/3FsxCzMHmYtadwNzQuKnwESiGHSJi4bO3gtScNzK9rvOI3Xe/9JSL6DSI6R0QXiWiLiB4lok3vX844XyCi+Zs6omEYhmF8m3IzPy9PENEPEdF+ujqxtojoPd/g8zIMwzCM1xw38/Pyu4nolPd+nYjIOfdxInobEU0454Jr33YX6eq3YJU/efBzL//3iakpOr4HfyY0DMMwjG9Fnt9aoxeUmgEaNzPpniOitzjn6kQ0IqLvIaKHiGiaiH6MiD5CRD9FRJ/4Wjv4gbve9fJ/B13M6RqGYRjGtyrHx6fp+NTcy+0/Pff814x9xUnXe/8V59zHiOgxIsqu/f8HiOhTRPRh59yvXfvsd77WPjYeP/Pyf8+/cR/8+9gYFzOFDTTHmJrjlSgun7oEMaFI/NdiFAcUXqhEFGOJqORCjRL1KLR06jRrP/kiGkvkAy4iGOLpUFZwUU1vh4swkjr2xblLvHrRzDwajuTCyGHpCgo3brnlFtb+/F/9FcYcP87aly9fhpjpqV2sPTGB4rTlFX78do6L5o8e5eK01cEzrB3W0aRhZ8gX7NdaKGaQOZRCKfdUEhdTSDMDIqLpgAs+XE0zteDtfl/Zzx4uqmnEKPg7d0Us2C/w2qW4Iwx4jHO4jXSQcUpFKOf4Zy7ALJTU5fkhXkMpKhppJhvOy3PG8+kLUaCrYUwgTT4CFPBkxB9kJ9w7ojrez3/1K7/E2r/w0/8OYuoRN4QgpQJaLeZjJx9hX5QlvzdeEZ6RMGXAnlDul1psim/ZauDzGAkhatrnz1pUw2sIxBm1EqwstWuev8t9iNdZD/h2rS081tMnudByawUrJe2a4fuJAnyZB7GsnoTjvSzEdSkVs7yyb42bUi9773+ViH5VfHyaiO66qaMYhmEYhmGOVIZhGIZRFTbpGoZhGEZFVGLd+MCzT7/832+dxZzboTu4CbUnzGN2hCFELz8NMYUwqvYyf0tEJHIZUROPFQvj8Q2H+aGtM9xce3x2EmKyJ0+ydjg2DjHTbd4fWzvcBMFLg3oicgnPvyQNXFy+vs0XqXeUXOeF82dYe6KNudidLW4AsbAHl2PH4nyuKPnjmjCkH9uF5zxM+YJzJ8wePvmZP4Vtfu7/+HnW/vKXHoaYQY/36eQ4Gid0hZF8TTG1cKVcEK9oBkq+n1GKOd2xhBeaSJScWzbkxirDHPsrFgU9gkAs8ldMNwL4O/uVnxGv5FlJ5GuDHI/lMpF/DJWxLPNnEeb35CPglSINMh9aj/Gcvcg3yjR02MZtJhd5vvZHf/ofQszHf/uTrD1KcT97hOyiVAx3IL2u3BovukeRpJB05M1LxUxEaD4GPTwhWYzFed5hvYyPUSKiaA9/xy1O74cYLx4bFyvjVBSNGAZYwOLTX+XFKCJFJ9Js83Ou1/E5qkX82lOlu3pdnqevtZScrvKu1rBvuoZhGIZRETbpGoZhGEZF2KRrGIZhGBVhk65hGIZhVEQlQqqsez0zvbOO1VIyURUjT1CIUCQ8qT/IcDH+UFZM8Zigl1V81ntYKWZ3yEU0yRgKb4aiwoWPMbE+J0wj+imKFeoDvuA8zXkWv6uYDjRbXKzQVkpnZGIRfb2GtzoTx261sFpRUHI1x+oKChoOHj7G2mmJ929tg1ukHa0dg5ikx00/Tq/xPtaq3Ry5lRt8lKFi9iAEdT7H+1ATRhfFAAVQTjwuZaEstBcipHYdz7km1DCBYg5Q5vzeBAFKZuJImFiIENUcw/Nr98rf3bK/YMekmFiUipBKjB2SbSIieSxF/CgFkYqfB1zHsLsDMa1xLhRMGlwktbGDwqD2GD/2P/pJFFLd8/9+nLW7PXxfzEzwseNL7PdAmJtIwxYiFFIFWpfCrUFlUCirDCn3T4qtSIgNp+dReLlwGxdOTUyhuGkgxk6gjdMRF7OunVqBkK1LfC4Zr6FIygljlVZduU7Hz3FTGQeFEOGVmmGMuzlzDPumaxiGYRgVYZOuYRiGYVSETbqGYRiGURGV5HSD4nr+YNDFXFm/L3KxdTytXCz018zTpTlGHONv7FnGDQ6SJuYcvFgInSr5jgPzi6z93+9/AGIaCc8ZKSlm2tnhOeVhxoM642i6Edf5ObdaLYgZDvk1RA7zOnPTPIe7tbkNMesF769mC/Mma2u8ctTh47dCzJkHLvDzC9DcpNXhJil75nneqX4WDT4eevArrD0/txti0owXaYjVQgU8X9VsYF6OCt6HsqAFEVEz4uNy/xwaotRFPihM0KCl1RTXrhTvCN3XLxbglGdEGkQ4mbcjIi/2GygxVPBrKJTxVXr+/Hktb5iLcyyU85H5Ty0tJ661oxj49/o8z9sSz+fEJDctISLa7HKdQWsM79Xf/4F3sfY9v/1FiBmfEMUfciUnWJfmPkqe3EvDCuz3QvRXoRROKIRGIKnhO2S0yXUYobg3t76RP69ERDP7eJ+mKRZ/aHl+b4a5NJ0hilKuaXjxwbMQMy1yuJsD1L+0a/x8Qoe5/h1RiaZQxldnkutmMkW3kmoveAX7pmsYhmEYFWGTrmEYhmFUhE26hmEYhlERNukahmEYRkVUIqS6cXH7YDCAf89zngBvJ5jUr0VSFIVJ6zIXVU2U6ihxwi95SzmfKOZiiVqCgpT1AU/+ZyMUNDSFmKO7hYuuQ+LX1enwY+eK+OTokUOs/dwNVZz+hkZTXgMKcQZ9fg3dHorcdu3hwqReH2MuX+ZCpX2HjkLMdx7lwrOgtwdihgG/F1GdX8PP/ORPwTYnTz3P2rkU5RFRLK59J8dr8EKoF2T492gpqog4xWRjWuh3FqdRkFUT42uU4mPYEEKuoMBjObEYP5AL9pXx78RzI0VTRERSd1MGSkkcsWuvvElCYWqhGTB4Ic5xOe7Ih7y/AkXpInedjlBEOTbJRTVbPS4cjDzeqyTh++kP0dznbe96C2v//m//OcS0m/z9UJZ4fmXA34NZppj7iI4OFJFULkxISsVYJch4TE95JoKMn/P0OBcu7d6DZjrDkO8nU97TgejTWoFCqv5l/q7sXcD39OY2vxdJA+eNuqiARgG+p7s7/JwDmGuIQvHZ1nYPYvxNTqf2TdcwDMMwKsImXcMwDMOoCJt0DcMwDKMiKsnpljfky4ZD/G3eC9OBSDGtbzZ4Xid0Ss5NJHYKJfcjjexrIf5+38/5dv0dzDlsjXjXzUzNQsz5C9ykO1ANBHi+JY74ddYj7IuTIod79CjmUH3G83Djs3h+m6KgQL2OOa2tLb5Afkwx66CEb/f5z38eQv7h+36YtTPChewXlh5n7Y2TvN93dtBgfbzJj3384EGI6W5zA5J0uA4xvXX+WU3Jhw4CPi6aMebKFif4Z5Po0QC5wy1FD1Bv8Zh6oBglhMJEXxQmCJRrwGQsHltupj1HTuTGXKkURRDPkQuV/YhcutyGiCjoi3dGC59Z+Wj1Qnxm0y1+j8enuK5gp4/Hbos8YRBifvvo7Yf5Bw1F39GWRib46i1FsYy0xGekVsoBpZhjyEIcSqGQSOT/R8p7earJtRDTomgDxZhP3sl4LnasOQYxskhD0UVTnvNP8Xdn06MpyZbjOd1Q0d7knms8sh72e+Fl4Rd8x/VF4RnNQGOQ4ZjTsG+6hmEYhlERNukahmEYRkXYpGsYhmEYFWGTrmEYhmFURCVCqhuVGZo5RpqKJHWKCel6zE9VE1tJcwBtMX4t4PuRhgdERIX4W6RVRzFA1ODH16onBbHYd4aih0BU9+gL84lmC8VNgx4XEKytLEHM1DgXHV1ZXoGYQIhqel1c+L9ncYFvE+OQaQsBTzaOlXWWl5dZu66IYeKCi73Gp7jA4fRLL8E2Lz7OxVed9hTEjM9yYcT8IgqyJjv8Hp95EquapEI9MV3Da9g1xsUniVNMLYR4r5fiOG22+biYHMOF/+RFxSChgPKB8oyIbRRrDKj045RnzReiEpEi2vKFFEkpxxJCKspRnOMy8ZliXAIxyviKhDFOb5sLeBpNNHvIUyEYC1HclET8nXb3d70ZYpoNPpajEM1qspBfl/dKlSipgyuVGFGRSnnFUV8YgyQNfK4jYc4x6ssKPfielsKlvEABVE2IArc2rkDM0kvCSMihUG9SvGdW+mg+lET8ulaWcXzVpnhMolT92hCiUxfjezmu43Ya9k3XMAzDMCrCJl3DMAzDqAibdA3DMAyjIirJ6Ua167/HFynmuLZHPJc4W2DObZTwnFt7HHMivRH/nT3yyoJ9SIrg7/Au5LmBDNPQNCUWik822hCztMlzraWS32glPMewsMgX7F9ZXYVtQpGz6Q4xz9QXhiO1dhNipAtCM8f8UCH23W5jfrto8H2nW5gbjlr8nFtKrvrSC6dYe3Y3Nx2YO4ROE8vr/F4FkHci8hs8Zl0pinCu5ONyWMPcT7rFtzsyj3+z1mWe1ytmIjV+Ty8v4b2ZWxD3L8LzCWp8Oy/rHUgjDCIqQ5nTVe65SL4Gmmk9GF8ohhWen7MvFSMOsWtXKGYPIofrFA8CJ7QGQYoPbRkKowuQXCjFTyI+5uIA7+fKJr+f3/sjr8NjP/AwaxfFMsRk27wPkwS1EaFwligyfI4icU8HSr2KvM6fx9kMn+shvcDaWyPeYYOHn4VtxqdFcYq9d0LMoM21GcklfGa3d3ifdpJDELOxzvPkXikisbYuTEmwu6gm8rPLGxsQE9d4TKl8X/WKhkjDvukahmEYRkXYpGsYhmEYFWGTrmEYhmFUhE26hmEYhlERlQipQrqehC5TFP0Mulw8UZYoAIljniRvNjEj7hxPmmdK1YfQcWGE9yhQkYvSwxD/NsmHXJ3QbqN5QS3i55wWeKyxMS5g2Nrioh/NTKTZ5AKaUjEUGG93XnE/uTDraEx0IKbR5gKxl86chJi9h47z82ug4OmBL93H2rcePwIxZY8LlV547inWfvc774ZtkvT1rP30Iw9BTFrwMZcPUUiVi3EgBStEREdEFSanidOEKUMzwHuz2eeP3fLGcxBzxx23snaZKceqy8o1QnCkXIMUV5WKqUUoP1P0IfKJKBUjByeMG7RnTVY98l55JZXy/YDPYyBELKViRBMLMVoZiwtThDC5EH5K8RURPsMnTpyAmJceP8PaLzx3EWJ8nT9/zTG853HE+3RyAgWchRC1JSEKSqOCvw/yIRpLLOzhZiEtMZYfevgMbLP/rltYe/EEVvTywsjkwkUUUk22uFHOxfNrEOOk+ZAi5ltb5yYg07t2QUwuuqcsUXkWiKpQaYYxO4pBkoZ90zUMwzCMirBJ1zAMwzAqwiZdwzAMw6iIagoe3JCjLQrM/aQ9nn8JHZ5W0uD5tIZirlDK3I+SPy5LkdOVq/MJCydEmCqgzQ2eh2grOeYo4MkCl+CxZA5XHrueoAmINPHWqAvT7rUVNNmo1XjM8gbmTfqi+MTcnt0QMz3DDQOOHL8dYu655+Os/dzjT0LM4vwca0uT/yvnsQjBw/fey9qNGhqQFMIQQsutZ9vc0GNKuZ+zk07EYB5/NuHb9fPLEPPAaf4MzC0sQkwr58eqYbqd5FU4kVfFbC3qHiLFDb9Ut5RB4jkusU9LWVxBMeeXF+ELzD96kZv2uVJcIefPRD5Urivhz34YCu2GctmyezIllxfFfMxNTWLhhPUeP9bJk2iO0WzxZ63RwLEchvz43UkcGLEo3iGLqhARTbd4YZDWFD5bsSgOs3yJvx98jB2WzPBrDxt4H7aePcPaS+fwPb16hesutrdRkzI7P8PaZ86h3mRu8SBrDxTtQVSK97Rm9CLeuWkXz2djA/PiGvZN1zAMwzAqwiZdwzAMw6gIm3QNwzAMoyJs0jUMwzCMiqhESOXK69UgQsJF6/mQLyqOY0VM0eCCoriJIoMs50KEUPmbopCVdBRxEwkBQRjhOY9Kfj7aonmhWaG6IjzY6vNzlsYcs7N8kTgRUSgWu6+srEBMSxhUTI5jxRIp4poYw5g44hd2ZQkFIFPTXAC1emUJYn78x3+Utf/iU38GMbNi4Xq8za/rc3/GDTaIiOaneEWqSyt4frVJUUFFuVc1YYCyp4N90dzF7/n+GoopGqKC0VIHq7c8ceYSa7/7jVMQs6fDBTJZgCINT1wgI80xbuZvatVAQ5jTqNWKRCWbUjGWCETFICmIIiJy4lGXxyYiooILW0LCZ98LM4wgRzFMIExkvBAlyapIRPis5YpgbDQSz7AiBmvN8ntcV8x0YuLbFdto4pKW/FiXL1yBmLApjHFk+SkimmhzEdKJYzgVzO/lfXroxD7WXt3EMTm+m19D1lXEmWf4c3P2PIrTTp7k75Bduxcg5vL6Jms3WvjM1sV7cKgYWPSFyC1WzH2kKHAwUiq79fAzDfumaxiGYRgVYZOuYRiGYVSETbqGYRiGURGV5HRnZq7P7WGB+Rgi/ht/qJxVIozk6x3cT57yHMiNhRZeRiSRNHMMCkROK8SYi+d5Xq5083g+cuG/w9ywNKiQhR1kvogIixfU65pRSPl129p2owHmJFyN34xmgrmy5559mrWTJpqw7z18mLXf8l1vh5hzZ0+xdiwMzZW6E0QiB95qYa6sJ/qwVeCOZoRxfC3AezXb4TET7S7E7Ay5OcBnH8T89v4Gz6fdcQD7dJhzo3aZWyTC/L8sKCD/nUjL+yJOFDzwN+GVIY05iHDMafUOhJ+Nep1OPDfFEJ+JKBTFKBQTHpfz8ymI7ydVXHBiYU7jlEEYwgsLY279Tl4I4LHHHoOYyZAXOPADzHUWnp/PQCnssNXlz/HyGuYxnyqeZ+2l898BMT/3b7lWY2YfHwjrT2IOtVHnx3J4CfT457mx0DNn0LgnafDneG2Iz1oY8b5YWNwPMRvbG6w96OMJ1YXzTFTD92lfFGPpD/FdGSU3N53aN13DMAzDqAibdA3DMAyjImzSNQzDMIyKsEnXMAzDMCqiEiHVgUPXDR5qHgVQNWF8ISuhEBElLR7TmcEkfnGJC4xKpapJLEQPRYCijMJzMUcQoZLEOb6AulD0WEUpKp9kmHwfH+eL5jc3+YJvTSQlxVaZUjVnIMRDoVKZKJBVaRSly84WF/QsLOAidbmE/5FHHsbzKbiA4c1vfhPELK3wa50Q9yGp49i5sMzNARqK6UDW5+MiUSqzOM/7a34BqyktNPhC/+XRLoj5s0cvsHY+xDH4o3fxsdvK0WRj1NjD2mmK1YoSx8eBl1V9FHGTFFuVTlFJCbGQ1/42l9uVGOPE+ZTKQyJ9G3yOwiA4fqAosjJ+rUUfxUNlLJ6lBh9fmtgwH/HRHShVrCLxbCn+GTRzgI+VAeH5uRo3emkr1YFGonLadDwDMW6HP2u5x3dIVzwTOxv4Hpye5ee8mnLx6N7DR2CbYp0Ll554EM07vnQvF0z2A6ykNjPOPxvm+O48sIdXEOoqQtAdYYZRSnMkIpqcEP2svCtH4t2tmaQ4pTqehn3TNQzDMIyKsEnXMAzDMCrCJl3DMAzDqIhKcrrRDYuYZ8YwV5bF3HQgzfD38kSYNDTGMN9BSyKvU2B+KJJ5TCV/LA0ESsVAI/f8fLb7aE6eiZxWouQKul2+6Fvma8MYF+zfjDmGzH9ubGxAzN69e1n7xc3TEDO9ixdcyApcXB7VeH57fs8cxPS2+IL4Z596GmIawnjj6ce+ygOkOz4RNaYmWbtMMTc10+JFBxpKrvPQAW5uEnfw79Es4P386fvQ+GIU8nvz3ruOQczEOM+TD7ImxMgaA806jh2ZgpRFCIiUHKoY2y64CeeLAPudhF4izJSiCEo/S5zUXWimFuL503KmMldXOgzKBjy/F4jCKqHH/iqEXqJUcs5RyPOPXnlGqMPv8YGjJyCke5ZrBmSxESKioTD08LGif2ny65r0+K4MOtxIYmYSz3m4xo+163VHWXvjNL5TTv0Fz/t+9MNPQEwqTCQmlUIFWcrfF3v374WYoXAf6o42IaYrcuBzc1hAJqjz+6dpZNL0lYsZxDXMTWvYN13DMAzDqAibdA3DMAyjImzSNQzDMIyKsEnXMAzDMCqiEiHVpYvXBQKzdaUaT8bn/oGyyNkLwUeUKFVXAi6E0PQfUhihaBWgakhKSmJdLMbf2t6GGGmyETdQ8ORTUfVIiE/kwnsiXMQ/VMRDu/dyE4uBEtOe4AKGsZkpiInEovBSOZ+GqMTilQXoqViMf2z/QYh58P4vs3Yv5OKOnT6aSDTaXMSVKSK8RsDPZ25mAmKuLHFTi+UVPNb961yQcuTwLRDzpsNcSNJS+n0p54KxsQ4KMDrFFv9gqBh61ISYSfx7oWmk5GeKkEpWGZKVnIiIvBAgukwxx5AxigKqJsZOoRxLmrhoTjRefFZrogCxEBV5clGtKGqimMiJd0GonJ+sjOShk4m6wiTl9Xe8BWL+7MmP8Q8aikiqLYSWSp+2hfiynuC96QiTopkBvr/KAe+f7R4XTv35n/w1bLP9GN9v3U9CTDjDn6NkiOK0yVkueIpjfJlvrfNndHUd+6Le5udT6ygCXFFdarjVgxBZ7a1QjFTgufka2DddwzAMw6gIm3QNwzAMoyJs0jUMwzCMiqgkp7s5uP5b+zMbK/Dv8/I39QEucp7pLLJ22cBcWSryjUmuJHXFQvYyVQoBtITJedCGmEHJjRFWd/CcXcT3k+1gPqHW5HmAUBhEdGLM94lsH6U1zF+5gn+2c7kLMf52ntvcd0sDYp788kOsfedtWKjg3nvvZe3vvfsdEHP/JW5ynm7IqyA6+vrXsXbvS7yPc8UExKU8t9JSzEQC4nnp9Q00tViY4vd4fgoX0U/s58efm8C8bxJwA3qn5OXGxLD0Q8wl7oj8UBjieK+VX7/AgdQmEBGFwrClUHLgRcy3ixVDenmstK4YQoiYoMTzyVJx/BC/B5RCqxEqxhdhwZ+1dIT5taTJ83uRzL0O8X46ka+VbSI0q6k1FLMTYaqxcAcaQmx/gF9DQymuIB1RnEMdRtnm+5kIcQxO1HkfDnp4j5+9jxtU9D7L390rZ/D0XJPvd34KtQgbK/xdGc9rhhX8edxcx3vT3eB56CJHg6KpyX2s3W6jnmMw4DncQYb5WvlZf6gUPLjJ77D2TdcwDMMwKsImXcMwDMOoCJt0DcMwDKMibNI1DMMwjIqoREhV3JCE7u2goGfVrbL27Y0jENNuC6HLwgLErD57mbX7I0y+13IuFmp1xiAmjrnAYmltHWI21rnIIIlRPNGWJhubyuJ79/UrU2xtoeBoQVz7Iy89DzF3HL6VtYNAEaiIKh27Z3dBzP2iClKniWKwWbGQ/aWXXoKYPQd45aGLFy9CTD7G+3BUSGEQiliCgleOqRP28eIk3++xBTRo2TXG71VU4n5koZ9QcVaBBfKK6EcSKGYKTnwWOjyW9GmQ4iYNGaNtEgodibbmX1YQ0sYX+HAof+LL/UgTHO0EtOuUpjeqoYc0NBDj3ysVhAJZZUgxRZD7gXMhojjgAr8ywFfvzAwX4Y12+hAT1vjxmw2l34UwtZYo1yWMS5oJChC3N66wdi7ERAcXsWJcLiqBbe+g0VFnYpq1hw77otfj1761ge/gUogCp6fRiGNiSgjWFMekXBodraNRSH+Hi62KEV5XHCliQgX7pmsYhmEYFWGTrmEYhmFUhE26hmEYhlERleR0oxt+s89HmF/YEoucJydwAXO7zfNy+w/shZhu6ynWLpVF4ZHI1+7s7EBMvc5zF+0W5graLZ6X6F9ehZgi57/xJzXMJ9QTvgBeFi9oKoYQNbFovq7EdEQOXMszJcJU46WnnwkkgywAAAcRSURBVIWY973vfaz9pb/+AsQcOnGMtZeePwUxMzV+/555/EmIOXInN8eYX9jP2udeeBq2KXt8of3hA7jQ/tgcz+u0I6VwghiWszIXRES9lI+dWDFykCb/3mMOMBClCbScKXxWKoUARFAhclzaNjfzZ7b3ItfptXyyzLe/8n41Q/hQZH7lJRARlaJPySl5VXks5dq9zL1mIgeXKRchtglyfI58wD/LU0W7EYs+VPKYh49yLcvTjzwBMYUwE/E1zC1KPUBLMc9JSv6eiesYMxAm/2HM+7Q9gWY6qzv82tdkHxNRUOc6mkzJpVPKP8sK3M+4eEb37MMcc3OMvwdXVjA3fOkyN/3Y2sSCB6U4n/EmanEm2je8h8/DP7+MfdM1DMMwjIqwSdcwDMMwKsImXcMwDMOoCJt0DcMwDKMiKhFSlaWnpdEm7a5N0GiA1VIKUUUkipRqJJnYThFJeSliUQQXcoF+rChA5Lr67S6KFba2eUULryhASlEkJNEMKsRi+1aLm0+kI6ycceHCBda+++67iYjozOo5OjBztarG6dOnWczMDFYj8QUXB/Q2UFTWn+OL1Js1FG2NjXFhxJJHscnSOX7O0zMoTlu7wgUNYx3eF8ePHIZtaJ0LQMYCFEEQ8eucaWP1FlFYh7Z2cIF8o3n1Oh9avkLfMbeLXKCZUdyEyEcMAykmIiIisetAEWRJ9ZITMZqJhDZO4fxgMzy2jFGNOYQBhDRk0A9+9f/uP3eR7t531QQGDUfwGqQ5h9f6VIqrCtFfikgKYgrsC/mZNJ0hIkrFGAwSfO8cPHKQtV94HE1vwkwIjEZooOFCYY6hjPdWUKNHLy3RnfNXxUfFCN/LU+NcLDQmBJu9Ab6bhttc2JgVKDjqF/x9min3sx7zc260UbQ1Mc0rGI1PYjW4VIzdtXWsBrd8hYurMuxSaggh3PQ4Hmtx9obPHsd9/A2VfdNdSvFijVeXM6vnvtmn8G3BQ1ewPKXx6vLAOXQsM15dHr2MJS6Nbzz287JhGIZhVIRNuoZhGIZREe5mTNL/VgeQbgGGYRiG8RrHfw0BxTd80jUMwzAM4yr287JhGIZhVIRNuoZhGIZREZVMus659zjnnnPOveCc+9dVHPO1jnNu0Tn3Oefc0865J51zP3/t80nn3F845553zn3GOYfO/cb/EM65wDn3qHPuk9faB5xzD1wbz3/onOJeb9w0zrlx59wfOeeevTae77Jx/OrjnPtF59xTzrknnHN/4JxLbCxXzzd80nXOBUT0n4no+4joNiL6CefciW/0cb8NyInol7z3txHR3UT0s9f69d8Q0We998eJ6HNE9MvfxHN8rfALRPTMDe1fJ6Lf8N4fI6JNIvrn35Szeu3wm0T0Ke/9LUT0BiJ6jmwcv6o45+aJ6OeI6E7v/evpqjHST5CN5cqp4pvudxLRi977s977jIg+TEQ/VMFxX9N475e891+99t9dInqWiBbpat9+6FrYh4joffoejJvBObdIRO8lov92w8fvIqJ7rv33h4joh6s+r9cKzrkxInqH9/6DRETe+9x7v0U2jr8RhETUuvZttkFEl4jou8nGcqVUMekuEK8ueOHaZ8arhHPuABG9kYgeIKI57/0y0dWJmYh2ffPO7DXB+4no/6RrxozOuWki2vDXC+VeIKL5b9K5vRY4SESrzrkPXvsJ/wPOuSbZOH5V8d5fIqLfIKJzRHSRiLaI6FEi2rSxXC0mpPoWxznXJqKPEdEvXPvGK9eA2Zqw/0mcc99PRMvXflG4cc3dKxsYGzdLRER3EtFvee/vJKIeXf1p2cbxq4hzboKu/nqwn65OrC0ies839aS+Tali0r1IRPtuaC9e+8z4W3LtZ6KPEdHvee8/ce3jZefc3LV/301EV75Z5/ca4G1E9IPOuVNE9Id09Wfl3ySi8WtaBSIbz39bLhDRee/9w9fa99DVSdjG8avLu4nolPd+3XtfENHH6er4nrCxXC1VTLoPEdER59x+51xCRP+YiD5ZwXG/HfhdInrGe/+bN3z2SSL66Wv//VNE9Am5kXFzeO9/xXu/z3t/iK6O28957/8ZEX2eiH7sWpj18d+Caz8hn3fOHbv20fcQ0dNk4/jV5hwRvcU5V3dXyzb9TT/bWK6YShypnHPvoavfEAIi+h3v/X/8hh/0NY5z7m1E9NdE9CRd/enNE9GvENFXiOijRLSXiM4S0Y97763E098S59w7iehfee9/0Dl3kK4KAieJ6DEi+mfXRILG/wTOuTfQVaFaTESniOhn6Krox8bxq4hz7t/R1T8eM7o6bv83uvrt1sZyhZgNpGEYhmFUhAmpDMMwDKMibNI1DMMwjIqwSdcwDMMwKsImXcMwDMOoCJt0DcMwDKMibNI1DMMwjIqwSdcwDMMwKsImXcMwDMOoiP8ftL+h20Ri2jYAAAAASUVORK5CYII=\n",
      "text/plain": [
       "<matplotlib.figure.Figure at 0x7f3279156278>"
>>>>>>> Stashed changes
      ]
     },
     "metadata": {},
     "output_type": "display_data"
    }
   ],
   "source": [
    "deletepixels_transformed = util.spyral_transformation(np.array(deletepixels))\n",
    "\n",
    "inpaint_image(noisy_image, training, deletepixels_transformed, h, img_matrice)"
   ]
  }
 ],
 "metadata": {
  "kernelspec": {
   "display_name": "Python 3",
   "language": "python",
   "name": "python3"
  },
  "language_info": {
   "codemirror_mode": {
    "name": "ipython",
    "version": 3
   },
   "file_extension": ".py",
   "mimetype": "text/x-python",
   "name": "python",
   "nbconvert_exporter": "python",
   "pygments_lexer": "ipython3",
   "version": "3.4.2"
  }
 },
 "nbformat": 4,
 "nbformat_minor": 2
}
