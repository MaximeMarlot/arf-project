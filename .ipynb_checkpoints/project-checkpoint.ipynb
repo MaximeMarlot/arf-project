{
 "cells": [
  {
   "cell_type": "code",
   "execution_count": 139,
   "metadata": {},
   "outputs": [
    {
     "data": {
      "text/plain": [
       "<module 'Utils.utils' from '/home/max/Documents/upmc/arf/arf-project/Utils/utils.py'>"
      ]
     },
     "execution_count": 139,
     "metadata": {},
     "output_type": "execute_result"
    }
   ],
   "source": [
    "from matplotlib import pyplot as plt\n",
    "from matplotlib import colors as colors\n",
    "import numpy as np\n",
    "\n",
    "import sys \n",
    "sys.path.append('../')\n",
    "import Utils.utils as util\n",
    "from importlib import reload\n",
    "reload(util)"
   ]
  },
  {
   "cell_type": "code",
   "execution_count": 155,
   "metadata": {},
   "outputs": [],
   "source": [
    "def convert_patch_into_vector(patch):\n",
    "    h = patch.shape[0]\n",
    "    #Convert one patch into a column vector for training\n",
    "    print(\"toto : \", patch)\n",
    "    #train_y = list(patch[len(patch)//2]).pop(len(patch)//2)\n",
    "    #return (np.array(patch).flatten(), np.array(train_y))\n",
    "    patch = patch.flatten()\n",
    "    train_y = patch[h*(h//2)*3:h*(h//2)*3+3]\n",
    "    train_x = np.delete(patch, range(h*(h//2)*3:h*(h//2)*3+3)\n",
    "    return (train_x, train_y)\n",
    "    \n",
    "def convert_vector_into_patch(vector, h):\n",
    "    #Convert a one column vector into a patch of size h\n",
    "    return vector.reshape((h,h,3))\n",
    "    \n",
    "def convert_patches_into_training_set(patches):\n",
    "    #Convert a set of patches into a set of vectors\n",
    "    return np.array(list(map(convert_patch_into_vector, clear_patches))).T\n"
   ]
  },
  {
   "cell_type": "code",
   "execution_count": 141,
   "metadata": {},
   "outputs": [
    {
     "name": "stdout",
     "output_type": "stream",
     "text": [
      "taille de l'image :  (256, 256, 3)\n"
     ]
    }
   ],
   "source": [
    "img_matrice = util.read_im(\"Data/imgdataset/space.jpg\")\n",
    "\n",
    "print(\"taille de l'image : \", img_matrice.shape)\n",
    "\n",
    "#noisy_image = delete_rect(img_matrice, 400, 400, 500, 100)\n",
    "#display_im(noisy_image)\n",
    "\n",
    "#display_im(img_matrice)\n",
    "\n",
    "#util.display_im(util.get_patch(50, 50, 4, img_matrice))\n",
    "\n",
    "#noisy_image = util.noise(img_matrice, 0.1)\n",
    "\n",
    "patches = util.get_patches(noisy_image, 3, img_matrice.shape[0], img_matrice.shape[1])\n",
    "\n",
    "noisy_patches = patches[0]\n",
    "clear_patches = patches[1]\n",
    "\n",
    "#display_im(noisy_image)\n",
    "\n"
   ]
  },
  {
   "cell_type": "code",
   "execution_count": 61,
   "metadata": {},
   "outputs": [],
   "source": [
    "converted_patches = convert_patches_into_training_set(patches)"
   ]
  },
  {
   "cell_type": "code",
   "execution_count": 66,
   "metadata": {},
   "outputs": [],
   "source": [
    "tranining = converted_patches[:, 1:]\n",
    "prediction = converted_patches[:, 0]"
   ]
  },
  {
   "cell_type": "code",
   "execution_count": 160,
   "metadata": {},
   "outputs": [
    {
     "name": "stdout",
     "output_type": "stream",
     "text": [
      "toto :  [[[ 28 191 188]\n",
      "  [ 31 191 189]\n",
      "  [ 30 190 188]]\n",
      "\n",
      " [[ 28 191 188]\n",
      "  [ 31 191 189]\n",
      "  [ 30 190 188]]\n",
      "\n",
      " [[ 28 191 188]\n",
      "  [ 31 191 189]\n",
      "  [ 30 190 188]]]\n",
      "New patch :  2\n"
     ]
    }
   ],
   "source": [
    "\n",
    "print(\"New patch : \", len(convert_patch_into_vector(clear_patches[5])))"
   ]
  },
  {
   "cell_type": "code",
   "execution_count": 152,
   "metadata": {},
   "outputs": [
    {
     "data": {
      "text/plain": [
       "2"
      ]
     },
     "execution_count": 152,
     "metadata": {},
     "output_type": "execute_result"
    }
   ],
   "source": [
    "5//2"
   ]
  }
 ],
 "metadata": {
  "kernelspec": {
   "display_name": "Python 3",
   "language": "python",
   "name": "python3"
  },
  "language_info": {
   "codemirror_mode": {
    "name": "ipython",
    "version": 3
   },
   "file_extension": ".py",
   "mimetype": "text/x-python",
   "name": "python",
   "nbconvert_exporter": "python",
   "pygments_lexer": "ipython3",
   "version": "3.5.2"
  }
 },
 "nbformat": 4,
 "nbformat_minor": 2
}
