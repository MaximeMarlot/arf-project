{
 "cells": [
  {
   "cell_type": "code",
   "execution_count": 233,
   "metadata": {},
   "outputs": [
    {
     "data": {
      "application/javascript": [
       "IPython.OutputArea.prototype._should_scroll = function(lines) {\n",
       "    return false;\n",
       "}"
      ],
      "text/plain": [
       "<IPython.core.display.Javascript object>"
      ]
     },
     "metadata": {},
     "output_type": "display_data"
    }
   ],
   "source": [
    "%%javascript\n",
    "IPython.OutputArea.prototype._should_scroll = function(lines) {\n",
    "    return false;\n",
    "}"
   ]
  },
  {
   "cell_type": "code",
   "execution_count": 234,
   "metadata": {},
   "outputs": [],
   "source": [
    "from matplotlib import pyplot as plt\n",
    "from matplotlib import colors as colors\n",
    "import numpy as np\n",
    "\n",
    "import sys \n",
    "sys.path.append('../')\n",
    "import Utils.utils as util\n",
    "from importlib import reload\n",
    "reload(util)\n",
    "\n",
    "from sklearn.linear_model import Lasso\n",
    "from sklearn.multiclass import OneVsRestClassifier\n",
    "from sklearn.preprocessing import normalize\n",
    "\n",
    "np.set_printoptions(threshold=np.inf) #print full arrays\n",
    "from sklearn import linear_model"
   ]
  },
  {
   "cell_type": "code",
   "execution_count": 235,
   "metadata": {},
   "outputs": [],
   "source": [
    "def split_patch(patch):\n",
    "    h = patch.shape[0]\n",
    "    #Convert one patch into a column vector for training\n",
    "    patch = patch.flatten()\n",
    "    pixel_central = patch[(h*(h//2)+(h//2))*3:(h*(h//2)+(h//2))*3+3]\n",
    "    patch_sans_central = np.delete(patch, range((h*(h//2)+(h//2))*3, (h*(h//2)+(h//2))*3+3))\n",
    "    return np.array((patch_sans_central, pixel_central))\n",
    "    \n",
    "def convert_patch_into_vector(patch):\n",
    "    #Convert one patch into a column vector for training\n",
    "    #patch = patch.flatten()\n",
    "    h = patch.shape[0]\n",
    "    patch = np.reshape(patch, h*h*3)\n",
    "    return np.array(patch)\n",
    "\n",
    "def convert_vector_into_patch(vector, h):\n",
    "    #Convert a one column vector into a patch of size h\n",
    "    return vector.reshape((h,h,7))\n",
    "    \n",
    "def convert_patches_into_training_set(patches):\n",
    "    #Convert a set of patches into a set of vectors\n",
    "    return np.array(list(map(convert_patch_into_vector, patches))).T\n",
    "\n",
    "def find_index_noisy_lines(label):\n",
    "    \"\"\"\n",
    "    indexes = []\n",
    "    for index, value in enumerate(label):\n",
    "        if(value == -1):\n",
    "            indexes.append(index)\n",
    "    \"\"\"\n",
    "    label = np.array(label)\n",
    "    indexes = np.where(label < 0)\n",
    "    return indexes\n",
    "\n",
    "def delete_all_indexes_from(dictionary, label):\n",
    "    indexes = find_index_noisy_lines(label)\n",
    "    dictionary = np.delete(dictionary, indexes , 0)\n",
    "    label = np.delete(label, indexes , 0)\n",
    "    \n",
    "    return (dictionary, label)    \n",
    "\n",
    "#test the alpha on a lot of cleared patches and returns an average value\n",
    "def estimate_alpha(noisy_image, dictionary_full, h):\n",
    "    lassocv = linear_model.LassoCV()\n",
    "    listalpha = []\n",
    "    width = noisy_image.shape[1]\n",
    "    height = noisy_image.shape[0]\n",
    "    #params\n",
    "    pas = h+10\n",
    "    start = h//2\n",
    "    endx = height-h//2\n",
    "    endy = width-h//2\n",
    "    #end params\n",
    "    i=0\n",
    "    total = int( (endx-pas)/pas * (endy-pas)/pas )\n",
    "    for x in range(start,endx,pas):\n",
    "        for y in range(start,endy,pas):\n",
    "            label = util.get_patch(x, y, h, noisy_image)\n",
    "            label = list(convert_patch_into_vector(label))\n",
    "            dictionary, label = delete_all_indexes_from(dictionary_full,label)\n",
    "            lassocv.fit(dictionary_full, label)\n",
    "            alpha_ = lassocv.alpha_\n",
    "            listalpha.append(alpha_)\n",
    "            i+=1\n",
    "            if(i%10==0): print(i, \"/\", total)\n",
    "    return np.mean(np.array(listalpha))\n",
    "    \n",
    "\n",
    "def inpaint_image(noisy_image, dictionary, coord_noisy_pix, h, clear_image):\n",
    "    noisy_image_orig = np.array(noisy_image)\n",
    "    dictionary_full = np.array(dictionary)\n",
    "    \n",
    "    #todo question: vérifier qu'il faut bien faire le lassocv pour trouver le alpha sur le clear?\n",
    "    lassocv = linear_model.LassoCV(max_iter=1000)  #1000 by default, 100 works OK\n",
    "    \"\"\"\n",
    "    y, x = coord_noisy_pix[0]\n",
    "    label = util.get_patch(x, y, h, noisy_image)\n",
    "    #label = util.get_patch(x, y, h, clear_image)\n",
    "    label = list(convert_patch_into_vector(label))\n",
    "    lassocv.fit(dictionary_full, label)\n",
    "    alpha_ = lassocv.alpha_\n",
    "    \"\"\"\n",
    "    #alpha_ = estimate_alpha(noisy_image, dictionary_full, h)\n",
    "    #autre idée: en prendre 10 aléatoirement\n",
    "    alpha_ = 92 #calculé pour 12.jpg\n",
    "    \n",
    "    #alpha_ = 0.01\n",
    "    \n",
    "    print(\"alpha = \", alpha_)\n",
    "       \n",
    "    i = 0\n",
    "    nbiter  = int(len(coord_noisy_pix))\n",
    "    while i < nbiter: # DONT USE FOR FOR THIS BECAUSE WE WILL MODIFY THE LIST\n",
    "        x, y  = coord_noisy_pix[0]\n",
    "        \n",
    "        if(i%10==0): print( i, \" / \",  nbiter)\n",
    "        \n",
    "        #print(\"Correction de : (\", x, \", \", y,\")\")\n",
    "        patch = util.get_patch(x, y, h, noisy_image)\n",
    "        labelfull = list(convert_patch_into_vector(patch))\n",
    "        \n",
    "        #print(\"labelfull : \", labelfull)\n",
    "        \n",
    "        dictionary = np.array(dictionary_full)\n",
    "        dictionary, label = delete_all_indexes_from(dictionary,labelfull)\n",
    "\n",
    "        #print(\"--- lasso regression ---\")\n",
    "        \n",
    "        #recalcule du alpha à chaque patch\n",
    "        if(i%1==0) :\n",
    "            lassocv.fit(dictionary, label)\n",
    "            alpha_ = lassocv.alpha_\n",
    "            print(\"alpha = \", alpha_)\n",
    "    \n",
    "        #fin recalcule du alpha\n",
    "        \n",
    "        model = Lasso(fit_intercept=True,alpha=alpha_,positive=True)\n",
    "        \n",
    "        model.fit(dictionary, label)\n",
    "        \n",
    "        res = model.predict(dictionary_full)\n",
    "        \n",
    "        #coef = model.coef_.reshape((1,-1)) #poids\n",
    "        #print(\"nb patch not at zero: \", np.count_nonzero(model.sparse_coef_.toarray()), \" / \", coef.shape[1])\n",
    "       \n",
    "        # corrige juste le pixel central\n",
    "        \"\"\"\n",
    "        newPixel = util.get_centered_pixel(res, h)\n",
    "        print(\"new pixel (lasso): \", newPixel)\n",
    "        noisy_image[x][y] = newPixel\n",
    "        \"\"\"\n",
    "        \n",
    "        def removearray(L,arr):\n",
    "            ind = 0\n",
    "            size = len(L)\n",
    "            while ind != size and not np.array_equal(L[ind],arr):\n",
    "                ind += 1\n",
    "            if ind != size:\n",
    "                L.pop(ind)\n",
    "            else:\n",
    "                raise ValueError('array not found in list.')\n",
    "        \n",
    "        # corrige tous les pixels noirs dans le patch\n",
    "        labelfull = np.array(labelfull)\n",
    "        list_indexes_noise = np.where(labelfull < 0)[0]     \n",
    "        #print(list_indexes_noise)   \n",
    "        indexeach3 = list(range(0,len(list_indexes_noise),3))\n",
    "        listindexes2 = list_indexes_noise[indexeach3] #on prend que 1 sur 3 car 3 valeurs par pixel\n",
    "        xpatch = x-h//2\n",
    "        ypatch = y-h//2\n",
    "        for val in listindexes2:\n",
    "            val = (val/3)\n",
    "            xlocal = int((val)//h)\n",
    "            ylocal = int(val-(xlocal)*h)\n",
    "            #print(\"xlocal = \",xlocal,\" ylocal=\",ylocal)\n",
    "            xglobal = xpatch + xlocal\n",
    "            yglobal = ypatch + ylocal\n",
    "            #print(\"xglobal=\",xglobal,\" yglobal=\",yglobal)\n",
    "            patch = res.reshape(h,h,3)\n",
    "            newpixel = patch[xlocal, ylocal]\n",
    "            noisy_image[xglobal][yglobal] = newpixel\n",
    "            #supprimer de la liste pour pas le refaire\n",
    "            coord_noisy_pix = list( coord_noisy_pix)\n",
    "            currentpixel = [xglobal, yglobal] #ok vérifié\n",
    "            #print(\"remove : \", currentpixel)\n",
    "            \n",
    "            removearray(coord_noisy_pix, np.array(currentpixel))\n",
    "            coord_noisy_pix = list( coord_noisy_pix)\n",
    "            #print(\"left to correct : \",len(coord_noisy_pix))\n",
    "            i = i + 1\n",
    "            if(i%10==0): print( i, \" / \",  nbiter)\n",
    "            \n",
    "            \n",
    "        \n",
    "        #Test a supprimer\n",
    "        #_,clear_patches = util.get_patches(noisy_image, h, width, height)\n",
    "        #dictionary_full = convert_patches_into_training_set(clear_patches)\n",
    "        #print(\"shape : \", dictionary_full.shape)\n",
    "\n",
    "    util.display_im(noisy_image_orig)\n",
    "    util.display_im(noisy_image)"
   ]
  },
  {
   "cell_type": "code",
   "execution_count": 236,
   "metadata": {},
   "outputs": [
    {
     "name": "stdout",
     "output_type": "stream",
     "text": [
      "taille de l'image :  (120, 200, 3)\n",
      "nb pixels à corriger:  (100, 100, 2)\n",
      "200  ,  120\n",
      "nbclear: 68\n"
     ]
    },
    {
     "data": {
      "image/png": "[encoded data removed]",
      "text/plain": [
       "<matplotlib.figure.Figure at 0x7fe968151b00>"
      ]
     },
     "metadata": {},
     "output_type": "display_data"
    }
   ],
   "source": [
    "%matplotlib inline\n",
    "img_matrice = util.read_im(\"Data/imgdataset/10small.jpg\")\n",
    "\n",
    "print(\"taille de l'image : \", img_matrice.shape)\n",
    "\n",
    "#util.display_im(img_matrice)\n",
    "\n",
    "#Taille des patchs\n",
    "h=15 #nombre impair\n",
    "\n",
    "noisy_image, deletepixels = util.delete_rect(img_matrice, 10, 10, 100, 100) #66, 55, 75, 15\n",
    "#10small 65, 50, 80, 15\n",
    "#12.jpg 85, 75, 30, 6\n",
    "\n",
    "print(\"nb pixels à corriger: \", np.array(deletepixels).shape)\n",
    "\n",
    "width = img_matrice.shape[1]\n",
    "height = img_matrice.shape[0]\n",
    "\n",
    "print(width,\" , \", height)\n",
    "\n",
    "util.display_im(noisy_image)\n",
    "\n",
    "_,clear_patches = util.get_patches(noisy_image, h, width, height)\n",
    "\n",
    "nbclear = np.shape(clear_patches)[0]\n",
    "print(\"nbclear:\", nbclear)"
   ]
  },
  {
   "cell_type": "code",
   "execution_count": 237,
   "metadata": {},
   "outputs": [
    {
     "name": "stdout",
     "output_type": "stream",
     "text": [
      "(675, 68)\n"
     ]
    }
   ],
   "source": [
    "training = convert_patches_into_training_set(clear_patches)\n",
    "print(training.shape)"
   ]
  },
  {
   "cell_type": "code",
   "execution_count": 238,
   "metadata": {},
   "outputs": [
    {
     "name": "stdout",
     "output_type": "stream",
     "text": [
      "(9, 2)\n",
      "(3, 3, 2)\n",
      "center= ['5' 'a']\n",
      "(3, 1)\n"
     ]
    },
    {
     "data": {
      "text/plain": [
       "array([[0, 2, 6]])"
      ]
     },
     "execution_count": 238,
     "metadata": {},
     "output_type": "execute_result"
    }
   ],
   "source": [
    "a = np.array([[1, 'a'], [2, 'a'], [3, 'a'], [4, 'a'], [5, 'a'], [6, 'a'], [7, 'a'], [8, 'a'], [9, 'a']])\n",
    "print(a.shape)    \n",
    "a = a.reshape(3,3,2)\n",
    "print(a.shape)\n",
    "print(\"center=\",util.get_centered_pixel(a, 3))\n",
    "\n",
    "#coefsize = (1, 2510)   dicofullsize = (27, 2510)  ressize= (27, 2510)\n",
    "coef = np.array([0,1,2])\n",
    "coef = coef.reshape(-1,1)\n",
    "print(coef.shape)\n",
    "dico = [1,2,3]\n",
    "coef.T*dico"
   ]
  },
  {
   "cell_type": "markdown",
   "metadata": {},
   "source": [
    "1  2  3  4\n",
    "5  6  7  8\n",
    "9 10 11 12"
   ]
  },
  {
   "cell_type": "code",
   "execution_count": null,
   "metadata": {},
   "outputs": [
    {
     "data": {
      "text/plain": [
       "array([['1', 'a'],\n",
       "       ['2', 'a'],\n",
       "       ['3', 'a'],\n",
       "       ['6', 'a'],\n",
       "       ['9', 'a'],\n",
       "       ['8', 'a'],\n",
       "       ['7', 'a'],\n",
       "       ['4', 'a'],\n",
       "       ['5', 'a']],\n",
       "      dtype='<U21')"
      ]
     },
     "execution_count": 239,
     "metadata": {},
     "output_type": "execute_result"
    }
   ],
   "source": [
    "def spyral_transformation(a):\n",
    "    out = []\n",
    "    while (a.size):\n",
    "        out.append(a[0])\n",
    "        a = np.rot90(np.delete(a, 0, 0))\n",
    "    return np.concatenate(out)\n",
    "\n",
    "spyral_transformation(a)"
   ]
  },
  {
   "cell_type": "code",
   "execution_count": null,
   "metadata": {},
   "outputs": [
    {
     "name": "stdout",
     "output_type": "stream",
     "text": [
      "alpha =  92\n",
      "0  /  10000\n"
     ]
    },
    {
     "name": "stderr",
     "output_type": "stream",
     "text": [
      "/users/Etu7/3262287/.local/lib/python3.4/site-packages/sklearn/linear_model/coordinate_descent.py:491: ConvergenceWarning: Objective did not converge. You might want to increase the number of iterations. Fitting data with very small alpha may cause precision problems.\n",
      "  ConvergenceWarning)\n"
     ]
    },
    {
     "name": "stdout",
     "output_type": "stream",
     "text": [
      "alpha =  68.7763377047\n",
      "10  /  10000\n",
      "20  /  10000\n",
      "30  /  10000\n",
      "40  /  10000\n",
      "50  /  10000\n",
      "60  /  10000\n"
     ]
    },
    {
     "name": "stderr",
     "output_type": "stream",
     "text": [
      "/users/Etu7/3262287/.local/lib/python3.4/site-packages/sklearn/linear_model/coordinate_descent.py:491: ConvergenceWarning: Objective did not converge. You might want to increase the number of iterations. Fitting data with very small alpha may cause precision problems.\n",
      "  ConvergenceWarning)\n"
     ]
    },
    {
     "name": "stdout",
     "output_type": "stream",
     "text": [
      "alpha =  66.2403309216\n",
      "70  /  10000\n",
      "80  /  10000\n",
      "90  /  10000\n",
      "100  /  10000\n",
      "110  /  10000\n",
      "120  /  10000\n"
     ]
    },
    {
     "name": "stderr",
     "output_type": "stream",
     "text": [
      "/users/Etu7/3262287/.local/lib/python3.4/site-packages/sklearn/linear_model/coordinate_descent.py:491: ConvergenceWarning: Objective did not converge. You might want to increase the number of iterations. Fitting data with very small alpha may cause precision problems.\n",
      "  ConvergenceWarning)\n"
     ]
    },
    {
     "name": "stdout",
     "output_type": "stream",
     "text": [
      "alpha =  64.6396598662\n",
      "130  /  10000\n",
      "140  /  10000\n",
      "150  /  10000\n",
      "160  /  10000\n",
      "170  /  10000\n",
      "180  /  10000\n",
      "190  /  10000\n"
     ]
    },
    {
     "name": "stderr",
     "output_type": "stream",
     "text": [
      "/users/Etu7/3262287/.local/lib/python3.4/site-packages/sklearn/linear_model/coordinate_descent.py:491: ConvergenceWarning: Objective did not converge. You might want to increase the number of iterations. Fitting data with very small alpha may cause precision problems.\n",
      "  ConvergenceWarning)\n"
     ]
    },
    {
     "name": "stdout",
     "output_type": "stream",
     "text": [
      "alpha =  69.080349695\n",
      "200  /  10000\n",
      "210  /  10000\n",
      "220  /  10000\n",
      "230  /  10000\n",
      "240  /  10000\n",
      "250  /  10000\n"
     ]
    },
    {
     "name": "stderr",
     "output_type": "stream",
     "text": [
      "/users/Etu7/3262287/.local/lib/python3.4/site-packages/sklearn/linear_model/coordinate_descent.py:491: ConvergenceWarning: Objective did not converge. You might want to increase the number of iterations. Fitting data with very small alpha may cause precision problems.\n",
      "  ConvergenceWarning)\n"
     ]
    },
    {
     "name": "stdout",
     "output_type": "stream",
     "text": [
      "alpha =  262.334171234\n",
      "260  /  10000\n",
      "270  /  10000\n",
      "280  /  10000\n",
      "290  /  10000\n",
      "300  /  10000\n",
      "310  /  10000\n",
      "320  /  10000\n",
      "320  /  10000\n"
     ]
    },
    {
     "name": "stderr",
     "output_type": "stream",
     "text": [
      "/users/Etu7/3262287/.local/lib/python3.4/site-packages/sklearn/linear_model/coordinate_descent.py:491: ConvergenceWarning: Objective did not converge. You might want to increase the number of iterations. Fitting data with very small alpha may cause precision problems.\n",
      "  ConvergenceWarning)\n"
     ]
    },
    {
     "name": "stdout",
     "output_type": "stream",
     "text": [
      "alpha =  240.595894834\n",
      "330  /  10000\n",
      "340  /  10000\n",
      "350  /  10000\n",
      "360  /  10000\n",
      "370  /  10000\n",
      "380  /  10000\n"
     ]
    },
    {
     "name": "stderr",
     "output_type": "stream",
     "text": [
      "/users/Etu7/3262287/.local/lib/python3.4/site-packages/sklearn/linear_model/coordinate_descent.py:491: ConvergenceWarning: Objective did not converge. You might want to increase the number of iterations. Fitting data with very small alpha may cause precision problems.\n",
      "  ConvergenceWarning)\n"
     ]
    },
    {
     "name": "stdout",
     "output_type": "stream",
     "text": [
      "alpha =  234.250762206\n",
      "390  /  10000\n",
      "400  /  10000\n",
      "410  /  10000\n",
      "420  /  10000\n",
      "430  /  10000\n",
      "440  /  "
     ]
    },
    {
     "name": "stderr",
     "output_type": "stream",
     "text": [
      "/users/Etu7/3262287/.local/lib/python3.4/site-packages/sklearn/linear_model/coordinate_descent.py:491: ConvergenceWarning: Objective did not converge. You might want to increase the number of iterations. Fitting data with very small alpha may cause precision problems.\n",
      "  ConvergenceWarning)\n"
     ]
    },
    {
     "name": "stdout",
     "output_type": "stream",
     "text": [
      "10000\n",
      "alpha =  235.362676184\n",
      "450  /  10000\n",
      "460  /  10000\n",
      "470  /  10000\n",
      "480  /  10000\n",
      "490  /  10000\n",
      "500  /  10000\n",
      "510  /  10000\n"
     ]
    },
    {
     "name": "stderr",
     "output_type": "stream",
     "text": [
      "/users/Etu7/3262287/.local/lib/python3.4/site-packages/sklearn/linear_model/coordinate_descent.py:491: ConvergenceWarning: Objective did not converge. You might want to increase the number of iterations. Fitting data with very small alpha may cause precision problems.\n",
      "  ConvergenceWarning)\n"
     ]
    },
    {
     "name": "stdout",
     "output_type": "stream",
     "text": [
      "alpha =  233.696015604\n",
      "520  /  10000\n",
      "530  /  10000\n",
      "540  /  10000\n",
      "550  /  10000\n",
      "560 "
     ]
    },
    {
     "name": "stderr",
     "output_type": "stream",
     "text": [
      "/users/Etu7/3262287/.local/lib/python3.4/site-packages/sklearn/linear_model/coordinate_descent.py:491: ConvergenceWarning: Objective did not converge. You might want to increase the number of iterations. Fitting data with very small alpha may cause precision problems.\n",
      "  ConvergenceWarning)\n"
     ]
    },
    {
     "name": "stdout",
     "output_type": "stream",
     "text": [
      " /  10000\n",
      "570  /  10000\n",
      "alpha =  71.0810105323\n",
      "580  /  10000\n",
      "590  /  10000\n",
      "600  /  10000\n",
      "610  /  10000\n",
      "620  /  10000\n",
      "630  /  10000\n",
      "640  /  10000\n",
      "640  /  10000\n"
     ]
    },
    {
     "name": "stderr",
     "output_type": "stream",
     "text": [
      "/users/Etu7/3262287/.local/lib/python3.4/site-packages/sklearn/linear_model/coordinate_descent.py:491: ConvergenceWarning: Objective did not converge. You might want to increase the number of iterations. Fitting data with very small alpha may cause precision problems.\n",
      "  ConvergenceWarning)\n"
     ]
    },
    {
     "name": "stdout",
     "output_type": "stream",
     "text": [
      "alpha =  248.668372052\n",
      "650  /  10000\n",
      "660  /  10000\n",
      "670  /  10000\n",
      "680  /  10000\n",
      "690  /  10000\n",
      "700  / "
     ]
    },
    {
     "name": "stderr",
     "output_type": "stream",
     "text": [
      "/users/Etu7/3262287/.local/lib/python3.4/site-packages/sklearn/linear_model/coordinate_descent.py:491: ConvergenceWarning: Objective did not converge. You might want to increase the number of iterations. Fitting data with very small alpha may cause precision problems.\n",
      "  ConvergenceWarning)\n"
     ]
    },
    {
     "name": "stdout",
     "output_type": "stream",
     "text": [
      " 10000\n",
      "alpha =  223.557685418\n",
      "710  /  10000\n",
      "720  /  10000\n",
      "730  /  10000\n",
      "740  /  10000\n",
      "750  /  10000\n"
     ]
    },
    {
     "name": "stderr",
     "output_type": "stream",
     "text": [
      "/users/Etu7/3262287/.local/lib/python3.4/site-packages/sklearn/linear_model/coordinate_descent.py:491: ConvergenceWarning: Objective did not converge. You might want to increase the number of iterations. Fitting data with very small alpha may cause precision problems.\n",
      "  ConvergenceWarning)\n"
     ]
    },
    {
     "name": "stdout",
     "output_type": "stream",
     "text": [
      "760  /  10000\n",
      "alpha =  103.46171309\n",
      "770  /  10000\n",
      "780  /  10000\n",
      "790  /  10000\n",
      "800  /  10000\n",
      "800  /  10000\n"
     ]
    },
    {
     "name": "stderr",
     "output_type": "stream",
     "text": [
      "/users/Etu7/3262287/.local/lib/python3.4/site-packages/sklearn/linear_model/coordinate_descent.py:491: ConvergenceWarning: Objective did not converge. You might want to increase the number of iterations. Fitting data with very small alpha may cause precision problems.\n",
      "  ConvergenceWarning)\n"
     ]
    },
    {
     "name": "stdout",
     "output_type": "stream",
     "text": [
      "alpha =  14.2984367179\n",
      "810  /  10000\n",
      "820  /  10000\n",
      "830  /  10000\n",
      "840  /  10000\n",
      "850  /  10000\n",
      "860  /  10000\n",
      "alpha =  10.6117851051\n",
      "870  /  10000\n",
      "880  /  10000\n",
      "890  /  10000\n",
      "900  /  10000\n",
      "910  /  10000\n",
      "920  /  10000\n"
     ]
    },
    {
     "name": "stderr",
     "output_type": "stream",
     "text": [
      "/users/Etu7/3262287/.local/lib/python3.4/site-packages/sklearn/linear_model/coordinate_descent.py:491: ConvergenceWarning: Objective did not converge. You might want to increase the number of iterations. Fitting data with very small alpha may cause precision problems.\n",
      "  ConvergenceWarning)\n"
     ]
    },
    {
     "name": "stdout",
     "output_type": "stream",
     "text": [
      "alpha =  0.682307819914\n",
      "930  /  10000\n",
      "940  /  10000\n",
      "950  /  10000\n",
      "960  /  10000\n",
      "970  /  10000\n",
      "980  /  10000\n",
      "990  /  10000\n"
     ]
    },
    {
     "name": "stderr",
     "output_type": "stream",
     "text": [
      "/users/Etu7/3262287/.local/lib/python3.4/site-packages/sklearn/linear_model/coordinate_descent.py:491: ConvergenceWarning: Objective did not converge. You might want to increase the number of iterations. Fitting data with very small alpha may cause precision problems.\n",
      "  ConvergenceWarning)\n"
     ]
    },
    {
     "name": "stdout",
     "output_type": "stream",
     "text": [
      "alpha =  53.2017668553\n",
      "1000  /  10000\n",
      "1010  /  10000\n",
      "1020  /  10000\n",
      "1030  /  10000\n",
      "1040  /  10000\n",
      "1050  /  10000\n"
     ]
    },
    {
     "name": "stderr",
     "output_type": "stream",
     "text": [
      "/users/Etu7/3262287/.local/lib/python3.4/site-packages/sklearn/linear_model/coordinate_descent.py:491: ConvergenceWarning: Objective did not converge. You might want to increase the number of iterations. Fitting data with very small alpha may cause precision problems.\n",
      "  ConvergenceWarning)\n"
     ]
    },
    {
     "name": "stdout",
     "output_type": "stream",
     "text": [
      "alpha =  22.0453243886\n",
      "1060  /  10000\n",
      "1070  /  10000\n",
      "1080  /  10000\n",
      "1090  /  10000\n",
      "1100  /  10000\n",
      "1110  /  10000\n",
      "1120  /  10000\n",
      "1120  /  10000\n"
     ]
    },
    {
     "name": "stderr",
     "output_type": "stream",
     "text": [
      "/users/Etu7/3262287/.local/lib/python3.4/site-packages/sklearn/linear_model/coordinate_descent.py:491: ConvergenceWarning: Objective did not converge. You might want to increase the number of iterations. Fitting data with very small alpha may cause precision problems.\n",
      "  ConvergenceWarning)\n"
     ]
    },
    {
     "name": "stdout",
     "output_type": "stream",
     "text": [
      "alpha =  1215.5059226\n",
      "1130  /  10000\n",
      "1140  /  10000\n",
      "1150  /  10000\n",
      "1160  /  10000\n",
      "1170  /  10000\n",
      "1180  /  10000\n"
     ]
    },
    {
     "name": "stderr",
     "output_type": "stream",
     "text": [
      "/users/Etu7/3262287/.local/lib/python3.4/site-packages/sklearn/linear_model/coordinate_descent.py:491: ConvergenceWarning: Objective did not converge. You might want to increase the number of iterations. Fitting data with very small alpha may cause precision problems.\n",
      "  ConvergenceWarning)\n"
     ]
    },
    {
     "name": "stdout",
     "output_type": "stream",
     "text": [
      "alpha =  56.324146535\n",
      "1190  /  10000\n",
      "1200  /  10000\n",
      "1210  /  10000\n",
      "1220  /  10000\n",
      "1230  /  10000\n",
      "1240  /  10000\n"
     ]
    },
    {
     "name": "stderr",
     "output_type": "stream",
     "text": [
      "/users/Etu7/3262287/.local/lib/python3.4/site-packages/sklearn/linear_model/coordinate_descent.py:491: ConvergenceWarning: Objective did not converge. You might want to increase the number of iterations. Fitting data with very small alpha may cause precision problems.\n",
      "  ConvergenceWarning)\n"
     ]
    },
    {
     "name": "stdout",
     "output_type": "stream",
     "text": [
      "alpha =  13.5233917153\n",
      "1250  /  10000\n",
      "1260  /  10000\n",
      "1270  /  10000\n",
      "1280  /  10000\n",
      "1290  /  10000\n",
      "1300  /  10000\n",
      "1310  /  10000\n"
     ]
    },
    {
     "name": "stderr",
     "output_type": "stream",
     "text": [
      "/users/Etu7/3262287/.local/lib/python3.4/site-packages/sklearn/linear_model/coordinate_descent.py:491: ConvergenceWarning: Objective did not converge. You might want to increase the number of iterations. Fitting data with very small alpha may cause precision problems.\n",
      "  ConvergenceWarning)\n"
     ]
    },
    {
     "name": "stdout",
     "output_type": "stream",
     "text": [
      "alpha =  5.95423278987\n",
      "1320  /  10000\n",
      "1330  /  10000\n",
      "1340  /  10000\n",
      "1350  /  10000\n",
      "1360  /  10000\n",
      "1370  /  10000\n"
     ]
    },
    {
     "name": "stderr",
     "output_type": "stream",
     "text": [
      "/users/Etu7/3262287/.local/lib/python3.4/site-packages/sklearn/linear_model/coordinate_descent.py:491: ConvergenceWarning: Objective did not converge. You might want to increase the number of iterations. Fitting data with very small alpha may cause precision problems.\n",
      "  ConvergenceWarning)\n"
     ]
    },
    {
     "name": "stdout",
     "output_type": "stream",
     "text": [
      "alpha =  1.23398425987\n",
      "1380  /  10000\n",
      "1390  /  10000\n",
      "1400  /  10000\n",
      "1410  /  10000\n",
      "1420  /  10000\n",
      "1430  /  10000\n",
      "1440  /  10000\n",
      "1440  /  10000\n",
      "alpha =  1.9229270062\n",
      "1450  /  10000\n",
      "1460  /  10000\n",
      "1470  /  10000\n",
      "1480  /  10000\n",
      "1490  /  10000\n",
      "1500  /  10000\n"
     ]
    },
    {
     "name": "stderr",
     "output_type": "stream",
     "text": [
      "/users/Etu7/3262287/.local/lib/python3.4/site-packages/sklearn/linear_model/coordinate_descent.py:491: ConvergenceWarning: Objective did not converge. You might want to increase the number of iterations. Fitting data with very small alpha may cause precision problems.\n",
      "  ConvergenceWarning)\n",
      "/users/Etu7/3262287/.local/lib/python3.4/site-packages/sklearn/linear_model/coordinate_descent.py:491: ConvergenceWarning: Objective did not converge. You might want to increase the number of iterations. Fitting data with very small alpha may cause precision problems.\n",
      "  ConvergenceWarning)\n"
     ]
    },
    {
     "name": "stdout",
     "output_type": "stream",
     "text": [
      "alpha =  1.45314868408\n",
      "1510  /  10000\n",
      "1520  /  10000\n",
      "1530  /  10000\n",
      "alpha =  126.848661825\n",
      "1540  /  10000\n",
      "1550  /  10000\n",
      "1560  /  10000\n",
      "1570  /  10000\n",
      "1580  /  10000\n",
      "1590  /  10000\n",
      "1600  /  10000\n",
      "1600  /  10000\n"
     ]
    },
    {
     "name": "stderr",
     "output_type": "stream",
     "text": [
      "/users/Etu7/3262287/.local/lib/python3.4/site-packages/sklearn/linear_model/coordinate_descent.py:491: ConvergenceWarning: Objective did not converge. You might want to increase the number of iterations. Fitting data with very small alpha may cause precision problems.\n",
      "  ConvergenceWarning)\n"
     ]
    },
    {
     "name": "stdout",
     "output_type": "stream",
     "text": [
      "alpha =  176.559500142\n",
      "1610  /  10000\n",
      "1620  /  10000\n",
      "1630  /  10000\n",
      "1640  /  10000\n",
      "1650  /  10000\n",
      "1660  /  10000\n"
     ]
    },
    {
     "name": "stderr",
     "output_type": "stream",
     "text": [
      "/users/Etu7/3262287/.local/lib/python3.4/site-packages/sklearn/linear_model/coordinate_descent.py:491: ConvergenceWarning: Objective did not converge. You might want to increase the number of iterations. Fitting data with very small alpha may cause precision problems.\n",
      "  ConvergenceWarning)\n"
     ]
    },
    {
     "name": "stdout",
     "output_type": "stream",
     "text": [
      "alpha =  210.197857398\n",
      "1670  /  10000\n",
      "1680  /  10000\n",
      "1690  /  10000\n",
      "1700  /  10000\n",
      "1710  /  10000\n",
      "1720  /  10000\n"
     ]
    },
    {
     "name": "stderr",
     "output_type": "stream",
     "text": [
      "/users/Etu7/3262287/.local/lib/python3.4/site-packages/sklearn/linear_model/coordinate_descent.py:491: ConvergenceWarning: Objective did not converge. You might want to increase the number of iterations. Fitting data with very small alpha may cause precision problems.\n",
      "  ConvergenceWarning)\n"
     ]
    },
    {
     "name": "stdout",
     "output_type": "stream",
     "text": [
      "alpha =  238.182593858\n",
      "1730  /  10000\n",
      "1740  /  10000\n",
      "1750  /  10000\n",
      "1760  /  10000\n",
      "1770  /  10000\n",
      "1780  /  10000\n",
      "1790  /  10000\n"
     ]
    },
    {
     "name": "stderr",
     "output_type": "stream",
     "text": [
      "/users/Etu7/3262287/.local/lib/python3.4/site-packages/sklearn/linear_model/coordinate_descent.py:491: ConvergenceWarning: Objective did not converge. You might want to increase the number of iterations. Fitting data with very small alpha may cause precision problems.\n",
      "  ConvergenceWarning)\n"
     ]
    },
    {
     "name": "stdout",
     "output_type": "stream",
     "text": [
      "alpha =  225.970671942\n",
      "1800  /  10000\n",
      "1810  /  10000\n",
      "1820  /  10000\n",
      "1830  /  10000\n",
      "1840  /  10000\n",
      "1850  /  10000\n"
     ]
    },
    {
     "name": "stderr",
     "output_type": "stream",
     "text": [
      "/users/Etu7/3262287/.local/lib/python3.4/site-packages/sklearn/linear_model/coordinate_descent.py:491: ConvergenceWarning: Objective did not converge. You might want to increase the number of iterations. Fitting data with very small alpha may cause precision problems.\n",
      "  ConvergenceWarning)\n"
     ]
    },
    {
     "name": "stdout",
     "output_type": "stream",
     "text": [
      "alpha =  234.324121289\n",
      "1860  /  10000\n",
      "1870  /  10000\n",
      "1880  /  10000\n",
      "1890  /  10000\n",
      "1900  /  10000\n",
      "1910  /  10000\n",
      "1920  /  10000\n",
      "1920  /  10000\n"
     ]
    },
    {
     "name": "stderr",
     "output_type": "stream",
     "text": [
      "/users/Etu7/3262287/.local/lib/python3.4/site-packages/sklearn/linear_model/coordinate_descent.py:491: ConvergenceWarning: Objective did not converge. You might want to increase the number of iterations. Fitting data with very small alpha may cause precision problems.\n",
      "  ConvergenceWarning)\n"
     ]
    },
    {
     "name": "stdout",
     "output_type": "stream",
     "text": [
      "alpha =  231.070661657\n",
      "1930  /  10000\n",
      "1940  /  10000\n",
      "1950  /  10000\n",
      "1960  /  10000\n",
      "1970  /  10000\n",
      "1980  /  10000\n"
     ]
    },
    {
     "name": "stderr",
     "output_type": "stream",
     "text": [
      "/users/Etu7/3262287/.local/lib/python3.4/site-packages/sklearn/linear_model/coordinate_descent.py:491: ConvergenceWarning: Objective did not converge. You might want to increase the number of iterations. Fitting data with very small alpha may cause precision problems.\n",
      "  ConvergenceWarning)\n"
     ]
    },
    {
     "name": "stdout",
     "output_type": "stream",
     "text": [
      "alpha =  222.234538959\n",
      "1990  /  10000\n",
      "2000  /  10000\n",
      "2010  /  10000\n",
      "2020  /  10000\n",
      "2030  /  10000\n",
      "2040  /  10000\n"
     ]
    },
    {
     "name": "stderr",
     "output_type": "stream",
     "text": [
      "/users/Etu7/3262287/.local/lib/python3.4/site-packages/sklearn/linear_model/coordinate_descent.py:491: ConvergenceWarning: Objective did not converge. You might want to increase the number of iterations. Fitting data with very small alpha may cause precision problems.\n",
      "  ConvergenceWarning)\n"
     ]
    },
    {
     "name": "stdout",
     "output_type": "stream",
     "text": [
      "alpha =  240.176521317\n",
      "2050  /  10000\n",
      "2060  /  10000\n",
      "2070  /  10000\n",
      "2080  /  10000\n",
      "2090  /  10000\n",
      "2100  /  10000\n",
      "2110  /  10000\n"
     ]
    },
    {
     "name": "stderr",
     "output_type": "stream",
     "text": [
      "/users/Etu7/3262287/.local/lib/python3.4/site-packages/sklearn/linear_model/coordinate_descent.py:491: ConvergenceWarning: Objective did not converge. You might want to increase the number of iterations. Fitting data with very small alpha may cause precision problems.\n",
      "  ConvergenceWarning)\n"
     ]
    },
    {
     "name": "stdout",
     "output_type": "stream",
     "text": [
      "alpha =  242.860226513\n",
      "2120  /  10000\n",
      "2130  /  10000\n",
      "2140  /  10000\n",
      "2150  /  10000\n",
      "2160  /  10000\n",
      "2170  /  10000\n"
     ]
    },
    {
     "name": "stderr",
     "output_type": "stream",
     "text": [
      "/users/Etu7/3262287/.local/lib/python3.4/site-packages/sklearn/linear_model/coordinate_descent.py:491: ConvergenceWarning: Objective did not converge. You might want to increase the number of iterations. Fitting data with very small alpha may cause precision problems.\n",
      "  ConvergenceWarning)\n"
     ]
    },
    {
     "name": "stdout",
     "output_type": "stream",
     "text": [
      "alpha =  243.026043286\n",
      "2180  /  10000\n",
      "2190  /  10000\n",
      "2200  /  10000\n",
      "2210  /  10000\n",
      "2220  /  10000\n",
      "2230  /  10000\n",
      "2240  /  10000\n",
      "2240  /  10000\n"
     ]
    },
    {
     "name": "stderr",
     "output_type": "stream",
     "text": [
      "/users/Etu7/3262287/.local/lib/python3.4/site-packages/sklearn/linear_model/coordinate_descent.py:491: ConvergenceWarning: Objective did not converge. You might want to increase the number of iterations. Fitting data with very small alpha may cause precision problems.\n",
      "  ConvergenceWarning)\n"
     ]
    },
    {
     "name": "stdout",
     "output_type": "stream",
     "text": [
      "alpha =  835.04893102\n",
      "2250  /  10000\n",
      "2260  /  10000\n",
      "2270  /  10000\n"
     ]
    },
    {
     "name": "stderr",
     "output_type": "stream",
     "text": [
      "/users/Etu7/3262287/.local/lib/python3.4/site-packages/sklearn/linear_model/coordinate_descent.py:491: ConvergenceWarning: Objective did not converge. You might want to increase the number of iterations. Fitting data with very small alpha may cause precision problems.\n",
      "  ConvergenceWarning)\n"
     ]
    },
    {
     "name": "stdout",
     "output_type": "stream",
     "text": [
      "alpha =  83.4708681322\n",
      "2280  /  10000\n",
      "2290  /  10000\n",
      "2300  /  10000\n",
      "2310  /  10000\n",
      "2320  /  10000\n",
      "2330  /  10000\n"
     ]
    },
    {
     "name": "stderr",
     "output_type": "stream",
     "text": [
      "/users/Etu7/3262287/.local/lib/python3.4/site-packages/sklearn/linear_model/coordinate_descent.py:491: ConvergenceWarning: Objective did not converge. You might want to increase the number of iterations. Fitting data with very small alpha may cause precision problems.\n",
      "  ConvergenceWarning)\n"
     ]
    },
    {
     "name": "stdout",
     "output_type": "stream",
     "text": [
      "alpha =  91.5589790349\n",
      "2340  /  10000\n",
      "2350  /  10000\n",
      "2360  /  10000\n",
      "2370  /  10000\n",
      "2380  /  10000\n",
      "2390  /  10000\n",
      "2400  /  10000\n",
      "2400  /  10000\n"
     ]
    },
    {
     "name": "stderr",
     "output_type": "stream",
     "text": [
      "/users/Etu7/3262287/.local/lib/python3.4/site-packages/sklearn/linear_model/coordinate_descent.py:491: ConvergenceWarning: Objective did not converge. You might want to increase the number of iterations. Fitting data with very small alpha may cause precision problems.\n",
      "  ConvergenceWarning)\n"
     ]
    },
    {
     "name": "stdout",
     "output_type": "stream",
     "text": [
      "alpha =  33.5610674567\n",
      "2410  /  10000\n",
      "2420  /  10000\n",
      "2430  /  10000\n",
      "2440  /  10000\n",
      "2450  /  10000\n",
      "2460  /  10000\n"
     ]
    },
    {
     "name": "stderr",
     "output_type": "stream",
     "text": [
      "/users/Etu7/3262287/.local/lib/python3.4/site-packages/sklearn/linear_model/coordinate_descent.py:491: ConvergenceWarning: Objective did not converge. You might want to increase the number of iterations. Fitting data with very small alpha may cause precision problems.\n",
      "  ConvergenceWarning)\n"
     ]
    },
    {
     "name": "stdout",
     "output_type": "stream",
     "text": [
      "alpha =  64.6704573094\n",
      "2470  /  10000\n",
      "2480  /  10000\n",
      "2490  /  10000\n",
      "2500  /  10000\n",
      "2510  /  10000\n",
      "2520  /  10000\n"
     ]
    },
    {
     "name": "stderr",
     "output_type": "stream",
     "text": [
      "/users/Etu7/3262287/.local/lib/python3.4/site-packages/sklearn/linear_model/coordinate_descent.py:491: ConvergenceWarning: Objective did not converge. You might want to increase the number of iterations. Fitting data with very small alpha may cause precision problems.\n",
      "  ConvergenceWarning)\n"
     ]
    },
    {
     "name": "stdout",
     "output_type": "stream",
     "text": [
      "alpha =  115.838882928\n",
      "2530  /  10000\n",
      "2540  /  10000\n",
      "2550  /  10000\n",
      "2560  /  10000\n",
      "2570  /  10000\n",
      "2580  /  10000\n",
      "2590  /  10000\n"
     ]
    },
    {
     "name": "stderr",
     "output_type": "stream",
     "text": [
      "/users/Etu7/3262287/.local/lib/python3.4/site-packages/sklearn/linear_model/coordinate_descent.py:491: ConvergenceWarning: Objective did not converge. You might want to increase the number of iterations. Fitting data with very small alpha may cause precision problems.\n",
      "  ConvergenceWarning)\n"
     ]
    },
    {
     "name": "stdout",
     "output_type": "stream",
     "text": [
      "alpha =  18.9755823179\n",
      "2600  /  10000\n",
      "2610  /  10000\n",
      "2620  /  10000\n",
      "2630  /  10000\n",
      "2640  /  10000\n",
      "2650  /  10000\n"
     ]
    },
    {
     "name": "stderr",
     "output_type": "stream",
     "text": [
      "/users/Etu7/3262287/.local/lib/python3.4/site-packages/sklearn/linear_model/coordinate_descent.py:491: ConvergenceWarning: Objective did not converge. You might want to increase the number of iterations. Fitting data with very small alpha may cause precision problems.\n",
      "  ConvergenceWarning)\n"
     ]
    },
    {
     "name": "stdout",
     "output_type": "stream",
     "text": [
      "alpha =  59.3777759245\n",
      "2660  /  10000\n",
      "2670  /  10000\n",
      "2680  /  10000\n",
      "2690  /  10000\n",
      "2700  /  10000\n",
      "2710  /  10000\n",
      "2720  /  10000\n",
      "2720  /  10000\n"
     ]
    },
    {
     "name": "stderr",
     "output_type": "stream",
     "text": [
      "/users/Etu7/3262287/.local/lib/python3.4/site-packages/sklearn/linear_model/coordinate_descent.py:491: ConvergenceWarning: Objective did not converge. You might want to increase the number of iterations. Fitting data with very small alpha may cause precision problems.\n",
      "  ConvergenceWarning)\n"
     ]
    },
    {
     "name": "stdout",
     "output_type": "stream",
     "text": [
      "alpha =  43.4344781516\n",
      "2730  /  10000\n",
      "2740  /  10000\n",
      "2750  /  10000\n",
      "2760  /  10000\n",
      "2770  /  10000\n",
      "2780  /  10000\n",
      "alpha =  113.826784221\n",
      "2790  /  10000\n",
      "2800  /  10000\n",
      "2810  /  10000\n",
      "2820  /  10000\n",
      "2830  /  10000\n",
      "2840  /  10000\n",
      "alpha =  11.029371639\n",
      "2850  /  10000\n",
      "2860  /  10000\n",
      "2870  /  10000\n",
      "2880  /  10000\n",
      "2890  /  10000\n",
      "2900  /  10000\n",
      "2910  /  10000\n",
      "alpha =  125.731994262\n",
      "2920  /  10000\n",
      "2930  /  10000\n",
      "2940  /  10000\n"
     ]
    },
    {
     "name": "stderr",
     "output_type": "stream",
     "text": [
      "/users/Etu7/3262287/.local/lib/python3.4/site-packages/sklearn/linear_model/coordinate_descent.py:491: ConvergenceWarning: Objective did not converge. You might want to increase the number of iterations. Fitting data with very small alpha may cause precision problems.\n",
      "  ConvergenceWarning)\n"
     ]
    },
    {
     "name": "stdout",
     "output_type": "stream",
     "text": [
      "alpha =  58.4066175778\n",
      "2950  /  10000\n",
      "2960  /  10000\n",
      "2970  /  10000\n",
      "2980  /  10000\n",
      "2990  /  10000\n",
      "3000  /  10000\n"
     ]
    },
    {
     "name": "stderr",
     "output_type": "stream",
     "text": [
      "/users/Etu7/3262287/.local/lib/python3.4/site-packages/sklearn/linear_model/coordinate_descent.py:491: ConvergenceWarning: Objective did not converge. You might want to increase the number of iterations. Fitting data with very small alpha may cause precision problems.\n",
      "  ConvergenceWarning)\n"
     ]
    },
    {
     "name": "stdout",
     "output_type": "stream",
     "text": [
      "alpha =  51.4243876162\n",
      "3010  /  10000\n",
      "3020  /  10000\n",
      "3030  /  10000\n",
      "3040  /  10000\n",
      "3050  /  10000\n",
      "3060  /  10000\n",
      "3070  /  10000\n",
      "alpha =  49.5444255843\n"
     ]
    },
    {
     "name": "stderr",
     "output_type": "stream",
     "text": [
      "/users/Etu7/3262287/.local/lib/python3.4/site-packages/sklearn/linear_model/coordinate_descent.py:491: ConvergenceWarning: Objective did not converge. You might want to increase the number of iterations. Fitting data with very small alpha may cause precision problems.\n",
      "  ConvergenceWarning)\n"
     ]
    },
    {
     "name": "stdout",
     "output_type": "stream",
     "text": [
      "3080  /  10000\n",
      "3090  /  10000\n",
      "3100  /  10000\n",
      "3110  / "
     ]
    },
    {
     "name": "stderr",
     "output_type": "stream",
     "text": [
      "/users/Etu7/3262287/.local/lib/python3.4/site-packages/sklearn/linear_model/coordinate_descent.py:491: ConvergenceWarning: Objective did not converge. You might want to increase the number of iterations. Fitting data with very small alpha may cause precision problems.\n",
      "  ConvergenceWarning)\n",
      "/users/Etu7/3262287/.local/lib/python3.4/site-packages/sklearn/linear_model/coordinate_descent.py:491: ConvergenceWarning: Objective did not converge. You might want to increase the number of iterations. Fitting data with very small alpha may cause precision problems.\n",
      "  ConvergenceWarning)\n"
     ]
    },
    {
     "name": "stdout",
     "output_type": "stream",
     "text": [
      " 10000\n",
      "3120  /  10000\n",
      "3130  /  10000\n",
      "alpha =  1.68184567051\n",
      "3140  /  10000\n",
      "3150  /  10000\n",
      "3160  /  10000\n",
      "3170  /  10000\n",
      "3180  /  10000\n",
      "3190  /  10000\n",
      "3200  /  10000\n",
      "3200  /  10000\n",
      "alpha =  1.83608224168\n"
     ]
    },
    {
     "name": "stderr",
     "output_type": "stream",
     "text": [
      "/users/Etu7/3262287/.local/lib/python3.4/site-packages/sklearn/linear_model/coordinate_descent.py:491: ConvergenceWarning: Objective did not converge. You might want to increase the number of iterations. Fitting data with very small alpha may cause precision problems.\n",
      "  ConvergenceWarning)\n",
      "/users/Etu7/3262287/.local/lib/python3.4/site-packages/sklearn/linear_model/coordinate_descent.py:491: ConvergenceWarning: Objective did not converge. You might want to increase the number of iterations. Fitting data with very small alpha may cause precision problems.\n",
      "  ConvergenceWarning)\n"
     ]
    },
    {
     "name": "stdout",
     "output_type": "stream",
     "text": [
      "3210  /  10000\n",
      "3220  /  10000\n",
      "3230  /  10000\n",
      "3240  /  10000\n",
      "3250  / "
     ]
    },
    {
     "name": "stderr",
     "output_type": "stream",
     "text": [
      "/users/Etu7/3262287/.local/lib/python3.4/site-packages/sklearn/linear_model/coordinate_descent.py:491: ConvergenceWarning: Objective did not converge. You might want to increase the number of iterations. Fitting data with very small alpha may cause precision problems.\n",
      "  ConvergenceWarning)\n"
     ]
    },
    {
     "name": "stdout",
     "output_type": "stream",
     "text": [
      " 10000\n",
      "3260  /  10000\n",
      "alpha =  2.27483058064\n",
      "3270  /  10000\n",
      "3280  /  10000\n",
      "3290  /  10000\n",
      "3300  /  10000\n",
      "3310  /  10000"
     ]
    },
    {
     "name": "stderr",
     "output_type": "stream",
     "text": [
      "/users/Etu7/3262287/.local/lib/python3.4/site-packages/sklearn/linear_model/coordinate_descent.py:491: ConvergenceWarning: Objective did not converge. You might want to increase the number of iterations. Fitting data with very small alpha may cause precision problems.\n",
      "  ConvergenceWarning)\n",
      "/users/Etu7/3262287/.local/lib/python3.4/site-packages/sklearn/linear_model/coordinate_descent.py:491: ConvergenceWarning: Objective did not converge. You might want to increase the number of iterations. Fitting data with very small alpha may cause precision problems.\n",
      "  ConvergenceWarning)\n"
     ]
    },
    {
     "name": "stdout",
     "output_type": "stream",
     "text": [
      "\n",
      "3320  /  10000\n",
      "alpha =  2.11007269375\n",
      "3330  /  10000\n",
      "3340  /  10000\n",
      "3350  /  10000\n",
      "3360  /  10000\n",
      "3370  /  10000\n",
      "3380  /  10000\n",
      "3390  /  10000\n"
     ]
    },
    {
     "name": "stderr",
     "output_type": "stream",
     "text": [
      "/users/Etu7/3262287/.local/lib/python3.4/site-packages/sklearn/linear_model/coordinate_descent.py:491: ConvergenceWarning: Objective did not converge. You might want to increase the number of iterations. Fitting data with very small alpha may cause precision problems.\n",
      "  ConvergenceWarning)\n",
      "/users/Etu7/3262287/.local/lib/python3.4/site-packages/sklearn/linear_model/coordinate_descent.py:491: ConvergenceWarning: Objective did not converge. You might want to increase the number of iterations. Fitting data with very small alpha may cause precision problems.\n",
      "  ConvergenceWarning)\n"
     ]
    },
    {
     "name": "stdout",
     "output_type": "stream",
     "text": [
      "alpha =  2.41600889448\n",
      "3400  /  10000\n",
      "3410  /  10000\n",
      "3420  /  10000\n",
      "3430  /  10000\n",
      "3440  /  10000\n",
      "3450  /  10000\n",
      "alpha =  22.3777781409\n",
      "3460  /  10000\n",
      "3470  /  10000\n",
      "3480  /  10000\n",
      "3490  /  10000\n",
      "3500  /  10000\n",
      "3510  /  10000\n",
      "3520  /  10000\n",
      "3520  /  10000\n"
     ]
    },
    {
     "name": "stderr",
     "output_type": "stream",
     "text": [
      "/users/Etu7/3262287/.local/lib/python3.4/site-packages/sklearn/linear_model/coordinate_descent.py:491: ConvergenceWarning: Objective did not converge. You might want to increase the number of iterations. Fitting data with very small alpha may cause precision problems.\n",
      "  ConvergenceWarning)\n",
      "/users/Etu7/3262287/.local/lib/python3.4/site-packages/sklearn/linear_model/coordinate_descent.py:491: ConvergenceWarning: Objective did not converge. You might want to increase the number of iterations. Fitting data with very small alpha may cause precision problems.\n",
      "  ConvergenceWarning)\n"
     ]
    },
    {
     "name": "stdout",
     "output_type": "stream",
     "text": [
      "alpha =  1.33578907707\n",
      "3530  /  10000\n",
      "3540  /  10000\n"
     ]
    },
    {
     "name": "stderr",
     "output_type": "stream",
     "text": [
      "/users/Etu7/3262287/.local/lib/python3.4/site-packages/sklearn/linear_model/coordinate_descent.py:491: ConvergenceWarning: Objective did not converge. You might want to increase the number of iterations. Fitting data with very small alpha may cause precision problems.\n",
      "  ConvergenceWarning)\n",
      "/users/Etu7/3262287/.local/lib/python3.4/site-packages/sklearn/linear_model/coordinate_descent.py:491: ConvergenceWarning: Objective did not converge. You might want to increase the number of iterations. Fitting data with very small alpha may cause precision problems.\n",
      "  ConvergenceWarning)\n",
      "/users/Etu7/3262287/.local/lib/python3.4/site-packages/sklearn/linear_model/coordinate_descent.py:491: ConvergenceWarning: Objective did not converge. You might want to increase the number of iterations. Fitting data with very small alpha may cause precision problems.\n",
      "  ConvergenceWarning)\n"
     ]
    },
    {
     "name": "stdout",
     "output_type": "stream",
     "text": [
      "3550  /  10000\n",
      "3560  /  10000\n",
      "3570  /  10000\n",
      "3580  /  10000\n",
      "alpha =  2.95769985685\n",
      "3590  /  10000\n",
      "3600  /  10000\n",
      "3610  /  10000\n",
      "alpha =  41.3509799116\n",
      "3620  /  10000\n",
      "3630  /  10000\n",
      "3640  /  10000\n",
      "3650  /  10000\n",
      "3660  /  10000\n",
      "3670  /  10000\n",
      "3680  /  10000\n",
      "3680  /  10000\n"
     ]
    },
    {
     "name": "stderr",
     "output_type": "stream",
     "text": [
      "/users/Etu7/3262287/.local/lib/python3.4/site-packages/sklearn/linear_model/coordinate_descent.py:491: ConvergenceWarning: Objective did not converge. You might want to increase the number of iterations. Fitting data with very small alpha may cause precision problems.\n",
      "  ConvergenceWarning)\n"
     ]
    },
    {
     "name": "stdout",
     "output_type": "stream",
     "text": [
      "alpha =  8.86474531665\n",
      "3690  /  10000\n",
      "3700  /  10000\n",
      "3710  /  10000\n",
      "3720  /  10000\n",
      "3730  /  10000\n",
      "3740  /  10000\n"
     ]
    },
    {
     "name": "stderr",
     "output_type": "stream",
     "text": [
      "/users/Etu7/3262287/.local/lib/python3.4/site-packages/sklearn/linear_model/coordinate_descent.py:491: ConvergenceWarning: Objective did not converge. You might want to increase the number of iterations. Fitting data with very small alpha may cause precision problems.\n",
      "  ConvergenceWarning)\n"
     ]
    },
    {
     "name": "stdout",
     "output_type": "stream",
     "text": [
      "alpha =  18.1812832062\n",
      "3750  /  10000\n",
      "3760  /  10000\n",
      "3770  /  10000\n",
      "3780  /  10000\n",
      "3790  /  10000\n",
      "3800  /  10000\n"
     ]
    },
    {
     "name": "stderr",
     "output_type": "stream",
     "text": [
      "/users/Etu7/3262287/.local/lib/python3.4/site-packages/sklearn/linear_model/coordinate_descent.py:491: ConvergenceWarning: Objective did not converge. You might want to increase the number of iterations. Fitting data with very small alpha may cause precision problems.\n",
      "  ConvergenceWarning)\n"
     ]
    },
    {
     "name": "stdout",
     "output_type": "stream",
     "text": [
      "alpha =  8.67697950913\n",
      "3810  /  10000\n",
      "3820  /  10000\n",
      "3830  /  10000\n",
      "3840  /  10000\n",
      "3850  /  10000\n",
      "3860  /  10000\n",
      "3870  /  10000\n"
     ]
    },
    {
     "name": "stderr",
     "output_type": "stream",
     "text": [
      "/users/Etu7/3262287/.local/lib/python3.4/site-packages/sklearn/linear_model/coordinate_descent.py:491: ConvergenceWarning: Objective did not converge. You might want to increase the number of iterations. Fitting data with very small alpha may cause precision problems.\n",
      "  ConvergenceWarning)\n"
     ]
    },
    {
     "name": "stdout",
     "output_type": "stream",
     "text": [
      "alpha =  447.96064826\n",
      "3880  /  10000\n",
      "3890  /  10000\n",
      "3900  /  10000\n",
      "3910  /  10000\n",
      "3920  /  10000\n",
      "3930  /  10000\n"
     ]
    },
    {
     "name": "stderr",
     "output_type": "stream",
     "text": [
      "/users/Etu7/3262287/.local/lib/python3.4/site-packages/sklearn/linear_model/coordinate_descent.py:491: ConvergenceWarning: Objective did not converge. You might want to increase the number of iterations. Fitting data with very small alpha may cause precision problems.\n",
      "  ConvergenceWarning)\n"
     ]
    },
    {
     "name": "stdout",
     "output_type": "stream",
     "text": [
      "alpha =  22.3929018513\n",
      "3940  /  10000\n",
      "3950  /  10000\n",
      "3960  /  10000\n",
      "3970  /  10000\n",
      "3980  /  10000\n",
      "3990  /  10000\n",
      "4000  /  10000\n",
      "4000  /  10000\n"
     ]
    },
    {
     "name": "stderr",
     "output_type": "stream",
     "text": [
      "/users/Etu7/3262287/.local/lib/python3.4/site-packages/sklearn/linear_model/coordinate_descent.py:491: ConvergenceWarning: Objective did not converge. You might want to increase the number of iterations. Fitting data with very small alpha may cause precision problems.\n",
      "  ConvergenceWarning)\n"
     ]
    },
    {
     "name": "stdout",
     "output_type": "stream",
     "text": [
      "alpha =  13.8101926839\n",
      "4010  /  10000\n",
      "4020  /  10000\n",
      "4030  /  10000\n",
      "4040  /  10000\n",
      "4050  /  10000\n",
      "4060  /  10000\n"
     ]
    },
    {
     "name": "stderr",
     "output_type": "stream",
     "text": [
      "/users/Etu7/3262287/.local/lib/python3.4/site-packages/sklearn/linear_model/coordinate_descent.py:491: ConvergenceWarning: Objective did not converge. You might want to increase the number of iterations. Fitting data with very small alpha may cause precision problems.\n",
      "  ConvergenceWarning)\n"
     ]
    },
    {
     "name": "stdout",
     "output_type": "stream",
     "text": [
      "alpha =  36.6519938277\n",
      "4070  /  10000\n",
      "4080  /  10000\n",
      "4090  /  10000\n",
      "4100  /  10000\n",
      "4110  /  10000\n",
      "4120  /  10000\n"
     ]
    },
    {
     "name": "stderr",
     "output_type": "stream",
     "text": [
      "/users/Etu7/3262287/.local/lib/python3.4/site-packages/sklearn/linear_model/coordinate_descent.py:491: ConvergenceWarning: Objective did not converge. You might want to increase the number of iterations. Fitting data with very small alpha may cause precision problems.\n",
      "  ConvergenceWarning)\n",
      "/users/Etu7/3262287/.local/lib/python3.4/site-packages/sklearn/linear_model/coordinate_descent.py:491: ConvergenceWarning: Objective did not converge. You might want to increase the number of iterations. Fitting data with very small alpha may cause precision problems.\n",
      "  ConvergenceWarning)\n"
     ]
    },
    {
     "name": "stdout",
     "output_type": "stream",
     "text": [
      "alpha =  1.41592110644\n",
      "4130  /  10000\n",
      "4140  /  10000\n",
      "4150  /  10000\n",
      "4160  /  10000\n",
      "4170  /  10000\n",
      "4180  /  10000\n",
      "4190  /  10000\n"
     ]
    },
    {
     "name": "stderr",
     "output_type": "stream",
     "text": [
      "/users/Etu7/3262287/.local/lib/python3.4/site-packages/sklearn/linear_model/coordinate_descent.py:491: ConvergenceWarning: Objective did not converge. You might want to increase the number of iterations. Fitting data with very small alpha may cause precision problems.\n",
      "  ConvergenceWarning)\n",
      "/users/Etu7/3262287/.local/lib/python3.4/site-packages/sklearn/linear_model/coordinate_descent.py:491: ConvergenceWarning: Objective did not converge. You might want to increase the number of iterations. Fitting data with very small alpha may cause precision problems.\n",
      "  ConvergenceWarning)\n",
      "/users/Etu7/3262287/.local/lib/python3.4/site-packages/sklearn/linear_model/coordinate_descent.py:491: ConvergenceWarning: Objective did not converge. You might want to increase the number of iterations. Fitting data with very small alpha may cause precision problems.\n",
      "  ConvergenceWarning)\n"
     ]
    },
    {
     "name": "stdout",
     "output_type": "stream",
     "text": [
      "alpha =  1.66196732654\n",
      "4200  /  10000\n",
      "4210  /  10000\n",
      "4220  /  10000\n",
      "alpha =  71.5908485076\n",
      "4230  /  10000\n",
      "4240  /  10000\n",
      "4250  /  10000\n",
      "4260  /  10000\n",
      "4270  /  10000\n",
      "4280  /  10000\n"
     ]
    },
    {
     "name": "stderr",
     "output_type": "stream",
     "text": [
      "/users/Etu7/3262287/.local/lib/python3.4/site-packages/sklearn/linear_model/coordinate_descent.py:491: ConvergenceWarning: Objective did not converge. You might want to increase the number of iterations. Fitting data with very small alpha may cause precision problems.\n",
      "  ConvergenceWarning)\n"
     ]
    },
    {
     "name": "stdout",
     "output_type": "stream",
     "text": [
      "alpha =  60.2813751304\n",
      "4290  /  10000\n",
      "4300  /  10000\n",
      "4310  /  10000\n",
      "4320  /  10000\n",
      "4330  /  10000\n",
      "4340  /  10000\n",
      "4350  /  10000\n"
     ]
    },
    {
     "name": "stderr",
     "output_type": "stream",
     "text": [
      "/users/Etu7/3262287/.local/lib/python3.4/site-packages/sklearn/linear_model/coordinate_descent.py:491: ConvergenceWarning: Objective did not converge. You might want to increase the number of iterations. Fitting data with very small alpha may cause precision problems.\n",
      "  ConvergenceWarning)\n"
     ]
    },
    {
     "name": "stdout",
     "output_type": "stream",
     "text": [
      "alpha =  55.3431215184\n",
      "4360  /  10000\n",
      "4370  /  10000\n",
      "4380  /  10000\n",
      "4390  /  10000\n",
      "4400  /  10000\n",
      "4410  /  10000\n"
     ]
    },
    {
     "name": "stderr",
     "output_type": "stream",
     "text": [
      "/users/Etu7/3262287/.local/lib/python3.4/site-packages/sklearn/linear_model/coordinate_descent.py:491: ConvergenceWarning: Objective did not converge. You might want to increase the number of iterations. Fitting data with very small alpha may cause precision problems.\n",
      "  ConvergenceWarning)\n"
     ]
    },
    {
     "name": "stdout",
     "output_type": "stream",
     "text": [
      "alpha =  44.8408243002\n",
      "4420  /  10000\n",
      "4430  /  10000\n",
      "4440  /  10000\n",
      "4450  /  10000\n",
      "4460  /  10000\n",
      "4470  /  10000\n",
      "4480  /  10000\n",
      "4480  /  10000\n"
     ]
    },
    {
     "name": "stderr",
     "output_type": "stream",
     "text": [
      "/users/Etu7/3262287/.local/lib/python3.4/site-packages/sklearn/linear_model/coordinate_descent.py:491: ConvergenceWarning: Objective did not converge. You might want to increase the number of iterations. Fitting data with very small alpha may cause precision problems.\n",
      "  ConvergenceWarning)\n"
     ]
    },
    {
     "name": "stdout",
     "output_type": "stream",
     "text": [
      "alpha =  19.0436294938\n",
      "4490  /  10000\n",
      "4500  /  10000\n",
      "4510  /  10000\n",
      "4520  /  10000\n",
      "4530  /  10000\n",
      "4540  /  10000\n"
     ]
    },
    {
     "name": "stderr",
     "output_type": "stream",
     "text": [
      "/users/Etu7/3262287/.local/lib/python3.4/site-packages/sklearn/linear_model/coordinate_descent.py:491: ConvergenceWarning: Objective did not converge. You might want to increase the number of iterations. Fitting data with very small alpha may cause precision problems.\n",
      "  ConvergenceWarning)\n"
     ]
    },
    {
     "name": "stdout",
     "output_type": "stream",
     "text": [
      "alpha =  18.6157237298\n",
      "4550  /  10000\n",
      "4560  /  10000\n",
      "4570  /  10000\n",
      "4580  /  10000\n",
      "4590  /  10000\n",
      "4600  /  10000\n"
     ]
    },
    {
     "name": "stderr",
     "output_type": "stream",
     "text": [
      "/users/Etu7/3262287/.local/lib/python3.4/site-packages/sklearn/linear_model/coordinate_descent.py:491: ConvergenceWarning: Objective did not converge. You might want to increase the number of iterations. Fitting data with very small alpha may cause precision problems.\n",
      "  ConvergenceWarning)\n"
     ]
    },
    {
     "name": "stdout",
     "output_type": "stream",
     "text": [
      "alpha =  23.4372347113\n",
      "4610  /  10000\n",
      "4620  /  10000\n",
      "4630  /  10000\n",
      "4640  /  10000\n",
      "4650  /  10000\n",
      "4660  /  10000\n",
      "4670  /  10000\n"
     ]
    },
    {
     "name": "stderr",
     "output_type": "stream",
     "text": [
      "/users/Etu7/3262287/.local/lib/python3.4/site-packages/sklearn/linear_model/coordinate_descent.py:491: ConvergenceWarning: Objective did not converge. You might want to increase the number of iterations. Fitting data with very small alpha may cause precision problems.\n",
      "  ConvergenceWarning)\n"
     ]
    },
    {
     "name": "stdout",
     "output_type": "stream",
     "text": [
      "alpha =  27.8436190058\n",
      "4680  /  10000\n",
      "4690  /  10000\n",
      "4700  /  10000\n",
      "4710  /  10000\n",
      "4720  /  10000\n",
      "4730  /  10000\n"
     ]
    },
    {
     "name": "stderr",
     "output_type": "stream",
     "text": [
      "/users/Etu7/3262287/.local/lib/python3.4/site-packages/sklearn/linear_model/coordinate_descent.py:491: ConvergenceWarning: Objective did not converge. You might want to increase the number of iterations. Fitting data with very small alpha may cause precision problems.\n",
      "  ConvergenceWarning)\n"
     ]
    },
    {
     "name": "stdout",
     "output_type": "stream",
     "text": [
      "alpha =  26.534099513\n",
      "4740  /  10000\n",
      "4750  /  10000\n",
      "4760  /  10000\n",
      "4770  /  10000\n",
      "4780  /  10000\n",
      "4790  /  10000\n",
      "4800  /  10000\n",
      "4800  /  10000\n"
     ]
    },
    {
     "name": "stderr",
     "output_type": "stream",
     "text": [
      "/users/Etu7/3262287/.local/lib/python3.4/site-packages/sklearn/linear_model/coordinate_descent.py:491: ConvergenceWarning: Objective did not converge. You might want to increase the number of iterations. Fitting data with very small alpha may cause precision problems.\n",
      "  ConvergenceWarning)\n"
     ]
    },
    {
     "name": "stdout",
     "output_type": "stream",
     "text": [
      "alpha =  2.41499108655\n",
      "4810  /  10000\n",
      "4820  /  10000\n",
      "4830  /  10000\n"
     ]
    },
    {
     "name": "stderr",
     "output_type": "stream",
     "text": [
      "/users/Etu7/3262287/.local/lib/python3.4/site-packages/sklearn/linear_model/coordinate_descent.py:491: ConvergenceWarning: Objective did not converge. You might want to increase the number of iterations. Fitting data with very small alpha may cause precision problems.\n",
      "  ConvergenceWarning)\n"
     ]
    },
    {
     "name": "stdout",
     "output_type": "stream",
     "text": [
      "alpha =  4.84179252243\n",
      "4840  /  10000\n",
      "4850  /  10000\n",
      "4860  /  10000\n",
      "4870  /  10000\n",
      "4880  /  10000\n",
      "4890  /  10000\n"
     ]
    },
    {
     "name": "stderr",
     "output_type": "stream",
     "text": [
      "/users/Etu7/3262287/.local/lib/python3.4/site-packages/sklearn/linear_model/coordinate_descent.py:491: ConvergenceWarning: Objective did not converge. You might want to increase the number of iterations. Fitting data with very small alpha may cause precision problems.\n",
      "  ConvergenceWarning)\n"
     ]
    },
    {
     "name": "stdout",
     "output_type": "stream",
     "text": [
      "alpha =  14.0607641082\n",
      "4900  /  10000\n",
      "4910  /  10000\n",
      "4920  /  10000\n",
      "4930  /  10000\n",
      "4940  /  10000\n",
      "4950  /  10000\n",
      "4960  /  10000\n",
      "4960  /  10000\n"
     ]
    },
    {
     "name": "stderr",
     "output_type": "stream",
     "text": [
      "/users/Etu7/3262287/.local/lib/python3.4/site-packages/sklearn/linear_model/coordinate_descent.py:491: ConvergenceWarning: Objective did not converge. You might want to increase the number of iterations. Fitting data with very small alpha may cause precision problems.\n",
      "  ConvergenceWarning)\n"
     ]
    },
    {
     "name": "stdout",
     "output_type": "stream",
     "text": [
      "alpha =  38.6817270818\n",
      "4970  /  10000\n",
      "4980  /  10000\n",
      "4990  /  10000\n",
      "5000  /  10000\n",
      "5010  /  10000\n",
      "5020  /  10000\n"
     ]
    },
    {
     "name": "stderr",
     "output_type": "stream",
     "text": [
      "/users/Etu7/3262287/.local/lib/python3.4/site-packages/sklearn/linear_model/coordinate_descent.py:491: ConvergenceWarning: Objective did not converge. You might want to increase the number of iterations. Fitting data with very small alpha may cause precision problems.\n",
      "  ConvergenceWarning)\n",
      "/users/Etu7/3262287/.local/lib/python3.4/site-packages/sklearn/linear_model/coordinate_descent.py:491: ConvergenceWarning: Objective did not converge. You might want to increase the number of iterations. Fitting data with very small alpha may cause precision problems.\n",
      "  ConvergenceWarning)\n"
     ]
    },
    {
     "name": "stdout",
     "output_type": "stream",
     "text": [
      "alpha =  48.44264321\n",
      "5030  /  10000\n",
      "5040  /  10000\n",
      "5050  /  10000\n",
      "5060  /  10000\n",
      "5070  /  10000\n",
      "5080  /  10000\n"
     ]
    },
    {
     "name": "stderr",
     "output_type": "stream",
     "text": [
      "/users/Etu7/3262287/.local/lib/python3.4/site-packages/sklearn/linear_model/coordinate_descent.py:491: ConvergenceWarning: Objective did not converge. You might want to increase the number of iterations. Fitting data with very small alpha may cause precision problems.\n",
      "  ConvergenceWarning)\n",
      "/users/Etu7/3262287/.local/lib/python3.4/site-packages/sklearn/linear_model/coordinate_descent.py:491: ConvergenceWarning: Objective did not converge. You might want to increase the number of iterations. Fitting data with very small alpha may cause precision problems.\n",
      "  ConvergenceWarning)\n"
     ]
    },
    {
     "name": "stdout",
     "output_type": "stream",
     "text": [
      "alpha =  2.46256530589\n",
      "5090  /  10000\n",
      "5100  /  10000\n",
      "5110  /  10000\n",
      "5120  /  10000\n",
      "5130  /  10000\n",
      "5140  /  10000\n",
      "5150  /  10000\n",
      "alpha =  1132.69103836\n",
      "5160  /  10000\n",
      "5170  /  10000\n",
      "5180  /  10000\n",
      "5190  /  10000\n",
      "5200  /  10000\n",
      "5210  /  10000\n"
     ]
    },
    {
     "name": "stderr",
     "output_type": "stream",
     "text": [
      "/users/Etu7/3262287/.local/lib/python3.4/site-packages/sklearn/linear_model/coordinate_descent.py:491: ConvergenceWarning: Objective did not converge. You might want to increase the number of iterations. Fitting data with very small alpha may cause precision problems.\n",
      "  ConvergenceWarning)\n"
     ]
    },
    {
     "name": "stdout",
     "output_type": "stream",
     "text": [
      "alpha =  12.3586493988\n",
      "5220  /  10000\n",
      "5230  /  10000\n",
      "5240  /  10000\n",
      "5250  /  10000\n",
      "5260  /  10000\n",
      "5270  /  10000\n",
      "5280  /  10000\n",
      "5280  /  10000\n"
     ]
    },
    {
     "name": "stderr",
     "output_type": "stream",
     "text": [
      "/users/Etu7/3262287/.local/lib/python3.4/site-packages/sklearn/linear_model/coordinate_descent.py:491: ConvergenceWarning: Objective did not converge. You might want to increase the number of iterations. Fitting data with very small alpha may cause precision problems.\n",
      "  ConvergenceWarning)\n"
     ]
    },
    {
     "name": "stdout",
     "output_type": "stream",
     "text": [
      "alpha =  70.5723156507\n",
      "5290  /  10000\n",
      "5300  /  10000\n",
      "5310  /  10000\n",
      "5320  /  10000\n",
      "5330  /  10000\n",
      "5340  /  10000\n"
     ]
    },
    {
     "name": "stderr",
     "output_type": "stream",
     "text": [
      "/users/Etu7/3262287/.local/lib/python3.4/site-packages/sklearn/linear_model/coordinate_descent.py:491: ConvergenceWarning: Objective did not converge. You might want to increase the number of iterations. Fitting data with very small alpha may cause precision problems.\n",
      "  ConvergenceWarning)\n",
      "/users/Etu7/3262287/.local/lib/python3.4/site-packages/sklearn/linear_model/coordinate_descent.py:491: ConvergenceWarning: Objective did not converge. You might want to increase the number of iterations. Fitting data with very small alpha may cause precision problems.\n",
      "  ConvergenceWarning)\n",
      "/users/Etu7/3262287/.local/lib/python3.4/site-packages/sklearn/linear_model/coordinate_descent.py:491: ConvergenceWarning: Objective did not converge. You might want to increase the number of iterations. Fitting data with very small alpha may cause precision problems.\n",
      "  ConvergenceWarning)\n"
     ]
    },
    {
     "name": "stdout",
     "output_type": "stream",
     "text": [
      "alpha =  2.89690448085\n",
      "5350  /  10000\n",
      "5360  /  10000\n",
      "5370  /  10000\n",
      "alpha =  2.78074061198\n",
      "5380  /  10000\n",
      "5390  /  10000\n",
      "5400  /  10000\n",
      "5410  /  10000\n",
      "5420  /  10000\n",
      "5430  /  10000\n",
      "5440  /  10000\n",
      "5440  /  10000\n",
      "alpha =  3.57060925021\n",
      "5450  /  10000\n",
      "5460  /  10000\n",
      "5470  /  10000\n",
      "5480  /  10000\n",
      "5490  /  10000\n",
      "5500  /  10000\n",
      "alpha =  36.2554795041\n",
      "5510  /  10000\n",
      "5520  /  10000\n",
      "5530  /  10000\n",
      "5540  /  10000\n",
      "5550  /  10000\n",
      "5560  /  10000\n",
      "alpha =  16.7934159991\n",
      "5570  /  10000\n",
      "5580  /  10000\n",
      "5590  /  10000\n",
      "5600  /  10000\n",
      "5610  /  10000\n",
      "5620"
     ]
    },
    {
     "name": "stderr",
     "output_type": "stream",
     "text": [
      "/users/Etu7/3262287/.local/lib/python3.4/site-packages/sklearn/linear_model/coordinate_descent.py:491: ConvergenceWarning: Objective did not converge. You might want to increase the number of iterations. Fitting data with very small alpha may cause precision problems.\n",
      "  ConvergenceWarning)\n",
      "/users/Etu7/3262287/.local/lib/python3.4/site-packages/sklearn/linear_model/coordinate_descent.py:491: ConvergenceWarning: Objective did not converge. You might want to increase the number of iterations. Fitting data with very small alpha may cause precision problems.\n",
      "  ConvergenceWarning)\n"
     ]
    },
    {
     "name": "stdout",
     "output_type": "stream",
     "text": [
      "  /  10000\n",
      "5630  /  10000\n",
      "alpha =  11.2145637062\n",
      "5640  /  10000\n",
      "5650  /  10000\n",
      "5660  /  10000\n",
      "5670  /  10000\n",
      "5680  /  10000\n",
      "5690  /  10000\n"
     ]
    },
    {
     "name": "stderr",
     "output_type": "stream",
     "text": [
      "/users/Etu7/3262287/.local/lib/python3.4/site-packages/sklearn/linear_model/coordinate_descent.py:491: ConvergenceWarning: Objective did not converge. You might want to increase the number of iterations. Fitting data with very small alpha may cause precision problems.\n",
      "  ConvergenceWarning)\n"
     ]
    },
    {
     "name": "stdout",
     "output_type": "stream",
     "text": [
      "alpha =  9.92085946751\n",
      "5700  /  10000\n",
      "5710  /  10000\n",
      "5720  /  10000\n",
      "5730  /  10000\n",
      "5740  /  10000\n",
      "5750  /  10000\n",
      "5760  /  10000\n",
      "5760  /  10000\n"
     ]
    },
    {
     "name": "stderr",
     "output_type": "stream",
     "text": [
      "/users/Etu7/3262287/.local/lib/python3.4/site-packages/sklearn/linear_model/coordinate_descent.py:491: ConvergenceWarning: Objective did not converge. You might want to increase the number of iterations. Fitting data with very small alpha may cause precision problems.\n",
      "  ConvergenceWarning)\n"
     ]
    },
    {
     "name": "stdout",
     "output_type": "stream",
     "text": [
      "alpha =  10.1222201653\n",
      "5770  /  10000\n",
      "5780  /  10000\n",
      "5790  /  10000\n",
      "5800  /  10000\n",
      "5810  /  10000\n",
      "5820  /  10000\n"
     ]
    },
    {
     "name": "stderr",
     "output_type": "stream",
     "text": [
      "/users/Etu7/3262287/.local/lib/python3.4/site-packages/sklearn/linear_model/coordinate_descent.py:491: ConvergenceWarning: Objective did not converge. You might want to increase the number of iterations. Fitting data with very small alpha may cause precision problems.\n",
      "  ConvergenceWarning)\n"
     ]
    },
    {
     "name": "stdout",
     "output_type": "stream",
     "text": [
      "alpha =  6.35163504124\n",
      "5830  /  10000\n",
      "5840  /  10000\n",
      "5850  /  10000\n",
      "5860  /  10000\n",
      "5870  /  10000\n",
      "5880  /  10000\n"
     ]
    },
    {
     "name": "stderr",
     "output_type": "stream",
     "text": [
      "/users/Etu7/3262287/.local/lib/python3.4/site-packages/sklearn/linear_model/coordinate_descent.py:491: ConvergenceWarning: Objective did not converge. You might want to increase the number of iterations. Fitting data with very small alpha may cause precision problems.\n",
      "  ConvergenceWarning)\n"
     ]
    },
    {
     "name": "stdout",
     "output_type": "stream",
     "text": [
      "alpha =  19.1787311928\n",
      "5890  /  10000\n",
      "5900  /  10000\n",
      "5910  /  10000\n",
      "5920  /  10000\n",
      "5920  /  10000\n"
     ]
    },
    {
     "name": "stderr",
     "output_type": "stream",
     "text": [
      "/users/Etu7/3262287/.local/lib/python3.4/site-packages/sklearn/linear_model/coordinate_descent.py:491: ConvergenceWarning: Objective did not converge. You might want to increase the number of iterations. Fitting data with very small alpha may cause precision problems.\n",
      "  ConvergenceWarning)\n"
     ]
    },
    {
     "name": "stdout",
     "output_type": "stream",
     "text": [
      "alpha =  173.369138067\n",
      "5930  /  10000\n",
      "5940  /  10000\n",
      "5950  /  10000\n",
      "5960  /  10000\n",
      "5970  /  10000\n",
      "5980  /  10000\n"
     ]
    },
    {
     "name": "stderr",
     "output_type": "stream",
     "text": [
      "/users/Etu7/3262287/.local/lib/python3.4/site-packages/sklearn/linear_model/coordinate_descent.py:491: ConvergenceWarning: Objective did not converge. You might want to increase the number of iterations. Fitting data with very small alpha may cause precision problems.\n",
      "  ConvergenceWarning)\n"
     ]
    },
    {
     "name": "stdout",
     "output_type": "stream",
     "text": [
      "alpha =  228.822280289\n",
      "5990  /  10000\n",
      "6000  /  10000\n",
      "6010  /  10000\n",
      "6020  /  10000\n",
      "6030  /  10000\n",
      "6040  /  10000\n"
     ]
    },
    {
     "name": "stderr",
     "output_type": "stream",
     "text": [
      "/users/Etu7/3262287/.local/lib/python3.4/site-packages/sklearn/linear_model/coordinate_descent.py:491: ConvergenceWarning: Objective did not converge. You might want to increase the number of iterations. Fitting data with very small alpha may cause precision problems.\n",
      "  ConvergenceWarning)\n",
      "/users/Etu7/3262287/.local/lib/python3.4/site-packages/sklearn/linear_model/coordinate_descent.py:491: ConvergenceWarning: Objective did not converge. You might want to increase the number of iterations. Fitting data with very small alpha may cause precision problems.\n",
      "  ConvergenceWarning)\n"
     ]
    },
    {
     "name": "stdout",
     "output_type": "stream",
     "text": [
      "alpha =  3.0920505453\n",
      "6050  /  10000\n",
      "6060  /  10000\n",
      "6070  /  10000\n",
      "6080  /  10000\n",
      "6090  /  10000\n",
      "6100  /  10000\n",
      "6110  /  10000\n"
     ]
    },
    {
     "name": "stderr",
     "output_type": "stream",
     "text": [
      "/users/Etu7/3262287/.local/lib/python3.4/site-packages/sklearn/linear_model/coordinate_descent.py:491: ConvergenceWarning: Objective did not converge. You might want to increase the number of iterations. Fitting data with very small alpha may cause precision problems.\n",
      "  ConvergenceWarning)\n"
     ]
    },
    {
     "name": "stdout",
     "output_type": "stream",
     "text": [
      "alpha =  510.338836408\n",
      "6120  /  10000\n",
      "6130  /  10000\n",
      "6140  /  10000\n",
      "6150  /  10000\n",
      "6160  /  10000\n",
      "6170  /  10000\n"
     ]
    },
    {
     "name": "stderr",
     "output_type": "stream",
     "text": [
      "/users/Etu7/3262287/.local/lib/python3.4/site-packages/sklearn/linear_model/coordinate_descent.py:491: ConvergenceWarning: Objective did not converge. You might want to increase the number of iterations. Fitting data with very small alpha may cause precision problems.\n",
      "  ConvergenceWarning)\n"
     ]
    },
    {
     "name": "stdout",
     "output_type": "stream",
     "text": [
      "alpha =  13.2711229411\n",
      "6180  /  10000\n",
      "6190  /  10000\n",
      "6200  /  10000\n",
      "6210  /  10000\n",
      "6220  /  10000\n",
      "6230  /  10000\n",
      "6240  /  10000\n",
      "6240  /  10000\n"
     ]
    },
    {
     "name": "stderr",
     "output_type": "stream",
     "text": [
      "/users/Etu7/3262287/.local/lib/python3.4/site-packages/sklearn/linear_model/coordinate_descent.py:491: ConvergenceWarning: Objective did not converge. You might want to increase the number of iterations. Fitting data with very small alpha may cause precision problems.\n",
      "  ConvergenceWarning)\n"
     ]
    },
    {
     "name": "stdout",
     "output_type": "stream",
     "text": [
      "alpha =  15.079331266\n",
      "6250  /  10000\n",
      "6260  /  10000\n",
      "6270  /  10000\n",
      "6280  /  10000\n",
      "6290  /  10000\n",
      "6300  /  10000\n"
     ]
    },
    {
     "name": "stderr",
     "output_type": "stream",
     "text": [
      "/users/Etu7/3262287/.local/lib/python3.4/site-packages/sklearn/linear_model/coordinate_descent.py:491: ConvergenceWarning: Objective did not converge. You might want to increase the number of iterations. Fitting data with very small alpha may cause precision problems.\n",
      "  ConvergenceWarning)\n"
     ]
    },
    {
     "name": "stdout",
     "output_type": "stream",
     "text": [
      "alpha =  83.8121368131\n",
      "6310  /  10000\n",
      "6320  /  10000\n",
      "6330  /  10000\n",
      "6340  /  10000\n",
      "6350  /  10000\n",
      "6360  /  10000\n"
     ]
    },
    {
     "name": "stderr",
     "output_type": "stream",
     "text": [
      "/users/Etu7/3262287/.local/lib/python3.4/site-packages/sklearn/linear_model/coordinate_descent.py:491: ConvergenceWarning: Objective did not converge. You might want to increase the number of iterations. Fitting data with very small alpha may cause precision problems.\n",
      "  ConvergenceWarning)\n"
     ]
    },
    {
     "name": "stdout",
     "output_type": "stream",
     "text": [
      "alpha =  13.1839199624\n",
      "6370  /  10000\n",
      "6380  /  10000\n",
      "6390  /  10000\n",
      "6400  /  10000\n",
      "6400  /  10000\n"
     ]
    },
    {
     "name": "stderr",
     "output_type": "stream",
     "text": [
      "/users/Etu7/3262287/.local/lib/python3.4/site-packages/sklearn/linear_model/coordinate_descent.py:491: ConvergenceWarning: Objective did not converge. You might want to increase the number of iterations. Fitting data with very small alpha may cause precision problems.\n",
      "  ConvergenceWarning)\n"
     ]
    },
    {
     "name": "stdout",
     "output_type": "stream",
     "text": [
      "alpha =  61.1059611072\n",
      "6410  /  10000\n",
      "6420  /  10000\n",
      "6430  /  10000\n",
      "6440  /  10000\n",
      "6450  /  10000\n",
      "6460  /  10000\n"
     ]
    },
    {
     "name": "stderr",
     "output_type": "stream",
     "text": [
      "/users/Etu7/3262287/.local/lib/python3.4/site-packages/sklearn/linear_model/coordinate_descent.py:491: ConvergenceWarning: Objective did not converge. You might want to increase the number of iterations. Fitting data with very small alpha may cause precision problems.\n",
      "  ConvergenceWarning)\n"
     ]
    },
    {
     "name": "stdout",
     "output_type": "stream",
     "text": [
      "alpha =  21.9920395828\n",
      "6470  /  10000\n",
      "6480  /  10000\n",
      "6490  /  10000\n",
      "6500  /  10000\n",
      "6510  /  10000\n",
      "6520  /  10000\n",
      "alpha =  9.34034043824\n",
      "6530  /  10000\n",
      "6540  /  10000\n",
      "6550  /  10000\n",
      "6560  /  10000\n",
      "6570  /  10000\n",
      "6580  /  10000\n",
      "6590  /  10000\n"
     ]
    },
    {
     "name": "stderr",
     "output_type": "stream",
     "text": [
      "/users/Etu7/3262287/.local/lib/python3.4/site-packages/sklearn/linear_model/coordinate_descent.py:491: ConvergenceWarning: Objective did not converge. You might want to increase the number of iterations. Fitting data with very small alpha may cause precision problems.\n",
      "  ConvergenceWarning)\n"
     ]
    },
    {
     "name": "stdout",
     "output_type": "stream",
     "text": [
      "alpha =  25.1346508908\n",
      "6600  /  10000\n",
      "6610  /  10000\n",
      "6620  /  10000\n",
      "6630  /  10000\n",
      "6640  /  10000\n",
      "6650  /  10000\n"
     ]
    },
    {
     "name": "stderr",
     "output_type": "stream",
     "text": [
      "/users/Etu7/3262287/.local/lib/python3.4/site-packages/sklearn/linear_model/coordinate_descent.py:491: ConvergenceWarning: Objective did not converge. You might want to increase the number of iterations. Fitting data with very small alpha may cause precision problems.\n",
      "  ConvergenceWarning)\n"
     ]
    },
    {
     "name": "stdout",
     "output_type": "stream",
     "text": [
      "alpha =  16.1738249221\n",
      "6660  /  10000\n",
      "6670  /  10000\n",
      "6680  /  10000\n",
      "6690  /  10000\n",
      "6700  /  10000\n",
      "6710  /  10000\n",
      "6720  /  10000\n",
      "6720  /  10000\n",
      "alpha =  18.1927588116\n",
      "6730  /  10000\n",
      "6740  /  10000\n",
      "6750  /  10000\n",
      "6760  /  10000\n",
      "6770  /  10000\n",
      "6780  /  10000\n"
     ]
    },
    {
     "name": "stderr",
     "output_type": "stream",
     "text": [
      "/users/Etu7/3262287/.local/lib/python3.4/site-packages/sklearn/linear_model/coordinate_descent.py:491: ConvergenceWarning: Objective did not converge. You might want to increase the number of iterations. Fitting data with very small alpha may cause precision problems.\n",
      "  ConvergenceWarning)\n"
     ]
    },
    {
     "name": "stdout",
     "output_type": "stream",
     "text": [
      "alpha =  9.05599563554\n",
      "6790  /  10000\n",
      "6800  /  10000\n",
      "6810  /  10000\n",
      "6820  /  10000\n",
      "6830  /  10000\n",
      "6840  /  10000\n"
     ]
    },
    {
     "name": "stderr",
     "output_type": "stream",
     "text": [
      "/users/Etu7/3262287/.local/lib/python3.4/site-packages/sklearn/linear_model/coordinate_descent.py:491: ConvergenceWarning: Objective did not converge. You might want to increase the number of iterations. Fitting data with very small alpha may cause precision problems.\n",
      "  ConvergenceWarning)\n"
     ]
    },
    {
     "name": "stdout",
     "output_type": "stream",
     "text": [
      "alpha =  3.15207622396\n",
      "6850  /  10000\n",
      "6860  /  10000\n",
      "6870  /  10000\n",
      "6880  /  10000\n",
      "6880  /  10000\n"
     ]
    },
    {
     "name": "stderr",
     "output_type": "stream",
     "text": [
      "/users/Etu7/3262287/.local/lib/python3.4/site-packages/sklearn/linear_model/coordinate_descent.py:491: ConvergenceWarning: Objective did not converge. You might want to increase the number of iterations. Fitting data with very small alpha may cause precision problems.\n",
      "  ConvergenceWarning)\n"
     ]
    },
    {
     "name": "stdout",
     "output_type": "stream",
     "text": [
      "alpha =  103.77718921\n",
      "6890  /  10000\n",
      "6900  /  10000\n",
      "6910  /  10000\n",
      "6920  /  10000\n",
      "6930  /  10000\n",
      "6940  /  10000\n"
     ]
    },
    {
     "name": "stderr",
     "output_type": "stream",
     "text": [
      "/users/Etu7/3262287/.local/lib/python3.4/site-packages/sklearn/linear_model/coordinate_descent.py:491: ConvergenceWarning: Objective did not converge. You might want to increase the number of iterations. Fitting data with very small alpha may cause precision problems.\n",
      "  ConvergenceWarning)\n"
     ]
    },
    {
     "name": "stdout",
     "output_type": "stream",
     "text": [
      "alpha =  57.8670248743\n",
      "6950  /  10000\n",
      "6960  /  10000\n",
      "6970  /  10000\n",
      "6980  /  10000\n",
      "6990  /  10000\n",
      "7000  /  10000\n"
     ]
    },
    {
     "name": "stderr",
     "output_type": "stream",
     "text": [
      "/users/Etu7/3262287/.local/lib/python3.4/site-packages/sklearn/linear_model/coordinate_descent.py:491: ConvergenceWarning: Objective did not converge. You might want to increase the number of iterations. Fitting data with very small alpha may cause precision problems.\n",
      "  ConvergenceWarning)\n"
     ]
    },
    {
     "name": "stdout",
     "output_type": "stream",
     "text": [
      "alpha =  99.8678179999\n",
      "7010  /  10000\n",
      "7020  /  10000\n",
      "7030  /  10000\n",
      "7040  /  10000\n",
      "7050  /  10000\n",
      "7060  /  10000\n",
      "7070  /  10000\n"
     ]
    },
    {
     "name": "stderr",
     "output_type": "stream",
     "text": [
      "/users/Etu7/3262287/.local/lib/python3.4/site-packages/sklearn/linear_model/coordinate_descent.py:491: ConvergenceWarning: Objective did not converge. You might want to increase the number of iterations. Fitting data with very small alpha may cause precision problems.\n",
      "  ConvergenceWarning)\n"
     ]
    },
    {
     "name": "stdout",
     "output_type": "stream",
     "text": [
      "alpha =  123.260627435\n",
      "7080  /  10000\n",
      "7090  /  10000\n",
      "7100  /  10000\n",
      "7110  /  10000\n",
      "7120  /  10000\n",
      "7130  /  10000\n"
     ]
    },
    {
     "name": "stderr",
     "output_type": "stream",
     "text": [
      "/users/Etu7/3262287/.local/lib/python3.4/site-packages/sklearn/linear_model/coordinate_descent.py:491: ConvergenceWarning: Objective did not converge. You might want to increase the number of iterations. Fitting data with very small alpha may cause precision problems.\n",
      "  ConvergenceWarning)\n"
     ]
    },
    {
     "name": "stdout",
     "output_type": "stream",
     "text": [
      "alpha =  625.581326166\n",
      "7140  /  10000\n",
      "7150  /  10000\n",
      "7160  /  10000\n",
      "7170  /  10000\n",
      "7180  /  10000\n",
      "7190  /  10000\n",
      "7200  /  10000\n",
      "7200  /  10000\n"
     ]
    },
    {
     "name": "stderr",
     "output_type": "stream",
     "text": [
      "/users/Etu7/3262287/.local/lib/python3.4/site-packages/sklearn/linear_model/coordinate_descent.py:491: ConvergenceWarning: Objective did not converge. You might want to increase the number of iterations. Fitting data with very small alpha may cause precision problems.\n",
      "  ConvergenceWarning)\n"
     ]
    },
    {
     "name": "stdout",
     "output_type": "stream",
     "text": [
      "alpha =  18.7112169735\n",
      "7210  /  10000\n",
      "7220  /  10000\n",
      "7230  /  10000\n",
      "7240  /  10000\n",
      "7250  /  10000\n",
      "7260  /  10000\n"
     ]
    },
    {
     "name": "stderr",
     "output_type": "stream",
     "text": [
      "/users/Etu7/3262287/.local/lib/python3.4/site-packages/sklearn/linear_model/coordinate_descent.py:491: ConvergenceWarning: Objective did not converge. You might want to increase the number of iterations. Fitting data with very small alpha may cause precision problems.\n",
      "  ConvergenceWarning)\n"
     ]
    },
    {
     "name": "stdout",
     "output_type": "stream",
     "text": [
      "alpha =  29.1883990267\n",
      "7270  /  10000\n",
      "7280  /  10000\n",
      "7290  /  10000\n"
     ]
    }
   ],
   "source": [
    "deletepixels_transformed = spyral_transformation(np.array(deletepixels))\n",
    "\n",
    "inpaint_image(noisy_image, training, deletepixels_transformed, h, img_matrice)"
   ]
  },
  {
   "cell_type": "code",
   "execution_count": null,
   "metadata": {},
   "outputs": [],
   "source": []
  }
 ],
 "metadata": {
  "kernelspec": {
   "display_name": "Python 3",
   "language": "python",
   "name": "python3"
  },
  "language_info": {
   "codemirror_mode": {
    "name": "ipython",
    "version": 3
   },
   "file_extension": ".py",
   "mimetype": "text/x-python",
   "name": "python",
   "nbconvert_exporter": "python",
   "pygments_lexer": "ipython3",
   "version": "3.4.2"
  }
 },
 "nbformat": 4,
 "nbformat_minor": 2
}
