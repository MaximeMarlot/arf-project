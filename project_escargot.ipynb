{
 "cells": [
  {
   "cell_type": "code",
   "execution_count": 135,
   "metadata": {},
   "outputs": [
    {
     "data": {
      "application/javascript": [
       "IPython.OutputArea.prototype._should_scroll = function(lines) {\n",
       "    return false;\n",
       "}"
      ],
      "text/plain": [
       "<IPython.core.display.Javascript object>"
      ]
     },
     "metadata": {},
     "output_type": "display_data"
    }
   ],
   "source": [
    "%%javascript\n",
    "IPython.OutputArea.prototype._should_scroll = function(lines) {\n",
    "    return false;\n",
    "}"
   ]
  },
  {
   "cell_type": "code",
   "execution_count": 136,
   "metadata": {},
   "outputs": [],
   "source": [
    "from matplotlib import pyplot as plt\n",
    "from matplotlib import colors as colors\n",
    "import numpy as np\n",
    "\n",
    "import sys \n",
    "#sys.path.append('../')\n",
    "\n",
    "from importlib import reload\n",
    "import Utils.utils as util\n",
    "reload(util)\n",
    "\n",
    "\n",
    "from sklearn.linear_model import Lasso\n",
    "from sklearn.multiclass import OneVsRestClassifier\n",
    "from sklearn.preprocessing import normalize\n",
    "\n",
    "np.set_printoptions(threshold=np.inf) #print full arrays\n",
    "from sklearn import linear_model\n"
   ]
  },
  {
   "cell_type": "code",
   "execution_count": 137,
   "metadata": {},
   "outputs": [],
   "source": [
    "def split_patch(patch):\n",
    "    h = patch.shape[0]\n",
    "    #Convert one patch into a column vector for training\n",
    "    patch = patch.flatten()\n",
    "    pixel_central = patch[(h*(h//2)+(h//2))*3:(h*(h//2)+(h//2))*3+3]\n",
    "    patch_sans_central = np.delete(patch, range((h*(h//2)+(h//2))*3, (h*(h//2)+(h//2))*3+3))\n",
    "    return np.array((patch_sans_central, pixel_central))\n",
    "    \n",
    "def convert_patch_into_vector(patch):\n",
    "    #Convert one patch into a column vector for training\n",
    "    #patch = patch.flatten()\n",
    "    h = patch.shape[0]\n",
    "    patch = np.reshape(patch, h*h*3)\n",
    "    return np.array(patch)\n",
    "\n",
    "def convert_vector_into_patch(vector, h):\n",
    "    #Convert a one column vector into a patch of size h\n",
    "    return vector.reshape((h,h,7))\n",
    "    \n",
    "def convert_patches_into_training_set(patches):\n",
    "    #Convert a set of patches into a set of vectors\n",
    "    return np.array(list(map(convert_patch_into_vector, patches))).T\n",
    "\n",
    "def find_index_noisy_lines(label):\n",
    "    \"\"\"\n",
    "    indexes = []\n",
    "    for index, value in enumerate(label):\n",
    "        if(value == -1):\n",
    "            indexes.append(index)\n",
    "    \"\"\"\n",
    "    label = np.array(label)\n",
    "    indexes = np.where(label < 0)\n",
    "    return indexes\n",
    "\n",
    "def delete_all_indexes_from(dictionary, label):\n",
    "    indexes = find_index_noisy_lines(label)\n",
    "    dictionary = np.delete(dictionary, indexes , 0)\n",
    "    label = np.delete(label, indexes , 0)\n",
    "    \n",
    "    return (dictionary, label)    \n",
    "\n",
    "#test the alpha on a lot of cleared patches and returns an average value\n",
    "def estimate_alpha(noisy_image, dictionary_full, h):\n",
    "    lassocv = linear_model.LassoCV()\n",
    "    listalpha = []\n",
    "    width = noisy_image.shape[1]\n",
    "    height = noisy_image.shape[0]\n",
    "    #params\n",
    "    pas = h+10\n",
    "    start = h//2\n",
    "    endx = height-h//2\n",
    "    endy = width-h//2\n",
    "    #end params\n",
    "    i=0\n",
    "    total = int( (endx-pas)/pas * (endy-pas)/pas )\n",
    "    for x in range(start,endx,pas):\n",
    "        for y in range(start,endy,pas):\n",
    "            label = util.get_patch(x, y, h, noisy_image)\n",
    "            label = list(convert_patch_into_vector(label))\n",
    "            dictionary, label = delete_all_indexes_from(dictionary_full,label)\n",
    "            lassocv.fit(dictionary_full, label)\n",
    "            alpha_ = lassocv.alpha_\n",
    "            listalpha.append(alpha_)\n",
    "            i+=1\n",
    "            if(i%10==0): print(i, \"/\", total)\n",
    "    return np.mean(np.array(listalpha))\n",
    "    \n",
    "def removearray(L,arr):\n",
    "    ind = 0\n",
    "    size = len(L)\n",
    "    while ind != size and not np.array_equal(L[ind],arr):\n",
    "        ind += 1\n",
    "    if ind != size:\n",
    "        L.pop(ind)\n",
    "    else:\n",
    "        #raise ValueError('array not found in list.') #todo, why am I getting this one in optimized mode\n",
    "        print('ERROR:  removearray(L,arr): array not found in list.')\n",
    "\n",
    "def inpaint_image(noisy_image, dictionary, coord_noisy_pix, h, clear_image):\n",
    "    noisy_image_orig = np.array(noisy_image)\n",
    "    dictionary_full = np.array(dictionary)\n",
    "    \n",
    "    #todo question: vérifier qu'il faut bien faire le lassocv pour trouver le alpha sur le clear?\n",
    "    lassocv = linear_model.LassoCV(max_iter=1000)  #1000 by default, 100 works OK\n",
    "    \"\"\"\n",
    "    y, x = coord_noisy_pix[0]\n",
    "    label = util.get_patch(x, y, h, noisy_image)\n",
    "    #label = util.get_patch(x, y, h, clear_image)\n",
    "    label = list(convert_patch_into_vector(label))\n",
    "    lassocv.fit(dictionary_full, label)\n",
    "    alpha_ = lassocv.alpha_\n",
    "    \"\"\"\n",
    "    #alpha_ = estimate_alpha(noisy_image, dictionary_full, h)\n",
    "    #autre idée: en prendre 10 aléatoirement\n",
    "    alpha_ = 92 #calculé pour 12.jpg\n",
    "    \n",
    "    #alpha_ = 0.01\n",
    "    \n",
    "    print(\"alpha = \", alpha_)\n",
    "       \n",
    "    i = 0\n",
    "    nbiter  = int(len(coord_noisy_pix))\n",
    "    while i < nbiter: # DONT USE FOR FOR THIS BECAUSE WE WILL MODIFY THE LIST\n",
    "        y, x  = coord_noisy_pix[i] \n",
    "        \n",
    "        if(i%10==0): print( i, \" / \",  nbiter)\n",
    "        \n",
    "        #print(\"Correction de : (\", x, \", \", y,\")\")\n",
    "        patch = util.get_patch(x, y, h, noisy_image)\n",
    "        labelfull = list(convert_patch_into_vector(patch))\n",
    "        \n",
    "        #print(\"labelfull : \", labelfull)\n",
    "        \n",
    "        dictionary = np.array(dictionary_full)\n",
    "        dictionary, label = delete_all_indexes_from(dictionary,labelfull)\n",
    "\n",
    "        #print(\"--- lasso regression ---\")\n",
    "        \n",
    "        #recalcule du alpha à chaque patch\n",
    "        if(i%1==0) :\n",
    "            lassocv.fit(dictionary, label)\n",
    "            alpha_ = lassocv.alpha_\n",
    "            print(\"alpha = \", alpha_)\n",
    "    \n",
    "        #fin recalcule du alpha\n",
    "        \n",
    "        model = Lasso(fit_intercept=True,alpha=alpha_,positive=True)\n",
    "        \n",
    "        model.fit(dictionary, label)\n",
    "        \n",
    "        #################################################\n",
    "        #version somme cumulée\n",
    "        res = model.predict(dictionary_full)\n",
    "        \n",
    "        #version argmax\n",
    "        #print(\"argmax = \",np.argmax(model.coef_),\" / \", model.coef_.shape)\n",
    "        #res = dictionary_full.T[np.argmax(model.coef_)]\n",
    "        #################################################\n",
    "        \n",
    "        #################################################\n",
    "        #coef = model.coef_.reshape((1,-1)) #poids\n",
    "        #print(\"nb patch not at zero: \", np.count_nonzero(model.sparse_coef_.toarray()), \" / \", coef.shape[1])\n",
    "       \n",
    "        # corrige juste le pixel central\n",
    "        #\"\"\"\n",
    "        # and use x, y  = coord_noisy_pix[i]  at the beginning of the while\n",
    "        newPixel = util.get_centered_pixel(res, h)\n",
    "        print(\"new pixel (lasso): \", newPixel)\n",
    "        noisy_image[x][y] = newPixel\n",
    "        i=i+1\n",
    "        #\"\"\"\n",
    "        \n",
    "        \"\"\"\n",
    "        # corrige tous les pixels noirs dans le patch\n",
    "        # and use x, y  = coord_noisy_pix[0] at the beginning of the while\n",
    "        \n",
    "        labelfull = np.array(labelfull)\n",
    "        list_indexes_noise = np.where(labelfull < 0)[0]     \n",
    "        #print(list_indexes_noise)   \n",
    "        indexeach3 = list(range(0,len(list_indexes_noise),3))\n",
    "        listindexes2 = list_indexes_noise[indexeach3] #on prend que 1 sur 3 car 3 valeurs par pixel\n",
    "        xpatch = x-h//2\n",
    "        ypatch = y-h//2\n",
    "        for val in listindexes2:\n",
    "            val = (val/3)\n",
    "            xlocal = int((val)//h)\n",
    "            ylocal = int(val-(xlocal)*h)\n",
    "            #print(\"xlocal = \",xlocal,\" ylocal=\",ylocal)\n",
    "            xglobal = xpatch + xlocal\n",
    "            yglobal = ypatch + ylocal\n",
    "            #print(\"xglobal=\",xglobal,\" yglobal=\",yglobal)\n",
    "            patch = res.reshape(h,h,3)\n",
    "            newpixel = patch[xlocal, ylocal]\n",
    "            noisy_image[xglobal][yglobal] = newpixel\n",
    "            #supprimer de la liste pour pas le refaire\n",
    "            coord_noisy_pix = list( coord_noisy_pix)\n",
    "            currentpixel = [xglobal, yglobal] #ok vérifié\n",
    "            #print(\"remove : \", currentpixel)\n",
    "            \n",
    "            removearray(coord_noisy_pix, np.array(currentpixel))\n",
    "            coord_noisy_pix = list( coord_noisy_pix)\n",
    "            #print(\"left to correct : \",len(coord_noisy_pix))\n",
    "            i = i + 1\n",
    "            if(i%10==0): print( i, \" / \",  nbiter)\n",
    "            \n",
    "        util.display_im(noisy_image)\n",
    "       #\"\"\"    \n",
    "        #################################################\n",
    "        \n",
    "        #Test  -> reconstruire de nouveaux patch à partir des pixels corrigés ?\n",
    "        #_,clear_patches = util.get_patches(noisy_image, h, width, height)\n",
    "        #dictionary_full = convert_patches_into_training_set(clear_patches)\n",
    "        #print(\"shape : \", dictionary_full.shape)\n",
    "\n",
    "    util.display_im(noisy_image_orig)\n",
    "    util.display_im(noisy_image)"
   ]
  },
  {
   "cell_type": "code",
   "execution_count": 138,
   "metadata": {},
   "outputs": [
    {
     "name": "stdout",
     "output_type": "stream",
     "text": [
      "taille de l'image :  (100, 100, 3)\n",
      "nb pixels à corriger:  (76, 2)\n",
      "100  ,  100\n",
      "nbclear: 395\n"
     ]
    },
    {
     "data": {
      "image/png": "[encoded data removed]",
      "text/plain": [
       "<matplotlib.figure.Figure at 0x7f32f31a7438>"
      ]
     },
     "metadata": {},
     "output_type": "display_data"
    }
   ],
   "source": [
    "%matplotlib inline\n",
    "img_matrice = util.read_im(\"Data/imgdataset/lennasmall.jpg\")\n",
    "\n",
    "print(\"taille de l'image : \", img_matrice.shape)\n",
    "\n",
    "#util.display_im(img_matrice)\n",
    "\n",
    "#Taille des patchs\n",
    "h=5 #nombre impair !!\n",
    "\n",
    "width = img_matrice.shape[1]\n",
    "height = img_matrice.shape[0]\n",
    "noisy_image, deletepixels = util.noise(img_matrice, 0.01, width, height, h);\n",
    "\n",
    "#noisy_image, deletepixels = util.delete_rect(img_matrice, 10, 10, 10, 10) #66, 55, 75, 15\n",
    "\n",
    "#10small 65, 50, 80, 15\n",
    "#12.jpg 85, 75, 30, 6\n",
    "\n",
    "print(\"nb pixels à corriger: \", np.array(deletepixels).shape)\n",
    "\n",
    "width = img_matrice.shape[1]\n",
    "height = img_matrice.shape[0]\n",
    "\n",
    "print(width,\" , \", height)\n",
    "\n",
    "util.display_im(noisy_image)\n",
    "\n",
    "_,clear_patches = util.get_patches(noisy_image, h, width, height)\n",
    "\n",
    "nbclear = np.shape(clear_patches)[0]\n",
    "print(\"nbclear:\", nbclear)"
   ]
  },
  {
   "cell_type": "code",
   "execution_count": 139,
   "metadata": {},
   "outputs": [
    {
     "name": "stdout",
     "output_type": "stream",
     "text": [
      "(75, 395)\n"
     ]
    }
   ],
   "source": [
    "training = convert_patches_into_training_set(clear_patches)\n",
    "print(training.shape)"
   ]
  },
  {
   "cell_type": "code",
   "execution_count": 140,
   "metadata": {},
   "outputs": [
    {
     "name": "stdout",
     "output_type": "stream",
     "text": [
      "(9, 2)\n",
      "(3, 3, 2)\n",
      "center= ['5' 'a']\n",
      "(3, 1)\n"
     ]
    },
    {
     "data": {
      "text/plain": [
       "array([['1', 'a'],\n",
       "       ['2', 'a'],\n",
       "       ['3', 'a'],\n",
       "       ['6', 'a'],\n",
       "       ['9', 'a'],\n",
       "       ['8', 'a'],\n",
       "       ['7', 'a'],\n",
       "       ['4', 'a'],\n",
       "       ['5', 'a']],\n",
       "      dtype='<U21')"
      ]
     },
     "execution_count": 140,
     "metadata": {},
     "output_type": "execute_result"
    }
   ],
   "source": [
    "a = np.array([[1, 'a'], [2, 'a'], [3, 'a'], [4, 'a'], [5, 'a'], [6, 'a'], [7, 'a'], [8, 'a'], [9, 'a']])\n",
    "print(a.shape)    \n",
    "a = a.reshape(3,3,2)\n",
    "print(a.shape)\n",
    "print(\"center=\",util.get_centered_pixel(a, 3))\n",
    "\n",
    "#coefsize = (1, 2510)   dicofullsize = (27, 2510)  ressize= (27, 2510)\n",
    "coef = np.array([0,1,2])\n",
    "coef = coef.reshape(-1,1)\n",
    "print(coef.shape)\n",
    "dico = [1,2,3]\n",
    "coef.T*dico\n",
    "\n",
    "\n",
    "\n",
    "spyral_transformation(a)"
   ]
  },
  {
   "cell_type": "markdown",
   "metadata": {},
   "source": [
    "1  2  3  4\n",
    "5  6  7  8\n",
    "9 10 11 12"
   ]
  },
  {
   "cell_type": "code",
   "execution_count": 141,
   "metadata": {},
   "outputs": [
    {
     "name": "stdout",
     "output_type": "stream",
     "text": [
      "alpha =  92\n",
      "0  /  76\n"
     ]
    },
    {
     "name": "stderr",
     "output_type": "stream",
     "text": [
      "/users/Etu7/3262287/.local/lib/python3.4/site-packages/sklearn/linear_model/coordinate_descent.py:491: ConvergenceWarning: Objective did not converge. You might want to increase the number of iterations. Fitting data with very small alpha may cause precision problems.\n",
      "  ConvergenceWarning)\n"
     ]
    },
    {
     "name": "stdout",
     "output_type": "stream",
     "text": [
      "alpha =  1.19897125772\n",
      "new pixel (lasso):  [ 96.33340658  34.33363195  77.3924893 ]\n"
     ]
    },
    {
     "name": "stderr",
     "output_type": "stream",
     "text": [
      "/users/Etu7/3262287/.local/lib/python3.4/site-packages/sklearn/linear_model/coordinate_descent.py:491: ConvergenceWarning: Objective did not converge. You might want to increase the number of iterations. Fitting data with very small alpha may cause precision problems.\n",
      "  ConvergenceWarning)\n"
     ]
    },
    {
     "name": "stdout",
     "output_type": "stream",
     "text": [
      "alpha =  79.9922796019\n",
      "new pixel (lasso):  [ 90.79055798  30.86280874  73.38522363]\n",
      "alpha =  157.367582695\n",
      "new pixel (lasso):  [ 189.53676434   95.52096232   91.57744129]\n",
      "alpha =  131.328660893\n",
      "new pixel (lasso):  [ 220.09597167  119.59800507  107.0397536 ]\n"
     ]
    },
    {
     "name": "stderr",
     "output_type": "stream",
     "text": [
      "/users/Etu7/3262287/.local/lib/python3.4/site-packages/sklearn/linear_model/coordinate_descent.py:491: ConvergenceWarning: Objective did not converge. You might want to increase the number of iterations. Fitting data with very small alpha may cause precision problems.\n",
      "  ConvergenceWarning)\n"
     ]
    },
    {
     "name": "stdout",
     "output_type": "stream",
     "text": [
      "alpha =  5.35491448214\n",
      "new pixel (lasso):  [ 175.35555617   66.89510336   78.57937182]\n",
      "alpha =  63.2490412938\n",
      "new pixel (lasso):  [ 94.99743455  37.825233    76.54911151]\n"
     ]
    },
    {
     "name": "stderr",
     "output_type": "stream",
     "text": [
      "/users/Etu7/3262287/.local/lib/python3.4/site-packages/sklearn/linear_model/coordinate_descent.py:491: ConvergenceWarning: Objective did not converge. You might want to increase the number of iterations. Fitting data with very small alpha may cause precision problems.\n",
      "  ConvergenceWarning)\n"
     ]
    },
    {
     "name": "stdout",
     "output_type": "stream",
     "text": [
      "alpha =  132.960106481\n",
      "new pixel (lasso):  [ 219.63983243  187.01022771  177.89351225]\n",
      "alpha =  23.3083059254\n",
      "new pixel (lasso):  [ 121.64524738   28.16647711   76.53648547]\n",
      "alpha =  355.003240741\n",
      "new pixel (lasso):  [ 171.23109677   70.40144844   83.86693279]\n"
     ]
    },
    {
     "name": "stderr",
     "output_type": "stream",
     "text": [
      "/users/Etu7/3262287/.local/lib/python3.4/site-packages/sklearn/linear_model/coordinate_descent.py:491: ConvergenceWarning: Objective did not converge. You might want to increase the number of iterations. Fitting data with very small alpha may cause precision problems.\n",
      "  ConvergenceWarning)\n"
     ]
    },
    {
     "name": "stdout",
     "output_type": "stream",
     "text": [
      "alpha =  9.38121616359\n",
      "new pixel (lasso):  [ 261.96190987  208.97729517  164.99365083]\n",
      "10  /  76\n"
     ]
    },
    {
     "name": "stderr",
     "output_type": "stream",
     "text": [
      "/users/Etu7/3262287/.local/lib/python3.4/site-packages/sklearn/linear_model/coordinate_descent.py:491: ConvergenceWarning: Objective did not converge. You might want to increase the number of iterations. Fitting data with very small alpha may cause precision problems.\n",
      "  ConvergenceWarning)\n"
     ]
    },
    {
     "name": "stdout",
     "output_type": "stream",
     "text": [
      "alpha =  28.2462275991\n",
      "new pixel (lasso):  [ 217.63284581  107.48974376  107.10832965]\n",
      "alpha =  216.231384251\n",
      "new pixel (lasso):  [ 224.60842139  147.86399598  147.75116725]\n",
      "alpha =  27.7155166175\n",
      "new pixel (lasso):  [ 108.89953927   29.54493126   61.94443958]\n"
     ]
    },
    {
     "name": "stderr",
     "output_type": "stream",
     "text": [
      "/users/Etu7/3262287/.local/lib/python3.4/site-packages/sklearn/linear_model/coordinate_descent.py:491: ConvergenceWarning: Objective did not converge. You might want to increase the number of iterations. Fitting data with very small alpha may cause precision problems.\n",
      "  ConvergenceWarning)\n"
     ]
    },
    {
     "name": "stdout",
     "output_type": "stream",
     "text": [
      "alpha =  8.63659820273\n",
      "new pixel (lasso):  [ 172.56795222   63.93213603   78.56765029]\n"
     ]
    },
    {
     "name": "stderr",
     "output_type": "stream",
     "text": [
      "/users/Etu7/3262287/.local/lib/python3.4/site-packages/sklearn/linear_model/coordinate_descent.py:491: ConvergenceWarning: Objective did not converge. You might want to increase the number of iterations. Fitting data with very small alpha may cause precision problems.\n",
      "  ConvergenceWarning)\n"
     ]
    },
    {
     "name": "stdout",
     "output_type": "stream",
     "text": [
      "alpha =  4.43354507929\n",
      "new pixel (lasso):  [ 208.82740625  143.34152983  128.15023465]\n"
     ]
    },
    {
     "name": "stderr",
     "output_type": "stream",
     "text": [
      "/users/Etu7/3262287/.local/lib/python3.4/site-packages/sklearn/linear_model/coordinate_descent.py:491: ConvergenceWarning: Objective did not converge. You might want to increase the number of iterations. Fitting data with very small alpha may cause precision problems.\n",
      "  ConvergenceWarning)\n"
     ]
    },
    {
     "name": "stdout",
     "output_type": "stream",
     "text": [
      "alpha =  4.96695010853\n",
      "new pixel (lasso):  [ 179.28659359   69.43882759   81.59551475]\n"
     ]
    },
    {
     "name": "stderr",
     "output_type": "stream",
     "text": [
      "/users/Etu7/3262287/.local/lib/python3.4/site-packages/sklearn/linear_model/coordinate_descent.py:491: ConvergenceWarning: Objective did not converge. You might want to increase the number of iterations. Fitting data with very small alpha may cause precision problems.\n",
      "  ConvergenceWarning)\n"
     ]
    },
    {
     "name": "stdout",
     "output_type": "stream",
     "text": [
      "alpha =  45.2367528364\n",
      "new pixel (lasso):  [ 229.95318668  125.60831249  119.7189371 ]\n"
     ]
    },
    {
     "name": "stderr",
     "output_type": "stream",
     "text": [
      "/users/Etu7/3262287/.local/lib/python3.4/site-packages/sklearn/linear_model/coordinate_descent.py:491: ConvergenceWarning: Objective did not converge. You might want to increase the number of iterations. Fitting data with very small alpha may cause precision problems.\n",
      "  ConvergenceWarning)\n"
     ]
    },
    {
     "name": "stdout",
     "output_type": "stream",
     "text": [
      "alpha =  12.605379443\n",
      "new pixel (lasso):  [ 199.51540985  122.27841235  152.31425864]\n"
     ]
    },
    {
     "name": "stderr",
     "output_type": "stream",
     "text": [
      "/users/Etu7/3262287/.local/lib/python3.4/site-packages/sklearn/linear_model/coordinate_descent.py:491: ConvergenceWarning: Objective did not converge. You might want to increase the number of iterations. Fitting data with very small alpha may cause precision problems.\n",
      "  ConvergenceWarning)\n"
     ]
    },
    {
     "name": "stdout",
     "output_type": "stream",
     "text": [
      "alpha =  16.9564580323\n",
      "new pixel (lasso):  [ 223.08505127  183.32638342  168.62565898]\n",
      "alpha =  18.00192\n",
      "new pixel (lasso):  [ 235.8142248   183.25249869  159.8182914 ]\n",
      "20  /  76\n",
      "alpha =  20.6251110762\n",
      "new pixel (lasso):  [ 186.88192096   84.53384704  110.55614403]\n"
     ]
    },
    {
     "name": "stderr",
     "output_type": "stream",
     "text": [
      "/users/Etu7/3262287/.local/lib/python3.4/site-packages/sklearn/linear_model/coordinate_descent.py:491: ConvergenceWarning: Objective did not converge. You might want to increase the number of iterations. Fitting data with very small alpha may cause precision problems.\n",
      "  ConvergenceWarning)\n"
     ]
    },
    {
     "name": "stdout",
     "output_type": "stream",
     "text": [
      "alpha =  2.21247530864\n",
      "new pixel (lasso):  [ 175.73519553   88.89532343  119.57602569]\n"
     ]
    },
    {
     "name": "stderr",
     "output_type": "stream",
     "text": [
      "/users/Etu7/3262287/.local/lib/python3.4/site-packages/sklearn/linear_model/coordinate_descent.py:491: ConvergenceWarning: Objective did not converge. You might want to increase the number of iterations. Fitting data with very small alpha may cause precision problems.\n",
      "  ConvergenceWarning)\n"
     ]
    },
    {
     "name": "stdout",
     "output_type": "stream",
     "text": [
      "alpha =  3.90583551867\n",
      "new pixel (lasso):  [ 179.52519989   67.78414918   83.3203101 ]\n",
      "alpha =  321.168\n",
      "new pixel (lasso):  [ 199.62755893  115.11177674  127.87893468]\n",
      "alpha =  8.69103500368\n",
      "new pixel (lasso):  [ 173.54706156   66.75701144   83.28594357]\n",
      "alpha =  25.9877889543\n",
      "new pixel (lasso):  [ 221.23092345  176.13008908  168.47623013]\n"
     ]
    },
    {
     "name": "stderr",
     "output_type": "stream",
     "text": [
      "/users/Etu7/3262287/.local/lib/python3.4/site-packages/sklearn/linear_model/coordinate_descent.py:491: ConvergenceWarning: Objective did not converge. You might want to increase the number of iterations. Fitting data with very small alpha may cause precision problems.\n",
      "  ConvergenceWarning)\n"
     ]
    },
    {
     "name": "stdout",
     "output_type": "stream",
     "text": [
      "alpha =  49.3723513155\n",
      "new pixel (lasso):  [ 98.46802885  15.46169828  54.10145072]\n"
     ]
    },
    {
     "name": "stderr",
     "output_type": "stream",
     "text": [
      "/users/Etu7/3262287/.local/lib/python3.4/site-packages/sklearn/linear_model/coordinate_descent.py:491: ConvergenceWarning: Objective did not converge. You might want to increase the number of iterations. Fitting data with very small alpha may cause precision problems.\n",
      "  ConvergenceWarning)\n"
     ]
    },
    {
     "name": "stdout",
     "output_type": "stream",
     "text": [
      "alpha =  357.606185831\n",
      "new pixel (lasso):  [ 220.4121876   117.84881557  119.36730673]\n",
      "alpha =  158.250807353\n",
      "new pixel (lasso):  [ 217.40163986  110.89023654  112.50974812]\n"
     ]
    },
    {
     "name": "stderr",
     "output_type": "stream",
     "text": [
      "/users/Etu7/3262287/.local/lib/python3.4/site-packages/sklearn/linear_model/coordinate_descent.py:491: ConvergenceWarning: Objective did not converge. You might want to increase the number of iterations. Fitting data with very small alpha may cause precision problems.\n",
      "  ConvergenceWarning)\n"
     ]
    },
    {
     "name": "stdout",
     "output_type": "stream",
     "text": [
      "alpha =  33.6742423142\n",
      "new pixel (lasso):  [ 223.51505028  126.70037994  110.1191461 ]\n",
      "30  /  76\n"
     ]
    },
    {
     "name": "stderr",
     "output_type": "stream",
     "text": [
      "/users/Etu7/3262287/.local/lib/python3.4/site-packages/sklearn/linear_model/coordinate_descent.py:491: ConvergenceWarning: Objective did not converge. You might want to increase the number of iterations. Fitting data with very small alpha may cause precision problems.\n",
      "  ConvergenceWarning)\n"
     ]
    },
    {
     "name": "stdout",
     "output_type": "stream",
     "text": [
      "alpha =  3.04209333333\n",
      "new pixel (lasso):  [ 210.82774378   96.68559478  105.35771948]\n",
      "alpha =  44.4179889593\n",
      "new pixel (lasso):  [ 191.06456787   90.14478759  113.81660591]\n"
     ]
    },
    {
     "name": "stderr",
     "output_type": "stream",
     "text": [
      "/users/Etu7/3262287/.local/lib/python3.4/site-packages/sklearn/linear_model/coordinate_descent.py:491: ConvergenceWarning: Objective did not converge. You might want to increase the number of iterations. Fitting data with very small alpha may cause precision problems.\n",
      "  ConvergenceWarning)\n"
     ]
    },
    {
     "name": "stdout",
     "output_type": "stream",
     "text": [
      "alpha =  3.68195150707\n",
      "new pixel (lasso):  [ 154.42868446   65.19358608   85.66590849]\n",
      "alpha =  378.681511189\n",
      "new pixel (lasso):  [ 184.18778288   93.15027108   97.17241973]\n",
      "alpha =  52.2619788837\n",
      "new pixel (lasso):  [ 227.72765523  159.5191991   136.3156689 ]\n",
      "alpha =  73.2007420505\n",
      "new pixel (lasso):  [ 211.45200505  111.95720955  121.54992326]\n"
     ]
    },
    {
     "name": "stderr",
     "output_type": "stream",
     "text": [
      "/users/Etu7/3262287/.local/lib/python3.4/site-packages/sklearn/linear_model/coordinate_descent.py:491: ConvergenceWarning: Objective did not converge. You might want to increase the number of iterations. Fitting data with very small alpha may cause precision problems.\n",
      "  ConvergenceWarning)\n"
     ]
    },
    {
     "name": "stdout",
     "output_type": "stream",
     "text": [
      "alpha =  2.17377141204\n",
      "new pixel (lasso):  [ 214.19057597  138.97251298  128.38573595]\n",
      "alpha =  510.641216511\n",
      "new pixel (lasso):  [ 156.80953861   64.87644628   94.40368222]\n",
      "alpha =  45.6955093194\n",
      "new pixel (lasso):  [ 198.18724444  116.45015892  118.30379454]\n"
     ]
    },
    {
     "name": "stderr",
     "output_type": "stream",
     "text": [
      "/users/Etu7/3262287/.local/lib/python3.4/site-packages/sklearn/linear_model/coordinate_descent.py:491: ConvergenceWarning: Objective did not converge. You might want to increase the number of iterations. Fitting data with very small alpha may cause precision problems.\n",
      "  ConvergenceWarning)\n"
     ]
    },
    {
     "name": "stdout",
     "output_type": "stream",
     "text": [
      "alpha =  13.3698722961\n",
      "new pixel (lasso):  [ 120.85869999   37.6738681    81.58384214]\n",
      "40  /  76\n",
      "alpha =  2.58577493333\n",
      "new pixel (lasso):  [ 214.95315525  121.06897199  113.08409828]\n"
     ]
    },
    {
     "name": "stderr",
     "output_type": "stream",
     "text": [
      "/users/Etu7/3262287/.local/lib/python3.4/site-packages/sklearn/linear_model/coordinate_descent.py:491: ConvergenceWarning: Objective did not converge. You might want to increase the number of iterations. Fitting data with very small alpha may cause precision problems.\n",
      "  ConvergenceWarning)\n"
     ]
    },
    {
     "name": "stdout",
     "output_type": "stream",
     "text": [
      "alpha =  34.4277137163\n",
      "new pixel (lasso):  [ 247.59973724  195.23587476  182.71623919]\n"
     ]
    },
    {
     "name": "stderr",
     "output_type": "stream",
     "text": [
      "/users/Etu7/3262287/.local/lib/python3.4/site-packages/sklearn/linear_model/coordinate_descent.py:491: ConvergenceWarning: Objective did not converge. You might want to increase the number of iterations. Fitting data with very small alpha may cause precision problems.\n",
      "  ConvergenceWarning)\n"
     ]
    },
    {
     "name": "stdout",
     "output_type": "stream",
     "text": [
      "alpha =  2.95689706667\n",
      "new pixel (lasso):  [ 222.25422774  121.45632832  112.84978712]\n",
      "alpha =  110.933020321\n",
      "new pixel (lasso):  [ 184.19474215   77.71390742   81.68625614]\n",
      "alpha =  73.7904293277\n",
      "new pixel (lasso):  [ 231.32691666  148.59512451  124.35719385]\n"
     ]
    },
    {
     "name": "stderr",
     "output_type": "stream",
     "text": [
      "/users/Etu7/3262287/.local/lib/python3.4/site-packages/sklearn/linear_model/coordinate_descent.py:491: ConvergenceWarning: Objective did not converge. You might want to increase the number of iterations. Fitting data with very small alpha may cause precision problems.\n",
      "  ConvergenceWarning)\n"
     ]
    },
    {
     "name": "stdout",
     "output_type": "stream",
     "text": [
      "alpha =  14.0114254018\n",
      "new pixel (lasso):  [ 204.68705042  133.12371369  119.55439821]\n",
      "alpha =  79.9660888226\n",
      "new pixel (lasso):  [ 225.37451788  185.83120205  177.63708946]\n"
     ]
    },
    {
     "name": "stderr",
     "output_type": "stream",
     "text": [
      "/users/Etu7/3262287/.local/lib/python3.4/site-packages/sklearn/linear_model/coordinate_descent.py:491: ConvergenceWarning: Objective did not converge. You might want to increase the number of iterations. Fitting data with very small alpha may cause precision problems.\n",
      "  ConvergenceWarning)\n"
     ]
    },
    {
     "name": "stdout",
     "output_type": "stream",
     "text": [
      "alpha =  197.288187416\n",
      "new pixel (lasso):  [ 111.52328726   61.26216167  101.49028717]\n"
     ]
    },
    {
     "name": "stderr",
     "output_type": "stream",
     "text": [
      "/users/Etu7/3262287/.local/lib/python3.4/site-packages/sklearn/linear_model/coordinate_descent.py:491: ConvergenceWarning: Objective did not converge. You might want to increase the number of iterations. Fitting data with very small alpha may cause precision problems.\n",
      "  ConvergenceWarning)\n"
     ]
    },
    {
     "name": "stdout",
     "output_type": "stream",
     "text": [
      "alpha =  3.79524003995\n",
      "new pixel (lasso):  [ 103.47256785   22.90789424   65.5873069 ]\n"
     ]
    },
    {
     "name": "stderr",
     "output_type": "stream",
     "text": [
      "/users/Etu7/3262287/.local/lib/python3.4/site-packages/sklearn/linear_model/coordinate_descent.py:491: ConvergenceWarning: Objective did not converge. You might want to increase the number of iterations. Fitting data with very small alpha may cause precision problems.\n",
      "  ConvergenceWarning)\n"
     ]
    },
    {
     "name": "stdout",
     "output_type": "stream",
     "text": [
      "alpha =  9.04372191149\n",
      "new pixel (lasso):  [ 89.3988174   17.60504685  61.16985736]\n",
      "50  /  76\n"
     ]
    },
    {
     "name": "stderr",
     "output_type": "stream",
     "text": [
      "/users/Etu7/3262287/.local/lib/python3.4/site-packages/sklearn/linear_model/coordinate_descent.py:491: ConvergenceWarning: Objective did not converge. You might want to increase the number of iterations. Fitting data with very small alpha may cause precision problems.\n",
      "  ConvergenceWarning)\n"
     ]
    },
    {
     "name": "stdout",
     "output_type": "stream",
     "text": [
      "alpha =  47.7791835725\n",
      "new pixel (lasso):  [ 215.56495244  114.3013348   108.0473908 ]\n"
     ]
    },
    {
     "name": "stderr",
     "output_type": "stream",
     "text": [
      "/users/Etu7/3262287/.local/lib/python3.4/site-packages/sklearn/linear_model/coordinate_descent.py:491: ConvergenceWarning: Objective did not converge. You might want to increase the number of iterations. Fitting data with very small alpha may cause precision problems.\n",
      "  ConvergenceWarning)\n"
     ]
    },
    {
     "name": "stdout",
     "output_type": "stream",
     "text": [
      "alpha =  11.8718791966\n",
      "new pixel (lasso):  [ 233.21648265  126.54585181  103.48791364]\n",
      "alpha =  19.1797740304\n",
      "new pixel (lasso):  [ 137.75759423   53.28312782   97.6221286 ]\n",
      "alpha =  45.5975475527\n",
      "new pixel (lasso):  [ 148.43155667   60.10875574  106.14423519]\n"
     ]
    },
    {
     "name": "stderr",
     "output_type": "stream",
     "text": [
      "/users/Etu7/3262287/.local/lib/python3.4/site-packages/sklearn/linear_model/coordinate_descent.py:491: ConvergenceWarning: Objective did not converge. You might want to increase the number of iterations. Fitting data with very small alpha may cause precision problems.\n",
      "  ConvergenceWarning)\n"
     ]
    },
    {
     "name": "stdout",
     "output_type": "stream",
     "text": [
      "alpha =  16.2176843831\n",
      "new pixel (lasso):  [ 227.24184571  121.38071975  111.24550571]\n",
      "alpha =  5.41154549139\n",
      "new pixel (lasso):  [ 97.5667456   34.23217718  76.93377054]\n",
      "alpha =  9.93285580204\n",
      "new pixel (lasso):  [ 116.63919982   49.22247861   95.7812856 ]\n"
     ]
    },
    {
     "name": "stderr",
     "output_type": "stream",
     "text": [
      "/users/Etu7/3262287/.local/lib/python3.4/site-packages/sklearn/linear_model/coordinate_descent.py:491: ConvergenceWarning: Objective did not converge. You might want to increase the number of iterations. Fitting data with very small alpha may cause precision problems.\n",
      "  ConvergenceWarning)\n"
     ]
    },
    {
     "name": "stdout",
     "output_type": "stream",
     "text": [
      "alpha =  11.5009681355\n",
      "new pixel (lasso):  [ 115.87811111   22.89124469   78.23370153]\n"
     ]
    },
    {
     "name": "stderr",
     "output_type": "stream",
     "text": [
      "/users/Etu7/3262287/.local/lib/python3.4/site-packages/sklearn/linear_model/coordinate_descent.py:491: ConvergenceWarning: Objective did not converge. You might want to increase the number of iterations. Fitting data with very small alpha may cause precision problems.\n",
      "  ConvergenceWarning)\n"
     ]
    },
    {
     "name": "stdout",
     "output_type": "stream",
     "text": [
      "alpha =  17.696982443\n",
      "new pixel (lasso):  [ 230.44653367  197.34325097  190.4282826 ]\n",
      "alpha =  10.6933655983\n",
      "new pixel (lasso):  [ 93.44780519  24.00226042  66.14940081]\n",
      "60  /  76\n",
      "alpha =  34.7181341294\n",
      "new pixel (lasso):  [ 96.51669604  29.70700759  65.60591503]\n",
      "alpha =  516.557140445\n",
      "new pixel (lasso):  [ 96.0550613   36.38569667  72.84967313]\n"
     ]
    },
    {
     "name": "stderr",
     "output_type": "stream",
     "text": [
      "/users/Etu7/3262287/.local/lib/python3.4/site-packages/sklearn/linear_model/coordinate_descent.py:491: ConvergenceWarning: Objective did not converge. You might want to increase the number of iterations. Fitting data with very small alpha may cause precision problems.\n",
      "  ConvergenceWarning)\n"
     ]
    },
    {
     "name": "stdout",
     "output_type": "stream",
     "text": [
      "alpha =  746.329768453\n",
      "new pixel (lasso):  [ 167.20470483  114.74200202  112.52339702]\n",
      "alpha =  8.12206313782\n",
      "new pixel (lasso):  [ 94.39852829  23.43028943  60.70070585]\n",
      "alpha =  60.9509028999\n",
      "new pixel (lasso):  [ 202.01456328   91.04568289   89.29422386]\n"
     ]
    },
    {
     "name": "stderr",
     "output_type": "stream",
     "text": [
      "/users/Etu7/3262287/.local/lib/python3.4/site-packages/sklearn/linear_model/coordinate_descent.py:491: ConvergenceWarning: Objective did not converge. You might want to increase the number of iterations. Fitting data with very small alpha may cause precision problems.\n",
      "  ConvergenceWarning)\n"
     ]
    },
    {
     "name": "stdout",
     "output_type": "stream",
     "text": [
      "alpha =  451.561298851\n",
      "new pixel (lasso):  [ 206.05430025  145.45631493  139.37453026]\n"
     ]
    },
    {
     "name": "stderr",
     "output_type": "stream",
     "text": [
      "/users/Etu7/3262287/.local/lib/python3.4/site-packages/sklearn/linear_model/coordinate_descent.py:491: ConvergenceWarning: Objective did not converge. You might want to increase the number of iterations. Fitting data with very small alpha may cause precision problems.\n",
      "  ConvergenceWarning)\n"
     ]
    },
    {
     "name": "stdout",
     "output_type": "stream",
     "text": [
      "alpha =  3.1487046885\n",
      "new pixel (lasso):  [ 243.02645482  182.91483343  168.68626699]\n"
     ]
    },
    {
     "name": "stderr",
     "output_type": "stream",
     "text": [
      "/users/Etu7/3262287/.local/lib/python3.4/site-packages/sklearn/linear_model/coordinate_descent.py:491: ConvergenceWarning: Objective did not converge. You might want to increase the number of iterations. Fitting data with very small alpha may cause precision problems.\n",
      "  ConvergenceWarning)\n"
     ]
    },
    {
     "name": "stdout",
     "output_type": "stream",
     "text": [
      "alpha =  43.4947731413\n",
      "new pixel (lasso):  [ 197.43856316  127.93445002  122.30912554]\n"
     ]
    },
    {
     "name": "stderr",
     "output_type": "stream",
     "text": [
      "/users/Etu7/3262287/.local/lib/python3.4/site-packages/sklearn/linear_model/coordinate_descent.py:491: ConvergenceWarning: Objective did not converge. You might want to increase the number of iterations. Fitting data with very small alpha may cause precision problems.\n",
      "  ConvergenceWarning)\n"
     ]
    },
    {
     "name": "stdout",
     "output_type": "stream",
     "text": [
      "alpha =  158.122513018\n",
      "new pixel (lasso):  [ 208.0757702   123.92176111  118.9407858 ]\n",
      "alpha =  70.9119466186\n",
      "new pixel (lasso):  [ 174.71446457   78.64540617   92.68564383]\n",
      "70  /  76\n",
      "alpha =  94.00764933\n",
      "new pixel (lasso):  [ 207.6301806   118.5974628   123.19641973]\n",
      "alpha =  58.7529642114\n",
      "new pixel (lasso):  [ 239.20564696  199.07617852  184.57217605]\n",
      "alpha =  117.014820996\n",
      "new pixel (lasso):  [ 204.25548985  105.70185776  107.42617896]\n"
     ]
    },
    {
     "name": "stderr",
     "output_type": "stream",
     "text": [
      "/users/Etu7/3262287/.local/lib/python3.4/site-packages/sklearn/linear_model/coordinate_descent.py:491: ConvergenceWarning: Objective did not converge. You might want to increase the number of iterations. Fitting data with very small alpha may cause precision problems.\n",
      "  ConvergenceWarning)\n"
     ]
    },
    {
     "name": "stdout",
     "output_type": "stream",
     "text": [
      "alpha =  11.6669857438\n",
      "new pixel (lasso):  [ 227.93815568  184.96650854  169.95335944]\n"
     ]
    },
    {
     "name": "stderr",
     "output_type": "stream",
     "text": [
      "/users/Etu7/3262287/.local/lib/python3.4/site-packages/sklearn/linear_model/coordinate_descent.py:491: ConvergenceWarning: Objective did not converge. You might want to increase the number of iterations. Fitting data with very small alpha may cause precision problems.\n",
      "  ConvergenceWarning)\n"
     ]
    },
    {
     "name": "stdout",
     "output_type": "stream",
     "text": [
      "alpha =  5.75451084961\n",
      "new pixel (lasso):  [ 228.14147127  157.15296117  136.17410492]\n",
      "alpha =  75.236629828\n",
      "new pixel (lasso):  [ 96.41572459  22.66584609  67.95929802]\n"
     ]
    },
    {
     "data": {
      "image/png": "[encoded data removed]",
      "text/plain": [
       "<matplotlib.figure.Figure at 0x7f32f31d3390>"
      ]
     },
     "metadata": {},
     "output_type": "display_data"
    },
    {
     "data": {
      "image/png": "[encoded data removed]",
      "text/plain": [
       "<matplotlib.figure.Figure at 0x7f32f3103240>"
      ]
     },
     "metadata": {},
     "output_type": "display_data"
    }
   ],
   "source": [
    "deletepixels_transformed = util.spyral_transformation(np.array(deletepixels))\n",
    "\n",
    "inpaint_image(noisy_image, training, deletepixels_transformed, h, img_matrice)"
   ]
  }
 ],
 "metadata": {
  "kernelspec": {
   "display_name": "Python 3",
   "language": "python",
   "name": "python3"
  },
  "language_info": {
   "codemirror_mode": {
    "name": "ipython",
    "version": 3
   },
   "file_extension": ".py",
   "mimetype": "text/x-python",
   "name": "python",
   "nbconvert_exporter": "python",
   "pygments_lexer": "ipython3",
   "version": "3.4.2"
  }
 },
 "nbformat": 4,
 "nbformat_minor": 2
}
