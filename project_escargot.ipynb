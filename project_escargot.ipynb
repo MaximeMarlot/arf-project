{
 "cells": [
  {
   "cell_type": "code",
   "execution_count": 8,
   "metadata": {},
   "outputs": [
    {
     "data": {
      "application/javascript": [
       "IPython.OutputArea.prototype._should_scroll = function(lines) {\n",
       "    return false;\n",
       "}"
      ],
      "text/plain": [
       "<IPython.core.display.Javascript object>"
      ]
     },
     "metadata": {},
     "output_type": "display_data"
    }
   ],
   "source": [
    "%%javascript\n",
    "IPython.OutputArea.prototype._should_scroll = function(lines) {\n",
    "    return false;\n",
    "}"
   ]
  },
  {
   "cell_type": "code",
   "execution_count": 9,
   "metadata": {},
   "outputs": [],
   "source": [
    "from matplotlib import pyplot as plt\n",
    "from matplotlib import colors as colors\n",
    "import numpy as np\n",
    "\n",
    "import sys \n",
    "#sys.path.append('../')\n",
    "\n",
    "from importlib import reload\n",
    "import Utils.utils as util\n",
    "reload(util)\n",
    "\n",
    "\n",
    "from sklearn.linear_model import Lasso\n",
    "from sklearn.multiclass import OneVsRestClassifier\n",
    "from sklearn.preprocessing import normalize\n",
    "\n",
    "np.set_printoptions(threshold=np.inf) #print full arrays\n",
    "from sklearn import linear_model\n"
   ]
  },
  {
   "cell_type": "code",
   "execution_count": 10,
   "metadata": {},
   "outputs": [],
   "source": [
    "def split_patch(patch):\n",
    "    h = patch.shape[0]\n",
    "    #Convert one patch into a column vector for training\n",
    "    patch = patch.flatten()\n",
    "    pixel_central = patch[(h*(h//2)+(h//2))*3:(h*(h//2)+(h//2))*3+3]\n",
    "    patch_sans_central = np.delete(patch, range((h*(h//2)+(h//2))*3, (h*(h//2)+(h//2))*3+3))\n",
    "    return np.array((patch_sans_central, pixel_central))\n",
    "    \n",
    "def convert_patch_into_vector(patch):\n",
    "    #Convert one patch into a column vector for training\n",
    "    #patch = patch.flatten()\n",
    "    h = patch.shape[0]\n",
    "    patch = np.reshape(patch, h*h*3)\n",
    "    return np.array(patch)\n",
    "\n",
    "def convert_vector_into_patch(vector, h):\n",
    "    #Convert a one column vector into a patch of size h\n",
    "    return vector.reshape((h,h,7))\n",
    "    \n",
    "def convert_patches_into_training_set(patches):\n",
    "    #Convert a set of patches into a set of vectors\n",
    "    return np.array(list(map(convert_patch_into_vector, patches))).T\n",
    "\n",
    "def find_index_noisy_lines(label):\n",
    "    \"\"\"\n",
    "    indexes = []\n",
    "    for index, value in enumerate(label):\n",
    "        if(value == -1):\n",
    "            indexes.append(index)\n",
    "    \"\"\"\n",
    "    label = np.array(label)\n",
    "    indexes = np.where(label < 0)\n",
    "    return indexes\n",
    "\n",
    "def delete_all_indexes_from(dictionary, label):\n",
    "    indexes = find_index_noisy_lines(label)\n",
    "    dictionary = np.delete(dictionary, indexes , 0)\n",
    "    label = np.delete(label, indexes , 0)\n",
    "    \n",
    "    return (dictionary, label)    \n",
    "\n",
    "#test the alpha on a lot of cleared patches and returns an average value\n",
    "def estimate_alpha(noisy_image, dictionary_full, h):\n",
    "    lassocv = linear_model.LassoCV()\n",
    "    listalpha = []\n",
    "    width = noisy_image.shape[1]\n",
    "    height = noisy_image.shape[0]\n",
    "    #params\n",
    "    pas = h+10\n",
    "    start = h//2\n",
    "    endx = height-h//2\n",
    "    endy = width-h//2\n",
    "    #end params\n",
    "    i=0\n",
    "    total = int( (endx-pas)/pas * (endy-pas)/pas )\n",
    "    for x in range(start,endx,pas):\n",
    "        for y in range(start,endy,pas):\n",
    "            label = util.get_patch(x, y, h, noisy_image)\n",
    "            label = list(convert_patch_into_vector(label))\n",
    "            dictionary, label = delete_all_indexes_from(dictionary_full,label)\n",
    "            lassocv.fit(dictionary_full, label)\n",
    "            alpha_ = lassocv.alpha_\n",
    "            listalpha.append(alpha_)\n",
    "            i+=1\n",
    "            if(i%10==0): print(i, \"/\", total)\n",
    "    return np.mean(np.array(listalpha))\n",
    "    \n",
    "def removearray(L,arr):\n",
    "    ind = 0\n",
    "    size = len(L)\n",
    "    while ind != size and not np.array_equal(L[ind],arr):\n",
    "        ind += 1\n",
    "    if ind != size:\n",
    "        L.pop(ind)\n",
    "    else:\n",
    "        #raise ValueError('array not found in list.') #todo, why am I getting this one in optimized mode\n",
    "        print('ERROR:  removearray(L,arr): array not found in list.')\n",
    "\n",
    "def inpaint_image(noisy_image, dictionary, coord_noisy_pix, h, clear_image):\n",
    "    noisy_image_orig = np.array(noisy_image)\n",
    "    dictionary_full = np.array(dictionary)\n",
    "    \n",
    "    #todo question: vérifier qu'il faut bien faire le lassocv pour trouver le alpha sur le clear?\n",
    "    lassocv = linear_model.LassoCV(max_iter=1000)  #1000 by default, 100 works OK most of the time\n",
    "    \"\"\"\n",
    "    y, x = coord_noisy_pix[0]\n",
    "    label = util.get_patch(x, y, h, noisy_image)\n",
    "    #label = util.get_patch(x, y, h, clear_image)\n",
    "    label = list(convert_patch_into_vector(label))\n",
    "    lassocv.fit(dictionary_full, label)\n",
    "    alpha_ = lassocv.alpha_\n",
    "    \"\"\"\n",
    "    #alpha_ = estimate_alpha(noisy_image, dictionary_full, h)\n",
    "    #autre idée: en prendre 10 aléatoirement ?\n",
    "    alpha_ = 0.01 #default value\n",
    "    \n",
    "    print(\"alpha = \", alpha_)\n",
    "       \n",
    "    i = 0\n",
    "    nbiter  = int(len(coord_noisy_pix))\n",
    "    while i < nbiter: # DONT USE FOR FOR THIS BECAUSE WE WILL MODIFY THE LIST\n",
    "        y, x  = coord_noisy_pix[i] \n",
    "        \n",
    "        #utile pour la correction des carrés manquants\n",
    "        while( not(np.all(noisy_image[x][y] == -1 )) and i < nbiter):\n",
    "            #print(\"PIXEL \",x,y,\" DEJA CORRIGE\")\n",
    "            if(i%10==0): print( i, \" / \",  nbiter)\n",
    "            i=i+1\n",
    "            y, x  = coord_noisy_pix[i] \n",
    "        \n",
    "        if(i%10==0): print( i, \" / \",  nbiter)\n",
    "        \n",
    "        #print(\"Correction de : (\", x, \", \", y,\")\")\n",
    "        patch = util.get_patch2(x, y, h, noisy_image)\n",
    "        labelfull = list(convert_patch_into_vector(patch))\n",
    "        \n",
    "        #print(\"labelfull : \", labelfull)\n",
    "        \n",
    "        dictionary = np.array(dictionary_full)\n",
    "        dictionary, label = delete_all_indexes_from(dictionary,labelfull)\n",
    "\n",
    "        #print(\"--- lasso regression ---\")\n",
    "        \n",
    "        #recalcule du alpha à chaque patch\n",
    "        lassocv.fit(dictionary, label)\n",
    "        alpha_ = lassocv.alpha_\n",
    "        print(\"alpha = \", alpha_)\n",
    "        #fin recalcule du alpha\n",
    "        \n",
    "        model = Lasso(fit_intercept=True,alpha=alpha_,positive=True)\n",
    "        \n",
    "        model.fit(dictionary, label)\n",
    "        \n",
    "        #################################################\n",
    "        #version somme cumulée pondérée\n",
    "        #res = model.predict(dictionary_full)\n",
    "        \n",
    "        #version argmax\n",
    "        #print(\"argmax = \",np.argmax(model.coef_),\" / \", model.coef_.shape)\n",
    "        res = dictionary_full.T[np.argmax(model.coef_)]\n",
    "        #################################################\n",
    "        \n",
    "        #################################################\n",
    "        #coef = model.coef_.reshape((1,-1)) #poids\n",
    "        #print(\"nb patch not at zero: \", np.count_nonzero(model.sparse_coef_.toarray()), \" / \", coef.shape[1])\n",
    "       \n",
    "        # corrige juste le pixel central\n",
    "        #\"\"\"\n",
    "        # and use y, x = coord_noisy_pix[i]  at the beginning of the while\n",
    "        newPixel = util.get_centered_pixel(res, h)\n",
    "        print(\"new pixel (lasso): \", newPixel)\n",
    "        noisy_image[x][y] = newPixel\n",
    "        i=i+1\n",
    "        #\"\"\"\n",
    "        \n",
    "        \"\"\"\n",
    "        # corrige tous les pixels noirs dans le patch\n",
    "        labelfull = np.array(labelfull)\n",
    "        list_indexes_noise = np.where(labelfull == -1)[0]     \n",
    "        #print(list_indexes_noise)   \n",
    "        indexeach3 = list(range(0,len(list_indexes_noise),3))\n",
    "        listindexes2 = list_indexes_noise[indexeach3] #on prend que 1 sur 3 car 3 valeurs par pixel\n",
    "        xpatch = x-h//2\n",
    "        ypatch = y-h//2\n",
    "        i=i+1\n",
    "        for val in listindexes2:\n",
    "            val = (val/3)\n",
    "            ylocal = int((val)//h)\n",
    "            xlocal = int(val-(ylocal)*h)\n",
    "            #print(\"xlocal = \",xlocal,\" ylocal=\",ylocal)\n",
    "            xglobal = xpatch + xlocal\n",
    "            yglobal = ypatch + ylocal\n",
    "            print(\"correcting pixel (\",xglobal,\", \",yglobal,\")\")\n",
    "            #print(\"xglobal=\",xglobal,\" yglobal=\",yglobal)\n",
    "            patch = res.reshape(h,h,3)\n",
    "            newpixel = patch[xlocal, ylocal]\n",
    "            noisy_image[xglobal][yglobal] = newpixel\n",
    "            ##########################\n",
    "            ##supprimer de la liste pour pas le refaire #obsolète on ne fait plus ça\n",
    "            #coord_noisy_pix = list( coord_noisy_pix)\n",
    "            #currentpixel = [xglobal, yglobal] #ok vérifié\n",
    "            ##print(\"remove : \", currentpixel)\n",
    "            #removearray(coord_noisy_pix, np.array(currentpixel))\n",
    "            #coord_noisy_pix = list( coord_noisy_pix)\n",
    "            ##print(\"left to correct : \",len(coord_noisy_pix))\n",
    "            #i = i + 1\n",
    "            #if(i%10==0):\n",
    "            #    print( i, \" / \",  nbiter)\n",
    "            ##########################\n",
    "            \n",
    "        #util.display_im(noisy_image)\n",
    "       #\"\"\"    \n",
    "        #################################################\n",
    "        \n",
    "        #Test  -> reconstruire de nouveaux patch à partir des pixels corrigés ?\n",
    "        #_,clear_patches = util.get_patches(noisy_image, h, width, height)\n",
    "        #dictionary_full = convert_patches_into_training_set(clear_patches)\n",
    "        #print(\"shape : \", dictionary_full.shape)\n",
    "\n",
    "    util.display_im(noisy_image_orig)\n",
    "    util.display_im(noisy_image)"
   ]
  },
  {
   "cell_type": "code",
   "execution_count": 11,
   "metadata": {},
   "outputs": [
    {
     "name": "stdout",
     "output_type": "stream",
     "text": [
      "taille de l'image :  (100, 100, 3)\n",
      "nb pixels à corriger:  199\n",
      "nbclear pacthes: 395\n"
     ]
    },
    {
     "data": {
      "image/png": "[encoded data removed]",
      "text/plain": [
       "<matplotlib.figure.Figure at 0x7f131252a780>"
      ]
     },
     "metadata": {},
     "output_type": "display_data"
    }
   ],
   "source": [
    "%matplotlib inline\n",
    "img_matrice = util.read_im(\"Data/imgdataset/lennasmall.jpg\")\n",
    "#lennasmall.jpg\n",
    "\n",
    "print(\"taille de l'image : \", img_matrice.shape)\n",
    "\n",
    "#util.display_im(img_matrice)\n",
    "\n",
    "#Taille des patchs\n",
    "h=5 #nombre impair !!\n",
    "\n",
    "width = img_matrice.shape[1]\n",
    "height = img_matrice.shape[0]\n",
    "noisy_image, deletepixels = util.noise2(img_matrice, 0.02, width, height, h);\n",
    "\n",
    "#noisy_image, deletepixels = util.delete_rect(img_matrice, 10, 10, 10, 10) #66, 55, 75, 15\n",
    "\n",
    "#10small 65, 50, 80, 15\n",
    "#12.jpg 85, 75, 30, 6\n",
    "\n",
    "print(\"nb pixels à corriger: \", np.array(deletepixels).shape[0])\n",
    "\n",
    "width = img_matrice.shape[1]\n",
    "height = img_matrice.shape[0]\n",
    "\n",
    "#print(width,\" , \", height)\n",
    "\n",
    "util.display_im(noisy_image)\n",
    "\n",
    "_,clear_patches = util.get_patches(noisy_image, h, width, height)\n",
    "\n",
    "nbclear = np.shape(clear_patches)[0]\n",
    "print(\"nbclear pacthes:\", nbclear)"
   ]
  },
  {
   "cell_type": "code",
   "execution_count": 12,
   "metadata": {},
   "outputs": [
    {
     "name": "stdout",
     "output_type": "stream",
     "text": [
      "(75, 395)\n"
     ]
    }
   ],
   "source": [
    "training = convert_patches_into_training_set(clear_patches)\n",
    "print(training.shape)\n",
    "\n",
    "#test de l'extension d'image\n",
    "#newimg = util.extend_image(noisy_image, h)\n",
    "#util.display_im(newimg)"
   ]
  },
  {
   "cell_type": "code",
   "execution_count": 13,
   "metadata": {},
   "outputs": [
    {
     "data": {
      "text/plain": [
       "array([[0, 2, 6]])"
      ]
     },
     "execution_count": 13,
     "metadata": {},
     "output_type": "execute_result"
    }
   ],
   "source": [
    "a = np.array([[1, 'a'], [2, 'a'], [3, 'a'], [4, 'a'], [5, 'a'], [6, 'a'], [7, 'a'], [8, 'a'], [9, 'a']])\n",
    "#print(a.shape)    \n",
    "a = a.reshape(3,3,2)\n",
    "#print(a.shape)\n",
    "#print(\"center=\",util.get_centered_pixel(a, 3))\n",
    "\n",
    "#coefsize = (1, 2510)   dicofullsize = (27, 2510)  ressize= (27, 2510)\n",
    "coef = np.array([0,1,2])\n",
    "coef = coef.reshape(-1,1)\n",
    "#print(coef.shape)\n",
    "dico = [1,2,3]\n",
    "coef.T*dico\n",
    "\n",
    "#util.spyral_transformation(a)"
   ]
  },
  {
   "cell_type": "markdown",
   "metadata": {},
   "source": [
    "1  2  3  4\n",
    "5  6  7  8\n",
    "9 10 11 12"
   ]
  },
  {
   "cell_type": "code",
   "execution_count": 14,
   "metadata": {
    "scrolled": true
   },
   "outputs": [
    {
     "name": "stdout",
     "output_type": "stream",
     "text": [
      "> 2\n",
      "spyral_transformation(a): tab is not of 3 dimensions, doing nothing\n",
      "alpha =  0.01\n",
      "0  /  199\n"
     ]
    },
    {
     "name": "stderr",
     "output_type": "stream",
     "text": [
      "/usr/lib/python3/dist-packages/sklearn/linear_model/coordinate_descent.py:466: ConvergenceWarning: Objective did not converge. You might want to increase the number of iterations\n",
      "  ConvergenceWarning)\n"
     ]
    },
    {
     "name": "stdout",
     "output_type": "stream",
     "text": [
      "alpha =  6.62051662613\n",
      "new pixel (lasso):  [216 142 107]\n",
      "alpha =  196.609547829\n",
      "new pixel (lasso):  [218 101  92]\n",
      "alpha =  578.489520344\n",
      "new pixel (lasso):  [220 156 108]\n",
      "alpha =  270.048539755\n",
      "new pixel (lasso):  [224  97  91]\n",
      "alpha =  263.28073349\n",
      "new pixel (lasso):  [236 185 130]\n",
      "alpha =  55.2602592728\n",
      "new pixel (lasso):  [87 21 67]\n",
      "alpha =  23.659201732\n",
      "new pixel (lasso):  [83 24 68]\n"
     ]
    },
    {
     "name": "stderr",
     "output_type": "stream",
     "text": [
      "/usr/lib/python3/dist-packages/sklearn/linear_model/coordinate_descent.py:466: ConvergenceWarning: Objective did not converge. You might want to increase the number of iterations\n",
      "  ConvergenceWarning)\n",
      "/usr/lib/python3/dist-packages/sklearn/linear_model/coordinate_descent.py:466: ConvergenceWarning: Objective did not converge. You might want to increase the number of iterations\n",
      "  ConvergenceWarning)\n"
     ]
    },
    {
     "name": "stdout",
     "output_type": "stream",
     "text": [
      "alpha =  4.63762948167\n",
      "new pixel (lasso):  [106  46  97]\n"
     ]
    },
    {
     "name": "stderr",
     "output_type": "stream",
     "text": [
      "/usr/lib/python3/dist-packages/sklearn/linear_model/coordinate_descent.py:466: ConvergenceWarning: Objective did not converge. You might want to increase the number of iterations\n",
      "  ConvergenceWarning)\n"
     ]
    },
    {
     "name": "stdout",
     "output_type": "stream",
     "text": [
      "alpha =  1.78179201102\n",
      "new pixel (lasso):  [123  74 121]\n"
     ]
    },
    {
     "name": "stderr",
     "output_type": "stream",
     "text": [
      "/usr/lib/python3/dist-packages/sklearn/linear_model/coordinate_descent.py:466: ConvergenceWarning: Objective did not converge. You might want to increase the number of iterations\n",
      "  ConvergenceWarning)\n"
     ]
    },
    {
     "name": "stdout",
     "output_type": "stream",
     "text": [
      "alpha =  587.351100671\n",
      "new pixel (lasso):  [148  49  69]\n",
      "10  /  199\n"
     ]
    },
    {
     "name": "stderr",
     "output_type": "stream",
     "text": [
      "/usr/lib/python3/dist-packages/sklearn/linear_model/coordinate_descent.py:466: ConvergenceWarning: Objective did not converge. You might want to increase the number of iterations\n",
      "  ConvergenceWarning)\n",
      "/usr/lib/python3/dist-packages/sklearn/linear_model/coordinate_descent.py:466: ConvergenceWarning: Objective did not converge. You might want to increase the number of iterations\n",
      "  ConvergenceWarning)\n"
     ]
    },
    {
     "name": "stdout",
     "output_type": "stream",
     "text": [
      "alpha =  8.22595630282\n",
      "new pixel (lasso):  [221 188 181]\n",
      "alpha =  294.959221925\n",
      "new pixel (lasso):  [168  76  81]\n",
      "alpha =  95.7821633382\n",
      "new pixel (lasso):  [168  76  81]\n",
      "alpha =  10.6020641691\n",
      "new pixel (lasso):  [202 127 132]\n"
     ]
    },
    {
     "name": "stderr",
     "output_type": "stream",
     "text": [
      "/usr/lib/python3/dist-packages/sklearn/linear_model/coordinate_descent.py:466: ConvergenceWarning: Objective did not converge. You might want to increase the number of iterations\n",
      "  ConvergenceWarning)\n"
     ]
    },
    {
     "name": "stdout",
     "output_type": "stream",
     "text": [
      "alpha =  12.2550592365\n",
      "new pixel (lasso):  [220 114 100]\n",
      "alpha =  10.360392247\n",
      "new pixel (lasso):  [110  51  99]\n",
      "alpha =  49.4860216863\n",
      "new pixel (lasso):  [242 202 194]\n"
     ]
    },
    {
     "name": "stderr",
     "output_type": "stream",
     "text": [
      "/usr/lib/python3/dist-packages/sklearn/linear_model/coordinate_descent.py:466: ConvergenceWarning: Objective did not converge. You might want to increase the number of iterations\n",
      "  ConvergenceWarning)\n"
     ]
    },
    {
     "name": "stdout",
     "output_type": "stream",
     "text": [
      "alpha =  3.09555702583\n",
      "new pixel (lasso):  [233 173 163]\n"
     ]
    },
    {
     "name": "stderr",
     "output_type": "stream",
     "text": [
      "/usr/lib/python3/dist-packages/sklearn/linear_model/coordinate_descent.py:466: ConvergenceWarning: Objective did not converge. You might want to increase the number of iterations\n",
      "  ConvergenceWarning)\n"
     ]
    },
    {
     "name": "stdout",
     "output_type": "stream",
     "text": [
      "alpha =  844.573615957\n",
      "new pixel (lasso):  [112  28  61]\n",
      "alpha =  331.336899961\n",
      "new pixel (lasso):  [218 101  92]\n",
      "20  /  199\n",
      "alpha =  1362.38535307\n",
      "new pixel (lasso):  [220 104 104]\n",
      "alpha =  129.103259515\n",
      "new pixel (lasso):  [224  97  91]\n",
      "alpha =  66.1672557234\n",
      "new pixel (lasso):  [236 185 130]\n",
      "alpha =  7.31578209544\n",
      "new pixel (lasso):  [78 21 66]\n",
      "alpha =  156.666094048\n",
      "new pixel (lasso):  [101  19  65]\n",
      "alpha =  227.379764747\n",
      "new pixel (lasso):  [224  97  91]\n"
     ]
    },
    {
     "name": "stderr",
     "output_type": "stream",
     "text": [
      "/usr/lib/python3/dist-packages/sklearn/linear_model/coordinate_descent.py:466: ConvergenceWarning: Objective did not converge. You might want to increase the number of iterations\n",
      "  ConvergenceWarning)\n",
      "/usr/lib/python3/dist-packages/sklearn/linear_model/coordinate_descent.py:466: ConvergenceWarning: Objective did not converge. You might want to increase the number of iterations\n",
      "  ConvergenceWarning)\n"
     ]
    },
    {
     "name": "stdout",
     "output_type": "stream",
     "text": [
      "alpha =  2.57784201389\n",
      "new pixel (lasso):  [208 147 129]\n"
     ]
    },
    {
     "name": "stderr",
     "output_type": "stream",
     "text": [
      "/usr/lib/python3/dist-packages/sklearn/linear_model/coordinate_descent.py:466: ConvergenceWarning: Objective did not converge. You might want to increase the number of iterations\n",
      "  ConvergenceWarning)\n"
     ]
    },
    {
     "name": "stdout",
     "output_type": "stream",
     "text": [
      "alpha =  2.46712943673\n",
      "new pixel (lasso):  [205 122 104]\n",
      "alpha =  32.567870799\n",
      "new pixel (lasso):  [202 122 115]\n"
     ]
    },
    {
     "name": "stderr",
     "output_type": "stream",
     "text": [
      "/usr/lib/python3/dist-packages/sklearn/linear_model/coordinate_descent.py:466: ConvergenceWarning: Objective did not converge. You might want to increase the number of iterations\n",
      "  ConvergenceWarning)\n"
     ]
    },
    {
     "name": "stdout",
     "output_type": "stream",
     "text": [
      "alpha =  2.99636420469\n",
      "new pixel (lasso):  [242 211 164]\n",
      "30  /  199\n"
     ]
    },
    {
     "name": "stderr",
     "output_type": "stream",
     "text": [
      "/usr/lib/python3/dist-packages/sklearn/linear_model/coordinate_descent.py:466: ConvergenceWarning: Objective did not converge. You might want to increase the number of iterations\n",
      "  ConvergenceWarning)\n"
     ]
    },
    {
     "name": "stdout",
     "output_type": "stream",
     "text": [
      "alpha =  5.45698717286\n",
      "new pixel (lasso):  [210 106  97]\n",
      "alpha =  1137.88650398\n",
      "new pixel (lasso):  [112  28  61]\n"
     ]
    },
    {
     "name": "stderr",
     "output_type": "stream",
     "text": [
      "/usr/lib/python3/dist-packages/sklearn/linear_model/coordinate_descent.py:466: ConvergenceWarning: Objective did not converge. You might want to increase the number of iterations\n",
      "  ConvergenceWarning)\n"
     ]
    },
    {
     "name": "stdout",
     "output_type": "stream",
     "text": [
      "alpha =  33.2488613625\n",
      "new pixel (lasso):  [226 109 102]\n"
     ]
    },
    {
     "name": "stderr",
     "output_type": "stream",
     "text": [
      "/usr/lib/python3/dist-packages/sklearn/linear_model/coordinate_descent.py:466: ConvergenceWarning: Objective did not converge. You might want to increase the number of iterations\n",
      "  ConvergenceWarning)\n"
     ]
    },
    {
     "name": "stdout",
     "output_type": "stream",
     "text": [
      "alpha =  3.13044039352\n",
      "new pixel (lasso):  [197  89  89]\n"
     ]
    },
    {
     "name": "stderr",
     "output_type": "stream",
     "text": [
      "/usr/lib/python3/dist-packages/sklearn/linear_model/coordinate_descent.py:466: ConvergenceWarning: Objective did not converge. You might want to increase the number of iterations\n",
      "  ConvergenceWarning)\n"
     ]
    },
    {
     "name": "stdout",
     "output_type": "stream",
     "text": [
      "alpha =  3.14970517224\n",
      "new pixel (lasso):  [105  59  98]\n",
      "alpha =  13.2489755232\n",
      "new pixel (lasso):  [232 143 113]\n"
     ]
    },
    {
     "name": "stderr",
     "output_type": "stream",
     "text": [
      "/usr/lib/python3/dist-packages/sklearn/linear_model/coordinate_descent.py:466: ConvergenceWarning: Objective did not converge. You might want to increase the number of iterations\n",
      "  ConvergenceWarning)\n"
     ]
    },
    {
     "name": "stdout",
     "output_type": "stream",
     "text": [
      "alpha =  8.59453470871\n",
      "new pixel (lasso):  [255 208 162]\n",
      "alpha =  97.1748222601\n",
      "new pixel (lasso):  [224  97  91]\n",
      "alpha =  135.722318914\n",
      "new pixel (lasso):  [220 119 127]\n",
      "alpha =  11.7453352972\n",
      "new pixel (lasso):  [232 143 113]\n",
      "40  /  199\n"
     ]
    },
    {
     "name": "stderr",
     "output_type": "stream",
     "text": [
      "/usr/lib/python3/dist-packages/sklearn/linear_model/coordinate_descent.py:466: ConvergenceWarning: Objective did not converge. You might want to increase the number of iterations\n",
      "  ConvergenceWarning)\n"
     ]
    },
    {
     "name": "stdout",
     "output_type": "stream",
     "text": [
      "alpha =  3.19887649653\n",
      "new pixel (lasso):  [209 137 151]\n",
      "alpha =  7.46398672486\n",
      "new pixel (lasso):  [255 208 162]\n",
      "alpha =  14.338636841\n",
      "new pixel (lasso):  [106  46  97]\n",
      "alpha =  271.466913649\n",
      "new pixel (lasso):  [224  97  91]\n",
      "alpha =  121.613150861\n",
      "new pixel (lasso):  [230 132 107]\n"
     ]
    },
    {
     "name": "stderr",
     "output_type": "stream",
     "text": [
      "/usr/lib/python3/dist-packages/sklearn/linear_model/coordinate_descent.py:466: ConvergenceWarning: Objective did not converge. You might want to increase the number of iterations\n",
      "  ConvergenceWarning)\n"
     ]
    },
    {
     "name": "stdout",
     "output_type": "stream",
     "text": [
      "alpha =  565.153958376\n",
      "new pixel (lasso):  [205  84  89]\n",
      "alpha =  59.8978273824\n",
      "new pixel (lasso):  [123  59  94]\n",
      "alpha =  86.3416363074\n",
      "new pixel (lasso):  [233 148 117]\n"
     ]
    },
    {
     "name": "stderr",
     "output_type": "stream",
     "text": [
      "/usr/lib/python3/dist-packages/sklearn/linear_model/coordinate_descent.py:466: ConvergenceWarning: Objective did not converge. You might want to increase the number of iterations\n",
      "  ConvergenceWarning)\n"
     ]
    },
    {
     "name": "stdout",
     "output_type": "stream",
     "text": [
      "alpha =  6.33130630343\n",
      "new pixel (lasso):  [221 188 181]\n"
     ]
    },
    {
     "name": "stderr",
     "output_type": "stream",
     "text": [
      "/usr/lib/python3/dist-packages/sklearn/linear_model/coordinate_descent.py:466: ConvergenceWarning: Objective did not converge. You might want to increase the number of iterations\n",
      "  ConvergenceWarning)\n"
     ]
    },
    {
     "name": "stdout",
     "output_type": "stream",
     "text": [
      "alpha =  14.1351701842\n",
      "new pixel (lasso):  [112  28  61]\n",
      "50  /  199\n"
     ]
    },
    {
     "name": "stderr",
     "output_type": "stream",
     "text": [
      "/usr/lib/python3/dist-packages/sklearn/linear_model/coordinate_descent.py:466: ConvergenceWarning: Objective did not converge. You might want to increase the number of iterations\n",
      "  ConvergenceWarning)\n"
     ]
    },
    {
     "name": "stdout",
     "output_type": "stream",
     "text": [
      "alpha =  8.91209372741\n",
      "new pixel (lasso):  [224  97  91]\n",
      "alpha =  63.6166342129\n",
      "new pixel (lasso):  [216 142 107]\n"
     ]
    },
    {
     "name": "stderr",
     "output_type": "stream",
     "text": [
      "/usr/lib/python3/dist-packages/sklearn/linear_model/coordinate_descent.py:466: ConvergenceWarning: Objective did not converge. You might want to increase the number of iterations\n",
      "  ConvergenceWarning)\n"
     ]
    },
    {
     "name": "stdout",
     "output_type": "stream",
     "text": [
      "alpha =  2.16721373457\n",
      "new pixel (lasso):  [150  84 130]\n"
     ]
    },
    {
     "name": "stderr",
     "output_type": "stream",
     "text": [
      "/usr/lib/python3/dist-packages/sklearn/linear_model/coordinate_descent.py:466: ConvergenceWarning: Objective did not converge. You might want to increase the number of iterations\n",
      "  ConvergenceWarning)\n"
     ]
    },
    {
     "name": "stdout",
     "output_type": "stream",
     "text": [
      "alpha =  7.55480905921\n",
      "new pixel (lasso):  [83 24 68]\n",
      "alpha =  59.4028172474\n",
      "new pixel (lasso):  [221 102  96]\n",
      "alpha =  926.030898063\n",
      "new pixel (lasso):  [204 112 117]\n"
     ]
    },
    {
     "name": "stderr",
     "output_type": "stream",
     "text": [
      "/usr/lib/python3/dist-packages/sklearn/linear_model/coordinate_descent.py:466: ConvergenceWarning: Objective did not converge. You might want to increase the number of iterations\n",
      "  ConvergenceWarning)\n"
     ]
    },
    {
     "name": "stdout",
     "output_type": "stream",
     "text": [
      "alpha =  3.29379899181\n",
      "new pixel (lasso):  [137  94 104]\n",
      "alpha =  121.231129531\n",
      "new pixel (lasso):  [218 101  92]\n"
     ]
    },
    {
     "name": "stderr",
     "output_type": "stream",
     "text": [
      "/usr/lib/python3/dist-packages/sklearn/linear_model/coordinate_descent.py:466: ConvergenceWarning: Objective did not converge. You might want to increase the number of iterations\n",
      "  ConvergenceWarning)\n"
     ]
    },
    {
     "name": "stdout",
     "output_type": "stream",
     "text": [
      "alpha =  3.23751977862\n",
      "new pixel (lasso):  [216 142 107]\n"
     ]
    },
    {
     "name": "stderr",
     "output_type": "stream",
     "text": [
      "/usr/lib/python3/dist-packages/sklearn/linear_model/coordinate_descent.py:466: ConvergenceWarning: Objective did not converge. You might want to increase the number of iterations\n",
      "  ConvergenceWarning)\n"
     ]
    },
    {
     "name": "stdout",
     "output_type": "stream",
     "text": [
      "alpha =  6.16862383165\n",
      "new pixel (lasso):  [208 147 129]\n",
      "60  /  199\n",
      "alpha =  941.176530309\n",
      "new pixel (lasso):  [233 148 117]\n",
      "alpha =  213.211626254\n",
      "new pixel (lasso):  [224  97  91]\n",
      "alpha =  187.385068225\n",
      "new pixel (lasso):  [224  97  91]\n",
      "alpha =  122.630115392\n",
      "new pixel (lasso):  [95 23 60]\n"
     ]
    },
    {
     "name": "stderr",
     "output_type": "stream",
     "text": [
      "/usr/lib/python3/dist-packages/sklearn/linear_model/coordinate_descent.py:466: ConvergenceWarning: Objective did not converge. You might want to increase the number of iterations\n",
      "  ConvergenceWarning)\n"
     ]
    },
    {
     "name": "stdout",
     "output_type": "stream",
     "text": [
      "alpha =  326.998573943\n",
      "new pixel (lasso):  [226 132 107]\n"
     ]
    },
    {
     "name": "stderr",
     "output_type": "stream",
     "text": [
      "/usr/lib/python3/dist-packages/sklearn/linear_model/coordinate_descent.py:466: ConvergenceWarning: Objective did not converge. You might want to increase the number of iterations\n",
      "  ConvergenceWarning)\n"
     ]
    },
    {
     "name": "stdout",
     "output_type": "stream",
     "text": [
      "alpha =  3.43273278733\n",
      "new pixel (lasso):  [192  92  90]\n",
      "alpha =  82.1836283011\n",
      "new pixel (lasso):  [185  72  74]\n"
     ]
    },
    {
     "name": "stderr",
     "output_type": "stream",
     "text": [
      "/usr/lib/python3/dist-packages/sklearn/linear_model/coordinate_descent.py:466: ConvergenceWarning: Objective did not converge. You might want to increase the number of iterations\n",
      "  ConvergenceWarning)\n"
     ]
    },
    {
     "name": "stdout",
     "output_type": "stream",
     "text": [
      "alpha =  307.019427198\n",
      "new pixel (lasso):  [234 227 211]\n"
     ]
    },
    {
     "name": "stderr",
     "output_type": "stream",
     "text": [
      "/usr/lib/python3/dist-packages/sklearn/linear_model/coordinate_descent.py:466: ConvergenceWarning: Objective did not converge. You might want to increase the number of iterations\n",
      "  ConvergenceWarning)\n"
     ]
    },
    {
     "name": "stdout",
     "output_type": "stream",
     "text": [
      "alpha =  7.92728493115\n",
      "new pixel (lasso):  [83 24 68]\n",
      "alpha =  13.7348222567\n",
      "new pixel (lasso):  [99 37 78]\n",
      "70  /  199\n",
      "alpha =  35.5837511878\n",
      "new pixel (lasso):  [242 211 164]\n",
      "alpha =  171.266681475\n",
      "new pixel (lasso):  [224  97  91]\n",
      "alpha =  111.510954513\n",
      "new pixel (lasso):  [224  97  91]\n"
     ]
    },
    {
     "name": "stderr",
     "output_type": "stream",
     "text": [
      "/usr/lib/python3/dist-packages/sklearn/linear_model/coordinate_descent.py:466: ConvergenceWarning: Objective did not converge. You might want to increase the number of iterations\n",
      "  ConvergenceWarning)\n"
     ]
    },
    {
     "name": "stdout",
     "output_type": "stream",
     "text": [
      "alpha =  3.53884940139\n",
      "new pixel (lasso):  [168  76  81]\n"
     ]
    },
    {
     "name": "stderr",
     "output_type": "stream",
     "text": [
      "/usr/lib/python3/dist-packages/sklearn/linear_model/coordinate_descent.py:466: ConvergenceWarning: Objective did not converge. You might want to increase the number of iterations\n",
      "  ConvergenceWarning)\n"
     ]
    },
    {
     "name": "stdout",
     "output_type": "stream",
     "text": [
      "alpha =  17.766799714\n",
      "new pixel (lasso):  [224  97  91]\n",
      "alpha =  53.4482827467\n",
      "new pixel (lasso):  [216 142 107]\n",
      "alpha =  114.364754115\n",
      "new pixel (lasso):  [162  88 103]\n"
     ]
    },
    {
     "name": "stderr",
     "output_type": "stream",
     "text": [
      "/usr/lib/python3/dist-packages/sklearn/linear_model/coordinate_descent.py:466: ConvergenceWarning: Objective did not converge. You might want to increase the number of iterations\n",
      "  ConvergenceWarning)\n"
     ]
    },
    {
     "name": "stdout",
     "output_type": "stream",
     "text": [
      "alpha =  3.44369053948\n",
      "new pixel (lasso):  [236 185 130]\n"
     ]
    },
    {
     "name": "stderr",
     "output_type": "stream",
     "text": [
      "/usr/lib/python3/dist-packages/sklearn/linear_model/coordinate_descent.py:466: ConvergenceWarning: Objective did not converge. You might want to increase the number of iterations\n",
      "  ConvergenceWarning)\n"
     ]
    },
    {
     "name": "stdout",
     "output_type": "stream",
     "text": [
      "alpha =  144.074232099\n",
      "new pixel (lasso):  [237 142 110]\n"
     ]
    },
    {
     "name": "stderr",
     "output_type": "stream",
     "text": [
      "/usr/lib/python3/dist-packages/sklearn/linear_model/coordinate_descent.py:466: ConvergenceWarning: Objective did not converge. You might want to increase the number of iterations\n",
      "  ConvergenceWarning)\n"
     ]
    },
    {
     "name": "stdout",
     "output_type": "stream",
     "text": [
      "alpha =  341.367933945\n",
      "new pixel (lasso):  [233 173 163]\n",
      "80  /  199\n"
     ]
    },
    {
     "name": "stderr",
     "output_type": "stream",
     "text": [
      "/usr/lib/python3/dist-packages/sklearn/linear_model/coordinate_descent.py:466: ConvergenceWarning: Objective did not converge. You might want to increase the number of iterations\n",
      "  ConvergenceWarning)\n",
      "/usr/lib/python3/dist-packages/sklearn/linear_model/coordinate_descent.py:466: ConvergenceWarning: Objective did not converge. You might want to increase the number of iterations\n",
      "  ConvergenceWarning)\n"
     ]
    },
    {
     "name": "stdout",
     "output_type": "stream",
     "text": [
      "alpha =  6.83311216633\n",
      "new pixel (lasso):  [229 167 142]\n"
     ]
    },
    {
     "name": "stderr",
     "output_type": "stream",
     "text": [
      "/usr/lib/python3/dist-packages/sklearn/linear_model/coordinate_descent.py:466: ConvergenceWarning: Objective did not converge. You might want to increase the number of iterations\n",
      "  ConvergenceWarning)\n"
     ]
    },
    {
     "name": "stdout",
     "output_type": "stream",
     "text": [
      "alpha =  49.4862638657\n",
      "new pixel (lasso):  [176  65  81]\n",
      "alpha =  31.449668433\n",
      "new pixel (lasso):  [215 194 173]\n"
     ]
    },
    {
     "name": "stderr",
     "output_type": "stream",
     "text": [
      "/usr/lib/python3/dist-packages/sklearn/linear_model/coordinate_descent.py:466: ConvergenceWarning: Objective did not converge. You might want to increase the number of iterations\n",
      "  ConvergenceWarning)\n"
     ]
    },
    {
     "name": "stdout",
     "output_type": "stream",
     "text": [
      "alpha =  3.15007893363\n",
      "new pixel (lasso):  [85 21 71]\n",
      "alpha =  34.5918933936\n",
      "new pixel (lasso):  [105  59  98]\n"
     ]
    },
    {
     "name": "stderr",
     "output_type": "stream",
     "text": [
      "/usr/lib/python3/dist-packages/sklearn/linear_model/coordinate_descent.py:466: ConvergenceWarning: Objective did not converge. You might want to increase the number of iterations\n",
      "  ConvergenceWarning)\n"
     ]
    },
    {
     "name": "stdout",
     "output_type": "stream",
     "text": [
      "alpha =  1.83786921296\n",
      "new pixel (lasso):  [196 158 169]\n"
     ]
    },
    {
     "name": "stderr",
     "output_type": "stream",
     "text": [
      "/usr/lib/python3/dist-packages/sklearn/linear_model/coordinate_descent.py:466: ConvergenceWarning: Objective did not converge. You might want to increase the number of iterations\n",
      "  ConvergenceWarning)\n"
     ]
    },
    {
     "name": "stdout",
     "output_type": "stream",
     "text": [
      "alpha =  24.6795712098\n",
      "new pixel (lasso):  [224  97  91]\n",
      "alpha =  267.020861203\n",
      "new pixel (lasso):  [158 126 175]\n"
     ]
    },
    {
     "name": "stderr",
     "output_type": "stream",
     "text": [
      "/usr/lib/python3/dist-packages/sklearn/linear_model/coordinate_descent.py:466: ConvergenceWarning: Objective did not converge. You might want to increase the number of iterations\n",
      "  ConvergenceWarning)\n"
     ]
    },
    {
     "name": "stdout",
     "output_type": "stream",
     "text": [
      "alpha =  141.561981217\n",
      "new pixel (lasso):  [156  93 138]\n"
     ]
    },
    {
     "name": "stderr",
     "output_type": "stream",
     "text": [
      "/usr/lib/python3/dist-packages/sklearn/linear_model/coordinate_descent.py:466: ConvergenceWarning: Objective did not converge. You might want to increase the number of iterations\n",
      "  ConvergenceWarning)\n",
      "/usr/lib/python3/dist-packages/sklearn/linear_model/coordinate_descent.py:466: ConvergenceWarning: Objective did not converge. You might want to increase the number of iterations\n",
      "  ConvergenceWarning)\n"
     ]
    },
    {
     "name": "stdout",
     "output_type": "stream",
     "text": [
      "alpha =  4.28349449052\n",
      "new pixel (lasso):  [224 201 187]\n",
      "90  /  199\n"
     ]
    },
    {
     "name": "stderr",
     "output_type": "stream",
     "text": [
      "/usr/lib/python3/dist-packages/sklearn/linear_model/coordinate_descent.py:466: ConvergenceWarning: Objective did not converge. You might want to increase the number of iterations\n",
      "  ConvergenceWarning)\n"
     ]
    },
    {
     "name": "stdout",
     "output_type": "stream",
     "text": [
      "alpha =  12.12391182\n",
      "new pixel (lasso):  [255 224 179]\n",
      "alpha =  55.3180476629\n",
      "new pixel (lasso):  [100  35  78]\n",
      "alpha =  96.6536055748\n",
      "new pixel (lasso):  [224  97  91]\n",
      "alpha =  17.8831967862\n",
      "new pixel (lasso):  [255 208 162]\n",
      "alpha =  150.770636421\n",
      "new pixel (lasso):  [236 185 130]\n"
     ]
    },
    {
     "name": "stderr",
     "output_type": "stream",
     "text": [
      "/usr/lib/python3/dist-packages/sklearn/linear_model/coordinate_descent.py:466: ConvergenceWarning: Objective did not converge. You might want to increase the number of iterations\n",
      "  ConvergenceWarning)\n"
     ]
    },
    {
     "name": "stdout",
     "output_type": "stream",
     "text": [
      "alpha =  54.7965649129\n",
      "new pixel (lasso):  [128  71 124]\n"
     ]
    },
    {
     "name": "stderr",
     "output_type": "stream",
     "text": [
      "/usr/lib/python3/dist-packages/sklearn/linear_model/coordinate_descent.py:466: ConvergenceWarning: Objective did not converge. You might want to increase the number of iterations\n",
      "  ConvergenceWarning)\n"
     ]
    },
    {
     "name": "stdout",
     "output_type": "stream",
     "text": [
      "alpha =  11.0699310368\n",
      "new pixel (lasso):  [92 23 67]\n",
      "alpha =  60.8666917839\n",
      "new pixel (lasso):  [222 107 100]\n",
      "alpha =  218.255050253\n",
      "new pixel (lasso):  [224  97  91]\n",
      "alpha =  544.91058687\n",
      "new pixel (lasso):  [218 101  92]\n",
      "100  /  199\n"
     ]
    },
    {
     "name": "stderr",
     "output_type": "stream",
     "text": [
      "/usr/lib/python3/dist-packages/sklearn/linear_model/coordinate_descent.py:466: ConvergenceWarning: Objective did not converge. You might want to increase the number of iterations\n",
      "  ConvergenceWarning)\n"
     ]
    },
    {
     "name": "stdout",
     "output_type": "stream",
     "text": [
      "alpha =  8.22625273802\n",
      "new pixel (lasso):  [186 125 124]\n",
      "alpha =  12.4823828461\n",
      "new pixel (lasso):  [128  71 124]\n"
     ]
    },
    {
     "name": "stderr",
     "output_type": "stream",
     "text": [
      "/usr/lib/python3/dist-packages/sklearn/linear_model/coordinate_descent.py:466: ConvergenceWarning: Objective did not converge. You might want to increase the number of iterations\n",
      "  ConvergenceWarning)\n"
     ]
    },
    {
     "name": "stdout",
     "output_type": "stream",
     "text": [
      "alpha =  2.86373090278\n",
      "new pixel (lasso):  [186 125 124]\n",
      "alpha =  559.349377913\n",
      "new pixel (lasso):  [218 101  92]\n"
     ]
    },
    {
     "name": "stderr",
     "output_type": "stream",
     "text": [
      "/usr/lib/python3/dist-packages/sklearn/linear_model/coordinate_descent.py:466: ConvergenceWarning: Objective did not converge. You might want to increase the number of iterations\n",
      "  ConvergenceWarning)\n"
     ]
    },
    {
     "name": "stdout",
     "output_type": "stream",
     "text": [
      "alpha =  12.3468716699\n",
      "new pixel (lasso):  [237 207 171]\n"
     ]
    },
    {
     "name": "stderr",
     "output_type": "stream",
     "text": [
      "/usr/lib/python3/dist-packages/sklearn/linear_model/coordinate_descent.py:466: ConvergenceWarning: Objective did not converge. You might want to increase the number of iterations\n",
      "  ConvergenceWarning)\n"
     ]
    },
    {
     "name": "stdout",
     "output_type": "stream",
     "text": [
      "alpha =  5.48716244229\n",
      "new pixel (lasso):  [85 15 69]\n",
      "alpha =  40.1938966062\n",
      "new pixel (lasso):  [196 158 169]\n"
     ]
    },
    {
     "name": "stderr",
     "output_type": "stream",
     "text": [
      "/usr/lib/python3/dist-packages/sklearn/linear_model/coordinate_descent.py:466: ConvergenceWarning: Objective did not converge. You might want to increase the number of iterations\n",
      "  ConvergenceWarning)\n"
     ]
    },
    {
     "name": "stdout",
     "output_type": "stream",
     "text": [
      "alpha =  38.4050390519\n",
      "new pixel (lasso):  [146  62  75]\n",
      "alpha =  99.3757840788\n",
      "new pixel (lasso):  [224  97  91]\n"
     ]
    },
    {
     "name": "stderr",
     "output_type": "stream",
     "text": [
      "/usr/lib/python3/dist-packages/sklearn/linear_model/coordinate_descent.py:466: ConvergenceWarning: Objective did not converge. You might want to increase the number of iterations\n",
      "  ConvergenceWarning)\n"
     ]
    },
    {
     "name": "stdout",
     "output_type": "stream",
     "text": [
      "alpha =  7.06376522467\n",
      "new pixel (lasso):  [158 126 175]\n",
      "110  /  199\n",
      "alpha =  233.501228607\n",
      "new pixel (lasso):  [224  97  91]\n"
     ]
    },
    {
     "name": "stderr",
     "output_type": "stream",
     "text": [
      "/usr/lib/python3/dist-packages/sklearn/linear_model/coordinate_descent.py:466: ConvergenceWarning: Objective did not converge. You might want to increase the number of iterations\n",
      "  ConvergenceWarning)\n"
     ]
    },
    {
     "name": "stdout",
     "output_type": "stream",
     "text": [
      "alpha =  2.26100580805\n",
      "new pixel (lasso):  [106  46  97]\n"
     ]
    },
    {
     "name": "stderr",
     "output_type": "stream",
     "text": [
      "/usr/lib/python3/dist-packages/sklearn/linear_model/coordinate_descent.py:466: ConvergenceWarning: Objective did not converge. You might want to increase the number of iterations\n",
      "  ConvergenceWarning)\n"
     ]
    },
    {
     "name": "stdout",
     "output_type": "stream",
     "text": [
      "alpha =  1.84755806327\n",
      "new pixel (lasso):  [168  76  81]\n",
      "alpha =  7.96579569448\n",
      "new pixel (lasso):  [163 110 154]\n",
      "alpha =  6.16772963251\n",
      "new pixel (lasso):  [110  51  99]\n"
     ]
    },
    {
     "name": "stderr",
     "output_type": "stream",
     "text": [
      "/usr/lib/python3/dist-packages/sklearn/linear_model/coordinate_descent.py:466: ConvergenceWarning: Objective did not converge. You might want to increase the number of iterations\n",
      "  ConvergenceWarning)\n"
     ]
    },
    {
     "name": "stdout",
     "output_type": "stream",
     "text": [
      "alpha =  3.17725868056\n",
      "new pixel (lasso):  [186 125 124]\n",
      "alpha =  285.785735503\n",
      "new pixel (lasso):  [224  97  91]\n"
     ]
    },
    {
     "name": "stderr",
     "output_type": "stream",
     "text": [
      "/usr/lib/python3/dist-packages/sklearn/linear_model/coordinate_descent.py:466: ConvergenceWarning: Objective did not converge. You might want to increase the number of iterations\n",
      "  ConvergenceWarning)\n"
     ]
    },
    {
     "name": "stdout",
     "output_type": "stream",
     "text": [
      "alpha =  15.2814595633\n",
      "new pixel (lasso):  [176  65  81]\n",
      "alpha =  193.134787796\n",
      "new pixel (lasso):  [224  97  91]\n",
      "alpha =  264.931602899\n",
      "new pixel (lasso):  [224  97  91]\n",
      "120  /  199\n"
     ]
    },
    {
     "name": "stderr",
     "output_type": "stream",
     "text": [
      "/usr/lib/python3/dist-packages/sklearn/linear_model/coordinate_descent.py:466: ConvergenceWarning: Objective did not converge. You might want to increase the number of iterations\n",
      "  ConvergenceWarning)\n"
     ]
    },
    {
     "name": "stdout",
     "output_type": "stream",
     "text": [
      "alpha =  6.02269360804\n",
      "new pixel (lasso):  [176  61  74]\n",
      "alpha =  316.574537037\n",
      "new pixel (lasso):  [224  97  91]\n"
     ]
    },
    {
     "name": "stderr",
     "output_type": "stream",
     "text": [
      "/usr/lib/python3/dist-packages/sklearn/linear_model/coordinate_descent.py:466: ConvergenceWarning: Objective did not converge. You might want to increase the number of iterations\n",
      "  ConvergenceWarning)\n"
     ]
    },
    {
     "name": "stdout",
     "output_type": "stream",
     "text": [
      "alpha =  6.08099095534\n",
      "new pixel (lasso):  [233 173 163]\n",
      "alpha =  89.2290761117\n",
      "new pixel (lasso):  [100  24  63]\n"
     ]
    },
    {
     "name": "stderr",
     "output_type": "stream",
     "text": [
      "/usr/lib/python3/dist-packages/sklearn/linear_model/coordinate_descent.py:466: ConvergenceWarning: Objective did not converge. You might want to increase the number of iterations\n",
      "  ConvergenceWarning)\n"
     ]
    },
    {
     "name": "stdout",
     "output_type": "stream",
     "text": [
      "alpha =  38.8259021825\n",
      "new pixel (lasso):  [189  72  80]\n",
      "alpha =  11.4827006047\n",
      "new pixel (lasso):  [210 103  97]\n",
      "alpha =  33.5743600703\n",
      "new pixel (lasso):  [255 208 162]\n"
     ]
    },
    {
     "name": "stderr",
     "output_type": "stream",
     "text": [
      "/usr/lib/python3/dist-packages/sklearn/linear_model/coordinate_descent.py:466: ConvergenceWarning: Objective did not converge. You might want to increase the number of iterations\n",
      "  ConvergenceWarning)\n"
     ]
    },
    {
     "name": "stdout",
     "output_type": "stream",
     "text": [
      "alpha =  2.58951357814\n",
      "new pixel (lasso):  [207 106  98]\n",
      "alpha =  23.1926181561\n",
      "new pixel (lasso):  [211  92  98]\n",
      "alpha =  161.449465514\n",
      "new pixel (lasso):  [218 101  92]\n",
      "130  /  199\n",
      "alpha =  494.487355709\n",
      "new pixel (lasso):  [218 101  92]\n"
     ]
    },
    {
     "name": "stderr",
     "output_type": "stream",
     "text": [
      "/usr/lib/python3/dist-packages/sklearn/linear_model/coordinate_descent.py:466: ConvergenceWarning: Objective did not converge. You might want to increase the number of iterations\n",
      "  ConvergenceWarning)\n"
     ]
    },
    {
     "name": "stdout",
     "output_type": "stream",
     "text": [
      "alpha =  3.03910021178\n",
      "new pixel (lasso):  [224 201 187]\n"
     ]
    },
    {
     "name": "stderr",
     "output_type": "stream",
     "text": [
      "/usr/lib/python3/dist-packages/sklearn/linear_model/coordinate_descent.py:466: ConvergenceWarning: Objective did not converge. You might want to increase the number of iterations\n",
      "  ConvergenceWarning)\n"
     ]
    },
    {
     "name": "stdout",
     "output_type": "stream",
     "text": [
      "alpha =  17.4492188598\n",
      "new pixel (lasso):  [237 207 171]\n",
      "alpha =  9.51044887649\n",
      "new pixel (lasso):  [156  93 138]\n"
     ]
    },
    {
     "name": "stderr",
     "output_type": "stream",
     "text": [
      "/usr/lib/python3/dist-packages/sklearn/linear_model/coordinate_descent.py:466: ConvergenceWarning: Objective did not converge. You might want to increase the number of iterations\n",
      "  ConvergenceWarning)\n"
     ]
    },
    {
     "name": "stdout",
     "output_type": "stream",
     "text": [
      "alpha =  2.66809259259\n",
      "new pixel (lasso):  [118  44  79]\n",
      "alpha =  271.748720509\n",
      "new pixel (lasso):  [233 173 163]\n",
      "alpha =  87.552265527\n",
      "new pixel (lasso):  [224  97  91]\n"
     ]
    },
    {
     "name": "stderr",
     "output_type": "stream",
     "text": [
      "/usr/lib/python3/dist-packages/sklearn/linear_model/coordinate_descent.py:466: ConvergenceWarning: Objective did not converge. You might want to increase the number of iterations\n",
      "  ConvergenceWarning)\n"
     ]
    },
    {
     "name": "stdout",
     "output_type": "stream",
     "text": [
      "alpha =  8.75718023157\n",
      "new pixel (lasso):  [157  97 107]\n"
     ]
    },
    {
     "name": "stderr",
     "output_type": "stream",
     "text": [
      "/usr/lib/python3/dist-packages/sklearn/linear_model/coordinate_descent.py:466: ConvergenceWarning: Objective did not converge. You might want to increase the number of iterations\n",
      "  ConvergenceWarning)\n"
     ]
    },
    {
     "name": "stdout",
     "output_type": "stream",
     "text": [
      "alpha =  92.8050512658\n",
      "new pixel (lasso):  [201 111 137]\n",
      "alpha =  11.9206885907\n",
      "new pixel (lasso):  [243 208 168]\n",
      "140  /  199\n",
      "alpha =  29.9428112642\n",
      "new pixel (lasso):  [112  28  61]\n"
     ]
    },
    {
     "name": "stderr",
     "output_type": "stream",
     "text": [
      "/usr/lib/python3/dist-packages/sklearn/linear_model/coordinate_descent.py:466: ConvergenceWarning: Objective did not converge. You might want to increase the number of iterations\n",
      "  ConvergenceWarning)\n",
      "/usr/lib/python3/dist-packages/sklearn/linear_model/coordinate_descent.py:466: ConvergenceWarning: Objective did not converge. You might want to increase the number of iterations\n",
      "  ConvergenceWarning)\n"
     ]
    },
    {
     "name": "stdout",
     "output_type": "stream",
     "text": [
      "alpha =  3.7603024324\n",
      "new pixel (lasso):  [242 202 194]\n",
      "alpha =  222.518957188\n",
      "new pixel (lasso):  [85 12 57]\n"
     ]
    },
    {
     "name": "stderr",
     "output_type": "stream",
     "text": [
      "/usr/lib/python3/dist-packages/sklearn/linear_model/coordinate_descent.py:466: ConvergenceWarning: Objective did not converge. You might want to increase the number of iterations\n",
      "  ConvergenceWarning)\n"
     ]
    },
    {
     "name": "stdout",
     "output_type": "stream",
     "text": [
      "alpha =  28.5839555372\n",
      "new pixel (lasso):  [151  89 136]\n"
     ]
    },
    {
     "name": "stderr",
     "output_type": "stream",
     "text": [
      "/usr/lib/python3/dist-packages/sklearn/linear_model/coordinate_descent.py:466: ConvergenceWarning: Objective did not converge. You might want to increase the number of iterations\n",
      "  ConvergenceWarning)\n"
     ]
    },
    {
     "name": "stdout",
     "output_type": "stream",
     "text": [
      "alpha =  177.824679973\n",
      "new pixel (lasso):  [224  97  91]\n"
     ]
    },
    {
     "name": "stderr",
     "output_type": "stream",
     "text": [
      "/usr/lib/python3/dist-packages/sklearn/linear_model/coordinate_descent.py:466: ConvergenceWarning: Objective did not converge. You might want to increase the number of iterations\n",
      "  ConvergenceWarning)\n"
     ]
    },
    {
     "name": "stdout",
     "output_type": "stream",
     "text": [
      "alpha =  1.97902874228\n",
      "new pixel (lasso):  [125  67 105]\n"
     ]
    },
    {
     "name": "stderr",
     "output_type": "stream",
     "text": [
      "/usr/lib/python3/dist-packages/sklearn/linear_model/coordinate_descent.py:466: ConvergenceWarning: Objective did not converge. You might want to increase the number of iterations\n",
      "  ConvergenceWarning)\n"
     ]
    },
    {
     "name": "stdout",
     "output_type": "stream",
     "text": [
      "alpha =  3.0387492284\n",
      "new pixel (lasso):  [148  49  69]\n",
      "alpha =  1138.64290449\n",
      "new pixel (lasso):  [229 142 115]\n",
      "alpha =  375.155150416\n",
      "new pixel (lasso):  [224  97  91]\n"
     ]
    },
    {
     "name": "stderr",
     "output_type": "stream",
     "text": [
      "/usr/lib/python3/dist-packages/sklearn/linear_model/coordinate_descent.py:466: ConvergenceWarning: Objective did not converge. You might want to increase the number of iterations\n",
      "  ConvergenceWarning)\n"
     ]
    },
    {
     "name": "stdout",
     "output_type": "stream",
     "text": [
      "alpha =  16.5250508163\n",
      "new pixel (lasso):  [204  94  93]\n",
      "150  /  199\n"
     ]
    },
    {
     "name": "stderr",
     "output_type": "stream",
     "text": [
      "/usr/lib/python3/dist-packages/sklearn/linear_model/coordinate_descent.py:466: ConvergenceWarning: Objective did not converge. You might want to increase the number of iterations\n",
      "  ConvergenceWarning)\n"
     ]
    },
    {
     "name": "stdout",
     "output_type": "stream",
     "text": [
      "alpha =  43.6012031231\n",
      "new pixel (lasso):  [228 138 111]\n"
     ]
    },
    {
     "name": "stderr",
     "output_type": "stream",
     "text": [
      "/usr/lib/python3/dist-packages/sklearn/linear_model/coordinate_descent.py:466: ConvergenceWarning: Objective did not converge. You might want to increase the number of iterations\n",
      "  ConvergenceWarning)\n"
     ]
    },
    {
     "name": "stdout",
     "output_type": "stream",
     "text": [
      "alpha =  4.38907613073\n",
      "new pixel (lasso):  [197  89  89]\n",
      "alpha =  85.1563661718\n",
      "new pixel (lasso):  [189  78  84]\n",
      "alpha =  46.6371216443\n",
      "new pixel (lasso):  [126  42  76]\n",
      "alpha =  203.797016353\n",
      "new pixel (lasso):  [236 185 130]\n",
      "alpha =  7.33095716999\n",
      "new pixel (lasso):  [176  61  74]\n"
     ]
    },
    {
     "name": "stderr",
     "output_type": "stream",
     "text": [
      "/usr/lib/python3/dist-packages/sklearn/linear_model/coordinate_descent.py:466: ConvergenceWarning: Objective did not converge. You might want to increase the number of iterations\n",
      "  ConvergenceWarning)\n"
     ]
    },
    {
     "name": "stdout",
     "output_type": "stream",
     "text": [
      "alpha =  13.4473870354\n",
      "new pixel (lasso):  [223  96 103]\n",
      "alpha =  52.0819239065\n",
      "new pixel (lasso):  [176  61  74]\n"
     ]
    },
    {
     "name": "stderr",
     "output_type": "stream",
     "text": [
      "/usr/lib/python3/dist-packages/sklearn/linear_model/coordinate_descent.py:466: ConvergenceWarning: Objective did not converge. You might want to increase the number of iterations\n",
      "  ConvergenceWarning)\n"
     ]
    },
    {
     "name": "stdout",
     "output_type": "stream",
     "text": [
      "alpha =  10.7320102944\n",
      "new pixel (lasso):  [219 193 170]\n",
      "alpha =  256.917272212\n",
      "new pixel (lasso):  [224  97  91]\n",
      "160  /  199\n"
     ]
    },
    {
     "name": "stderr",
     "output_type": "stream",
     "text": [
      "/usr/lib/python3/dist-packages/sklearn/linear_model/coordinate_descent.py:466: ConvergenceWarning: Objective did not converge. You might want to increase the number of iterations\n",
      "  ConvergenceWarning)\n"
     ]
    },
    {
     "name": "stdout",
     "output_type": "stream",
     "text": [
      "alpha =  6.88038096883\n",
      "new pixel (lasso):  [97 25 71]\n",
      "alpha =  148.305487449\n",
      "new pixel (lasso):  [218 101  92]\n",
      "alpha =  97.1347550588\n",
      "new pixel (lasso):  [233 148 117]\n"
     ]
    },
    {
     "name": "stderr",
     "output_type": "stream",
     "text": [
      "/usr/lib/python3/dist-packages/sklearn/linear_model/coordinate_descent.py:466: ConvergenceWarning: Objective did not converge. You might want to increase the number of iterations\n",
      "  ConvergenceWarning)\n"
     ]
    },
    {
     "name": "stdout",
     "output_type": "stream",
     "text": [
      "alpha =  2.83160253009\n",
      "new pixel (lasso):  [118  64 126]\n",
      "alpha =  13.3481833935\n",
      "new pixel (lasso):  [246 202 153]\n",
      "alpha =  133.042286787\n",
      "new pixel (lasso):  [95 19 66]\n"
     ]
    },
    {
     "name": "stderr",
     "output_type": "stream",
     "text": [
      "/usr/lib/python3/dist-packages/sklearn/linear_model/coordinate_descent.py:466: ConvergenceWarning: Objective did not converge. You might want to increase the number of iterations\n",
      "  ConvergenceWarning)\n"
     ]
    },
    {
     "name": "stdout",
     "output_type": "stream",
     "text": [
      "alpha =  2.29075557855\n",
      "new pixel (lasso):  [197  89  89]\n",
      "alpha =  55.5431175153\n",
      "new pixel (lasso):  [206 136 136]\n"
     ]
    },
    {
     "name": "stderr",
     "output_type": "stream",
     "text": [
      "/usr/lib/python3/dist-packages/sklearn/linear_model/coordinate_descent.py:466: ConvergenceWarning: Objective did not converge. You might want to increase the number of iterations\n",
      "  ConvergenceWarning)\n",
      "/usr/lib/python3/dist-packages/sklearn/linear_model/coordinate_descent.py:466: ConvergenceWarning: Objective did not converge. You might want to increase the number of iterations\n",
      "  ConvergenceWarning)\n"
     ]
    },
    {
     "name": "stdout",
     "output_type": "stream",
     "text": [
      "alpha =  3.68923695713\n",
      "new pixel (lasso):  [158 126 175]\n"
     ]
    },
    {
     "name": "stderr",
     "output_type": "stream",
     "text": [
      "/usr/lib/python3/dist-packages/sklearn/linear_model/coordinate_descent.py:466: ConvergenceWarning: Objective did not converge. You might want to increase the number of iterations\n",
      "  ConvergenceWarning)\n"
     ]
    },
    {
     "name": "stdout",
     "output_type": "stream",
     "text": [
      "alpha =  2.73672213509\n",
      "new pixel (lasso):  [233 150 120]\n",
      "170  /  199\n"
     ]
    },
    {
     "name": "stderr",
     "output_type": "stream",
     "text": [
      "/usr/lib/python3/dist-packages/sklearn/linear_model/coordinate_descent.py:466: ConvergenceWarning: Objective did not converge. You might want to increase the number of iterations\n",
      "  ConvergenceWarning)\n"
     ]
    },
    {
     "name": "stdout",
     "output_type": "stream",
     "text": [
      "alpha =  7.36617379895\n",
      "new pixel (lasso):  [237 207 171]\n",
      "alpha =  53.517008944\n",
      "new pixel (lasso):  [156  93 138]\n",
      "alpha =  96.2065279009\n",
      "new pixel (lasso):  [224  97  91]\n"
     ]
    },
    {
     "name": "stderr",
     "output_type": "stream",
     "text": [
      "/usr/lib/python3/dist-packages/sklearn/linear_model/coordinate_descent.py:466: ConvergenceWarning: Objective did not converge. You might want to increase the number of iterations\n",
      "  ConvergenceWarning)\n"
     ]
    },
    {
     "name": "stdout",
     "output_type": "stream",
     "text": [
      "alpha =  134.896888736\n",
      "new pixel (lasso):  [94 19 58]\n"
     ]
    },
    {
     "name": "stderr",
     "output_type": "stream",
     "text": [
      "/usr/lib/python3/dist-packages/sklearn/linear_model/coordinate_descent.py:466: ConvergenceWarning: Objective did not converge. You might want to increase the number of iterations\n",
      "  ConvergenceWarning)\n"
     ]
    },
    {
     "name": "stdout",
     "output_type": "stream",
     "text": [
      "alpha =  6.47868286369\n",
      "new pixel (lasso):  [93 30 73]\n",
      "alpha =  31.070752994\n",
      "new pixel (lasso):  [218 101  92]\n",
      "alpha =  85.8167709416\n",
      "new pixel (lasso):  [158 126 175]\n",
      "alpha =  710.743710179\n",
      "new pixel (lasso):  [233 148 117]\n",
      "alpha =  161.303474132\n",
      "new pixel (lasso):  [218 101  92]\n"
     ]
    },
    {
     "name": "stderr",
     "output_type": "stream",
     "text": [
      "/usr/lib/python3/dist-packages/sklearn/linear_model/coordinate_descent.py:466: ConvergenceWarning: Objective did not converge. You might want to increase the number of iterations\n",
      "  ConvergenceWarning)\n"
     ]
    },
    {
     "name": "stdout",
     "output_type": "stream",
     "text": [
      "alpha =  23.512069747\n",
      "new pixel (lasso):  [224 201 187]\n",
      "180  /  199\n",
      "alpha =  442.792046861\n",
      "new pixel (lasso):  [218 101  92]\n",
      "alpha =  61.9236779228\n",
      "new pixel (lasso):  [211 114 105]\n"
     ]
    },
    {
     "name": "stderr",
     "output_type": "stream",
     "text": [
      "/usr/lib/python3/dist-packages/sklearn/linear_model/coordinate_descent.py:466: ConvergenceWarning: Objective did not converge. You might want to increase the number of iterations\n",
      "  ConvergenceWarning)\n"
     ]
    },
    {
     "name": "stdout",
     "output_type": "stream",
     "text": [
      "alpha =  19.9702625563\n",
      "new pixel (lasso):  [176  65  81]\n"
     ]
    },
    {
     "name": "stderr",
     "output_type": "stream",
     "text": [
      "/usr/lib/python3/dist-packages/sklearn/linear_model/coordinate_descent.py:466: ConvergenceWarning: Objective did not converge. You might want to increase the number of iterations\n",
      "  ConvergenceWarning)\n"
     ]
    },
    {
     "name": "stdout",
     "output_type": "stream",
     "text": [
      "alpha =  4.01299614198\n",
      "new pixel (lasso):  [166  69  76]\n",
      "alpha =  32.3947936343\n",
      "new pixel (lasso):  [106  46  97]\n",
      "alpha =  30.0632640749\n",
      "new pixel (lasso):  [218 154 155]\n",
      "alpha =  333.672663757\n",
      "new pixel (lasso):  [236 185 130]\n",
      "alpha =  28.5493180047\n",
      "new pixel (lasso):  [236 185 130]\n",
      "alpha =  213.076924527\n",
      "new pixel (lasso):  [166  69  76]\n"
     ]
    },
    {
     "name": "stderr",
     "output_type": "stream",
     "text": [
      "/usr/lib/python3/dist-packages/sklearn/linear_model/coordinate_descent.py:466: ConvergenceWarning: Objective did not converge. You might want to increase the number of iterations\n",
      "  ConvergenceWarning)\n"
     ]
    },
    {
     "name": "stdout",
     "output_type": "stream",
     "text": [
      "alpha =  3.99998324562\n",
      "new pixel (lasso):  [204 114 124]\n",
      "190  /  199\n"
     ]
    },
    {
     "name": "stderr",
     "output_type": "stream",
     "text": [
      "/usr/lib/python3/dist-packages/sklearn/linear_model/coordinate_descent.py:466: ConvergenceWarning: Objective did not converge. You might want to increase the number of iterations\n",
      "  ConvergenceWarning)\n"
     ]
    },
    {
     "name": "stdout",
     "output_type": "stream",
     "text": [
      "alpha =  1.24777893519\n",
      "new pixel (lasso):  [217 169 159]\n",
      "alpha =  168.662106428\n",
      "new pixel (lasso):  [210  92  90]\n"
     ]
    },
    {
     "name": "stderr",
     "output_type": "stream",
     "text": [
      "/usr/lib/python3/dist-packages/sklearn/linear_model/coordinate_descent.py:466: ConvergenceWarning: Objective did not converge. You might want to increase the number of iterations\n",
      "  ConvergenceWarning)\n"
     ]
    },
    {
     "name": "stdout",
     "output_type": "stream",
     "text": [
      "alpha =  10.9422952141\n",
      "new pixel (lasso):  [151  89 136]\n",
      "alpha =  184.86870735\n",
      "new pixel (lasso):  [224  97  91]\n",
      "alpha =  213.833019294\n",
      "new pixel (lasso):  [226 109 102]\n",
      "alpha =  16.3773632562\n",
      "new pixel (lasso):  [137  94 104]\n",
      "alpha =  253.830100135\n",
      "new pixel (lasso):  [249 206 190]\n"
     ]
    },
    {
     "name": "stderr",
     "output_type": "stream",
     "text": [
      "/usr/lib/python3/dist-packages/sklearn/linear_model/coordinate_descent.py:466: ConvergenceWarning: Objective did not converge. You might want to increase the number of iterations\n",
      "  ConvergenceWarning)\n"
     ]
    },
    {
     "name": "stdout",
     "output_type": "stream",
     "text": [
      "alpha =  13.234111897\n",
      "new pixel (lasso):  [236 185 130]\n"
     ]
    },
    {
     "name": "stderr",
     "output_type": "stream",
     "text": [
      "/usr/lib/python3/dist-packages/sklearn/linear_model/coordinate_descent.py:466: ConvergenceWarning: Objective did not converge. You might want to increase the number of iterations\n",
      "  ConvergenceWarning)\n"
     ]
    },
    {
     "name": "stdout",
     "output_type": "stream",
     "text": [
      "alpha =  7.91721361305\n",
      "new pixel (lasso):  [234 227 211]\n"
     ]
    },
    {
     "data": {
      "image/png": "[encoded data removed]",
      "text/plain": [
       "<matplotlib.figure.Figure at 0x7f1301ed2630>"
      ]
     },
     "metadata": {},
     "output_type": "display_data"
    },
    {
     "data": {
      "image/png": "[encoded data removed]",
      "text/plain": [
       "<matplotlib.figure.Figure at 0x7f1301e02c50>"
      ]
     },
     "metadata": {},
     "output_type": "display_data"
    }
   ],
   "source": [
    "deletepixels_transformed = util.spyral_transformation(np.array(deletepixels))\n",
    "\n",
    "inpaint_image(noisy_image, training, deletepixels_transformed, h, img_matrice)"
   ]
  }
 ],
 "metadata": {
  "kernelspec": {
   "display_name": "Python 3",
   "language": "python",
   "name": "python3"
  },
  "language_info": {
   "codemirror_mode": {
    "name": "ipython",
    "version": 3
   },
   "file_extension": ".py",
   "mimetype": "text/x-python",
   "name": "python",
   "nbconvert_exporter": "python",
   "pygments_lexer": "ipython3",
   "version": "3.5.2"
  }
 },
 "nbformat": 4,
 "nbformat_minor": 2
}
