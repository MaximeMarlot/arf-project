{
 "cells": [
  {
   "cell_type": "code",
   "execution_count": 160,
   "metadata": {},
   "outputs": [
    {
     "data": {
      "application/javascript": [
       "IPython.OutputArea.prototype._should_scroll = function(lines) {\n",
       "    return false;\n",
       "}"
      ],
      "text/plain": [
       "<IPython.core.display.Javascript object>"
      ]
     },
     "metadata": {},
     "output_type": "display_data"
    }
   ],
   "source": [
    "%%javascript\n",
    "IPython.OutputArea.prototype._should_scroll = function(lines) {\n",
    "    return false;\n",
    "}"
   ]
  },
  {
   "cell_type": "code",
   "execution_count": 161,
   "metadata": {},
   "outputs": [],
   "source": [
    "from matplotlib import pyplot as plt\n",
    "from matplotlib import colors as colors\n",
    "import numpy as np\n",
    "\n",
    "import sys \n",
    "#sys.path.append('../')\n",
    "\n",
    "from importlib import reload\n",
    "import Utils.utils as util\n",
    "reload(util)\n",
    "\n",
    "\n",
    "from sklearn.linear_model import Lasso\n",
    "from sklearn.multiclass import OneVsRestClassifier\n",
    "from sklearn.preprocessing import normalize\n",
    "\n",
    "np.set_printoptions(threshold=np.inf) #print full arrays\n",
    "from sklearn import linear_model\n"
   ]
  },
  {
   "cell_type": "code",
   "execution_count": 162,
   "metadata": {},
   "outputs": [],
   "source": [
    "def split_patch(patch):\n",
    "    h = patch.shape[0]\n",
    "    #Convert one patch into a column vector for training\n",
    "    patch = patch.flatten()\n",
    "    pixel_central = patch[(h*(h//2)+(h//2))*3:(h*(h//2)+(h//2))*3+3]\n",
    "    patch_sans_central = np.delete(patch, range((h*(h//2)+(h//2))*3, (h*(h//2)+(h//2))*3+3))\n",
    "    return np.array((patch_sans_central, pixel_central))\n",
    "    \n",
    "def convert_patch_into_vector(patch):\n",
    "    #Convert one patch into a column vector for training\n",
    "    #patch = patch.flatten()\n",
    "    h = patch.shape[0]\n",
    "    patch = np.reshape(patch, h*h*3)\n",
    "    return np.array(patch)\n",
    "\n",
    "def convert_vector_into_patch(vector, h):\n",
    "    #Convert a one column vector into a patch of size h\n",
    "    return vector.reshape((h,h,7))\n",
    "    \n",
    "def convert_patches_into_training_set(patches):\n",
    "    #Convert a set of patches into a set of vectors\n",
    "    return np.array(list(map(convert_patch_into_vector, patches))).T\n",
    "\n",
    "def find_index_noisy_lines(label):\n",
    "    \"\"\"\n",
    "    indexes = []\n",
    "    for index, value in enumerate(label):\n",
    "        if(value == -1):\n",
    "            indexes.append(index)\n",
    "    \"\"\"\n",
    "    label = np.array(label)\n",
    "    indexes = np.where(label < 0)\n",
    "    return indexes\n",
    "\n",
    "def delete_all_indexes_from(dictionary, label):\n",
    "    indexes = find_index_noisy_lines(label)\n",
    "    dictionary = np.delete(dictionary, indexes , axis=0)\n",
    "    label = np.delete(label, indexes , axis=0)\n",
    "    \n",
    "    return (dictionary, label)    \n",
    "\n",
    "#test the alpha on a lot of cleared patches and returns an average value\n",
    "def estimate_alpha(noisy_image, dictionary_full, h):\n",
    "    lassocv = linear_model.LassoCV()\n",
    "    listalpha = []\n",
    "    width = noisy_image.shape[1]\n",
    "    height = noisy_image.shape[0]\n",
    "    #params\n",
    "    pas = h+10\n",
    "    start = h//2\n",
    "    endx = height-h//2\n",
    "    endy = width-h//2\n",
    "    #end params\n",
    "    i=0\n",
    "    total = int( (endx-pas)/pas * (endy-pas)/pas )\n",
    "    for x in range(start,endx,pas):\n",
    "        for y in range(start,endy,pas):\n",
    "            label = util.get_patch(x, y, h, noisy_image)\n",
    "            label = list(convert_patch_into_vector(label))\n",
    "            dictionary, label = delete_all_indexes_from(dictionary_full,label)\n",
    "            lassocv.fit(dictionary_full, label)\n",
    "            alpha_ = lassocv.alpha_\n",
    "            listalpha.append(alpha_)\n",
    "            i+=1\n",
    "            if(i%10==0): print(i, \"/\", total)\n",
    "    return np.mean(np.array(listalpha))\n",
    "    \n",
    "def removearray(L,arr):\n",
    "    ind = 0\n",
    "    size = len(L)\n",
    "    while ind != size and not np.array_equal(L[ind],arr):\n",
    "        ind += 1\n",
    "    if ind != size:\n",
    "        L.pop(ind)\n",
    "    else:\n",
    "        #raise ValueError('array not found in list.') #todo, why am I getting this one in optimized mode\n",
    "        print('ERROR:  removearray(L,arr): array not found in list.')\n",
    "\n",
    "def inpaint_image(noisy_image, dictionary, coord_noisy_pix, h, clear_image):\n",
    "    noisy_image_orig = np.array(noisy_image)\n",
    "    dictionary_full = np.copy(dictionary)\n",
    "    \n",
    "    width  = noisy_image.shape[1]\n",
    "    height = noisy_image.shape[0]\n",
    "    \n",
    "    #todo question: vérifier qu'il faut bien faire le lassocv pour trouver le alpha sur le clear?\n",
    "    lassocv = linear_model.LassoCV(max_iter=20000)  #1000 by default, 100 works OK most of the time\n",
    "    \"\"\"\n",
    "    y, x = coord_noisy_pix[0]\n",
    "    label = util.get_patch(x, y, h, noisy_image)\n",
    "    #label = util.get_patch(x, y, h, clear_image)\n",
    "    label = list(convert_patch_into_vector(label))\n",
    "    lassocv.fit(dictionary_full, label)\n",
    "    alpha_ = lassocv.alpha_\n",
    "    \"\"\"\n",
    "    #alpha_ = estimate_alpha(noisy_image, dictionary_full, h)\n",
    "    #autre idée: en prendre 10 aléatoirement ?\n",
    "    alpha_ = 0.01 #default value\n",
    "    \n",
    "    print(\"alpha = \", alpha_)\n",
    "       \n",
    "    i = 0\n",
    "    nbcorrections = 0\n",
    "    nbiter  = int(len(coord_noisy_pix))\n",
    "    while i < nbiter: # DONT USE FOR FOR THIS BECAUSE WE WILL MODIFY THE LIST\n",
    "        \n",
    "        x, y  = coord_noisy_pix[i] \n",
    "        #print(noisy_image[x][y])\n",
    "        #print(noisy_image[x][y] == -1)\n",
    "        #utile pour la correction des carrés manquants\n",
    "        while( not(np.all(noisy_image[x][y] == -1 )) and i+1 < nbiter): #zap si rien à corriger\n",
    "            print(\"PIXEL \",x,y,\" DEJA CORRIGE\")\n",
    "            i=i+1\n",
    "            x, y  = coord_noisy_pix[i]\n",
    "            #print(noisy_image[x][y])\n",
    "        if(i+1 >= nbiter): pass\n",
    "        \n",
    "        #print(\"Correction de : (\", x, \", \", y,\")\")\n",
    "        patch = util.get_patch2(x, y, h, noisy_image)\n",
    "\n",
    "        #util.display_im(patch)\n",
    "        labelfull = list(convert_patch_into_vector(patch))\n",
    "        \n",
    "        #print(\"labelfull : \", labelfull)\n",
    "        \n",
    "        dictionary = np.copy(dictionary_full)\n",
    "        dictionary, label = delete_all_indexes_from(dictionary, labelfull)\n",
    "\n",
    "        #print(\"--- lasso regression ---\")\n",
    "        \n",
    "        #recalcule du alpha à chaque patch\n",
    "        lassocv.fit(dictionary, label)\n",
    "        alpha_ = lassocv.alpha_\n",
    "        print(\"alpha = \", alpha_)\n",
    "        #fin recalcule du alpha\n",
    "        \n",
    "        model = Lasso(fit_intercept=True, alpha=alpha_, positive=True)\n",
    "        model.fit(dictionary, label)\n",
    "        \n",
    "        #################################################\n",
    "        #version somme cumulée pondérée\n",
    "        res = model.predict(dictionary_full)\n",
    "        \n",
    "        #version argmax\n",
    "        #print(\"argmax = \",np.argmax(model.coef_),\" / \", model.coef_.shape)\n",
    "        #res = dictionary_full.T[np.argmax(model.coef_)]\n",
    "        #################################################\n",
    "        \n",
    "        #avec le predict on peut avoir des valeurs >255 ou <0 donc on corrige\n",
    "        \n",
    "        res = np.array(res.astype(int))\n",
    "        if(len(np.where(res > 255)[0]) > 0 or len(np.where(res < 0)[0]) > 0):\n",
    "            res[res > 255] = 255\n",
    "            res[res < 0] = 0\n",
    "        \n",
    "            \n",
    "        #util.display_im(patch)\n",
    "        #util.display_im(res.reshape(h,h,3))\n",
    "        #################################################\n",
    "        #coef = model.coef_.reshape((1,-1)) #poids\n",
    "        #print(\"nb patch not at zero: \", np.count_nonzero(model.sparse_coef_.toarray()), \" / \", coef.shape[1])\n",
    "       \n",
    "        # corrige juste le pixel central\n",
    "        #\"\"\"\n",
    "        # and use y, x = coord_noisy_pix[i]  at the beginning of the while\n",
    "        #util.display_im(res.reshape(h,h,3))\n",
    "        newPixel = util.get_centered_pixel(res, h)\n",
    "        #util.display_im([[[newPixel]]])\n",
    "        print(\"new pixel (lasso): \", newPixel)\n",
    "        noisy_image[x][y] = newPixel\n",
    "        if(i%10==0): print( i, \" / \",  nbiter)\n",
    "        i=i+1\n",
    "        #\"\"\"\n",
    "        \n",
    "        \"\"\"\n",
    "        # corrige tous les pixels noirs dans le patch\n",
    "        labelfull = np.array(labelfull)\n",
    "        list_indexes_noise = np.where(labelfull == -1)[0] \n",
    "        #print(patch)\n",
    "        #print(\"pixels at -1:\",np.where(labelfull == -1))\n",
    "        #print(np.where(labelfull == -1))   \n",
    "        indexeach3 = list(range(0,len(list_indexes_noise),3))\n",
    "        listindexes2 = list_indexes_noise[indexeach3] #on prend que 1 sur 3 car 3 valeurs par pixel\n",
    "        xpatch = x-h//2\n",
    "        ypatch = y-h//2\n",
    "        i=i+1       \n",
    "        for val in listindexes2:\n",
    "            val = (val//3)\n",
    "            ylocal = int((val)//h)\n",
    "            xlocal = int(val-ylocal*h)            \n",
    "            #print(\"xpatch = \",xpatch,\" ypatch=\",ypatch)\n",
    "            #print(\"xlocal = \",xlocal,\" ylocal=\",ylocal)\n",
    "            xglobal = xpatch + ylocal  #vérifié\n",
    "            yglobal = ypatch + xlocal  #vérifié\n",
    "            print(\"correcting pixel (\",xglobal,\",\",yglobal,\")\")\n",
    "            #print(\"xglobal=\",xglobal,\" yglobal=\",yglobal)\n",
    "            res = res.reshape(h,h,3)\n",
    "            newpixel = res[ylocal, xlocal] #vérifié!\n",
    "            #print(\"correction; \",newpixel)\n",
    "            #because of getpatch2 we need to test if we are in the img or outside\n",
    "            if(xglobal >= 0 and yglobal >= 0 and xglobal < height and yglobal < width):\n",
    "                noisy_image[xglobal][yglobal] = newpixel\n",
    "                nbcorrections += 1\n",
    "            if(nbcorrections%10==0): print(\"*** avancement : \", nbcorrections, \" / \",  nbiter)\n",
    "            ##########################\n",
    "            ##supprimer de la liste pour pas le refaire #obsolète on ne fait plus ça\n",
    "            #coord_noisy_pix = list( coord_noisy_pix)\n",
    "            #currentpixel = [xglobal, yglobal] #ok vérifié\n",
    "            ##print(\"remove : \", currentpixel)\n",
    "            #removearray(coord_noisy_pix, np.array(currentpixel))\n",
    "            #coord_noisy_pix = list( coord_noisy_pix)\n",
    "            ##print(\"left to correct : \",len(coord_noisy_pix))\n",
    "            #i = i + 1\n",
    "            #if(i%10==0):\n",
    "            #    print( i, \" / \",  nbiter)\n",
    "            ##########################\n",
    "        #util.display_im(util.get_patch2(x, y, h, noisy_image).reshape(h,h,3))\n",
    "        #util.display_im(noisy_image)\n",
    "    \n",
    "       #\"\"\"    \n",
    "        #################################################\n",
    "        \n",
    "        #Test  -> reconstruire de nouveaux patch à partir des pixels corrigés ?\n",
    "        #_,clear_patches = util.get_patches(noisy_image, h, width, height)\n",
    "        #dictionary_full = convert_patches_into_training_set(clear_patches)\n",
    "        #print(\"shape : \", dictionary_full.shape)\n",
    "\n",
    "    util.display_im(noisy_image_orig)\n",
    "    util.display_im(noisy_image)"
   ]
  },
  {
   "cell_type": "code",
   "execution_count": 163,
   "metadata": {},
   "outputs": [
    {
     "name": "stdout",
     "output_type": "stream",
     "text": [
      "taille de l'image :  (100, 100, 3)\n",
      "nb pixels à corriger:  499\n",
      "nbclear pacthes: 700\n"
     ]
    },
    {
     "data": {
      "image/png": "[encoded data removed]",
      "text/plain": [
       "<matplotlib.figure.Figure at 0x7fa3356cb4a8>"
      ]
     },
     "metadata": {},
     "output_type": "display_data"
    }
   ],
   "source": [
    "%matplotlib inline\n",
    "img_matrice = util.read_im(\"Data/imgdataset/lennasmall.jpg\")\n",
    "#lennasmall.jpg\n",
    "\n",
    "print(\"taille de l'image : \", img_matrice.shape)\n",
    "\n",
    "#util.display_im(img_matrice)\n",
    "\n",
    "#Taille des patchs\n",
    "h=3 #nombre impair !!\n",
    "\n",
    "width = img_matrice.shape[1]\n",
    "height = img_matrice.shape[0]\n",
    "noisy_image, deletepixels = util.noise2(img_matrice, 0.05, width, height, h);\n",
    "#noisy_image, deletepixels = util.delete_rect(img_matrice,  63, 51, 13, 75) #10small\n",
    "\n",
    "#10small 63, 51, 13, 75\n",
    "#12.jpg 85, 75, 30, 6\n",
    "\n",
    "print(\"nb pixels à corriger: \", np.array(deletepixels).shape[0])\n",
    "\n",
    "width = img_matrice.shape[1]\n",
    "height = img_matrice.shape[0]\n",
    "\n",
    "#print(width,\" , \", height)\n",
    "\n",
    "util.display_im(noisy_image)\n",
    "\n",
    "_,clear_patches = util.get_patches(noisy_image, h, width, height)\n",
    "\n",
    "nbclear = np.shape(clear_patches)[0]\n",
    "print(\"nbclear pacthes:\", nbclear)"
   ]
  },
  {
   "cell_type": "code",
   "execution_count": 164,
   "metadata": {},
   "outputs": [
    {
     "name": "stdout",
     "output_type": "stream",
     "text": [
      "(27, 700)\n"
     ]
    },
    {
     "data": {
      "image/png": "[encoded data removed]",
      "text/plain": [
       "<matplotlib.figure.Figure at 0x7fa32d39b6d8>"
      ]
     },
     "metadata": {},
     "output_type": "display_data"
    }
   ],
   "source": [
    "training = convert_patches_into_training_set(clear_patches)\n",
    "print(training.shape)\n",
    "\n",
    "#test de l'extension d'image\n",
    "newimg = util.extend_image(noisy_image, h)\n",
    "util.display_im(newimg)"
   ]
  },
  {
   "cell_type": "code",
   "execution_count": 165,
   "metadata": {},
   "outputs": [
    {
     "data": {
      "text/plain": [
       "array([[0, 2, 6]])"
      ]
     },
     "execution_count": 165,
     "metadata": {},
     "output_type": "execute_result"
    }
   ],
   "source": [
    "a = np.array([[1, 'a'], [2, 'a'], [3, 'a'], [4, 'a'], [5, 'a'], [6, 'a'], [7, 'a'], [8, 'a'], [9, 'a']])\n",
    "#print(a.shape)    \n",
    "a = a.reshape(3,3,2)\n",
    "#print(a.shape)\n",
    "#print(\"center=\",util.get_centered_pixel(a, 3))\n",
    "\n",
    "#coefsize = (1, 2510)   dicofullsize = (27, 2510)  ressize= (27, 2510)\n",
    "coef = np.array([0,1,2])\n",
    "coef = coef.reshape(-1,1)\n",
    "#print(coef.shape)\n",
    "dico = [1,2,3]\n",
    "coef.T*dico\n",
    "\n",
    "#util.spyral_transformation(a)"
   ]
  },
  {
   "cell_type": "markdown",
   "metadata": {},
   "source": [
    "1  2  3  4\n",
    "5  6  7  8\n",
    "9 10 11 12"
   ]
  },
  {
   "cell_type": "code",
   "execution_count": null,
   "metadata": {
    "scrolled": false
   },
   "outputs": [
    {
     "name": "stdout",
     "output_type": "stream",
     "text": [
      "spyral_transformation(a): tab is not of 3 dimensions, doing nothing\n",
      "alpha =  0.01\n",
      "alpha =  114.961334408\n",
      "new pixel (lasso):  [195  91  96]\n",
      "0  /  499\n",
      "alpha =  1.55177324263\n",
      "new pixel (lasso):  [91 19 60]\n"
     ]
    },
    {
     "name": "stderr",
     "output_type": "stream",
     "text": [
      "/usr/lib/python3/dist-packages/sklearn/linear_model/coordinate_descent.py:466: ConvergenceWarning: Objective did not converge. You might want to increase the number of iterations\n",
      "  ConvergenceWarning)\n"
     ]
    },
    {
     "name": "stdout",
     "output_type": "stream",
     "text": [
      "alpha =  11.9337594345\n",
      "new pixel (lasso):  [236 140 112]\n"
     ]
    },
    {
     "name": "stderr",
     "output_type": "stream",
     "text": [
      "/usr/lib/python3/dist-packages/sklearn/linear_model/coordinate_descent.py:466: ConvergenceWarning: Objective did not converge. You might want to increase the number of iterations\n",
      "  ConvergenceWarning)\n"
     ]
    },
    {
     "name": "stdout",
     "output_type": "stream",
     "text": [
      "alpha =  381.508468952\n",
      "new pixel (lasso):  [73 35 51]\n",
      "alpha =  97.6182588581\n",
      "new pixel (lasso):  [112  31  79]\n",
      "alpha =  2.93152083333\n",
      "new pixel (lasso):  [175  67  81]\n"
     ]
    },
    {
     "name": "stderr",
     "output_type": "stream",
     "text": [
      "/usr/lib/python3/dist-packages/sklearn/linear_model/coordinate_descent.py:466: ConvergenceWarning: Objective did not converge. You might want to increase the number of iterations\n",
      "  ConvergenceWarning)\n"
     ]
    },
    {
     "name": "stdout",
     "output_type": "stream",
     "text": [
      "alpha =  102.314790083\n",
      "new pixel (lasso):  [106  44  83]\n",
      "alpha =  2.78013777778\n",
      "new pixel (lasso):  [169  65  80]\n"
     ]
    },
    {
     "name": "stderr",
     "output_type": "stream",
     "text": [
      "/usr/lib/python3/dist-packages/sklearn/linear_model/coordinate_descent.py:466: ConvergenceWarning: Objective did not converge. You might want to increase the number of iterations\n",
      "  ConvergenceWarning)\n"
     ]
    },
    {
     "name": "stdout",
     "output_type": "stream",
     "text": [
      "alpha =  3.00525786341\n",
      "new pixel (lasso):  [232 141 132]\n"
     ]
    },
    {
     "name": "stderr",
     "output_type": "stream",
     "text": [
      "/usr/lib/python3/dist-packages/sklearn/linear_model/coordinate_descent.py:466: ConvergenceWarning: Objective did not converge. You might want to increase the number of iterations\n",
      "  ConvergenceWarning)\n"
     ]
    },
    {
     "name": "stdout",
     "output_type": "stream",
     "text": [
      "alpha =  85.7621480701\n",
      "new pixel (lasso):  [187  94  95]\n",
      "alpha =  115.585554266\n",
      "new pixel (lasso):  [167  99 130]\n",
      "10  /  499\n",
      "alpha =  307.590702948\n",
      "new pixel (lasso):  [195 126 117]\n",
      "alpha =  59.7296833789\n",
      "new pixel (lasso):  [160  57  69]\n",
      "alpha =  18.2580317442\n",
      "new pixel (lasso):  [219 157 163]\n",
      "alpha =  3.12771875\n",
      "new pixel (lasso):  [226 124 113]\n"
     ]
    },
    {
     "name": "stderr",
     "output_type": "stream",
     "text": [
      "/usr/lib/python3/dist-packages/sklearn/linear_model/coordinate_descent.py:466: ConvergenceWarning: Objective did not converge. You might want to increase the number of iterations\n",
      "  ConvergenceWarning)\n"
     ]
    },
    {
     "name": "stdout",
     "output_type": "stream",
     "text": [
      "alpha =  18.0977704661\n",
      "new pixel (lasso):  [90 24 68]\n",
      "alpha =  8.57076111103\n",
      "new pixel (lasso):  [108  31  72]\n",
      "alpha =  4.44928013966\n",
      "new pixel (lasso):  [139  43  63]\n"
     ]
    },
    {
     "name": "stderr",
     "output_type": "stream",
     "text": [
      "/usr/lib/python3/dist-packages/sklearn/linear_model/coordinate_descent.py:466: ConvergenceWarning: Objective did not converge. You might want to increase the number of iterations\n",
      "  ConvergenceWarning)\n"
     ]
    },
    {
     "name": "stdout",
     "output_type": "stream",
     "text": [
      "alpha =  29.0248967507\n",
      "new pixel (lasso):  [156  67  82]\n"
     ]
    },
    {
     "name": "stderr",
     "output_type": "stream",
     "text": [
      "/usr/lib/python3/dist-packages/sklearn/linear_model/coordinate_descent.py:466: ConvergenceWarning: Objective did not converge. You might want to increase the number of iterations\n",
      "  ConvergenceWarning)\n"
     ]
    },
    {
     "name": "stdout",
     "output_type": "stream",
     "text": [
      "alpha =  2.91998412698\n",
      "new pixel (lasso):  [172  65  75]\n"
     ]
    },
    {
     "name": "stderr",
     "output_type": "stream",
     "text": [
      "/usr/lib/python3/dist-packages/sklearn/linear_model/coordinate_descent.py:466: ConvergenceWarning: Objective did not converge. You might want to increase the number of iterations\n",
      "  ConvergenceWarning)\n"
     ]
    },
    {
     "name": "stdout",
     "output_type": "stream",
     "text": [
      "alpha =  3.30527083333\n",
      "new pixel (lasso):  [206  92  93]\n",
      "20  /  499\n"
     ]
    },
    {
     "name": "stderr",
     "output_type": "stream",
     "text": [
      "/usr/lib/python3/dist-packages/sklearn/linear_model/coordinate_descent.py:466: ConvergenceWarning: Objective did not converge. You might want to increase the number of iterations\n",
      "  ConvergenceWarning)\n"
     ]
    },
    {
     "name": "stdout",
     "output_type": "stream",
     "text": [
      "alpha =  3.80777608758\n",
      "new pixel (lasso):  [92 35 73]\n"
     ]
    },
    {
     "name": "stderr",
     "output_type": "stream",
     "text": [
      "/usr/lib/python3/dist-packages/sklearn/linear_model/coordinate_descent.py:466: ConvergenceWarning: Objective did not converge. You might want to increase the number of iterations\n",
      "  ConvergenceWarning)\n"
     ]
    },
    {
     "name": "stdout",
     "output_type": "stream",
     "text": [
      "alpha =  17.105056074\n",
      "new pixel (lasso):  [94 36 77]\n",
      "alpha =  92.5786880214\n",
      "new pixel (lasso):  [208 139 127]\n",
      "alpha =  119.105104939\n",
      "new pixel (lasso):  [82 26 65]\n",
      "alpha =  1.30905208333\n",
      "new pixel (lasso):  [101  34  87]\n",
      "alpha =  145.936585425\n",
      "new pixel (lasso):  [235 189 177]\n",
      "alpha =  79.4027189984\n",
      "new pixel (lasso):  [133  80 135]\n",
      "alpha =  171.634544378\n",
      "new pixel (lasso):  [228 147 128]\n",
      "alpha =  3.19190625\n",
      "new pixel (lasso):  [200  91  89]\n"
     ]
    },
    {
     "name": "stderr",
     "output_type": "stream",
     "text": [
      "/usr/lib/python3/dist-packages/sklearn/linear_model/coordinate_descent.py:466: ConvergenceWarning: Objective did not converge. You might want to increase the number of iterations\n",
      "  ConvergenceWarning)\n"
     ]
    },
    {
     "name": "stdout",
     "output_type": "stream",
     "text": [
      "alpha =  42.5185140322\n",
      "new pixel (lasso):  [89 26 61]\n",
      "30  /  499\n",
      "alpha =  20.090952381\n",
      "new pixel (lasso):  [199 128 135]\n",
      "alpha =  45.2058762227\n",
      "new pixel (lasso):  [175  73  82]\n",
      "alpha =  20.0518057585\n",
      "new pixel (lasso):  [210 151 125]\n",
      "alpha =  49.829680121\n",
      "new pixel (lasso):  [203 104 107]\n",
      "alpha =  3.02213758998\n",
      "new pixel (lasso):  [86 11 53]\n",
      "alpha =  15.2817059864\n",
      "new pixel (lasso):  [228 111 107]\n",
      "alpha =  2.936828125\n",
      "new pixel (lasso):  [184  96 115]\n",
      "alpha =  77.8510181966\n",
      "new pixel (lasso):  [194 121 126]\n",
      "alpha =  198.991722302\n",
      "new pixel (lasso):  [254 170 149]\n",
      "alpha =  673.553800632\n",
      "new pixel (lasso):  [125  82  86]\n",
      "40  /  499\n",
      "alpha =  3.15750557907\n",
      "new pixel (lasso):  [236 185 164]\n",
      "alpha =  3.12739229025\n",
      "new pixel (lasso):  [161 100 117]\n",
      "alpha =  60.4571769286\n",
      "new pixel (lasso):  [214 134 152]\n",
      "alpha =  21.5749134809\n",
      "new pixel (lasso):  [195  79  80]\n"
     ]
    },
    {
     "name": "stderr",
     "output_type": "stream",
     "text": [
      "/usr/lib/python3/dist-packages/sklearn/linear_model/coordinate_descent.py:466: ConvergenceWarning: Objective did not converge. You might want to increase the number of iterations\n",
      "  ConvergenceWarning)\n"
     ]
    },
    {
     "name": "stdout",
     "output_type": "stream",
     "text": [
      "alpha =  282.153320117\n",
      "new pixel (lasso):  [99 41 68]\n",
      "alpha =  6.62844592051\n",
      "new pixel (lasso):  [101  25  65]\n"
     ]
    },
    {
     "name": "stderr",
     "output_type": "stream",
     "text": [
      "/usr/lib/python3/dist-packages/sklearn/linear_model/coordinate_descent.py:466: ConvergenceWarning: Objective did not converge. You might want to increase the number of iterations\n",
      "  ConvergenceWarning)\n"
     ]
    },
    {
     "name": "stdout",
     "output_type": "stream",
     "text": [
      "alpha =  2.87847619048\n",
      "new pixel (lasso):  [169  62  76]\n"
     ]
    },
    {
     "name": "stderr",
     "output_type": "stream",
     "text": [
      "/usr/lib/python3/dist-packages/sklearn/linear_model/coordinate_descent.py:466: ConvergenceWarning: Objective did not converge. You might want to increase the number of iterations\n",
      "  ConvergenceWarning)\n"
     ]
    },
    {
     "name": "stdout",
     "output_type": "stream",
     "text": [
      "alpha =  2.77380952381\n",
      "new pixel (lasso):  [161  58  71]\n"
     ]
    },
    {
     "name": "stderr",
     "output_type": "stream",
     "text": [
      "/usr/lib/python3/dist-packages/sklearn/linear_model/coordinate_descent.py:466: ConvergenceWarning: Objective did not converge. You might want to increase the number of iterations\n",
      "  ConvergenceWarning)\n"
     ]
    },
    {
     "name": "stdout",
     "output_type": "stream",
     "text": [
      "alpha =  5.61905670942\n",
      "new pixel (lasso):  [179  69  80]\n",
      "alpha =  16.5480549396\n",
      "new pixel (lasso):  [156  59  77]\n",
      "50  /  499\n"
     ]
    },
    {
     "name": "stderr",
     "output_type": "stream",
     "text": [
      "/usr/lib/python3/dist-packages/sklearn/linear_model/coordinate_descent.py:466: ConvergenceWarning: Objective did not converge. You might want to increase the number of iterations\n",
      "  ConvergenceWarning)\n"
     ]
    },
    {
     "name": "stdout",
     "output_type": "stream",
     "text": [
      "alpha =  78.4408755603\n",
      "new pixel (lasso):  [205 128 117]\n",
      "alpha =  41.3514161475\n",
      "new pixel (lasso):  [143 103 142]\n",
      "alpha =  11.2287487262\n",
      "new pixel (lasso):  [205 138 128]\n"
     ]
    },
    {
     "name": "stderr",
     "output_type": "stream",
     "text": [
      "/usr/lib/python3/dist-packages/sklearn/linear_model/coordinate_descent.py:466: ConvergenceWarning: Objective did not converge. You might want to increase the number of iterations\n",
      "  ConvergenceWarning)\n"
     ]
    },
    {
     "name": "stdout",
     "output_type": "stream",
     "text": [
      "alpha =  49.5604816012\n",
      "new pixel (lasso):  [201 130 126]\n"
     ]
    },
    {
     "name": "stderr",
     "output_type": "stream",
     "text": [
      "/usr/lib/python3/dist-packages/sklearn/linear_model/coordinate_descent.py:466: ConvergenceWarning: Objective did not converge. You might want to increase the number of iterations\n",
      "  ConvergenceWarning)\n"
     ]
    },
    {
     "name": "stdout",
     "output_type": "stream",
     "text": [
      "alpha =  57.4235956572\n",
      "new pixel (lasso):  [229 171 164]\n",
      "alpha =  68.1935425196\n",
      "new pixel (lasso):  [173  91 110]\n",
      "alpha =  5.0139532607\n",
      "new pixel (lasso):  [156 102 142]\n",
      "alpha =  3.82899723502\n",
      "new pixel (lasso):  [191  78  84]\n"
     ]
    },
    {
     "name": "stderr",
     "output_type": "stream",
     "text": [
      "/usr/lib/python3/dist-packages/sklearn/linear_model/coordinate_descent.py:466: ConvergenceWarning: Objective did not converge. You might want to increase the number of iterations\n",
      "  ConvergenceWarning)\n"
     ]
    },
    {
     "name": "stdout",
     "output_type": "stream",
     "text": [
      "alpha =  67.6289751184\n",
      "new pixel (lasso):  [203 130 114]\n",
      "alpha =  5.94229614033\n",
      "new pixel (lasso):  [171  65  79]\n",
      "60  /  499\n"
     ]
    },
    {
     "name": "stderr",
     "output_type": "stream",
     "text": [
      "/usr/lib/python3/dist-packages/sklearn/linear_model/coordinate_descent.py:466: ConvergenceWarning: Objective did not converge. You might want to increase the number of iterations\n",
      "  ConvergenceWarning)\n"
     ]
    },
    {
     "name": "stdout",
     "output_type": "stream",
     "text": [
      "alpha =  105.912409347\n",
      "new pixel (lasso):  [214 151 124]\n",
      "alpha =  2.28225\n",
      "new pixel (lasso):  [136  41  62]\n",
      "alpha =  177.531091912\n",
      "new pixel (lasso):  [211 114 104]\n",
      "alpha =  133.885496706\n",
      "new pixel (lasso):  [151  74  84]\n",
      "alpha =  5.21838577788\n",
      "new pixel (lasso):  [206  96  92]\n"
     ]
    },
    {
     "name": "stderr",
     "output_type": "stream",
     "text": [
      "/usr/lib/python3/dist-packages/sklearn/linear_model/coordinate_descent.py:466: ConvergenceWarning: Objective did not converge. You might want to increase the number of iterations\n",
      "  ConvergenceWarning)\n"
     ]
    },
    {
     "name": "stdout",
     "output_type": "stream",
     "text": [
      "alpha =  30.8573281997\n",
      "new pixel (lasso):  [211 101  99]\n"
     ]
    },
    {
     "name": "stderr",
     "output_type": "stream",
     "text": [
      "/usr/lib/python3/dist-packages/sklearn/linear_model/coordinate_descent.py:466: ConvergenceWarning: Objective did not converge. You might want to increase the number of iterations\n",
      "  ConvergenceWarning)\n"
     ]
    },
    {
     "name": "stdout",
     "output_type": "stream",
     "text": [
      "alpha =  0.9619375\n",
      "new pixel (lasso):  [219 190 180]\n",
      "alpha =  7.33358112333\n",
      "new pixel (lasso):  [201 136 124]\n",
      "alpha =  18.3645574035\n",
      "new pixel (lasso):  [200 105 104]\n"
     ]
    },
    {
     "name": "stderr",
     "output_type": "stream",
     "text": [
      "/usr/lib/python3/dist-packages/sklearn/linear_model/coordinate_descent.py:466: ConvergenceWarning: Objective did not converge. You might want to increase the number of iterations\n",
      "  ConvergenceWarning)\n"
     ]
    },
    {
     "name": "stdout",
     "output_type": "stream",
     "text": [
      "alpha =  22.3062298166\n",
      "new pixel (lasso):  [210 129 142]\n",
      "70  /  499\n",
      "alpha =  32.094490785\n",
      "new pixel (lasso):  [203 171 165]\n",
      "alpha =  7.95113711616\n",
      "new pixel (lasso):  [174  59  71]\n"
     ]
    },
    {
     "name": "stderr",
     "output_type": "stream",
     "text": [
      "/usr/lib/python3/dist-packages/sklearn/linear_model/coordinate_descent.py:466: ConvergenceWarning: Objective did not converge. You might want to increase the number of iterations\n",
      "  ConvergenceWarning)\n"
     ]
    },
    {
     "name": "stdout",
     "output_type": "stream",
     "text": [
      "alpha =  3.39996701389\n",
      "new pixel (lasso):  [196  85  91]\n",
      "alpha =  2.83277604167\n",
      "new pixel (lasso):  [193  92  98]\n"
     ]
    },
    {
     "name": "stderr",
     "output_type": "stream",
     "text": [
      "/usr/lib/python3/dist-packages/sklearn/linear_model/coordinate_descent.py:466: ConvergenceWarning: Objective did not converge. You might want to increase the number of iterations\n",
      "  ConvergenceWarning)\n"
     ]
    },
    {
     "name": "stdout",
     "output_type": "stream",
     "text": [
      "alpha =  8.81347539441\n",
      "new pixel (lasso):  [225 173 171]\n",
      "alpha =  2.659375\n",
      "new pixel (lasso):  [173  82 102]\n",
      "alpha =  27.8352148648\n",
      "new pixel (lasso):  [92 21 60]\n",
      "alpha =  224.10166042\n",
      "new pixel (lasso):  [199 103 108]\n",
      "alpha =  3.31588963046\n",
      "new pixel (lasso):  [208 155 150]\n",
      "alpha =  3.47769113326\n",
      "new pixel (lasso):  [155  64  82]\n",
      "80  /  499\n"
     ]
    },
    {
     "name": "stderr",
     "output_type": "stream",
     "text": [
      "/usr/lib/python3/dist-packages/sklearn/linear_model/coordinate_descent.py:466: ConvergenceWarning: Objective did not converge. You might want to increase the number of iterations\n",
      "  ConvergenceWarning)\n"
     ]
    },
    {
     "name": "stdout",
     "output_type": "stream",
     "text": [
      "alpha =  2.54992591694\n",
      "new pixel (lasso):  [111  33  72]\n",
      "alpha =  50.1056614736\n",
      "new pixel (lasso):  [235 193 181]\n",
      "alpha =  17.079341936\n",
      "new pixel (lasso):  [222 184 171]\n",
      "alpha =  4.40667702959\n",
      "new pixel (lasso):  [203 130 120]\n"
     ]
    },
    {
     "name": "stderr",
     "output_type": "stream",
     "text": [
      "/usr/lib/python3/dist-packages/sklearn/linear_model/coordinate_descent.py:466: ConvergenceWarning: Objective did not converge. You might want to increase the number of iterations\n",
      "  ConvergenceWarning)\n"
     ]
    },
    {
     "name": "stdout",
     "output_type": "stream",
     "text": [
      "alpha =  2.068984375\n",
      "new pixel (lasso):  [197 131 118]\n"
     ]
    },
    {
     "name": "stderr",
     "output_type": "stream",
     "text": [
      "/usr/lib/python3/dist-packages/sklearn/linear_model/coordinate_descent.py:466: ConvergenceWarning: Objective did not converge. You might want to increase the number of iterations\n",
      "  ConvergenceWarning)\n"
     ]
    },
    {
     "name": "stdout",
     "output_type": "stream",
     "text": [
      "alpha =  28.0766755896\n",
      "new pixel (lasso):  [195  87  81]\n",
      "alpha =  43.521332056\n",
      "new pixel (lasso):  [196  84  86]\n"
     ]
    },
    {
     "name": "stderr",
     "output_type": "stream",
     "text": [
      "/usr/lib/python3/dist-packages/sklearn/linear_model/coordinate_descent.py:466: ConvergenceWarning: Objective did not converge. You might want to increase the number of iterations\n",
      "  ConvergenceWarning)\n"
     ]
    },
    {
     "name": "stdout",
     "output_type": "stream",
     "text": [
      "alpha =  3.10920634921\n",
      "new pixel (lasso):  [203  96  94]\n"
     ]
    },
    {
     "name": "stderr",
     "output_type": "stream",
     "text": [
      "/usr/lib/python3/dist-packages/sklearn/linear_model/coordinate_descent.py:466: ConvergenceWarning: Objective did not converge. You might want to increase the number of iterations\n",
      "  ConvergenceWarning)\n"
     ]
    },
    {
     "name": "stdout",
     "output_type": "stream",
     "text": [
      "alpha =  4.73307204252\n",
      "new pixel (lasso):  [210 100 105]\n"
     ]
    },
    {
     "name": "stderr",
     "output_type": "stream",
     "text": [
      "/usr/lib/python3/dist-packages/sklearn/linear_model/coordinate_descent.py:466: ConvergenceWarning: Objective did not converge. You might want to increase the number of iterations\n",
      "  ConvergenceWarning)\n"
     ]
    },
    {
     "name": "stdout",
     "output_type": "stream",
     "text": [
      "alpha =  20.6843864249\n",
      "new pixel (lasso):  [170  71  96]\n",
      "90  /  499\n",
      "alpha =  99.8772986125\n",
      "new pixel (lasso):  [96 28 56]\n",
      "alpha =  15.3827025793\n",
      "new pixel (lasso):  [80 18 67]\n",
      "alpha =  4.64358343408\n",
      "new pixel (lasso):  [144  48  67]\n"
     ]
    },
    {
     "name": "stderr",
     "output_type": "stream",
     "text": [
      "/usr/lib/python3/dist-packages/sklearn/linear_model/coordinate_descent.py:466: ConvergenceWarning: Objective did not converge. You might want to increase the number of iterations\n",
      "  ConvergenceWarning)\n"
     ]
    },
    {
     "name": "stdout",
     "output_type": "stream",
     "text": [
      "alpha =  367.305652424\n",
      "new pixel (lasso):  [102  65  95]\n",
      "alpha =  2.93713580247\n",
      "new pixel (lasso):  [220 129 112]\n"
     ]
    },
    {
     "name": "stderr",
     "output_type": "stream",
     "text": [
      "/usr/lib/python3/dist-packages/sklearn/linear_model/coordinate_descent.py:466: ConvergenceWarning: Objective did not converge. You might want to increase the number of iterations\n",
      "  ConvergenceWarning)\n"
     ]
    },
    {
     "name": "stdout",
     "output_type": "stream",
     "text": [
      "alpha =  7.91780241504\n",
      "new pixel (lasso):  [125  73 129]\n",
      "alpha =  2.78840075894\n",
      "new pixel (lasso):  [228 166 145]\n",
      "alpha =  75.5038267012\n",
      "new pixel (lasso):  [164  94 100]\n",
      "alpha =  6.45325794959\n",
      "new pixel (lasso):  [210 143 129]\n"
     ]
    },
    {
     "name": "stderr",
     "output_type": "stream",
     "text": [
      "/usr/lib/python3/dist-packages/sklearn/linear_model/coordinate_descent.py:466: ConvergenceWarning: Objective did not converge. You might want to increase the number of iterations\n",
      "  ConvergenceWarning)\n"
     ]
    },
    {
     "name": "stdout",
     "output_type": "stream",
     "text": [
      "alpha =  151.040515156\n",
      "new pixel (lasso):  [127  43  77]\n",
      "100  /  499\n",
      "alpha =  3.12566666667\n",
      "new pixel (lasso):  [233 139 112]\n"
     ]
    },
    {
     "name": "stderr",
     "output_type": "stream",
     "text": [
      "/usr/lib/python3/dist-packages/sklearn/linear_model/coordinate_descent.py:466: ConvergenceWarning: Objective did not converge. You might want to increase the number of iterations\n",
      "  ConvergenceWarning)\n"
     ]
    },
    {
     "name": "stdout",
     "output_type": "stream",
     "text": [
      "alpha =  0.9656875\n",
      "new pixel (lasso):  [104  51 100]\n",
      "alpha =  34.4995964273\n",
      "new pixel (lasso):  [170  65  76]\n"
     ]
    },
    {
     "name": "stderr",
     "output_type": "stream",
     "text": [
      "/usr/lib/python3/dist-packages/sklearn/linear_model/coordinate_descent.py:466: ConvergenceWarning: Objective did not converge. You might want to increase the number of iterations\n",
      "  ConvergenceWarning)\n"
     ]
    },
    {
     "name": "stdout",
     "output_type": "stream",
     "text": [
      "alpha =  3.28168543085\n",
      "new pixel (lasso):  [196  91  97]\n"
     ]
    },
    {
     "name": "stderr",
     "output_type": "stream",
     "text": [
      "/usr/lib/python3/dist-packages/sklearn/linear_model/coordinate_descent.py:466: ConvergenceWarning: Objective did not converge. You might want to increase the number of iterations\n",
      "  ConvergenceWarning)\n"
     ]
    },
    {
     "name": "stdout",
     "output_type": "stream",
     "text": [
      "alpha =  2.2399478458\n",
      "new pixel (lasso):  [209 136 127]\n"
     ]
    },
    {
     "name": "stderr",
     "output_type": "stream",
     "text": [
      "/usr/lib/python3/dist-packages/sklearn/linear_model/coordinate_descent.py:466: ConvergenceWarning: Objective did not converge. You might want to increase the number of iterations\n",
      "  ConvergenceWarning)\n"
     ]
    },
    {
     "name": "stdout",
     "output_type": "stream",
     "text": [
      "alpha =  3.05059375\n",
      "new pixel (lasso):  [189  82  86]\n"
     ]
    },
    {
     "name": "stderr",
     "output_type": "stream",
     "text": [
      "/usr/lib/python3/dist-packages/sklearn/linear_model/coordinate_descent.py:466: ConvergenceWarning: Objective did not converge. You might want to increase the number of iterations\n",
      "  ConvergenceWarning)\n"
     ]
    },
    {
     "name": "stdout",
     "output_type": "stream",
     "text": [
      "alpha =  3.19993579618\n",
      "new pixel (lasso):  [215 115 107]\n"
     ]
    },
    {
     "name": "stderr",
     "output_type": "stream",
     "text": [
      "/usr/lib/python3/dist-packages/sklearn/linear_model/coordinate_descent.py:466: ConvergenceWarning: Objective did not converge. You might want to increase the number of iterations\n",
      "  ConvergenceWarning)\n"
     ]
    },
    {
     "name": "stdout",
     "output_type": "stream",
     "text": [
      "alpha =  86.3800526721\n",
      "new pixel (lasso):  [189  93  96]\n"
     ]
    },
    {
     "name": "stderr",
     "output_type": "stream",
     "text": [
      "/usr/lib/python3/dist-packages/sklearn/linear_model/coordinate_descent.py:466: ConvergenceWarning: Objective did not converge. You might want to increase the number of iterations\n",
      "  ConvergenceWarning)\n"
     ]
    },
    {
     "name": "stdout",
     "output_type": "stream",
     "text": [
      "alpha =  1348.20486111\n",
      "new pixel (lasso):  [112 112 112]\n",
      "alpha =  30.6621174202\n",
      "new pixel (lasso):  [137  62  91]\n",
      "110  /  499\n",
      "alpha =  108.685584005\n",
      "new pixel (lasso):  [165  63  81]\n",
      "alpha =  173.561584432\n",
      "new pixel (lasso):  [170 111 106]\n",
      "alpha =  5.81072306594\n",
      "new pixel (lasso):  [206  93  86]\n"
     ]
    },
    {
     "name": "stderr",
     "output_type": "stream",
     "text": [
      "/usr/lib/python3/dist-packages/sklearn/linear_model/coordinate_descent.py:466: ConvergenceWarning: Objective did not converge. You might want to increase the number of iterations\n",
      "  ConvergenceWarning)\n"
     ]
    },
    {
     "name": "stdout",
     "output_type": "stream",
     "text": [
      "alpha =  619.387477915\n",
      "new pixel (lasso):  [114  90 103]\n",
      "alpha =  924.64446073\n",
      "new pixel (lasso):  [207 176 177]\n",
      "alpha =  1087.71099395\n",
      "new pixel (lasso):  [161 106 114]\n",
      "alpha =  3.95697538593\n",
      "new pixel (lasso):  [207 139 127]\n"
     ]
    },
    {
     "name": "stderr",
     "output_type": "stream",
     "text": [
      "/usr/lib/python3/dist-packages/sklearn/linear_model/coordinate_descent.py:466: ConvergenceWarning: Objective did not converge. You might want to increase the number of iterations\n",
      "  ConvergenceWarning)\n"
     ]
    },
    {
     "name": "stdout",
     "output_type": "stream",
     "text": [
      "alpha =  28.9660954374\n",
      "new pixel (lasso):  [222 131 128]\n"
     ]
    },
    {
     "name": "stderr",
     "output_type": "stream",
     "text": [
      "/usr/lib/python3/dist-packages/sklearn/linear_model/coordinate_descent.py:466: ConvergenceWarning: Objective did not converge. You might want to increase the number of iterations\n",
      "  ConvergenceWarning)\n"
     ]
    },
    {
     "name": "stdout",
     "output_type": "stream",
     "text": [
      "alpha =  2.88853559973\n",
      "new pixel (lasso):  [144  69  88]\n"
     ]
    },
    {
     "name": "stderr",
     "output_type": "stream",
     "text": [
      "/usr/lib/python3/dist-packages/sklearn/linear_model/coordinate_descent.py:466: ConvergenceWarning: Objective did not converge. You might want to increase the number of iterations\n",
      "  ConvergenceWarning)\n"
     ]
    },
    {
     "name": "stdout",
     "output_type": "stream",
     "text": [
      "alpha =  85.594745245\n",
      "new pixel (lasso):  [191 119 120]\n",
      "120  /  499\n",
      "alpha =  41.2805118434\n",
      "new pixel (lasso):  [212 114 111]\n",
      "alpha =  12.2948622178\n",
      "new pixel (lasso):  [198  86  92]\n"
     ]
    },
    {
     "name": "stderr",
     "output_type": "stream",
     "text": [
      "/usr/lib/python3/dist-packages/sklearn/linear_model/coordinate_descent.py:466: ConvergenceWarning: Objective did not converge. You might want to increase the number of iterations\n",
      "  ConvergenceWarning)\n"
     ]
    },
    {
     "name": "stdout",
     "output_type": "stream",
     "text": [
      "alpha =  218.336380331\n",
      "new pixel (lasso):  [84 36 62]\n",
      "alpha =  3.95758431545\n",
      "new pixel (lasso):  [234 185 160]\n",
      "alpha =  73.4259812418\n",
      "new pixel (lasso):  [188  92 107]\n",
      "alpha =  10.8185669317\n",
      "new pixel (lasso):  [184  67  81]\n"
     ]
    },
    {
     "name": "stderr",
     "output_type": "stream",
     "text": [
      "/usr/lib/python3/dist-packages/sklearn/linear_model/coordinate_descent.py:466: ConvergenceWarning: Objective did not converge. You might want to increase the number of iterations\n",
      "  ConvergenceWarning)\n"
     ]
    },
    {
     "name": "stdout",
     "output_type": "stream",
     "text": [
      "alpha =  179.922792686\n",
      "new pixel (lasso):  [106  48  67]\n",
      "alpha =  18.2336059824\n",
      "new pixel (lasso):  [155  54  67]\n"
     ]
    },
    {
     "name": "stderr",
     "output_type": "stream",
     "text": [
      "/usr/lib/python3/dist-packages/sklearn/linear_model/coordinate_descent.py:466: ConvergenceWarning: Objective did not converge. You might want to increase the number of iterations\n",
      "  ConvergenceWarning)\n"
     ]
    },
    {
     "name": "stdout",
     "output_type": "stream",
     "text": [
      "alpha =  1.64603854875\n",
      "new pixel (lasso):  [100  24  64]\n"
     ]
    },
    {
     "name": "stderr",
     "output_type": "stream",
     "text": [
      "/usr/lib/python3/dist-packages/sklearn/linear_model/coordinate_descent.py:466: ConvergenceWarning: Objective did not converge. You might want to increase the number of iterations\n",
      "  ConvergenceWarning)\n"
     ]
    },
    {
     "name": "stdout",
     "output_type": "stream",
     "text": [
      "alpha =  49.1408442071\n",
      "new pixel (lasso):  [132  56  89]\n",
      "130  /  499\n",
      "alpha =  117.189128174\n",
      "new pixel (lasso):  [88 27 57]\n",
      "alpha =  39.4046171971\n",
      "new pixel (lasso):  [221 167 153]\n",
      "alpha =  69.2969790104\n",
      "new pixel (lasso):  [157 111 142]\n",
      "alpha =  3.25360770975\n",
      "new pixel (lasso):  [208  97  95]\n"
     ]
    },
    {
     "name": "stderr",
     "output_type": "stream",
     "text": [
      "/usr/lib/python3/dist-packages/sklearn/linear_model/coordinate_descent.py:466: ConvergenceWarning: Objective did not converge. You might want to increase the number of iterations\n",
      "  ConvergenceWarning)\n"
     ]
    },
    {
     "name": "stdout",
     "output_type": "stream",
     "text": [
      "alpha =  8.24411449383\n",
      "new pixel (lasso):  [221 128 114]\n"
     ]
    },
    {
     "name": "stderr",
     "output_type": "stream",
     "text": [
      "/usr/lib/python3/dist-packages/sklearn/linear_model/coordinate_descent.py:466: ConvergenceWarning: Objective did not converge. You might want to increase the number of iterations\n",
      "  ConvergenceWarning)\n"
     ]
    },
    {
     "name": "stdout",
     "output_type": "stream",
     "text": [
      "alpha =  2.165265625\n",
      "new pixel (lasso):  [222 160 133]\n",
      "alpha =  30.7613821365\n",
      "new pixel (lasso):  [223 114 107]\n"
     ]
    },
    {
     "name": "stderr",
     "output_type": "stream",
     "text": [
      "/usr/lib/python3/dist-packages/sklearn/linear_model/coordinate_descent.py:466: ConvergenceWarning: Objective did not converge. You might want to increase the number of iterations\n",
      "  ConvergenceWarning)\n"
     ]
    },
    {
     "name": "stdout",
     "output_type": "stream",
     "text": [
      "alpha =  14.6494499483\n",
      "new pixel (lasso):  [237 190 174]\n",
      "alpha =  43.8821509893\n",
      "new pixel (lasso):  [215 165 159]\n",
      "alpha =  136.858677568\n",
      "new pixel (lasso):  [225 171 140]\n",
      "140  /  499\n",
      "alpha =  1.88878645833\n",
      "new pixel (lasso):  [193 130 125]\n"
     ]
    },
    {
     "name": "stderr",
     "output_type": "stream",
     "text": [
      "/usr/lib/python3/dist-packages/sklearn/linear_model/coordinate_descent.py:466: ConvergenceWarning: Objective did not converge. You might want to increase the number of iterations\n",
      "  ConvergenceWarning)\n"
     ]
    },
    {
     "name": "stdout",
     "output_type": "stream",
     "text": [
      "alpha =  12.0282516664\n",
      "new pixel (lasso):  [96 36 80]\n",
      "alpha =  2.78773777778\n",
      "new pixel (lasso):  [169  65  80]\n"
     ]
    },
    {
     "name": "stderr",
     "output_type": "stream",
     "text": [
      "/usr/lib/python3/dist-packages/sklearn/linear_model/coordinate_descent.py:466: ConvergenceWarning: Objective did not converge. You might want to increase the number of iterations\n",
      "  ConvergenceWarning)\n"
     ]
    },
    {
     "name": "stdout",
     "output_type": "stream",
     "text": [
      "alpha =  88.7915570839\n",
      "new pixel (lasso):  [142  80 132]\n",
      "alpha =  6.18731397301\n",
      "new pixel (lasso):  [141  58  78]\n"
     ]
    },
    {
     "name": "stderr",
     "output_type": "stream",
     "text": [
      "/usr/lib/python3/dist-packages/sklearn/linear_model/coordinate_descent.py:466: ConvergenceWarning: Objective did not converge. You might want to increase the number of iterations\n",
      "  ConvergenceWarning)\n"
     ]
    },
    {
     "name": "stdout",
     "output_type": "stream",
     "text": [
      "alpha =  2.24448958333\n",
      "new pixel (lasso):  [208 136 127]\n"
     ]
    },
    {
     "name": "stderr",
     "output_type": "stream",
     "text": [
      "/usr/lib/python3/dist-packages/sklearn/linear_model/coordinate_descent.py:466: ConvergenceWarning: Objective did not converge. You might want to increase the number of iterations\n",
      "  ConvergenceWarning)\n"
     ]
    },
    {
     "name": "stdout",
     "output_type": "stream",
     "text": [
      "alpha =  30.3316750439\n",
      "new pixel (lasso):  [119  46  67]\n",
      "alpha =  14.0792113075\n",
      "new pixel (lasso):  [228 177 173]\n",
      "alpha =  45.6691708497\n",
      "new pixel (lasso):  [98 24 55]\n",
      "alpha =  131.786109365\n",
      "new pixel (lasso):  [98 47 77]\n",
      "150  /  499\n",
      "alpha =  1.89397916667\n",
      "new pixel (lasso):  [225 160 147]\n",
      "alpha =  7.26207600955\n",
      "new pixel (lasso):  [227 131 134]\n",
      "alpha =  47.2566669264\n",
      "new pixel (lasso):  [102  28  60]\n",
      "alpha =  67.2234628545\n",
      "new pixel (lasso):  [210 134 132]\n",
      "alpha =  17.7399614352\n",
      "new pixel (lasso):  [172 104 149]\n",
      "alpha =  196.688505891\n",
      "new pixel (lasso):  [136  61  82]\n",
      "alpha =  34.3882736015\n",
      "new pixel (lasso):  [183  80  86]\n"
     ]
    },
    {
     "name": "stderr",
     "output_type": "stream",
     "text": [
      "/usr/lib/python3/dist-packages/sklearn/linear_model/coordinate_descent.py:466: ConvergenceWarning: Objective did not converge. You might want to increase the number of iterations\n",
      "  ConvergenceWarning)\n"
     ]
    },
    {
     "name": "stdout",
     "output_type": "stream",
     "text": [
      "alpha =  87.7074999034\n",
      "new pixel (lasso):  [163  69  75]\n",
      "alpha =  3.10772395833\n",
      "new pixel (lasso):  [207 101  97]\n"
     ]
    },
    {
     "name": "stderr",
     "output_type": "stream",
     "text": [
      "/usr/lib/python3/dist-packages/sklearn/linear_model/coordinate_descent.py:466: ConvergenceWarning: Objective did not converge. You might want to increase the number of iterations\n",
      "  ConvergenceWarning)\n"
     ]
    },
    {
     "name": "stdout",
     "output_type": "stream",
     "text": [
      "alpha =  104.85625\n",
      "new pixel (lasso):  [221 191 184]\n",
      "160  /  499\n",
      "alpha =  3.01975694444\n",
      "new pixel (lasso):  [150  73 105]\n",
      "alpha =  27.9253781436\n",
      "new pixel (lasso):  [92 25 52]\n",
      "alpha =  39.0537388847\n",
      "new pixel (lasso):  [225 197 187]\n"
     ]
    },
    {
     "name": "stderr",
     "output_type": "stream",
     "text": [
      "/usr/lib/python3/dist-packages/sklearn/linear_model/coordinate_descent.py:466: ConvergenceWarning: Objective did not converge. You might want to increase the number of iterations\n",
      "  ConvergenceWarning)\n"
     ]
    },
    {
     "name": "stdout",
     "output_type": "stream",
     "text": [
      "alpha =  99.0109101745\n",
      "new pixel (lasso):  [140  89 129]\n",
      "alpha =  1.84591156463\n",
      "new pixel (lasso):  [110  42  85]\n",
      "alpha =  11.2616052375\n",
      "new pixel (lasso):  [220 111 105]\n"
     ]
    },
    {
     "name": "stderr",
     "output_type": "stream",
     "text": [
      "/usr/lib/python3/dist-packages/sklearn/linear_model/coordinate_descent.py:466: ConvergenceWarning: Objective did not converge. You might want to increase the number of iterations\n",
      "  ConvergenceWarning)\n"
     ]
    },
    {
     "name": "stdout",
     "output_type": "stream",
     "text": [
      "alpha =  6.49169056486\n",
      "new pixel (lasso):  [94 26 65]\n",
      "alpha =  5.49755141393\n",
      "new pixel (lasso):  [203  93  93]\n"
     ]
    },
    {
     "name": "stderr",
     "output_type": "stream",
     "text": [
      "/usr/lib/python3/dist-packages/sklearn/linear_model/coordinate_descent.py:466: ConvergenceWarning: Objective did not converge. You might want to increase the number of iterations\n",
      "  ConvergenceWarning)\n"
     ]
    },
    {
     "name": "stdout",
     "output_type": "stream",
     "text": [
      "alpha =  38.9475636887\n",
      "new pixel (lasso):  [210 105 102]\n",
      "alpha =  2.74784807256\n",
      "new pixel (lasso):  [170  66  79]\n",
      "170  /  499\n"
     ]
    },
    {
     "name": "stderr",
     "output_type": "stream",
     "text": [
      "/usr/lib/python3/dist-packages/sklearn/linear_model/coordinate_descent.py:466: ConvergenceWarning: Objective did not converge. You might want to increase the number of iterations\n",
      "  ConvergenceWarning)\n"
     ]
    },
    {
     "name": "stdout",
     "output_type": "stream",
     "text": [
      "alpha =  62.0566841148\n",
      "new pixel (lasso):  [208 115 118]\n",
      "alpha =  1349.83468461\n",
      "new pixel (lasso):  [166 127 122]\n",
      "alpha =  1.68083333333\n",
      "new pixel (lasso):  [121  47  86]\n",
      "alpha =  2.7161292517\n",
      "new pixel (lasso):  [172  74  90]\n"
     ]
    },
    {
     "name": "stderr",
     "output_type": "stream",
     "text": [
      "/usr/lib/python3/dist-packages/sklearn/linear_model/coordinate_descent.py:466: ConvergenceWarning: Objective did not converge. You might want to increase the number of iterations\n",
      "  ConvergenceWarning)\n"
     ]
    },
    {
     "name": "stdout",
     "output_type": "stream",
     "text": [
      "alpha =  34.2950520833\n",
      "new pixel (lasso):  [216 102  95]\n",
      "alpha =  61.2837501555\n",
      "new pixel (lasso):  [85 28 65]\n",
      "alpha =  12.0122079313\n",
      "new pixel (lasso):  [182  72  78]\n"
     ]
    },
    {
     "name": "stderr",
     "output_type": "stream",
     "text": [
      "/usr/lib/python3/dist-packages/sklearn/linear_model/coordinate_descent.py:466: ConvergenceWarning: Objective did not converge. You might want to increase the number of iterations\n",
      "  ConvergenceWarning)\n"
     ]
    },
    {
     "name": "stdout",
     "output_type": "stream",
     "text": [
      "alpha =  10.804169614\n",
      "new pixel (lasso):  [220 126 116]\n"
     ]
    },
    {
     "name": "stderr",
     "output_type": "stream",
     "text": [
      "/usr/lib/python3/dist-packages/sklearn/linear_model/coordinate_descent.py:466: ConvergenceWarning: Objective did not converge. You might want to increase the number of iterations\n",
      "  ConvergenceWarning)\n"
     ]
    },
    {
     "name": "stdout",
     "output_type": "stream",
     "text": [
      "alpha =  129.904715568\n",
      "new pixel (lasso):  [165 106 146]\n",
      "alpha =  73.3136308624\n",
      "new pixel (lasso):  [89 23 59]\n",
      "180  /  499\n",
      "alpha =  3.3253877551\n",
      "new pixel (lasso):  [215 106  92]\n",
      "alpha =  3.41604081633\n",
      "new pixel (lasso):  [220 100 101]\n"
     ]
    },
    {
     "name": "stderr",
     "output_type": "stream",
     "text": [
      "/usr/lib/python3/dist-packages/sklearn/linear_model/coordinate_descent.py:466: ConvergenceWarning: Objective did not converge. You might want to increase the number of iterations\n",
      "  ConvergenceWarning)\n"
     ]
    },
    {
     "name": "stdout",
     "output_type": "stream",
     "text": [
      "alpha =  63.470313545\n",
      "new pixel (lasso):  [159  87 103]\n"
     ]
    },
    {
     "name": "stderr",
     "output_type": "stream",
     "text": [
      "/usr/lib/python3/dist-packages/sklearn/linear_model/coordinate_descent.py:466: ConvergenceWarning: Objective did not converge. You might want to increase the number of iterations\n",
      "  ConvergenceWarning)\n"
     ]
    },
    {
     "name": "stdout",
     "output_type": "stream",
     "text": [
      "alpha =  14.7438181896\n",
      "new pixel (lasso):  [155  60  83]\n",
      "alpha =  31.8814285714\n",
      "new pixel (lasso):  [182  66  75]\n"
     ]
    },
    {
     "name": "stderr",
     "output_type": "stream",
     "text": [
      "/usr/lib/python3/dist-packages/sklearn/linear_model/coordinate_descent.py:466: ConvergenceWarning: Objective did not converge. You might want to increase the number of iterations\n",
      "  ConvergenceWarning)\n"
     ]
    },
    {
     "name": "stdout",
     "output_type": "stream",
     "text": [
      "alpha =  27.502144138\n",
      "new pixel (lasso):  [117  45 104]\n",
      "alpha =  20.5960401309\n",
      "new pixel (lasso):  [219 104 102]\n"
     ]
    },
    {
     "name": "stderr",
     "output_type": "stream",
     "text": [
      "/usr/lib/python3/dist-packages/sklearn/linear_model/coordinate_descent.py:466: ConvergenceWarning: Objective did not converge. You might want to increase the number of iterations\n",
      "  ConvergenceWarning)\n"
     ]
    },
    {
     "name": "stdout",
     "output_type": "stream",
     "text": [
      "alpha =  54.8507296894\n",
      "new pixel (lasso):  [106  24  59]\n",
      "alpha =  26.6978594474\n",
      "new pixel (lasso):  [161  56  71]\n"
     ]
    },
    {
     "name": "stderr",
     "output_type": "stream",
     "text": [
      "/usr/lib/python3/dist-packages/sklearn/linear_model/coordinate_descent.py:466: ConvergenceWarning: Objective did not converge. You might want to increase the number of iterations\n",
      "  ConvergenceWarning)\n"
     ]
    },
    {
     "name": "stdout",
     "output_type": "stream",
     "text": [
      "alpha =  78.3322598573\n",
      "new pixel (lasso):  [233 160 130]\n",
      "190  /  499\n",
      "alpha =  123.032968224\n",
      "new pixel (lasso):  [95 26 62]\n",
      "alpha =  1.94956770833\n",
      "new pixel (lasso):  [237 194 148]\n",
      "alpha =  4.62745670119\n",
      "new pixel (lasso):  [95 27 75]\n",
      "alpha =  25.7666091423\n",
      "new pixel (lasso):  [87 29 68]\n",
      "alpha =  3.283015625\n",
      "new pixel (lasso):  [206  93  91]\n"
     ]
    },
    {
     "name": "stderr",
     "output_type": "stream",
     "text": [
      "/usr/lib/python3/dist-packages/sklearn/linear_model/coordinate_descent.py:466: ConvergenceWarning: Objective did not converge. You might want to increase the number of iterations\n",
      "  ConvergenceWarning)\n"
     ]
    },
    {
     "name": "stdout",
     "output_type": "stream",
     "text": [
      "alpha =  2.75078645833\n",
      "new pixel (lasso):  [151  52  73]\n"
     ]
    },
    {
     "name": "stderr",
     "output_type": "stream",
     "text": [
      "/usr/lib/python3/dist-packages/sklearn/linear_model/coordinate_descent.py:466: ConvergenceWarning: Objective did not converge. You might want to increase the number of iterations\n",
      "  ConvergenceWarning)\n"
     ]
    },
    {
     "name": "stdout",
     "output_type": "stream",
     "text": [
      "alpha =  6.43403607672\n",
      "new pixel (lasso):  [222 140 110]\n",
      "alpha =  39.2169977773\n",
      "new pixel (lasso):  [209 162 148]\n",
      "alpha =  148.087269751\n",
      "new pixel (lasso):  [201 121 118]\n",
      "alpha =  13.4686315289\n",
      "new pixel (lasso):  [173  61  78]\n",
      "200  /  499\n"
     ]
    },
    {
     "name": "stderr",
     "output_type": "stream",
     "text": [
      "/usr/lib/python3/dist-packages/sklearn/linear_model/coordinate_descent.py:466: ConvergenceWarning: Objective did not converge. You might want to increase the number of iterations\n",
      "  ConvergenceWarning)\n"
     ]
    },
    {
     "name": "stdout",
     "output_type": "stream",
     "text": [
      "alpha =  3.0821875\n",
      "new pixel (lasso):  [230 125 121]\n"
     ]
    },
    {
     "name": "stderr",
     "output_type": "stream",
     "text": [
      "/usr/lib/python3/dist-packages/sklearn/linear_model/coordinate_descent.py:466: ConvergenceWarning: Objective did not converge. You might want to increase the number of iterations\n",
      "  ConvergenceWarning)\n"
     ]
    },
    {
     "name": "stdout",
     "output_type": "stream",
     "text": [
      "alpha =  106.516279845\n",
      "new pixel (lasso):  [206 107 116]\n",
      "alpha =  20.9383593081\n",
      "new pixel (lasso):  [170  62  72]\n"
     ]
    },
    {
     "name": "stderr",
     "output_type": "stream",
     "text": [
      "/usr/lib/python3/dist-packages/sklearn/linear_model/coordinate_descent.py:466: ConvergenceWarning: Objective did not converge. You might want to increase the number of iterations\n",
      "  ConvergenceWarning)\n"
     ]
    },
    {
     "name": "stdout",
     "output_type": "stream",
     "text": [
      "alpha =  50.2877533325\n",
      "new pixel (lasso):  [220 130 129]\n",
      "alpha =  17.7459583005\n",
      "new pixel (lasso):  [85 21 60]\n",
      "alpha =  4.71409800807\n",
      "new pixel (lasso):  [207 140 156]\n",
      "alpha =  105.368548074\n",
      "new pixel (lasso):  [175 116 120]\n",
      "alpha =  28.7046421621\n",
      "new pixel (lasso):  [144  50  69]\n"
     ]
    },
    {
     "name": "stderr",
     "output_type": "stream",
     "text": [
      "/usr/lib/python3/dist-packages/sklearn/linear_model/coordinate_descent.py:466: ConvergenceWarning: Objective did not converge. You might want to increase the number of iterations\n",
      "  ConvergenceWarning)\n"
     ]
    },
    {
     "name": "stdout",
     "output_type": "stream",
     "text": [
      "alpha =  2.98605895692\n",
      "new pixel (lasso):  [219 127 108]\n"
     ]
    },
    {
     "name": "stderr",
     "output_type": "stream",
     "text": [
      "/usr/lib/python3/dist-packages/sklearn/linear_model/coordinate_descent.py:466: ConvergenceWarning: Objective did not converge. You might want to increase the number of iterations\n",
      "  ConvergenceWarning)\n"
     ]
    },
    {
     "name": "stdout",
     "output_type": "stream",
     "text": [
      "alpha =  3.11797222222\n",
      "new pixel (lasso):  [163  49  70]\n",
      "210  /  499\n"
     ]
    },
    {
     "name": "stderr",
     "output_type": "stream",
     "text": [
      "/usr/lib/python3/dist-packages/sklearn/linear_model/coordinate_descent.py:466: ConvergenceWarning: Objective did not converge. You might want to increase the number of iterations\n",
      "  ConvergenceWarning)\n"
     ]
    },
    {
     "name": "stdout",
     "output_type": "stream",
     "text": [
      "alpha =  2.12284807256\n",
      "new pixel (lasso):  [212 140 134]\n"
     ]
    },
    {
     "name": "stderr",
     "output_type": "stream",
     "text": [
      "/usr/lib/python3/dist-packages/sklearn/linear_model/coordinate_descent.py:466: ConvergenceWarning: Objective did not converge. You might want to increase the number of iterations\n",
      "  ConvergenceWarning)\n"
     ]
    },
    {
     "name": "stdout",
     "output_type": "stream",
     "text": [
      "alpha =  2.89452083333\n",
      "new pixel (lasso):  [174  69  79]\n"
     ]
    },
    {
     "name": "stderr",
     "output_type": "stream",
     "text": [
      "/usr/lib/python3/dist-packages/sklearn/linear_model/coordinate_descent.py:466: ConvergenceWarning: Objective did not converge. You might want to increase the number of iterations\n",
      "  ConvergenceWarning)\n"
     ]
    },
    {
     "name": "stdout",
     "output_type": "stream",
     "text": [
      "alpha =  20.4135882573\n",
      "new pixel (lasso):  [228 127 103]\n"
     ]
    },
    {
     "name": "stderr",
     "output_type": "stream",
     "text": [
      "/usr/lib/python3/dist-packages/sklearn/linear_model/coordinate_descent.py:466: ConvergenceWarning: Objective did not converge. You might want to increase the number of iterations\n",
      "  ConvergenceWarning)\n"
     ]
    },
    {
     "name": "stdout",
     "output_type": "stream",
     "text": [
      "alpha =  3.00809895833\n",
      "new pixel (lasso):  [179  69  81]\n"
     ]
    },
    {
     "name": "stderr",
     "output_type": "stream",
     "text": [
      "/usr/lib/python3/dist-packages/sklearn/linear_model/coordinate_descent.py:466: ConvergenceWarning: Objective did not converge. You might want to increase the number of iterations\n",
      "  ConvergenceWarning)\n"
     ]
    },
    {
     "name": "stdout",
     "output_type": "stream",
     "text": [
      "alpha =  58.9179922916\n",
      "new pixel (lasso):  [219 118 106]\n"
     ]
    },
    {
     "name": "stderr",
     "output_type": "stream",
     "text": [
      "/usr/lib/python3/dist-packages/sklearn/linear_model/coordinate_descent.py:466: ConvergenceWarning: Objective did not converge. You might want to increase the number of iterations\n",
      "  ConvergenceWarning)\n"
     ]
    },
    {
     "name": "stdout",
     "output_type": "stream",
     "text": [
      "alpha =  2.62079166667\n",
      "new pixel (lasso):  [201 112 110]\n"
     ]
    },
    {
     "name": "stderr",
     "output_type": "stream",
     "text": [
      "/usr/lib/python3/dist-packages/sklearn/linear_model/coordinate_descent.py:466: ConvergenceWarning: Objective did not converge. You might want to increase the number of iterations\n",
      "  ConvergenceWarning)\n"
     ]
    },
    {
     "name": "stdout",
     "output_type": "stream",
     "text": [
      "alpha =  13.999213983\n",
      "new pixel (lasso):  [202  93  89]\n"
     ]
    },
    {
     "name": "stderr",
     "output_type": "stream",
     "text": [
      "/usr/lib/python3/dist-packages/sklearn/linear_model/coordinate_descent.py:466: ConvergenceWarning: Objective did not converge. You might want to increase the number of iterations\n",
      "  ConvergenceWarning)\n"
     ]
    },
    {
     "name": "stdout",
     "output_type": "stream",
     "text": [
      "alpha =  124.501255993\n",
      "new pixel (lasso):  [91 26 54]\n",
      "alpha =  0.76993877551\n",
      "new pixel (lasso):  [229 207 195]\n",
      "alpha =  13.9548884784\n",
      "new pixel (lasso):  [231 143 114]\n",
      "220  /  499\n"
     ]
    },
    {
     "name": "stderr",
     "output_type": "stream",
     "text": [
      "/usr/lib/python3/dist-packages/sklearn/linear_model/coordinate_descent.py:466: ConvergenceWarning: Objective did not converge. You might want to increase the number of iterations\n",
      "  ConvergenceWarning)\n"
     ]
    },
    {
     "name": "stdout",
     "output_type": "stream",
     "text": [
      "alpha =  5.17101265597\n",
      "new pixel (lasso):  [206  98  93]\n"
     ]
    },
    {
     "name": "stderr",
     "output_type": "stream",
     "text": [
      "/usr/lib/python3/dist-packages/sklearn/linear_model/coordinate_descent.py:466: ConvergenceWarning: Objective did not converge. You might want to increase the number of iterations\n",
      "  ConvergenceWarning)\n"
     ]
    },
    {
     "name": "stdout",
     "output_type": "stream",
     "text": [
      "alpha =  3.69351222222\n",
      "new pixel (lasso):  [195  84  84]\n"
     ]
    },
    {
     "name": "stderr",
     "output_type": "stream",
     "text": [
      "/usr/lib/python3/dist-packages/sklearn/linear_model/coordinate_descent.py:466: ConvergenceWarning: Objective did not converge. You might want to increase the number of iterations\n",
      "  ConvergenceWarning)\n"
     ]
    },
    {
     "name": "stdout",
     "output_type": "stream",
     "text": [
      "alpha =  3.122359375\n",
      "new pixel (lasso):  [177  64  75]\n"
     ]
    },
    {
     "name": "stderr",
     "output_type": "stream",
     "text": [
      "/usr/lib/python3/dist-packages/sklearn/linear_model/coordinate_descent.py:466: ConvergenceWarning: Objective did not converge. You might want to increase the number of iterations\n",
      "  ConvergenceWarning)\n"
     ]
    },
    {
     "name": "stdout",
     "output_type": "stream",
     "text": [
      "alpha =  8.85051316928\n",
      "new pixel (lasso):  [97 11 46]\n",
      "alpha =  6.64982258183\n",
      "new pixel (lasso):  [209 135 122]\n"
     ]
    },
    {
     "name": "stderr",
     "output_type": "stream",
     "text": [
      "/usr/lib/python3/dist-packages/sklearn/linear_model/coordinate_descent.py:466: ConvergenceWarning: Objective did not converge. You might want to increase the number of iterations\n",
      "  ConvergenceWarning)\n"
     ]
    },
    {
     "name": "stdout",
     "output_type": "stream",
     "text": [
      "alpha =  2.95558854167\n",
      "new pixel (lasso):  [178  70  82]\n"
     ]
    },
    {
     "name": "stderr",
     "output_type": "stream",
     "text": [
      "/usr/lib/python3/dist-packages/sklearn/linear_model/coordinate_descent.py:466: ConvergenceWarning: Objective did not converge. You might want to increase the number of iterations\n",
      "  ConvergenceWarning)\n"
     ]
    },
    {
     "name": "stdout",
     "output_type": "stream",
     "text": [
      "alpha =  3.19260305211\n",
      "new pixel (lasso):  [180  74  78]\n"
     ]
    },
    {
     "name": "stderr",
     "output_type": "stream",
     "text": [
      "/usr/lib/python3/dist-packages/sklearn/linear_model/coordinate_descent.py:466: ConvergenceWarning: Objective did not converge. You might want to increase the number of iterations\n",
      "  ConvergenceWarning)\n"
     ]
    },
    {
     "name": "stdout",
     "output_type": "stream",
     "text": [
      "alpha =  36.989974801\n",
      "new pixel (lasso):  [88 20 57]\n",
      "alpha =  7.24066225771\n",
      "new pixel (lasso):  [215 103 105]\n",
      "alpha =  159.201866622\n",
      "new pixel (lasso):  [103  25  61]\n",
      "230  /  499\n",
      "alpha =  66.8901263173\n",
      "new pixel (lasso):  [224 143 133]\n",
      "alpha =  661.249971354\n",
      "new pixel (lasso):  [108  57  69]\n",
      "alpha =  0.955458333333\n",
      "new pixel (lasso):  [221 188 179]\n",
      "alpha =  88.9174049278\n",
      "new pixel (lasso):  [101  49  81]\n",
      "alpha =  15.6867608686\n",
      "new pixel (lasso):  [146  62  78]\n"
     ]
    },
    {
     "name": "stderr",
     "output_type": "stream",
     "text": [
      "/usr/lib/python3/dist-packages/sklearn/linear_model/coordinate_descent.py:466: ConvergenceWarning: Objective did not converge. You might want to increase the number of iterations\n",
      "  ConvergenceWarning)\n"
     ]
    },
    {
     "name": "stdout",
     "output_type": "stream",
     "text": [
      "alpha =  33.267856468\n",
      "new pixel (lasso):  [198  86  93]\n"
     ]
    },
    {
     "name": "stderr",
     "output_type": "stream",
     "text": [
      "/usr/lib/python3/dist-packages/sklearn/linear_model/coordinate_descent.py:466: ConvergenceWarning: Objective did not converge. You might want to increase the number of iterations\n",
      "  ConvergenceWarning)\n"
     ]
    },
    {
     "name": "stdout",
     "output_type": "stream",
     "text": [
      "alpha =  103.0320337\n",
      "new pixel (lasso):  [100  32  58]\n",
      "alpha =  3.12179365079\n",
      "new pixel (lasso):  [225 128 104]\n"
     ]
    },
    {
     "name": "stderr",
     "output_type": "stream",
     "text": [
      "/usr/lib/python3/dist-packages/sklearn/linear_model/coordinate_descent.py:466: ConvergenceWarning: Objective did not converge. You might want to increase the number of iterations\n",
      "  ConvergenceWarning)\n"
     ]
    },
    {
     "name": "stdout",
     "output_type": "stream",
     "text": [
      "alpha =  8.9231675012\n",
      "new pixel (lasso):  [83 16 64]\n",
      "alpha =  31.8224839728\n",
      "new pixel (lasso):  [167  61  73]\n",
      "240  /  499\n"
     ]
    },
    {
     "name": "stderr",
     "output_type": "stream",
     "text": [
      "/usr/lib/python3/dist-packages/sklearn/linear_model/coordinate_descent.py:466: ConvergenceWarning: Objective did not converge. You might want to increase the number of iterations\n",
      "  ConvergenceWarning)\n"
     ]
    },
    {
     "name": "stdout",
     "output_type": "stream",
     "text": [
      "alpha =  69.4695604905\n",
      "new pixel (lasso):  [213 151 135]\n"
     ]
    },
    {
     "name": "stderr",
     "output_type": "stream",
     "text": [
      "/usr/lib/python3/dist-packages/sklearn/linear_model/coordinate_descent.py:466: ConvergenceWarning: Objective did not converge. You might want to increase the number of iterations\n",
      "  ConvergenceWarning)\n"
     ]
    },
    {
     "name": "stdout",
     "output_type": "stream",
     "text": [
      "alpha =  1.993765625\n",
      "new pixel (lasso):  [193 128 121]\n",
      "alpha =  17.6461597236\n",
      "new pixel (lasso):  [202  99 108]\n"
     ]
    },
    {
     "name": "stderr",
     "output_type": "stream",
     "text": [
      "/usr/lib/python3/dist-packages/sklearn/linear_model/coordinate_descent.py:466: ConvergenceWarning: Objective did not converge. You might want to increase the number of iterations\n",
      "  ConvergenceWarning)\n"
     ]
    },
    {
     "name": "stdout",
     "output_type": "stream",
     "text": [
      "alpha =  5.68173916309\n",
      "new pixel (lasso):  [135  59  99]\n",
      "alpha =  14.8476277823\n",
      "new pixel (lasso):  [197  92  97]\n"
     ]
    },
    {
     "name": "stderr",
     "output_type": "stream",
     "text": [
      "/usr/lib/python3/dist-packages/sklearn/linear_model/coordinate_descent.py:466: ConvergenceWarning: Objective did not converge. You might want to increase the number of iterations\n",
      "  ConvergenceWarning)\n"
     ]
    },
    {
     "name": "stdout",
     "output_type": "stream",
     "text": [
      "alpha =  168.282870537\n",
      "new pixel (lasso):  [90 34 66]\n",
      "alpha =  18.4514358344\n",
      "new pixel (lasso):  [94 26 77]\n"
     ]
    },
    {
     "name": "stderr",
     "output_type": "stream",
     "text": [
      "/usr/lib/python3/dist-packages/sklearn/linear_model/coordinate_descent.py:466: ConvergenceWarning: Objective did not converge. You might want to increase the number of iterations\n",
      "  ConvergenceWarning)\n"
     ]
    },
    {
     "name": "stdout",
     "output_type": "stream",
     "text": [
      "alpha =  84.3639500672\n",
      "new pixel (lasso):  [129  49  68]\n",
      "alpha =  58.65953545\n",
      "new pixel (lasso):  [217 115 107]\n",
      "alpha =  349.18074894\n",
      "new pixel (lasso):  [113  63  76]\n",
      "250  /  499\n",
      "alpha =  3.19448958333\n",
      "new pixel (lasso):  [205  94  94]\n"
     ]
    },
    {
     "name": "stderr",
     "output_type": "stream",
     "text": [
      "/usr/lib/python3/dist-packages/sklearn/linear_model/coordinate_descent.py:466: ConvergenceWarning: Objective did not converge. You might want to increase the number of iterations\n",
      "  ConvergenceWarning)\n"
     ]
    },
    {
     "name": "stdout",
     "output_type": "stream",
     "text": [
      "alpha =  2.77419270833\n",
      "new pixel (lasso):  [192  92  98]\n"
     ]
    },
    {
     "name": "stderr",
     "output_type": "stream",
     "text": [
      "/usr/lib/python3/dist-packages/sklearn/linear_model/coordinate_descent.py:466: ConvergenceWarning: Objective did not converge. You might want to increase the number of iterations\n",
      "  ConvergenceWarning)\n"
     ]
    },
    {
     "name": "stdout",
     "output_type": "stream",
     "text": [
      "alpha =  88.265357252\n",
      "new pixel (lasso):  [198  88 100]\n",
      "alpha =  64.7130465309\n",
      "new pixel (lasso):  [205  97 101]\n",
      "alpha =  11.0021439756\n",
      "new pixel (lasso):  [218 146 140]\n"
     ]
    },
    {
     "name": "stderr",
     "output_type": "stream",
     "text": [
      "/usr/lib/python3/dist-packages/sklearn/linear_model/coordinate_descent.py:466: ConvergenceWarning: Objective did not converge. You might want to increase the number of iterations\n",
      "  ConvergenceWarning)\n"
     ]
    },
    {
     "name": "stdout",
     "output_type": "stream",
     "text": [
      "alpha =  2.38554166667\n",
      "new pixel (lasso):  [104  17  53]\n"
     ]
    },
    {
     "name": "stderr",
     "output_type": "stream",
     "text": [
      "/usr/lib/python3/dist-packages/sklearn/linear_model/coordinate_descent.py:466: ConvergenceWarning: Objective did not converge. You might want to increase the number of iterations\n",
      "  ConvergenceWarning)\n"
     ]
    },
    {
     "name": "stdout",
     "output_type": "stream",
     "text": [
      "alpha =  2.94021875\n",
      "new pixel (lasso):  [230 140 121]\n"
     ]
    },
    {
     "name": "stderr",
     "output_type": "stream",
     "text": [
      "/usr/lib/python3/dist-packages/sklearn/linear_model/coordinate_descent.py:466: ConvergenceWarning: Objective did not converge. You might want to increase the number of iterations\n",
      "  ConvergenceWarning)\n"
     ]
    },
    {
     "name": "stdout",
     "output_type": "stream",
     "text": [
      "alpha =  7.4262612193\n",
      "new pixel (lasso):  [131  50  81]\n",
      "alpha =  57.6903431897\n",
      "new pixel (lasso):  [89 19 62]\n",
      "alpha =  128.852105196\n",
      "new pixel (lasso):  [114  70 104]\n",
      "260  /  499\n",
      "alpha =  46.991766813\n",
      "new pixel (lasso):  [181  83  88]\n"
     ]
    },
    {
     "name": "stderr",
     "output_type": "stream",
     "text": [
      "/usr/lib/python3/dist-packages/sklearn/linear_model/coordinate_descent.py:466: ConvergenceWarning: Objective did not converge. You might want to increase the number of iterations\n",
      "  ConvergenceWarning)\n"
     ]
    },
    {
     "name": "stdout",
     "output_type": "stream",
     "text": [
      "alpha =  79.3120262399\n",
      "new pixel (lasso):  [215 114 116]\n",
      "alpha =  1.61526981939\n",
      "new pixel (lasso):  [229 199 188]\n",
      "alpha =  19.0803067394\n",
      "new pixel (lasso):  [190  82  84]\n"
     ]
    },
    {
     "name": "stderr",
     "output_type": "stream",
     "text": [
      "/usr/lib/python3/dist-packages/sklearn/linear_model/coordinate_descent.py:466: ConvergenceWarning: Objective did not converge. You might want to increase the number of iterations\n",
      "  ConvergenceWarning)\n"
     ]
    },
    {
     "name": "stdout",
     "output_type": "stream",
     "text": [
      "alpha =  3.71592416853\n",
      "new pixel (lasso):  [89 18 59]\n"
     ]
    },
    {
     "name": "stderr",
     "output_type": "stream",
     "text": [
      "/usr/lib/python3/dist-packages/sklearn/linear_model/coordinate_descent.py:466: ConvergenceWarning: Objective did not converge. You might want to increase the number of iterations\n",
      "  ConvergenceWarning)\n"
     ]
    },
    {
     "name": "stdout",
     "output_type": "stream",
     "text": [
      "alpha =  2.90165306122\n",
      "new pixel (lasso):  [220 129 109]\n"
     ]
    },
    {
     "name": "stderr",
     "output_type": "stream",
     "text": [
      "/usr/lib/python3/dist-packages/sklearn/linear_model/coordinate_descent.py:466: ConvergenceWarning: Objective did not converge. You might want to increase the number of iterations\n",
      "  ConvergenceWarning)\n"
     ]
    },
    {
     "name": "stdout",
     "output_type": "stream",
     "text": [
      "alpha =  16.8837304893\n",
      "new pixel (lasso):  [220 156 141]\n",
      "alpha =  80.6464455805\n",
      "new pixel (lasso):  [98 30 64]\n",
      "alpha =  3.19554166667\n",
      "new pixel (lasso):  [190 111 117]\n",
      "alpha =  54.0768898865\n",
      "new pixel (lasso):  [175  63  75]\n",
      "270  /  499\n",
      "alpha =  54.4190096407\n",
      "new pixel (lasso):  [76 13 45]\n",
      "alpha =  30.6959105663\n",
      "new pixel (lasso):  [205  94  93]\n"
     ]
    },
    {
     "name": "stderr",
     "output_type": "stream",
     "text": [
      "/usr/lib/python3/dist-packages/sklearn/linear_model/coordinate_descent.py:466: ConvergenceWarning: Objective did not converge. You might want to increase the number of iterations\n",
      "  ConvergenceWarning)\n"
     ]
    },
    {
     "name": "stdout",
     "output_type": "stream",
     "text": [
      "alpha =  3.27744270833\n",
      "new pixel (lasso):  [212 100  96]\n"
     ]
    },
    {
     "name": "stderr",
     "output_type": "stream",
     "text": [
      "/usr/lib/python3/dist-packages/sklearn/linear_model/coordinate_descent.py:466: ConvergenceWarning: Objective did not converge. You might want to increase the number of iterations\n",
      "  ConvergenceWarning)\n"
     ]
    },
    {
     "name": "stdout",
     "output_type": "stream",
     "text": [
      "alpha =  3.088703125\n",
      "new pixel (lasso):  [216 107 111]\n"
     ]
    },
    {
     "name": "stderr",
     "output_type": "stream",
     "text": [
      "/usr/lib/python3/dist-packages/sklearn/linear_model/coordinate_descent.py:466: ConvergenceWarning: Objective did not converge. You might want to increase the number of iterations\n",
      "  ConvergenceWarning)\n"
     ]
    },
    {
     "name": "stdout",
     "output_type": "stream",
     "text": [
      "alpha =  34.0869518312\n",
      "new pixel (lasso):  [239 182 166]\n",
      "alpha =  138.612525653\n",
      "new pixel (lasso):  [207 144 143]\n",
      "alpha =  105.406101814\n",
      "new pixel (lasso):  [149 116 153]\n",
      "alpha =  4.13378006489\n",
      "new pixel (lasso):  [221 109 101]\n"
     ]
    },
    {
     "name": "stderr",
     "output_type": "stream",
     "text": [
      "/usr/lib/python3/dist-packages/sklearn/linear_model/coordinate_descent.py:466: ConvergenceWarning: Objective did not converge. You might want to increase the number of iterations\n",
      "  ConvergenceWarning)\n"
     ]
    },
    {
     "name": "stdout",
     "output_type": "stream",
     "text": [
      "alpha =  52.4160017784\n",
      "new pixel (lasso):  [82 14 58]\n",
      "alpha =  134.669184952\n",
      "new pixel (lasso):  [172  74  85]\n",
      "280  /  499\n",
      "alpha =  98.0743960727\n",
      "new pixel (lasso):  [203 106 120]\n",
      "alpha =  98.9868213136\n",
      "new pixel (lasso):  [207 135 128]\n"
     ]
    },
    {
     "name": "stderr",
     "output_type": "stream",
     "text": [
      "/usr/lib/python3/dist-packages/sklearn/linear_model/coordinate_descent.py:466: ConvergenceWarning: Objective did not converge. You might want to increase the number of iterations\n",
      "  ConvergenceWarning)\n"
     ]
    },
    {
     "name": "stdout",
     "output_type": "stream",
     "text": [
      "alpha =  174.463962454\n",
      "new pixel (lasso):  [169  66  70]\n",
      "alpha =  2.56238095238\n",
      "new pixel (lasso):  [205 115 112]\n"
     ]
    },
    {
     "name": "stderr",
     "output_type": "stream",
     "text": [
      "/usr/lib/python3/dist-packages/sklearn/linear_model/coordinate_descent.py:466: ConvergenceWarning: Objective did not converge. You might want to increase the number of iterations\n",
      "  ConvergenceWarning)\n"
     ]
    },
    {
     "name": "stdout",
     "output_type": "stream",
     "text": [
      "alpha =  4.02048919114\n",
      "new pixel (lasso):  [114  29  64]\n",
      "alpha =  45.2293315462\n",
      "new pixel (lasso):  [187 121 120]\n",
      "alpha =  2.28163265306\n",
      "new pixel (lasso):  [149  76  88]\n",
      "alpha =  18.7783737177\n",
      "new pixel (lasso):  [170  60  70]\n"
     ]
    },
    {
     "name": "stderr",
     "output_type": "stream",
     "text": [
      "/usr/lib/python3/dist-packages/sklearn/linear_model/coordinate_descent.py:466: ConvergenceWarning: Objective did not converge. You might want to increase the number of iterations\n",
      "  ConvergenceWarning)\n"
     ]
    },
    {
     "name": "stdout",
     "output_type": "stream",
     "text": [
      "alpha =  30.4755996867\n",
      "new pixel (lasso):  [98 31 65]\n",
      "alpha =  2.76917209841\n",
      "new pixel (lasso):  [102  33  89]\n",
      "290  /  499\n",
      "alpha =  14.6184089183\n",
      "new pixel (lasso):  [226 181 164]\n",
      "alpha =  22.9799769215\n",
      "new pixel (lasso):  [208 111 108]\n",
      "alpha =  42.8781104427\n",
      "new pixel (lasso):  [95 24 56]\n"
     ]
    },
    {
     "name": "stderr",
     "output_type": "stream",
     "text": [
      "/usr/lib/python3/dist-packages/sklearn/linear_model/coordinate_descent.py:466: ConvergenceWarning: Objective did not converge. You might want to increase the number of iterations\n",
      "  ConvergenceWarning)\n"
     ]
    },
    {
     "name": "stdout",
     "output_type": "stream",
     "text": [
      "alpha =  101.248383482\n",
      "new pixel (lasso):  [146  66  76]\n",
      "alpha =  118.308163117\n",
      "new pixel (lasso):  [136  55  73]\n",
      "alpha =  2.81786458333\n",
      "new pixel (lasso):  [188  86  93]\n"
     ]
    },
    {
     "name": "stderr",
     "output_type": "stream",
     "text": [
      "/usr/lib/python3/dist-packages/sklearn/linear_model/coordinate_descent.py:466: ConvergenceWarning: Objective did not converge. You might want to increase the number of iterations\n",
      "  ConvergenceWarning)\n"
     ]
    },
    {
     "name": "stdout",
     "output_type": "stream",
     "text": [
      "alpha =  18.3239002268\n",
      "new pixel (lasso):  [100  28  57]\n"
     ]
    },
    {
     "name": "stderr",
     "output_type": "stream",
     "text": [
      "/usr/lib/python3/dist-packages/sklearn/linear_model/coordinate_descent.py:466: ConvergenceWarning: Objective did not converge. You might want to increase the number of iterations\n",
      "  ConvergenceWarning)\n"
     ]
    },
    {
     "name": "stdout",
     "output_type": "stream",
     "text": [
      "alpha =  5.02758682698\n",
      "new pixel (lasso):  [190 117 121]\n"
     ]
    },
    {
     "name": "stderr",
     "output_type": "stream",
     "text": [
      "/usr/lib/python3/dist-packages/sklearn/linear_model/coordinate_descent.py:466: ConvergenceWarning: Objective did not converge. You might want to increase the number of iterations\n",
      "  ConvergenceWarning)\n"
     ]
    },
    {
     "name": "stdout",
     "output_type": "stream",
     "text": [
      "alpha =  3.50246938776\n",
      "new pixel (lasso):  [209  89  86]\n"
     ]
    },
    {
     "name": "stderr",
     "output_type": "stream",
     "text": [
      "/usr/lib/python3/dist-packages/sklearn/linear_model/coordinate_descent.py:466: ConvergenceWarning: Objective did not converge. You might want to increase the number of iterations\n",
      "  ConvergenceWarning)\n"
     ]
    },
    {
     "name": "stdout",
     "output_type": "stream",
     "text": [
      "alpha =  75.3125001819\n",
      "new pixel (lasso):  [129  80 121]\n",
      "300  /  499\n",
      "alpha =  2.87941269841\n",
      "new pixel (lasso):  [176  70  82]\n"
     ]
    },
    {
     "name": "stderr",
     "output_type": "stream",
     "text": [
      "/usr/lib/python3/dist-packages/sklearn/linear_model/coordinate_descent.py:466: ConvergenceWarning: Objective did not converge. You might want to increase the number of iterations\n",
      "  ConvergenceWarning)\n"
     ]
    },
    {
     "name": "stdout",
     "output_type": "stream",
     "text": [
      "alpha =  4.62881165665\n",
      "new pixel (lasso):  [183  67  79]\n"
     ]
    },
    {
     "name": "stderr",
     "output_type": "stream",
     "text": [
      "/usr/lib/python3/dist-packages/sklearn/linear_model/coordinate_descent.py:466: ConvergenceWarning: Objective did not converge. You might want to increase the number of iterations\n",
      "  ConvergenceWarning)\n"
     ]
    },
    {
     "name": "stdout",
     "output_type": "stream",
     "text": [
      "alpha =  5.70947563927\n",
      "new pixel (lasso):  [242 147 114]\n"
     ]
    },
    {
     "name": "stderr",
     "output_type": "stream",
     "text": [
      "/usr/lib/python3/dist-packages/sklearn/linear_model/coordinate_descent.py:466: ConvergenceWarning: Objective did not converge. You might want to increase the number of iterations\n",
      "  ConvergenceWarning)\n"
     ]
    },
    {
     "name": "stdout",
     "output_type": "stream",
     "text": [
      "alpha =  18.7292010061\n",
      "new pixel (lasso):  [109  28  61]\n",
      "alpha =  2.40061979167\n",
      "new pixel (lasso):  [153  51  88]\n",
      "alpha =  99.9118751699\n",
      "new pixel (lasso):  [220 123 121]\n",
      "alpha =  2074.10630917\n",
      "new pixel (lasso):  [195 182 183]\n",
      "alpha =  2.71505363624\n",
      "new pixel (lasso):  [106  33  72]\n"
     ]
    },
    {
     "name": "stderr",
     "output_type": "stream",
     "text": [
      "/usr/lib/python3/dist-packages/sklearn/linear_model/coordinate_descent.py:466: ConvergenceWarning: Objective did not converge. You might want to increase the number of iterations\n",
      "  ConvergenceWarning)\n"
     ]
    },
    {
     "name": "stdout",
     "output_type": "stream",
     "text": [
      "alpha =  18.1011039198\n",
      "new pixel (lasso):  [253 177 165]\n",
      "alpha =  173.061453254\n",
      "new pixel (lasso):  [198 129 127]\n",
      "310  /  499\n",
      "alpha =  9.72413471434\n",
      "new pixel (lasso):  [91 21 59]\n"
     ]
    },
    {
     "name": "stderr",
     "output_type": "stream",
     "text": [
      "/usr/lib/python3/dist-packages/sklearn/linear_model/coordinate_descent.py:466: ConvergenceWarning: Objective did not converge. You might want to increase the number of iterations\n",
      "  ConvergenceWarning)\n"
     ]
    },
    {
     "name": "stdout",
     "output_type": "stream",
     "text": [
      "alpha =  4.23269278512\n",
      "new pixel (lasso):  [130  51  70]\n",
      "alpha =  12.183486799\n",
      "new pixel (lasso):  [172  66  80]\n"
     ]
    },
    {
     "name": "stderr",
     "output_type": "stream",
     "text": [
      "/usr/lib/python3/dist-packages/sklearn/linear_model/coordinate_descent.py:466: ConvergenceWarning: Objective did not converge. You might want to increase the number of iterations\n",
      "  ConvergenceWarning)\n"
     ]
    },
    {
     "name": "stdout",
     "output_type": "stream",
     "text": [
      "alpha =  50.7659804905\n",
      "new pixel (lasso):  [88 22 61]\n",
      "alpha =  223.421006944\n",
      "new pixel (lasso):  [227 192 184]\n",
      "alpha =  6.598437606\n",
      "new pixel (lasso):  [151  51  68]\n",
      "alpha =  6.74066618945\n",
      "new pixel (lasso):  [147  99 152]\n",
      "alpha =  29.9562797612\n",
      "new pixel (lasso):  [246 181 144]\n",
      "alpha =  21.4876238497\n",
      "new pixel (lasso):  [236 157 122]\n",
      "alpha =  2.93937614555\n",
      "new pixel (lasso):  [235 202 185]\n",
      "320  /  499\n",
      "alpha =  53.1773140096\n",
      "new pixel (lasso):  [92 25 55]\n"
     ]
    },
    {
     "name": "stderr",
     "output_type": "stream",
     "text": [
      "/usr/lib/python3/dist-packages/sklearn/linear_model/coordinate_descent.py:466: ConvergenceWarning: Objective did not converge. You might want to increase the number of iterations\n",
      "  ConvergenceWarning)\n"
     ]
    },
    {
     "name": "stdout",
     "output_type": "stream",
     "text": [
      "alpha =  6.02248952831\n",
      "new pixel (lasso):  [224 107  96]\n",
      "alpha =  6.62025947347\n",
      "new pixel (lasso):  [237 206 172]\n"
     ]
    },
    {
     "name": "stderr",
     "output_type": "stream",
     "text": [
      "/usr/lib/python3/dist-packages/sklearn/linear_model/coordinate_descent.py:466: ConvergenceWarning: Objective did not converge. You might want to increase the number of iterations\n",
      "  ConvergenceWarning)\n"
     ]
    },
    {
     "name": "stdout",
     "output_type": "stream",
     "text": [
      "alpha =  74.8805610879\n",
      "new pixel (lasso):  [102  39  86]\n",
      "alpha =  66.2163257778\n",
      "new pixel (lasso):  [180  71  78]\n",
      "alpha =  39.2520046901\n",
      "new pixel (lasso):  [114  30  64]\n",
      "alpha =  21.1025872\n",
      "new pixel (lasso):  [88 15 56]\n",
      "alpha =  6.07274948352\n",
      "new pixel (lasso):  [218 116 104]\n"
     ]
    },
    {
     "name": "stderr",
     "output_type": "stream",
     "text": [
      "/usr/lib/python3/dist-packages/sklearn/linear_model/coordinate_descent.py:466: ConvergenceWarning: Objective did not converge. You might want to increase the number of iterations\n",
      "  ConvergenceWarning)\n"
     ]
    },
    {
     "name": "stdout",
     "output_type": "stream",
     "text": [
      "alpha =  80.2835303621\n",
      "new pixel (lasso):  [244 185 173]\n",
      "alpha =  61.5187614398\n",
      "new pixel (lasso):  [159  81  93]\n",
      "330  /  499\n",
      "alpha =  6.75824013569\n",
      "new pixel (lasso):  [142  50  73]\n"
     ]
    },
    {
     "name": "stderr",
     "output_type": "stream",
     "text": [
      "/usr/lib/python3/dist-packages/sklearn/linear_model/coordinate_descent.py:466: ConvergenceWarning: Objective did not converge. You might want to increase the number of iterations\n",
      "  ConvergenceWarning)\n"
     ]
    },
    {
     "name": "stdout",
     "output_type": "stream",
     "text": [
      "alpha =  24.3189223189\n",
      "new pixel (lasso):  [217 152 148]\n",
      "alpha =  2.49180145558\n",
      "new pixel (lasso):  [88 20 63]\n",
      "alpha =  3.09473196947\n",
      "new pixel (lasso):  [193 123 126]\n"
     ]
    },
    {
     "name": "stderr",
     "output_type": "stream",
     "text": [
      "/usr/lib/python3/dist-packages/sklearn/linear_model/coordinate_descent.py:466: ConvergenceWarning: Objective did not converge. You might want to increase the number of iterations\n",
      "  ConvergenceWarning)\n"
     ]
    },
    {
     "name": "stdout",
     "output_type": "stream",
     "text": [
      "alpha =  28.030625\n",
      "new pixel (lasso):  [197  94 103]\n"
     ]
    },
    {
     "name": "stderr",
     "output_type": "stream",
     "text": [
      "/usr/lib/python3/dist-packages/sklearn/linear_model/coordinate_descent.py:466: ConvergenceWarning: Objective did not converge. You might want to increase the number of iterations\n",
      "  ConvergenceWarning)\n"
     ]
    },
    {
     "name": "stdout",
     "output_type": "stream",
     "text": [
      "alpha =  24.3799856653\n",
      "new pixel (lasso):  [200  92  91]\n"
     ]
    },
    {
     "name": "stderr",
     "output_type": "stream",
     "text": [
      "/usr/lib/python3/dist-packages/sklearn/linear_model/coordinate_descent.py:466: ConvergenceWarning: Objective did not converge. You might want to increase the number of iterations\n",
      "  ConvergenceWarning)\n"
     ]
    },
    {
     "name": "stdout",
     "output_type": "stream",
     "text": [
      "alpha =  32.4987198394\n",
      "new pixel (lasso):  [233 155 123]\n",
      "alpha =  17.1775541835\n",
      "new pixel (lasso):  [205 143 127]\n",
      "alpha =  2.77834013605\n",
      "new pixel (lasso):  [239 176 143]\n",
      "alpha =  6.89780664594\n",
      "new pixel (lasso):  [185  79  85]\n",
      "340  /  499\n"
     ]
    },
    {
     "name": "stderr",
     "output_type": "stream",
     "text": [
      "/usr/lib/python3/dist-packages/sklearn/linear_model/coordinate_descent.py:466: ConvergenceWarning: Objective did not converge. You might want to increase the number of iterations\n",
      "  ConvergenceWarning)\n"
     ]
    },
    {
     "name": "stdout",
     "output_type": "stream",
     "text": [
      "alpha =  8.38074148039\n",
      "new pixel (lasso):  [220 186 171]\n",
      "alpha =  83.2666318549\n",
      "new pixel (lasso):  [211 137 128]\n",
      "alpha =  44.5628917233\n",
      "new pixel (lasso):  [100  25  56]\n",
      "alpha =  20.6655934699\n",
      "new pixel (lasso):  [99 26 60]\n",
      "alpha =  9.28980359611\n",
      "new pixel (lasso):  [134  83 127]\n",
      "alpha =  39.4115984418\n",
      "new pixel (lasso):  [181 122 123]\n",
      "alpha =  7.8258841808\n",
      "new pixel (lasso):  [93 30 71]\n"
     ]
    },
    {
     "name": "stderr",
     "output_type": "stream",
     "text": [
      "/usr/lib/python3/dist-packages/sklearn/linear_model/coordinate_descent.py:466: ConvergenceWarning: Objective did not converge. You might want to increase the number of iterations\n",
      "  ConvergenceWarning)\n"
     ]
    },
    {
     "name": "stdout",
     "output_type": "stream",
     "text": [
      "alpha =  16.2715524418\n",
      "new pixel (lasso):  [151  77 107]\n",
      "alpha =  39.8365588068\n",
      "new pixel (lasso):  [176  70  86]\n",
      "alpha =  309.120267223\n",
      "new pixel (lasso):  [197 120 123]\n",
      "350  /  499\n",
      "alpha =  8.03415282224\n",
      "new pixel (lasso):  [219 183 173]\n",
      "alpha =  897.634338106\n",
      "new pixel (lasso):  [205 147 150]\n",
      "alpha =  195.485820708\n",
      "new pixel (lasso):  [172  78  85]\n",
      "alpha =  2.06179166667\n",
      "new pixel (lasso):  [132  48  69]\n"
     ]
    },
    {
     "name": "stderr",
     "output_type": "stream",
     "text": [
      "/usr/lib/python3/dist-packages/sklearn/linear_model/coordinate_descent.py:466: ConvergenceWarning: Objective did not converge. You might want to increase the number of iterations\n",
      "  ConvergenceWarning)\n"
     ]
    },
    {
     "name": "stdout",
     "output_type": "stream",
     "text": [
      "alpha =  8.09275951307\n",
      "new pixel (lasso):  [250 189 154]\n",
      "alpha =  15.327989749\n",
      "new pixel (lasso):  [225 194 183]\n",
      "alpha =  10.7873592272\n",
      "new pixel (lasso):  [186 121 117]\n",
      "alpha =  19.8952421852\n",
      "new pixel (lasso):  [203 133 119]\n"
     ]
    },
    {
     "name": "stderr",
     "output_type": "stream",
     "text": [
      "/usr/lib/python3/dist-packages/sklearn/linear_model/coordinate_descent.py:466: ConvergenceWarning: Objective did not converge. You might want to increase the number of iterations\n",
      "  ConvergenceWarning)\n"
     ]
    },
    {
     "name": "stdout",
     "output_type": "stream",
     "text": [
      "alpha =  11.167777462\n",
      "new pixel (lasso):  [181  81  90]\n"
     ]
    },
    {
     "name": "stderr",
     "output_type": "stream",
     "text": [
      "/usr/lib/python3/dist-packages/sklearn/linear_model/coordinate_descent.py:466: ConvergenceWarning: Objective did not converge. You might want to increase the number of iterations\n",
      "  ConvergenceWarning)\n"
     ]
    },
    {
     "name": "stdout",
     "output_type": "stream",
     "text": [
      "alpha =  3.07719270833\n",
      "new pixel (lasso):  [222 121 106]\n",
      "360  /  499\n"
     ]
    },
    {
     "name": "stderr",
     "output_type": "stream",
     "text": [
      "/usr/lib/python3/dist-packages/sklearn/linear_model/coordinate_descent.py:466: ConvergenceWarning: Objective did not converge. You might want to increase the number of iterations\n",
      "  ConvergenceWarning)\n"
     ]
    },
    {
     "name": "stdout",
     "output_type": "stream",
     "text": [
      "alpha =  7.34102545214\n",
      "new pixel (lasso):  [185  86  92]\n"
     ]
    },
    {
     "name": "stderr",
     "output_type": "stream",
     "text": [
      "/usr/lib/python3/dist-packages/sklearn/linear_model/coordinate_descent.py:466: ConvergenceWarning: Objective did not converge. You might want to increase the number of iterations\n",
      "  ConvergenceWarning)\n"
     ]
    },
    {
     "name": "stdout",
     "output_type": "stream",
     "text": [
      "alpha =  3.11243537415\n",
      "new pixel (lasso):  [215 113  98]\n"
     ]
    },
    {
     "name": "stderr",
     "output_type": "stream",
     "text": [
      "/usr/lib/python3/dist-packages/sklearn/linear_model/coordinate_descent.py:466: ConvergenceWarning: Objective did not converge. You might want to increase the number of iterations\n",
      "  ConvergenceWarning)\n"
     ]
    },
    {
     "name": "stdout",
     "output_type": "stream",
     "text": [
      "alpha =  10.3536355446\n",
      "new pixel (lasso):  [184  73  79]\n",
      "alpha =  29.0018740731\n",
      "new pixel (lasso):  [204 137 123]\n"
     ]
    },
    {
     "name": "stderr",
     "output_type": "stream",
     "text": [
      "/usr/lib/python3/dist-packages/sklearn/linear_model/coordinate_descent.py:466: ConvergenceWarning: Objective did not converge. You might want to increase the number of iterations\n",
      "  ConvergenceWarning)\n"
     ]
    },
    {
     "name": "stdout",
     "output_type": "stream",
     "text": [
      "alpha =  31.2626427146\n",
      "new pixel (lasso):  [88 21 61]\n",
      "alpha =  2.62572395833\n",
      "new pixel (lasso):  [141  46  68]\n"
     ]
    },
    {
     "name": "stderr",
     "output_type": "stream",
     "text": [
      "/usr/lib/python3/dist-packages/sklearn/linear_model/coordinate_descent.py:466: ConvergenceWarning: Objective did not converge. You might want to increase the number of iterations\n",
      "  ConvergenceWarning)\n"
     ]
    },
    {
     "name": "stdout",
     "output_type": "stream",
     "text": [
      "alpha =  3.03893229167\n",
      "new pixel (lasso):  [225 133 108]\n"
     ]
    },
    {
     "name": "stderr",
     "output_type": "stream",
     "text": [
      "/usr/lib/python3/dist-packages/sklearn/linear_model/coordinate_descent.py:466: ConvergenceWarning: Objective did not converge. You might want to increase the number of iterations\n",
      "  ConvergenceWarning)\n"
     ]
    },
    {
     "name": "stdout",
     "output_type": "stream",
     "text": [
      "alpha =  7.53776267284\n",
      "new pixel (lasso):  [109  47  94]\n",
      "alpha =  8.89442489699\n",
      "new pixel (lasso):  [221 110 105]\n"
     ]
    },
    {
     "name": "stderr",
     "output_type": "stream",
     "text": [
      "/usr/lib/python3/dist-packages/sklearn/linear_model/coordinate_descent.py:466: ConvergenceWarning: Objective did not converge. You might want to increase the number of iterations\n",
      "  ConvergenceWarning)\n"
     ]
    },
    {
     "name": "stdout",
     "output_type": "stream",
     "text": [
      "alpha =  3.32004513889\n",
      "new pixel (lasso):  [133  48  89]\n",
      "370  /  499\n",
      "alpha =  3.14849479167\n",
      "new pixel (lasso):  [187  73  81]\n"
     ]
    },
    {
     "name": "stderr",
     "output_type": "stream",
     "text": [
      "/usr/lib/python3/dist-packages/sklearn/linear_model/coordinate_descent.py:466: ConvergenceWarning: Objective did not converge. You might want to increase the number of iterations\n",
      "  ConvergenceWarning)\n"
     ]
    },
    {
     "name": "stdout",
     "output_type": "stream",
     "text": [
      "alpha =  3.29800347222\n",
      "new pixel (lasso):  [175  60  74]\n"
     ]
    },
    {
     "name": "stderr",
     "output_type": "stream",
     "text": [
      "/usr/lib/python3/dist-packages/sklearn/linear_model/coordinate_descent.py:466: ConvergenceWarning: Objective did not converge. You might want to increase the number of iterations\n",
      "  ConvergenceWarning)\n"
     ]
    },
    {
     "name": "stdout",
     "output_type": "stream",
     "text": [
      "alpha =  16.7581325144\n",
      "new pixel (lasso):  [221 130 113]\n"
     ]
    },
    {
     "name": "stderr",
     "output_type": "stream",
     "text": [
      "/usr/lib/python3/dist-packages/sklearn/linear_model/coordinate_descent.py:466: ConvergenceWarning: Objective did not converge. You might want to increase the number of iterations\n",
      "  ConvergenceWarning)\n"
     ]
    },
    {
     "name": "stdout",
     "output_type": "stream",
     "text": [
      "alpha =  39.8444273054\n",
      "new pixel (lasso):  [181  85  90]\n",
      "alpha =  2.83749479167\n",
      "new pixel (lasso):  [172  65  79]\n"
     ]
    },
    {
     "name": "stderr",
     "output_type": "stream",
     "text": [
      "/usr/lib/python3/dist-packages/sklearn/linear_model/coordinate_descent.py:466: ConvergenceWarning: Objective did not converge. You might want to increase the number of iterations\n",
      "  ConvergenceWarning)\n"
     ]
    },
    {
     "name": "stdout",
     "output_type": "stream",
     "text": [
      "alpha =  47.4797095085\n",
      "new pixel (lasso):  [152  54  68]\n",
      "alpha =  19.9489967716\n",
      "new pixel (lasso):  [244 163 129]\n",
      "alpha =  431.89607449\n",
      "new pixel (lasso):  [221 113 123]\n",
      "alpha =  150.096561441\n",
      "new pixel (lasso):  [126  72 115]\n",
      "alpha =  10.3666290082\n",
      "new pixel (lasso):  [177  72  79]\n",
      "380  /  499\n"
     ]
    },
    {
     "name": "stderr",
     "output_type": "stream",
     "text": [
      "/usr/lib/python3/dist-packages/sklearn/linear_model/coordinate_descent.py:466: ConvergenceWarning: Objective did not converge. You might want to increase the number of iterations\n",
      "  ConvergenceWarning)\n"
     ]
    },
    {
     "name": "stdout",
     "output_type": "stream",
     "text": [
      "alpha =  90.98177198\n",
      "new pixel (lasso):  [111  40  76]\n",
      "alpha =  28.0388939979\n",
      "new pixel (lasso):  [202 139 129]\n"
     ]
    },
    {
     "name": "stderr",
     "output_type": "stream",
     "text": [
      "/usr/lib/python3/dist-packages/sklearn/linear_model/coordinate_descent.py:466: ConvergenceWarning: Objective did not converge. You might want to increase the number of iterations\n",
      "  ConvergenceWarning)\n"
     ]
    },
    {
     "name": "stdout",
     "output_type": "stream",
     "text": [
      "alpha =  69.1100226047\n",
      "new pixel (lasso):  [150  69  80]\n",
      "alpha =  10.5054870038\n",
      "new pixel (lasso):  [212 157 151]\n",
      "alpha =  238.581815296\n",
      "new pixel (lasso):  [136  62  77]\n",
      "alpha =  19.2140488749\n",
      "new pixel (lasso):  [240 136 137]\n",
      "alpha =  24.0727118376\n",
      "new pixel (lasso):  [234 145 112]\n"
     ]
    },
    {
     "name": "stderr",
     "output_type": "stream",
     "text": [
      "/usr/lib/python3/dist-packages/sklearn/linear_model/coordinate_descent.py:466: ConvergenceWarning: Objective did not converge. You might want to increase the number of iterations\n",
      "  ConvergenceWarning)\n"
     ]
    },
    {
     "name": "stdout",
     "output_type": "stream",
     "text": [
      "alpha =  38.8585014245\n",
      "new pixel (lasso):  [185  76  79]\n",
      "alpha =  3.57117361111\n",
      "new pixel (lasso):  [225 169 175]\n",
      "alpha =  2.30665104167\n",
      "new pixel (lasso):  [209 132 127]\n",
      "390  /  499\n"
     ]
    },
    {
     "name": "stderr",
     "output_type": "stream",
     "text": [
      "/usr/lib/python3/dist-packages/sklearn/linear_model/coordinate_descent.py:466: ConvergenceWarning: Objective did not converge. You might want to increase the number of iterations\n",
      "  ConvergenceWarning)\n"
     ]
    },
    {
     "name": "stdout",
     "output_type": "stream",
     "text": [
      "alpha =  153.167081007\n",
      "new pixel (lasso):  [207 169 169]\n",
      "alpha =  28.1911523532\n",
      "new pixel (lasso):  [202 132 127]\n"
     ]
    },
    {
     "name": "stderr",
     "output_type": "stream",
     "text": [
      "/usr/lib/python3/dist-packages/sklearn/linear_model/coordinate_descent.py:466: ConvergenceWarning: Objective did not converge. You might want to increase the number of iterations\n",
      "  ConvergenceWarning)\n"
     ]
    },
    {
     "name": "stdout",
     "output_type": "stream",
     "text": [
      "alpha =  24.705363033\n",
      "new pixel (lasso):  [235 200 162]\n",
      "alpha =  8.2409994546\n",
      "new pixel (lasso):  [236 151 121]\n"
     ]
    },
    {
     "name": "stderr",
     "output_type": "stream",
     "text": [
      "/usr/lib/python3/dist-packages/sklearn/linear_model/coordinate_descent.py:466: ConvergenceWarning: Objective did not converge. You might want to increase the number of iterations\n",
      "  ConvergenceWarning)\n"
     ]
    },
    {
     "name": "stdout",
     "output_type": "stream",
     "text": [
      "alpha =  35.5949715324\n",
      "new pixel (lasso):  [210  98  99]\n"
     ]
    },
    {
     "name": "stderr",
     "output_type": "stream",
     "text": [
      "/usr/lib/python3/dist-packages/sklearn/linear_model/coordinate_descent.py:466: ConvergenceWarning: Objective did not converge. You might want to increase the number of iterations\n",
      "  ConvergenceWarning)\n"
     ]
    },
    {
     "name": "stdout",
     "output_type": "stream",
     "text": [
      "alpha =  15.6817158515\n",
      "new pixel (lasso):  [161  88 110]\n",
      "alpha =  28.2268633196\n",
      "new pixel (lasso):  [120  61 108]\n",
      "alpha =  126.736435775\n",
      "new pixel (lasso):  [202 135 126]\n",
      "alpha =  4.07144103507\n",
      "new pixel (lasso):  [218 109 114]\n"
     ]
    },
    {
     "name": "stderr",
     "output_type": "stream",
     "text": [
      "/usr/lib/python3/dist-packages/sklearn/linear_model/coordinate_descent.py:466: ConvergenceWarning: Objective did not converge. You might want to increase the number of iterations\n",
      "  ConvergenceWarning)\n"
     ]
    },
    {
     "name": "stdout",
     "output_type": "stream",
     "text": [
      "alpha =  5.07104869736\n",
      "new pixel (lasso):  [87 18 59]\n",
      "400  /  499\n"
     ]
    },
    {
     "name": "stderr",
     "output_type": "stream",
     "text": [
      "/usr/lib/python3/dist-packages/sklearn/linear_model/coordinate_descent.py:466: ConvergenceWarning: Objective did not converge. You might want to increase the number of iterations\n",
      "  ConvergenceWarning)\n"
     ]
    },
    {
     "name": "stdout",
     "output_type": "stream",
     "text": [
      "alpha =  89.9830801646\n",
      "new pixel (lasso):  [92 29 72]\n",
      "alpha =  9.79691202241\n",
      "new pixel (lasso):  [222 129 127]\n"
     ]
    },
    {
     "name": "stderr",
     "output_type": "stream",
     "text": [
      "/usr/lib/python3/dist-packages/sklearn/linear_model/coordinate_descent.py:466: ConvergenceWarning: Objective did not converge. You might want to increase the number of iterations\n",
      "  ConvergenceWarning)\n"
     ]
    },
    {
     "name": "stdout",
     "output_type": "stream",
     "text": [
      "alpha =  5.99016939157\n",
      "new pixel (lasso):  [139  67  88]\n"
     ]
    },
    {
     "name": "stderr",
     "output_type": "stream",
     "text": [
      "/usr/lib/python3/dist-packages/sklearn/linear_model/coordinate_descent.py:466: ConvergenceWarning: Objective did not converge. You might want to increase the number of iterations\n",
      "  ConvergenceWarning)\n"
     ]
    },
    {
     "name": "stdout",
     "output_type": "stream",
     "text": [
      "alpha =  249.160458417\n",
      "new pixel (lasso):  [159 115 144]\n",
      "alpha =  23.436875\n",
      "new pixel (lasso):  [199 120 123]\n"
     ]
    },
    {
     "name": "stderr",
     "output_type": "stream",
     "text": [
      "/usr/lib/python3/dist-packages/sklearn/linear_model/coordinate_descent.py:466: ConvergenceWarning: Objective did not converge. You might want to increase the number of iterations\n",
      "  ConvergenceWarning)\n"
     ]
    },
    {
     "name": "stdout",
     "output_type": "stream",
     "text": [
      "alpha =  27.3789847601\n",
      "new pixel (lasso):  [192 123 120]\n"
     ]
    },
    {
     "name": "stderr",
     "output_type": "stream",
     "text": [
      "/usr/lib/python3/dist-packages/sklearn/linear_model/coordinate_descent.py:466: ConvergenceWarning: Objective did not converge. You might want to increase the number of iterations\n",
      "  ConvergenceWarning)\n"
     ]
    },
    {
     "name": "stdout",
     "output_type": "stream",
     "text": [
      "alpha =  8.13692747724\n",
      "new pixel (lasso):  [171  70  80]\n"
     ]
    },
    {
     "name": "stderr",
     "output_type": "stream",
     "text": [
      "/usr/lib/python3/dist-packages/sklearn/linear_model/coordinate_descent.py:466: ConvergenceWarning: Objective did not converge. You might want to increase the number of iterations\n",
      "  ConvergenceWarning)\n"
     ]
    },
    {
     "name": "stdout",
     "output_type": "stream",
     "text": [
      "alpha =  2.08083982172\n",
      "new pixel (lasso):  [102  32  69]\n"
     ]
    },
    {
     "name": "stderr",
     "output_type": "stream",
     "text": [
      "/usr/lib/python3/dist-packages/sklearn/linear_model/coordinate_descent.py:466: ConvergenceWarning: Objective did not converge. You might want to increase the number of iterations\n",
      "  ConvergenceWarning)\n"
     ]
    },
    {
     "name": "stdout",
     "output_type": "stream",
     "text": [
      "alpha =  56.5229480213\n",
      "new pixel (lasso):  [92 32 72]\n",
      "alpha =  15.586499765\n",
      "new pixel (lasso):  [230 130 118]\n",
      "410  /  499\n"
     ]
    },
    {
     "name": "stderr",
     "output_type": "stream",
     "text": [
      "/usr/lib/python3/dist-packages/sklearn/linear_model/coordinate_descent.py:466: ConvergenceWarning: Objective did not converge. You might want to increase the number of iterations\n",
      "  ConvergenceWarning)\n"
     ]
    },
    {
     "name": "stdout",
     "output_type": "stream",
     "text": [
      "alpha =  4.51402118712\n",
      "new pixel (lasso):  [90 12 51]\n",
      "alpha =  38.1177405459\n",
      "new pixel (lasso):  [177 108 107]\n",
      "alpha =  58.067747636\n",
      "new pixel (lasso):  [179  71  76]\n"
     ]
    },
    {
     "name": "stderr",
     "output_type": "stream",
     "text": [
      "/usr/lib/python3/dist-packages/sklearn/linear_model/coordinate_descent.py:466: ConvergenceWarning: Objective did not converge. You might want to increase the number of iterations\n",
      "  ConvergenceWarning)\n"
     ]
    },
    {
     "name": "stdout",
     "output_type": "stream",
     "text": [
      "alpha =  63.34921124\n",
      "new pixel (lasso):  [90 28 62]\n",
      "alpha =  1.20204166667\n",
      "new pixel (lasso):  [101  41  83]\n",
      "alpha =  100.113403811\n",
      "new pixel (lasso):  [215 178 164]\n",
      "alpha =  2.18645804989\n",
      "new pixel (lasso):  [212 144 129]\n"
     ]
    },
    {
     "name": "stderr",
     "output_type": "stream",
     "text": [
      "/usr/lib/python3/dist-packages/sklearn/linear_model/coordinate_descent.py:466: ConvergenceWarning: Objective did not converge. You might want to increase the number of iterations\n",
      "  ConvergenceWarning)\n"
     ]
    },
    {
     "name": "stdout",
     "output_type": "stream",
     "text": [
      "alpha =  22.0207543837\n",
      "new pixel (lasso):  [114  56 107]\n",
      "alpha =  4.44624656773\n",
      "new pixel (lasso):  [226 196 187]\n",
      "alpha =  31.8829847982\n",
      "new pixel (lasso):  [234 184 142]\n",
      "420  /  499\n",
      "alpha =  68.0962964353\n",
      "new pixel (lasso):  [188 121 113]\n"
     ]
    },
    {
     "name": "stderr",
     "output_type": "stream",
     "text": [
      "/usr/lib/python3/dist-packages/sklearn/linear_model/coordinate_descent.py:466: ConvergenceWarning: Objective did not converge. You might want to increase the number of iterations\n",
      "  ConvergenceWarning)\n"
     ]
    },
    {
     "name": "stdout",
     "output_type": "stream",
     "text": [
      "alpha =  53.9835764276\n",
      "new pixel (lasso):  [212 154 152]\n",
      "alpha =  3.17040224196\n",
      "new pixel (lasso):  [97 25 66]\n"
     ]
    },
    {
     "name": "stderr",
     "output_type": "stream",
     "text": [
      "/usr/lib/python3/dist-packages/sklearn/linear_model/coordinate_descent.py:466: ConvergenceWarning: Objective did not converge. You might want to increase the number of iterations\n",
      "  ConvergenceWarning)\n"
     ]
    },
    {
     "name": "stdout",
     "output_type": "stream",
     "text": [
      "alpha =  183.269131503\n",
      "new pixel (lasso):  [213 147 147]\n",
      "alpha =  250.356439647\n",
      "new pixel (lasso):  [150  91 104]\n",
      "alpha =  2.19630208333\n",
      "new pixel (lasso):  [201 125 119]\n"
     ]
    },
    {
     "name": "stderr",
     "output_type": "stream",
     "text": [
      "/usr/lib/python3/dist-packages/sklearn/linear_model/coordinate_descent.py:466: ConvergenceWarning: Objective did not converge. You might want to increase the number of iterations\n",
      "  ConvergenceWarning)\n"
     ]
    },
    {
     "name": "stdout",
     "output_type": "stream",
     "text": [
      "alpha =  287.933844607\n",
      "new pixel (lasso):  [201 125 114]\n",
      "alpha =  3.14161979167\n",
      "new pixel (lasso):  [221 121 102]\n"
     ]
    },
    {
     "name": "stderr",
     "output_type": "stream",
     "text": [
      "/usr/lib/python3/dist-packages/sklearn/linear_model/coordinate_descent.py:466: ConvergenceWarning: Objective did not converge. You might want to increase the number of iterations\n",
      "  ConvergenceWarning)\n"
     ]
    },
    {
     "name": "stdout",
     "output_type": "stream",
     "text": [
      "alpha =  5.31570772575\n",
      "new pixel (lasso):  [239 162 127]\n"
     ]
    },
    {
     "name": "stderr",
     "output_type": "stream",
     "text": [
      "/usr/lib/python3/dist-packages/sklearn/linear_model/coordinate_descent.py:466: ConvergenceWarning: Objective did not converge. You might want to increase the number of iterations\n",
      "  ConvergenceWarning)\n"
     ]
    },
    {
     "name": "stdout",
     "output_type": "stream",
     "text": [
      "alpha =  3.27378911565\n",
      "new pixel (lasso):  [201  87  88]\n",
      "430  /  499\n"
     ]
    },
    {
     "name": "stderr",
     "output_type": "stream",
     "text": [
      "/usr/lib/python3/dist-packages/sklearn/linear_model/coordinate_descent.py:466: ConvergenceWarning: Objective did not converge. You might want to increase the number of iterations\n",
      "  ConvergenceWarning)\n"
     ]
    },
    {
     "name": "stdout",
     "output_type": "stream",
     "text": [
      "alpha =  3.221890625\n",
      "new pixel (lasso):  [196  79  82]\n"
     ]
    },
    {
     "name": "stderr",
     "output_type": "stream",
     "text": [
      "/usr/lib/python3/dist-packages/sklearn/linear_model/coordinate_descent.py:466: ConvergenceWarning: Objective did not converge. You might want to increase the number of iterations\n",
      "  ConvergenceWarning)\n"
     ]
    },
    {
     "name": "stdout",
     "output_type": "stream",
     "text": [
      "alpha =  126.060051422\n",
      "new pixel (lasso):  [221 103 107]\n",
      "alpha =  70.5912417316\n",
      "new pixel (lasso):  [237 184 170]\n",
      "alpha =  513.299645421\n",
      "new pixel (lasso):  [180 125 129]\n",
      "alpha =  2.06720918287\n",
      "new pixel (lasso):  [224 166 156]\n",
      "alpha =  28.4004758954\n",
      "new pixel (lasso):  [194  82  86]\n"
     ]
    },
    {
     "name": "stderr",
     "output_type": "stream",
     "text": [
      "/usr/lib/python3/dist-packages/sklearn/linear_model/coordinate_descent.py:466: ConvergenceWarning: Objective did not converge. You might want to increase the number of iterations\n",
      "  ConvergenceWarning)\n"
     ]
    },
    {
     "name": "stdout",
     "output_type": "stream",
     "text": [
      "alpha =  17.261561977\n",
      "new pixel (lasso):  [224 112  95]\n",
      "alpha =  6.33882664519\n",
      "new pixel (lasso):  [232 147 116]\n"
     ]
    },
    {
     "name": "stderr",
     "output_type": "stream",
     "text": [
      "/usr/lib/python3/dist-packages/sklearn/linear_model/coordinate_descent.py:466: ConvergenceWarning: Objective did not converge. You might want to increase the number of iterations\n",
      "  ConvergenceWarning)\n"
     ]
    },
    {
     "name": "stdout",
     "output_type": "stream",
     "text": [
      "alpha =  123.911693496\n",
      "new pixel (lasso):  [153  78 101]\n",
      "alpha =  2.90903125\n",
      "new pixel (lasso):  [180  75  87]\n",
      "440  /  499\n"
     ]
    },
    {
     "name": "stderr",
     "output_type": "stream",
     "text": [
      "/usr/lib/python3/dist-packages/sklearn/linear_model/coordinate_descent.py:466: ConvergenceWarning: Objective did not converge. You might want to increase the number of iterations\n",
      "  ConvergenceWarning)\n"
     ]
    },
    {
     "name": "stdout",
     "output_type": "stream",
     "text": [
      "alpha =  5.08688028635\n",
      "new pixel (lasso):  [187 155 161]\n",
      "alpha =  3.24719270833\n",
      "new pixel (lasso):  [229 116 107]\n"
     ]
    },
    {
     "name": "stderr",
     "output_type": "stream",
     "text": [
      "/usr/lib/python3/dist-packages/sklearn/linear_model/coordinate_descent.py:466: ConvergenceWarning: Objective did not converge. You might want to increase the number of iterations\n",
      "  ConvergenceWarning)\n"
     ]
    }
   ],
   "source": [
    "deletepixels_transformed = util.spyral_transformation(np.array(deletepixels))\n",
    "\n",
    "inpaint_image(noisy_image, training, deletepixels_transformed, h, img_matrice)"
   ]
  }
 ],
 "metadata": {
  "kernelspec": {
   "display_name": "Python 3",
   "language": "python",
   "name": "python3"
  },
  "language_info": {
   "codemirror_mode": {
    "name": "ipython",
    "version": 3
   },
   "file_extension": ".py",
   "mimetype": "text/x-python",
   "name": "python",
   "nbconvert_exporter": "python",
   "pygments_lexer": "ipython3",
   "version": "3.5.2"
  }
 },
 "nbformat": 4,
 "nbformat_minor": 2
}
